{
 "cells": [
  {
   "cell_type": "code",
   "execution_count": null,
   "metadata": {},
   "outputs": [],
   "source": [
    "#conversion of Business Jason file to dataframe "
   ]
  },
  {
   "cell_type": "code",
   "execution_count": 2,
   "metadata": {},
   "outputs": [
    {
     "name": "stdout",
     "output_type": "stream",
     "text": [
      "(5996996, 9)\n"
     ]
    }
   ],
   "source": [
    "import json\n",
    "import csv\n",
    "import pandas as pd \n",
    "outfile = open(\"review_stars.tsv\", 'w')\n",
    "sfile = csv.writer(outfile, delimiter =\"\\t\", quoting=csv.QUOTE_MINIMAL)\n",
    "sfile.writerow(['review_id','user_id','business_id','stars','date','text','useful','funny','cool'])\n",
    "#with open('C:\\\\Users\\\\Gurudev\\\\Desktop\\\\csc215\\\\Mini Project 1\\\\Extracted dataset\\\\Yelp Dataset\\\\yelp_dataset~\\\\extracted json files\\\\yelp_academic_dataset_review.json') as f: \n",
    "with open('yelp_academic_dataset_review.json', encoding='UTF-8') as f: \n",
    "        for line in f: \n",
    "             row = json.loads(line)\n",
    "              # some special char must be encoded in 'utf-8' \n",
    "             sfile.writerow([row['review_id'],row['user_id'],row['business_id'],row['stars'],row['date'], (row['text']).encode('utf-8'),row['useful'],row['funny'], row['cool']]) \n",
    "outfile.close()\n",
    "df= pd.read_csv('review_stars.tsv', delimiter =\"\\t\", encoding=\"utf-8\") \n",
    "print(df.shape)\n",
    "df = df.sample(frac=0.0001)\n",
    "df.to_csv('yelp_academic_dataset_review.csv')"
   ]
  },
  {
   "cell_type": "code",
   "execution_count": 3,
   "metadata": {},
   "outputs": [],
   "source": [
    "df_review= pd.read_csv('review_stars.tsv', delimiter =\"\\t\", encoding=\"utf-8\")"
   ]
  },
  {
   "cell_type": "code",
   "execution_count": 4,
   "metadata": {},
   "outputs": [],
   "source": [
    "df_review.head()\n",
    "df = df_review.drop(df_review.index[5000:])\n",
    "df.to_csv('yelp_academic_dataset_review.csv')"
   ]
  },
  {
   "cell_type": "code",
   "execution_count": 5,
   "metadata": {},
   "outputs": [
    {
     "data": {
      "text/plain": [
       "(5996996, 9)"
      ]
     },
     "execution_count": 5,
     "metadata": {},
     "output_type": "execute_result"
    }
   ],
   "source": [
    "df_review.shape"
   ]
  },
  {
   "cell_type": "code",
   "execution_count": 6,
   "metadata": {},
   "outputs": [],
   "source": [
    "#conversion of Jason file to dataframe "
   ]
  },
  {
   "cell_type": "code",
   "execution_count": 7,
   "metadata": {},
   "outputs": [],
   "source": [
    "#conversion of Jason yelp_academic_dataset_business file to dataframe \n",
    "import json\n",
    "import csv\n",
    "import pandas as pd \n",
    "outfile = open(\"business_stars.tsv\", 'w' ,encoding='utf-8')\n",
    "sfile = csv.writer(outfile, delimiter =\"\\t\", quoting=csv.QUOTE_MINIMAL)\n",
    "sfile.writerow(['business_id','name','neighborhood','address','city','state','postal_code','latitude','longitude','stars','review_count','is_open','attributes','categories','hours'])\n",
    "with open('C:\\\\Users\\\\Gurudev\\\\Desktop\\\\csc215\\\\Mini Project 1\\\\Extracted dataset\\\\Yelp Dataset\\\\yelp_dataset~\\\\extracted json files\\\\yelp_academic_dataset_business.json', encoding='UTF-8') as f: \n",
    "        for line in f: \n",
    "             row = json.loads(line)\n",
    "              # some special char must be encoded in 'utf-8' \n",
    "             sfile.writerow([row['business_id'],row['name'],row['neighborhood'],row['address'],row['city'],row['state'],row['postal_code'],row['latitude'],row['longitude'] ,row['stars'],row['review_count'], row['is_open'],row['attributes'],row['categories'],row['hours']]) \n",
    "outfile.close()\n",
    "df_business= pd.read_csv('business_stars.tsv', delimiter =\"\\t\", encoding=\"utf-8\")\n"
   ]
  },
  {
   "cell_type": "code",
   "execution_count": 8,
   "metadata": {},
   "outputs": [],
   "source": [
    "df_business= pd.read_csv('business_stars.tsv', delimiter =\"\\t\", encoding=\"utf-8\")"
   ]
  },
  {
   "cell_type": "code",
   "execution_count": 9,
   "metadata": {},
   "outputs": [
    {
     "data": {
      "text/plain": [
       "(188593, 15)"
      ]
     },
     "execution_count": 9,
     "metadata": {},
     "output_type": "execute_result"
    }
   ],
   "source": [
    "df_business.shape"
   ]
  },
  {
   "cell_type": "markdown",
   "metadata": {},
   "source": [
    "**Merging both files into a data frame based on business id**"
   ]
  },
  {
   "cell_type": "code",
   "execution_count": 10,
   "metadata": {},
   "outputs": [],
   "source": [
    "df = pd.merge(df_business,df_review, on = 'business_id' )"
   ]
  },
  {
   "cell_type": "code",
   "execution_count": 11,
   "metadata": {},
   "outputs": [
    {
     "data": {
      "text/plain": [
       "(5996996, 23)"
      ]
     },
     "execution_count": 11,
     "metadata": {},
     "output_type": "execute_result"
    }
   ],
   "source": [
    "df.shape"
   ]
  },
  {
   "cell_type": "code",
   "execution_count": 14,
   "metadata": {},
   "outputs": [],
   "source": [
    "df_main = df[0:4500000]"
   ]
  },
  {
   "cell_type": "code",
   "execution_count": 15,
   "metadata": {},
   "outputs": [
    {
     "data": {
      "text/plain": [
       "(4500000, 23)"
      ]
     },
     "execution_count": 15,
     "metadata": {},
     "output_type": "execute_result"
    }
   ],
   "source": [
    "df_main.shape"
   ]
  },
  {
   "cell_type": "code",
   "execution_count": null,
   "metadata": {},
   "outputs": [],
   "source": [
    "df_main.to_csv('yelpdatasetnew.csv')"
   ]
  },
  {
   "cell_type": "code",
   "execution_count": null,
   "metadata": {},
   "outputs": [],
   "source": []
  }
 ],
 "metadata": {
  "kernelspec": {
   "display_name": "Python 3",
   "language": "python",
   "name": "python3"
  },
  "language_info": {
   "codemirror_mode": {
    "name": "ipython",
    "version": 3
   },
   "file_extension": ".py",
   "mimetype": "text/x-python",
   "name": "python",
   "nbconvert_exporter": "python",
   "pygments_lexer": "ipython3",
   "version": "3.6.5"
  }
 },
 "nbformat": 4,
 "nbformat_minor": 2
}
