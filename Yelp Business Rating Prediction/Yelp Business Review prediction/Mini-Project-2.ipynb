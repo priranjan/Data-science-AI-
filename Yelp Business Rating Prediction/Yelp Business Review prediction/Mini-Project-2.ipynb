{
 "cells": [
  {
   "cell_type": "markdown",
   "metadata": {},
   "source": [
    "# Yelp Business Rating Prediction using Pandas and Sklearn"
   ]
  },
  {
   "cell_type": "markdown",
   "metadata": {},
   "source": [
    "# Importing and Data Preprocessing of Yelp Dataset"
   ]
  },
  {
   "cell_type": "code",
   "execution_count": 2,
   "metadata": {},
   "outputs": [],
   "source": [
    "import pandas as pd\n",
    "import os\n",
    "import re\n",
    "import math\n",
    "import itertools\n",
    "import datetime\n",
    "import numpy as np\n",
    "import pandas as pd\n",
    "import matplotlib.pyplot as plt\n",
    "import seaborn as sns"
   ]
  },
  {
   "cell_type": "markdown",
   "metadata": {},
   "source": [
    "**Importing the data**"
   ]
  },
  {
   "cell_type": "code",
   "execution_count": 4,
   "metadata": {},
   "outputs": [],
   "source": [
    "df = pd.read_csv(\"yelpdataset.csv\")"
   ]
  },
  {
   "cell_type": "markdown",
   "metadata": {},
   "source": [
    "**Data Analysis**"
   ]
  },
  {
   "cell_type": "code",
   "execution_count": 962,
   "metadata": {},
   "outputs": [
    {
     "name": "stdout",
     "output_type": "stream",
     "text": [
      "SHAPE OF THE DATA SET\n",
      "Data set shape: (15000, 24)\n"
     ]
    }
   ],
   "source": [
    "print(\"SHAPE OF THE DATA SET\")\n",
    "print(\"Data set shape:\",df.shape )"
   ]
  },
  {
   "cell_type": "code",
   "execution_count": 963,
   "metadata": {},
   "outputs": [
    {
     "data": {
      "text/plain": [
       "Index(['Unnamed: 0', 'business_id', 'name', 'neighborhood', 'address', 'city',\n",
       "       'state', 'postal_code', 'latitude', 'longitude', 'stars_x',\n",
       "       'review_count', 'is_open', 'attributes', 'categories', 'hours',\n",
       "       'review_id', 'user_id', 'stars_y', 'date', 'text', 'useful', 'funny',\n",
       "       'cool'],\n",
       "      dtype='object')"
      ]
     },
     "execution_count": 963,
     "metadata": {},
     "output_type": "execute_result"
    }
   ],
   "source": [
    "df.columns"
   ]
  },
  {
   "cell_type": "markdown",
   "metadata": {},
   "source": [
    "Dropping unneeded columns "
   ]
  },
  {
   "cell_type": "code",
   "execution_count": 6,
   "metadata": {},
   "outputs": [],
   "source": [
    "df = df.drop(columns= ['Unnamed: 0'])"
   ]
  },
  {
   "cell_type": "code",
   "execution_count": 7,
   "metadata": {},
   "outputs": [
    {
     "data": {
      "text/plain": [
       "(15000, 23)"
      ]
     },
     "execution_count": 7,
     "metadata": {},
     "output_type": "execute_result"
    }
   ],
   "source": [
    "df.shape"
   ]
  },
  {
   "cell_type": "code",
   "execution_count": 966,
   "metadata": {},
   "outputs": [
    {
     "name": "stdout",
     "output_type": "stream",
     "text": [
      "<class 'pandas.core.frame.DataFrame'>\n",
      "RangeIndex: 15000 entries, 0 to 14999\n",
      "Data columns (total 23 columns):\n",
      "business_id     15000 non-null object\n",
      "name            15000 non-null object\n",
      "neighborhood    7616 non-null object\n",
      "address         14819 non-null object\n",
      "city            15000 non-null object\n",
      "state           15000 non-null object\n",
      "postal_code     15000 non-null object\n",
      "latitude        15000 non-null float64\n",
      "longitude       15000 non-null float64\n",
      "stars_x         15000 non-null float64\n",
      "review_count    15000 non-null int64\n",
      "is_open         15000 non-null int64\n",
      "attributes      14190 non-null object\n",
      "categories      14993 non-null object\n",
      "hours           13535 non-null object\n",
      "review_id       15000 non-null object\n",
      "user_id         15000 non-null object\n",
      "stars_y         15000 non-null int64\n",
      "date            15000 non-null object\n",
      "text            15000 non-null object\n",
      "useful          15000 non-null int64\n",
      "funny           15000 non-null int64\n",
      "cool            15000 non-null int64\n",
      "dtypes: float64(3), int64(6), object(14)\n",
      "memory usage: 2.6+ MB\n"
     ]
    }
   ],
   "source": [
    "df.info()"
   ]
  },
  {
   "cell_type": "code",
   "execution_count": 967,
   "metadata": {},
   "outputs": [
    {
     "data": {
      "text/html": [
       "<div>\n",
       "<style scoped>\n",
       "    .dataframe tbody tr th:only-of-type {\n",
       "        vertical-align: middle;\n",
       "    }\n",
       "\n",
       "    .dataframe tbody tr th {\n",
       "        vertical-align: top;\n",
       "    }\n",
       "\n",
       "    .dataframe thead th {\n",
       "        text-align: right;\n",
       "    }\n",
       "</style>\n",
       "<table border=\"1\" class=\"dataframe\">\n",
       "  <thead>\n",
       "    <tr style=\"text-align: right;\">\n",
       "      <th></th>\n",
       "      <th>latitude</th>\n",
       "      <th>longitude</th>\n",
       "      <th>stars_x</th>\n",
       "      <th>review_count</th>\n",
       "      <th>is_open</th>\n",
       "      <th>stars_y</th>\n",
       "      <th>useful</th>\n",
       "      <th>funny</th>\n",
       "      <th>cool</th>\n",
       "    </tr>\n",
       "  </thead>\n",
       "  <tbody>\n",
       "    <tr>\n",
       "      <th>count</th>\n",
       "      <td>15000.000000</td>\n",
       "      <td>15000.000000</td>\n",
       "      <td>15000.000000</td>\n",
       "      <td>15000.000000</td>\n",
       "      <td>15000.000000</td>\n",
       "      <td>15000.000000</td>\n",
       "      <td>15000.000000</td>\n",
       "      <td>15000.000000</td>\n",
       "      <td>15000.000000</td>\n",
       "    </tr>\n",
       "    <tr>\n",
       "      <th>mean</th>\n",
       "      <td>38.517547</td>\n",
       "      <td>-98.400812</td>\n",
       "      <td>3.605700</td>\n",
       "      <td>274.586133</td>\n",
       "      <td>0.870200</td>\n",
       "      <td>3.615467</td>\n",
       "      <td>1.363133</td>\n",
       "      <td>0.439000</td>\n",
       "      <td>0.501733</td>\n",
       "    </tr>\n",
       "    <tr>\n",
       "      <th>std</th>\n",
       "      <td>4.889899</td>\n",
       "      <td>17.888616</td>\n",
       "      <td>0.756339</td>\n",
       "      <td>456.266265</td>\n",
       "      <td>0.336094</td>\n",
       "      <td>1.474318</td>\n",
       "      <td>3.393155</td>\n",
       "      <td>1.588011</td>\n",
       "      <td>1.836252</td>\n",
       "    </tr>\n",
       "    <tr>\n",
       "      <th>min</th>\n",
       "      <td>33.246960</td>\n",
       "      <td>-115.337915</td>\n",
       "      <td>1.000000</td>\n",
       "      <td>3.000000</td>\n",
       "      <td>0.000000</td>\n",
       "      <td>1.000000</td>\n",
       "      <td>0.000000</td>\n",
       "      <td>0.000000</td>\n",
       "      <td>0.000000</td>\n",
       "    </tr>\n",
       "    <tr>\n",
       "      <th>25%</th>\n",
       "      <td>33.640054</td>\n",
       "      <td>-115.056259</td>\n",
       "      <td>3.500000</td>\n",
       "      <td>28.000000</td>\n",
       "      <td>1.000000</td>\n",
       "      <td>3.000000</td>\n",
       "      <td>0.000000</td>\n",
       "      <td>0.000000</td>\n",
       "      <td>0.000000</td>\n",
       "    </tr>\n",
       "    <tr>\n",
       "      <th>50%</th>\n",
       "      <td>36.107855</td>\n",
       "      <td>-111.924795</td>\n",
       "      <td>3.500000</td>\n",
       "      <td>94.000000</td>\n",
       "      <td>1.000000</td>\n",
       "      <td>4.000000</td>\n",
       "      <td>0.000000</td>\n",
       "      <td>0.000000</td>\n",
       "      <td>0.000000</td>\n",
       "    </tr>\n",
       "    <tr>\n",
       "      <th>75%</th>\n",
       "      <td>43.658644</td>\n",
       "      <td>-79.575587</td>\n",
       "      <td>4.000000</td>\n",
       "      <td>246.000000</td>\n",
       "      <td>1.000000</td>\n",
       "      <td>5.000000</td>\n",
       "      <td>1.000000</td>\n",
       "      <td>0.000000</td>\n",
       "      <td>0.000000</td>\n",
       "    </tr>\n",
       "    <tr>\n",
       "      <th>max</th>\n",
       "      <td>54.276733</td>\n",
       "      <td>8.073950</td>\n",
       "      <td>5.000000</td>\n",
       "      <td>1565.000000</td>\n",
       "      <td>1.000000</td>\n",
       "      <td>5.000000</td>\n",
       "      <td>92.000000</td>\n",
       "      <td>74.000000</td>\n",
       "      <td>87.000000</td>\n",
       "    </tr>\n",
       "  </tbody>\n",
       "</table>\n",
       "</div>"
      ],
      "text/plain": [
       "           latitude     longitude       stars_x  review_count       is_open  \\\n",
       "count  15000.000000  15000.000000  15000.000000  15000.000000  15000.000000   \n",
       "mean      38.517547    -98.400812      3.605700    274.586133      0.870200   \n",
       "std        4.889899     17.888616      0.756339    456.266265      0.336094   \n",
       "min       33.246960   -115.337915      1.000000      3.000000      0.000000   \n",
       "25%       33.640054   -115.056259      3.500000     28.000000      1.000000   \n",
       "50%       36.107855   -111.924795      3.500000     94.000000      1.000000   \n",
       "75%       43.658644    -79.575587      4.000000    246.000000      1.000000   \n",
       "max       54.276733      8.073950      5.000000   1565.000000      1.000000   \n",
       "\n",
       "            stars_y        useful         funny          cool  \n",
       "count  15000.000000  15000.000000  15000.000000  15000.000000  \n",
       "mean       3.615467      1.363133      0.439000      0.501733  \n",
       "std        1.474318      3.393155      1.588011      1.836252  \n",
       "min        1.000000      0.000000      0.000000      0.000000  \n",
       "25%        3.000000      0.000000      0.000000      0.000000  \n",
       "50%        4.000000      0.000000      0.000000      0.000000  \n",
       "75%        5.000000      1.000000      0.000000      0.000000  \n",
       "max        5.000000     92.000000     74.000000     87.000000  "
      ]
     },
     "execution_count": 967,
     "metadata": {},
     "output_type": "execute_result"
    }
   ],
   "source": [
    "df.describe()"
   ]
  },
  {
   "cell_type": "code",
   "execution_count": 12,
   "metadata": {},
   "outputs": [
    {
     "data": {
      "text/plain": [
       "<matplotlib.axes._subplots.AxesSubplot at 0x1664fea4898>"
      ]
     },
     "execution_count": 12,
     "metadata": {},
     "output_type": "execute_result"
    },
    {
     "data": {
      "image/png": "[encoded data removed]",
      "text/plain": [
       "<Figure size 432x288 with 1 Axes>"
      ]
     },
     "metadata": {},
     "output_type": "display_data"
    }
   ],
   "source": [
    "df.plot.hist()"
   ]
  },
  {
   "cell_type": "code",
   "execution_count": 13,
   "metadata": {},
   "outputs": [
    {
     "data": {
      "text/plain": [
       "<matplotlib.axes._subplots.AxesSubplot at 0x1665021cef0>"
      ]
     },
     "execution_count": 13,
     "metadata": {},
     "output_type": "execute_result"
    },
    {
     "data": {
      "image/png": "[encoded data removed]",
      "text/plain": [
       "<Figure size 432x288 with 1 Axes>"
      ]
     },
     "metadata": {},
     "output_type": "display_data"
    }
   ],
   "source": [
    "df.plot.scatter(x='stars_x',y='review_count')"
   ]
  },
  {
   "cell_type": "code",
   "execution_count": 14,
   "metadata": {},
   "outputs": [
    {
     "data": {
      "text/plain": [
       "business_id     15000\n",
       "name            15000\n",
       "neighborhood     7616\n",
       "address         14819\n",
       "city            15000\n",
       "state           15000\n",
       "postal_code     15000\n",
       "latitude        15000\n",
       "longitude       15000\n",
       "stars_x         15000\n",
       "review_count    15000\n",
       "is_open         15000\n",
       "attributes      14190\n",
       "categories      14993\n",
       "hours           13535\n",
       "review_id       15000\n",
       "user_id         15000\n",
       "stars_y         15000\n",
       "date            15000\n",
       "text            15000\n",
       "useful          15000\n",
       "funny           15000\n",
       "cool            15000\n",
       "dtype: int64"
      ]
     },
     "execution_count": 14,
     "metadata": {},
     "output_type": "execute_result"
    }
   ],
   "source": [
    "df.count()"
   ]
  },
  {
   "cell_type": "code",
   "execution_count": 15,
   "metadata": {},
   "outputs": [],
   "source": [
    "df=df[['business_id', 'city', 'state',  'review_count',  'text', 'useful', 'funny', 'cool','categories','stars_x']].copy()# add  'attributes' ,'is_open' after basic is done"
   ]
  },
  {
   "cell_type": "code",
   "execution_count": 16,
   "metadata": {},
   "outputs": [
    {
     "data": {
      "text/html": [
       "<div>\n",
       "<style scoped>\n",
       "    .dataframe tbody tr th:only-of-type {\n",
       "        vertical-align: middle;\n",
       "    }\n",
       "\n",
       "    .dataframe tbody tr th {\n",
       "        vertical-align: top;\n",
       "    }\n",
       "\n",
       "    .dataframe thead th {\n",
       "        text-align: right;\n",
       "    }\n",
       "</style>\n",
       "<table border=\"1\" class=\"dataframe\">\n",
       "  <thead>\n",
       "    <tr style=\"text-align: right;\">\n",
       "      <th></th>\n",
       "      <th>stars_x</th>\n",
       "    </tr>\n",
       "  </thead>\n",
       "  <tbody>\n",
       "    <tr>\n",
       "      <th>0</th>\n",
       "      <td>4.0</td>\n",
       "    </tr>\n",
       "    <tr>\n",
       "      <th>1</th>\n",
       "      <td>4.0</td>\n",
       "    </tr>\n",
       "    <tr>\n",
       "      <th>2</th>\n",
       "      <td>4.0</td>\n",
       "    </tr>\n",
       "    <tr>\n",
       "      <th>3</th>\n",
       "      <td>4.0</td>\n",
       "    </tr>\n",
       "    <tr>\n",
       "      <th>4</th>\n",
       "      <td>4.0</td>\n",
       "    </tr>\n",
       "  </tbody>\n",
       "</table>\n",
       "</div>"
      ],
      "text/plain": [
       "   stars_x\n",
       "0      4.0\n",
       "1      4.0\n",
       "2      4.0\n",
       "3      4.0\n",
       "4      4.0"
      ]
     },
     "execution_count": 16,
     "metadata": {},
     "output_type": "execute_result"
    }
   ],
   "source": [
    "df[['stars_x']].head()"
   ]
  },
  {
   "cell_type": "code",
   "execution_count": 17,
   "metadata": {},
   "outputs": [
    {
     "data": {
      "text/plain": [
       "(15000, 10)"
      ]
     },
     "execution_count": 17,
     "metadata": {},
     "output_type": "execute_result"
    }
   ],
   "source": [
    "df.shape"
   ]
  },
  {
   "cell_type": "code",
   "execution_count": 18,
   "metadata": {},
   "outputs": [
    {
     "data": {
      "text/html": [
       "<div>\n",
       "<style scoped>\n",
       "    .dataframe tbody tr th:only-of-type {\n",
       "        vertical-align: middle;\n",
       "    }\n",
       "\n",
       "    .dataframe tbody tr th {\n",
       "        vertical-align: top;\n",
       "    }\n",
       "\n",
       "    .dataframe thead th {\n",
       "        text-align: right;\n",
       "    }\n",
       "</style>\n",
       "<table border=\"1\" class=\"dataframe\">\n",
       "  <thead>\n",
       "    <tr style=\"text-align: right;\">\n",
       "      <th></th>\n",
       "      <th>business_id</th>\n",
       "      <th>city</th>\n",
       "      <th>state</th>\n",
       "      <th>review_count</th>\n",
       "      <th>text</th>\n",
       "      <th>useful</th>\n",
       "      <th>funny</th>\n",
       "      <th>cool</th>\n",
       "      <th>categories</th>\n",
       "      <th>stars_x</th>\n",
       "    </tr>\n",
       "  </thead>\n",
       "  <tbody>\n",
       "    <tr>\n",
       "      <th>0</th>\n",
       "      <td>Apn5Q_b6Nz61Tq4XzPdf9A</td>\n",
       "      <td>Calgary</td>\n",
       "      <td>AB</td>\n",
       "      <td>24</td>\n",
       "      <td>bGreat place Major flaw is how early it closes...</td>\n",
       "      <td>0</td>\n",
       "      <td>0</td>\n",
       "      <td>0</td>\n",
       "      <td>Tours, Breweries, Pizza, Restaurants, Food, Ho...</td>\n",
       "      <td>4.0</td>\n",
       "    </tr>\n",
       "    <tr>\n",
       "      <th>1</th>\n",
       "      <td>Apn5Q_b6Nz61Tq4XzPdf9A</td>\n",
       "      <td>Calgary</td>\n",
       "      <td>AB</td>\n",
       "      <td>24</td>\n",
       "      <td>bThe best fresh pizza and selection of micro b...</td>\n",
       "      <td>0</td>\n",
       "      <td>0</td>\n",
       "      <td>0</td>\n",
       "      <td>Tours, Breweries, Pizza, Restaurants, Food, Ho...</td>\n",
       "      <td>4.0</td>\n",
       "    </tr>\n",
       "    <tr>\n",
       "      <th>2</th>\n",
       "      <td>Apn5Q_b6Nz61Tq4XzPdf9A</td>\n",
       "      <td>Calgary</td>\n",
       "      <td>AB</td>\n",
       "      <td>24</td>\n",
       "      <td>bBought the Groupon for four people and pizza ...</td>\n",
       "      <td>0</td>\n",
       "      <td>0</td>\n",
       "      <td>0</td>\n",
       "      <td>Tours, Breweries, Pizza, Restaurants, Food, Ho...</td>\n",
       "      <td>4.0</td>\n",
       "    </tr>\n",
       "    <tr>\n",
       "      <th>3</th>\n",
       "      <td>Apn5Q_b6Nz61Tq4XzPdf9A</td>\n",
       "      <td>Calgary</td>\n",
       "      <td>AB</td>\n",
       "      <td>24</td>\n",
       "      <td>bWe went to Minhas with a coupon for a free pi...</td>\n",
       "      <td>4</td>\n",
       "      <td>1</td>\n",
       "      <td>2</td>\n",
       "      <td>Tours, Breweries, Pizza, Restaurants, Food, Ho...</td>\n",
       "      <td>4.0</td>\n",
       "    </tr>\n",
       "    <tr>\n",
       "      <th>4</th>\n",
       "      <td>Apn5Q_b6Nz61Tq4XzPdf9A</td>\n",
       "      <td>Calgary</td>\n",
       "      <td>AB</td>\n",
       "      <td>24</td>\n",
       "      <td>bMichael was an awesome tour guide Learned a l...</td>\n",
       "      <td>0</td>\n",
       "      <td>0</td>\n",
       "      <td>0</td>\n",
       "      <td>Tours, Breweries, Pizza, Restaurants, Food, Ho...</td>\n",
       "      <td>4.0</td>\n",
       "    </tr>\n",
       "  </tbody>\n",
       "</table>\n",
       "</div>"
      ],
      "text/plain": [
       "              business_id     city state  review_count  \\\n",
       "0  Apn5Q_b6Nz61Tq4XzPdf9A  Calgary    AB            24   \n",
       "1  Apn5Q_b6Nz61Tq4XzPdf9A  Calgary    AB            24   \n",
       "2  Apn5Q_b6Nz61Tq4XzPdf9A  Calgary    AB            24   \n",
       "3  Apn5Q_b6Nz61Tq4XzPdf9A  Calgary    AB            24   \n",
       "4  Apn5Q_b6Nz61Tq4XzPdf9A  Calgary    AB            24   \n",
       "\n",
       "                                                text  useful  funny  cool  \\\n",
       "0  bGreat place Major flaw is how early it closes...       0      0     0   \n",
       "1  bThe best fresh pizza and selection of micro b...       0      0     0   \n",
       "2  bBought the Groupon for four people and pizza ...       0      0     0   \n",
       "3  bWe went to Minhas with a coupon for a free pi...       4      1     2   \n",
       "4  bMichael was an awesome tour guide Learned a l...       0      0     0   \n",
       "\n",
       "                                          categories  stars_x  \n",
       "0  Tours, Breweries, Pizza, Restaurants, Food, Ho...      4.0  \n",
       "1  Tours, Breweries, Pizza, Restaurants, Food, Ho...      4.0  \n",
       "2  Tours, Breweries, Pizza, Restaurants, Food, Ho...      4.0  \n",
       "3  Tours, Breweries, Pizza, Restaurants, Food, Ho...      4.0  \n",
       "4  Tours, Breweries, Pizza, Restaurants, Food, Ho...      4.0  "
      ]
     },
     "execution_count": 18,
     "metadata": {},
     "output_type": "execute_result"
    }
   ],
   "source": [
    "df.head()"
   ]
  },
  {
   "cell_type": "code",
   "execution_count": 19,
   "metadata": {},
   "outputs": [
    {
     "name": "stdout",
     "output_type": "stream",
     "text": [
      "1.0 1.0\n"
     ]
    },
    {
     "data": {
      "text/plain": [
       "1.0    14993\n",
       "Name: categories, dtype: int64"
      ]
     },
     "execution_count": 19,
     "metadata": {},
     "output_type": "execute_result"
    }
   ],
   "source": [
    "## What about categories of organizations\n",
    "## How many categories in each organization? (minuimum 1, maximum 35 categories)\n",
    "## Most frequent 2 categories\n",
    "print(df['categories'].str.count(';').min() + 1, df['categories'].str.count(';').max() + 1)\n",
    "(df['categories'].str.count(';') + 1).value_counts().head()"
   ]
  },
  {
   "cell_type": "code",
   "execution_count": 20,
   "metadata": {},
   "outputs": [
    {
     "data": {
      "text/plain": [
       "Poutineries, Restaurants, Diners                                                                                                1565\n",
       "Pizza, Food, Restaurants                                                                                                         467\n",
       "American (New), Restaurants, Food, Breweries, Brewpubs                                                                           446\n",
       "Mexican, Restaurants                                                                                                             324\n",
       "Restaurants, Bars, Nightlife, Caterers, Mexican, Tex-Mex, Event Planning & Services                                              312\n",
       "Bars, Sports Bars, Dive Bars, Burgers, Nightlife, Sandwiches, Restaurants                                                        277\n",
       "Casinos, Arts & Entertainment                                                                                                    275\n",
       "Restaurants, Pizza                                                                                                               258\n",
       "Karaoke, Country Dance Halls, Bars, Nightlife, Restaurants, American (New), American (Traditional)                               257\n",
       "Hotels & Travel, Asian Fusion, Day Spas, Casinos, Restaurants, Beauty & Spas, Arts & Entertainment, Resorts                      246\n",
       "Beer, Wine & Spirits, Italian, Food, American (Traditional), Breakfast & Brunch, Restaurants                                     241\n",
       "Food, Restaurants, Italian, Bars, Wine Bars, Desserts, Nightlife                                                                 234\n",
       "Event Planning & Services, Soup, Salad, Mexican, Caterers, Restaurants                                                           230\n",
       "Bars, American (Traditional), Nightlife, Restaurants, Tex-Mex                                                                    229\n",
       "Restaurants, Food, Bakeries, Desserts, Breakfast & Brunch                                                                        222\n",
       "Italian, Pizza, Restaurants                                                                                                      217\n",
       "Restaurants, Chinese, Dim Sum, Breakfast & Brunch                                                                                171\n",
       "Shopping, Active Life, Archery, Sporting Goods                                                                                   162\n",
       "Arts & Entertainment, Coffee & Tea, Bars, Food, Restaurants, Nightlife, Music Venues, Cafes                                      150\n",
       "Restaurants, Hot Dogs                                                                                                            147\n",
       "Cajun/Creole, Southern, Restaurants                                                                                              146\n",
       "Medical Centers, Skin Care, Health & Medical, Medical Spas, Dermatologists, Doulas, Beauty & Spas, Doctors                       132\n",
       "Coffee & Tea, Food                                                                                                               132\n",
       "Fashion, Department Stores, Automotive, Shopping, Wholesale Stores, Tires                                                        121\n",
       "Nightlife, Sports Bars, Bars, Restaurants, Karaoke                                                                               116\n",
       "Restaurants, American (Traditional), Cocktail Bars, Nightlife, Bars                                                              114\n",
       "Churches, Religious Organizations                                                                                                113\n",
       "Restaurants, Breakfast & Brunch, Diners                                                                                          110\n",
       "Asian Fusion, Caterers, Fast Food, Chinese, Restaurants, Vegetarian, Food Delivery Services, Event Planning & Services, Food     110\n",
       "Caribbean, Food, Bakeries, Restaurants                                                                                           105\n",
       "                                                                                                                                ... \n",
       "Auto Detailing, Automotive                                                                                                         3\n",
       "Auto Detailing, Automotive, Car Wash                                                                                               3\n",
       "Home Services, Real Estate Agents, Real Estate                                                                                     3\n",
       "Shopping, Fashion, Accessories, Women's Clothing                                                                                   3\n",
       "Shopping, Gardeners, Home Services, Nurseries & Gardening, Landscaping, Home & Garden, Landscape Architects                        3\n",
       "Eyewear & Opticians, Ophthalmologists, Health & Medical, Shopping, Optometrists, Doctors                                           3\n",
       "Bars, Nightlife, Dive Bars                                                                                                         3\n",
       "Home Services, Local Services, Packing Supplies, Movers, Self Storage, Shopping                                                    3\n",
       "American (Traditional), Food, Bakeries, Restaurants                                                                                3\n",
       "Barbers, Hair Salons, Beauty & Spas                                                                                                3\n",
       "Waxing, Blow Dry/Out Services, Hair Salons, Hair Stylists, Day Spas, Massage, Hair Removal, Beauty & Spas                          3\n",
       "Restaurants, Event Planning & Services, Italian, Food, Food Delivery Services                                                      3\n",
       "Pet Groomers, Pet Services, Pets                                                                                                   3\n",
       "Beauty & Spas, Makeup Artists, Hair Salons, Eyelash Service, Hair Stylists                                                         3\n",
       "Auto Repair, Automotive, Transmission Repair                                                                                       3\n",
       "Pet Stores, Pet Services, Pets, Shopping                                                                                           3\n",
       "Health & Medical, Chiropractors, Doctors, Physical Therapy, Sports Medicine                                                        3\n",
       "Real Estate, Real Estate Services, Home Services, Real Estate Agents                                                               3\n",
       "Home & Garden, Gardeners, Nurseries & Gardening, Local Services, Home Services, Propane, Shopping                                  3\n",
       "Music Venues, Arts & Entertainment, Nightlife                                                                                      3\n",
       "Fashion, Women's Clothing, Shopping                                                                                                3\n",
       "Event Planning & Services, Professional Services, Photographers                                                                    3\n",
       "Landscaping, Home Services, Contractors                                                                                            3\n",
       "Optometrists, Shopping, Eyewear & Opticians, Health & Medical                                                                      3\n",
       "Massage Therapy, Reflexology, Reiki, Health & Medical, Beauty & Spas, Massage                                                      3\n",
       "Nightlife, Bars, American (Traditional), Sports Bars, Restaurants                                                                  3\n",
       "Professional Services, Home Services, Movers                                                                                       3\n",
       "Restaurants, Cafes                                                                                                                 3\n",
       "Hotels & Travel, Active Life, Private Tutors, Climbing, Hiking, Education, Tours, Walking Tours                                    3\n",
       "Landscaping, Home Services, Masonry/Concrete, Landscape Architects                                                                 3\n",
       "Name: categories, Length: 480, dtype: int64"
      ]
     },
     "execution_count": 20,
     "metadata": {},
     "output_type": "execute_result"
    }
   ],
   "source": [
    "df['categories'].value_counts()"
   ]
  },
  {
   "cell_type": "code",
   "execution_count": 21,
   "metadata": {},
   "outputs": [
    {
     "data": {
      "text/plain": [
       "True"
      ]
     },
     "execution_count": 21,
     "metadata": {},
     "output_type": "execute_result"
    }
   ],
   "source": [
    "df['categories'].isna().values.any() #thus no blanks in catagory... isna() detect missing values"
   ]
  },
  {
   "cell_type": "code",
   "execution_count": 22,
   "metadata": {},
   "outputs": [],
   "source": [
    "# the following sample code to group ALL the reviews for each business and create a new dataframe, where each line is a business with all its reviews.\n",
    "\n",
    "df_review_agg = df.groupby('business_id')['text'].sum()  \n",
    " \n",
    "df_ready_for_sklearn = pd.DataFrame({'business_id': df_review_agg.index, 'all_reviews': df_review_agg.values}) "
   ]
  },
  {
   "cell_type": "code",
   "execution_count": 23,
   "metadata": {},
   "outputs": [
    {
     "data": {
      "text/html": [
       "<div>\n",
       "<style scoped>\n",
       "    .dataframe tbody tr th:only-of-type {\n",
       "        vertical-align: middle;\n",
       "    }\n",
       "\n",
       "    .dataframe tbody tr th {\n",
       "        vertical-align: top;\n",
       "    }\n",
       "\n",
       "    .dataframe thead th {\n",
       "        text-align: right;\n",
       "    }\n",
       "</style>\n",
       "<table border=\"1\" class=\"dataframe\">\n",
       "  <thead>\n",
       "    <tr style=\"text-align: right;\">\n",
       "      <th></th>\n",
       "      <th>business_id</th>\n",
       "      <th>all_reviews</th>\n",
       "    </tr>\n",
       "  </thead>\n",
       "  <tbody>\n",
       "    <tr>\n",
       "      <th>0</th>\n",
       "      <td>-0qqsy04kcYdXH3DOciaZw</td>\n",
       "      <td>bSo I just played all three of these courses e...</td>\n",
       "    </tr>\n",
       "    <tr>\n",
       "      <th>1</th>\n",
       "      <td>-26MGfikhJiTfCI-GqmzhQ</td>\n",
       "      <td>bCouldnt have asked for anything better Gary w...</td>\n",
       "    </tr>\n",
       "    <tr>\n",
       "      <th>2</th>\n",
       "      <td>-6aZNqhMoKfIz7rvkkRv7w</td>\n",
       "      <td>bcomparable prices quality products good varie...</td>\n",
       "    </tr>\n",
       "    <tr>\n",
       "      <th>3</th>\n",
       "      <td>-6uLOXdJFFCB9DtjIoBzFA</td>\n",
       "      <td>bMade a trip all the way to Pickering just to ...</td>\n",
       "    </tr>\n",
       "    <tr>\n",
       "      <th>4</th>\n",
       "      <td>-lBIxCbHxuN3YO_sUkWeUQ</td>\n",
       "      <td>bThese guys moved me last week The dropped and...</td>\n",
       "    </tr>\n",
       "  </tbody>\n",
       "</table>\n",
       "</div>"
      ],
      "text/plain": [
       "              business_id                                        all_reviews\n",
       "0  -0qqsy04kcYdXH3DOciaZw  bSo I just played all three of these courses e...\n",
       "1  -26MGfikhJiTfCI-GqmzhQ  bCouldnt have asked for anything better Gary w...\n",
       "2  -6aZNqhMoKfIz7rvkkRv7w  bcomparable prices quality products good varie...\n",
       "3  -6uLOXdJFFCB9DtjIoBzFA  bMade a trip all the way to Pickering just to ...\n",
       "4  -lBIxCbHxuN3YO_sUkWeUQ  bThese guys moved me last week The dropped and..."
      ]
     },
     "execution_count": 23,
     "metadata": {},
     "output_type": "execute_result"
    }
   ],
   "source": [
    "df_ready_for_sklearn.head()"
   ]
  },
  {
   "cell_type": "code",
   "execution_count": 24,
   "metadata": {},
   "outputs": [
    {
     "data": {
      "text/plain": [
       "Index(['business_id', 'city', 'state', 'review_count', 'text', 'useful',\n",
       "       'funny', 'cool', 'categories', 'stars_x'],\n",
       "      dtype='object')"
      ]
     },
     "execution_count": 24,
     "metadata": {},
     "output_type": "execute_result"
    }
   ],
   "source": [
    "df.columns"
   ]
  },
  {
   "cell_type": "markdown",
   "metadata": {},
   "source": [
    "# Text cleaning\n",
    "Removal of punctuation ,digits,commas and making all lower case"
   ]
  },
  {
   "cell_type": "code",
   "execution_count": 25,
   "metadata": {},
   "outputs": [
    {
     "data": {
      "text/plain": [
       "0     bGreat place Major flaw is how early it closes...\n",
       "1     bThe best fresh pizza and selection of micro b...\n",
       "2     bBought the Groupon for four people and pizza ...\n",
       "3     bWe went to Minhas with a coupon for a free pi...\n",
       "4     bMichael was an awesome tour guide Learned a l...\n",
       "5     bThis place is amazing We went in around pm no...\n",
       "6     bWent for the tour and found was an awesome gu...\n",
       "7     bIm a lightweight so I couldnt keep up with th...\n",
       "8     bLast night we used our Groupon for  Pizzas  d...\n",
       "9     bTHE BEST  Michael was awesome and I highly re...\n",
       "10    bI love this place Good food and oh my gosh so...\n",
       "11    bI was convinced that I would hate beer all my...\n",
       "12    bVery cool tour of the brewery It was quite in...\n",
       "13    bThe IPA put me offnnService was mediocre at b...\n",
       "14    bThis was an awesome tour Our tour guide Micha...\n",
       "15    bThis is a pizza restaurant and brewery They o...\n",
       "16    bThis was my first brewery tour and Minhas has...\n",
       "17    bWe had a very knowledgeable tour guide named ...\n",
       "18    bOrdered the Reuben sandwich with fries and th...\n",
       "19    bthe tour was fun and I formative the beer sam...\n",
       "Name: text, dtype: object"
      ]
     },
     "execution_count": 25,
     "metadata": {},
     "output_type": "execute_result"
    }
   ],
   "source": [
    "df['text'].head(20)\n",
    "df['text'].head(20)"
   ]
  },
  {
   "cell_type": "code",
   "execution_count": 26,
   "metadata": {},
   "outputs": [],
   "source": [
    "\n",
    "df[\"text\"] = df['text'].str.replace('[^\\w\\s]','') # removing punctuations\n",
    "df[\"text\"] = df['text'].str.replace('\\d+','') # removing digits \n",
    "\n",
    "\n"
   ]
  },
  {
   "cell_type": "code",
   "execution_count": 27,
   "metadata": {},
   "outputs": [
    {
     "data": {
      "text/plain": [
       "0     bGreat place Major flaw is how early it closes...\n",
       "1     bThe best fresh pizza and selection of micro b...\n",
       "2     bBought the Groupon for four people and pizza ...\n",
       "3     bWe went to Minhas with a coupon for a free pi...\n",
       "4     bMichael was an awesome tour guide Learned a l...\n",
       "5     bThis place is amazing We went in around pm no...\n",
       "6     bWent for the tour and found was an awesome gu...\n",
       "7     bIm a lightweight so I couldnt keep up with th...\n",
       "8     bLast night we used our Groupon for  Pizzas  d...\n",
       "9     bTHE BEST  Michael was awesome and I highly re...\n",
       "10    bI love this place Good food and oh my gosh so...\n",
       "11    bI was convinced that I would hate beer all my...\n",
       "12    bVery cool tour of the brewery It was quite in...\n",
       "13    bThe IPA put me offnnService was mediocre at b...\n",
       "14    bThis was an awesome tour Our tour guide Micha...\n",
       "15    bThis is a pizza restaurant and brewery They o...\n",
       "16    bThis was my first brewery tour and Minhas has...\n",
       "17    bWe had a very knowledgeable tour guide named ...\n",
       "18    bOrdered the Reuben sandwich with fries and th...\n",
       "19    bthe tour was fun and I formative the beer sam...\n",
       "Name: text, dtype: object"
      ]
     },
     "execution_count": 27,
     "metadata": {},
     "output_type": "execute_result"
    }
   ],
   "source": [
    "df['text'].head(20)"
   ]
  },
  {
   "cell_type": "markdown",
   "metadata": {},
   "source": [
    "Above the effect of the Text Cleaning can bee seen"
   ]
  },
  {
   "cell_type": "markdown",
   "metadata": {},
   "source": [
    "# TF-IDF Factorization of text coloumn"
   ]
  },
  {
   "cell_type": "code",
   "execution_count": 28,
   "metadata": {},
   "outputs": [],
   "source": [
    "from sklearn.feature_extraction.text import TfidfVectorizer\n",
    "v = TfidfVectorizer(sublinear_tf=True, max_df=0.3,min_df=0.10,max_features=500, analyzer='word', stop_words='english', ngram_range =(1,3), use_idf = True)\n",
    "x = v.fit_transform(df['text'])"
   ]
  },
  {
   "cell_type": "code",
   "execution_count": 29,
   "metadata": {},
   "outputs": [
    {
     "data": {
      "text/plain": [
       "<15000x30 sparse matrix of type '<class 'numpy.float64'>'\n",
       "\twith 68082 stored elements in Compressed Sparse Row format>"
      ]
     },
     "execution_count": 29,
     "metadata": {},
     "output_type": "execute_result"
    }
   ],
   "source": [
    "x"
   ]
  },
  {
   "cell_type": "code",
   "execution_count": 30,
   "metadata": {},
   "outputs": [
    {
     "data": {
      "text/plain": [
       "TfidfVectorizer(analyzer='word', binary=False, decode_error='strict',\n",
       "        dtype=<class 'numpy.int64'>, encoding='utf-8', input='content',\n",
       "        lowercase=True, max_df=0.3, max_features=500, min_df=0.1,\n",
       "        ngram_range=(1, 3), norm='l2', preprocessor=None, smooth_idf=True,\n",
       "        stop_words='english', strip_accents=None, sublinear_tf=True,\n",
       "        token_pattern='(?u)\\\\b\\\\w\\\\w+\\\\b', tokenizer=None, use_idf=True,\n",
       "        vocabulary=None)"
      ]
     },
     "execution_count": 30,
     "metadata": {},
     "output_type": "execute_result"
    }
   ],
   "source": [
    "v"
   ]
  },
  {
   "cell_type": "code",
   "execution_count": 31,
   "metadata": {},
   "outputs": [],
   "source": [
    "df1 = pd.DataFrame(x.toarray(), columns=v.get_feature_names())\n"
   ]
  },
  {
   "cell_type": "code",
   "execution_count": 32,
   "metadata": {},
   "outputs": [],
   "source": [
    "df.drop('text', axis=1, inplace=True)\n",
    "df = pd.concat([df, df1], axis=1)"
   ]
  },
  {
   "cell_type": "code",
   "execution_count": 33,
   "metadata": {},
   "outputs": [
    {
     "data": {
      "text/plain": [
       "Index(['business_id', 'city', 'state', 'review_count', 'useful', 'funny',\n",
       "       'cool', 'categories', 'stars_x', 'best', 'bi', 'came', 'come',\n",
       "       'definitely', 'did', 'didnt', 'dont', 'experience', 'food', 'friendly',\n",
       "       'going', 'got', 'great', 'im', 'just', 'like', 'little', 'love', 'make',\n",
       "       'nice', 'order', 'ordered', 'people', 'really', 'service', 'staff',\n",
       "       'time', 'try', 'went'],\n",
       "      dtype='object')"
      ]
     },
     "execution_count": 33,
     "metadata": {},
     "output_type": "execute_result"
    }
   ],
   "source": [
    "df.columns #these contains all columns previously selected previously"
   ]
  },
  {
   "cell_type": "code",
   "execution_count": 34,
   "metadata": {},
   "outputs": [
    {
     "data": {
      "text/html": [
       "<div>\n",
       "<style scoped>\n",
       "    .dataframe tbody tr th:only-of-type {\n",
       "        vertical-align: middle;\n",
       "    }\n",
       "\n",
       "    .dataframe tbody tr th {\n",
       "        vertical-align: top;\n",
       "    }\n",
       "\n",
       "    .dataframe thead th {\n",
       "        text-align: right;\n",
       "    }\n",
       "</style>\n",
       "<table border=\"1\" class=\"dataframe\">\n",
       "  <thead>\n",
       "    <tr style=\"text-align: right;\">\n",
       "      <th></th>\n",
       "      <th>business_id</th>\n",
       "      <th>city</th>\n",
       "      <th>state</th>\n",
       "      <th>review_count</th>\n",
       "      <th>useful</th>\n",
       "      <th>funny</th>\n",
       "      <th>cool</th>\n",
       "      <th>categories</th>\n",
       "      <th>stars_x</th>\n",
       "      <th>best</th>\n",
       "      <th>...</th>\n",
       "      <th>nice</th>\n",
       "      <th>order</th>\n",
       "      <th>ordered</th>\n",
       "      <th>people</th>\n",
       "      <th>really</th>\n",
       "      <th>service</th>\n",
       "      <th>staff</th>\n",
       "      <th>time</th>\n",
       "      <th>try</th>\n",
       "      <th>went</th>\n",
       "    </tr>\n",
       "  </thead>\n",
       "  <tbody>\n",
       "    <tr>\n",
       "      <th>0</th>\n",
       "      <td>Apn5Q_b6Nz61Tq4XzPdf9A</td>\n",
       "      <td>Calgary</td>\n",
       "      <td>AB</td>\n",
       "      <td>24</td>\n",
       "      <td>0</td>\n",
       "      <td>0</td>\n",
       "      <td>0</td>\n",
       "      <td>Tours, Breweries, Pizza, Restaurants, Food, Ho...</td>\n",
       "      <td>4.0</td>\n",
       "      <td>0.000000</td>\n",
       "      <td>...</td>\n",
       "      <td>0.0</td>\n",
       "      <td>0.0</td>\n",
       "      <td>0.0</td>\n",
       "      <td>0.0</td>\n",
       "      <td>0.0</td>\n",
       "      <td>0.0</td>\n",
       "      <td>0.0</td>\n",
       "      <td>0.000000</td>\n",
       "      <td>0.0</td>\n",
       "      <td>0.00000</td>\n",
       "    </tr>\n",
       "    <tr>\n",
       "      <th>1</th>\n",
       "      <td>Apn5Q_b6Nz61Tq4XzPdf9A</td>\n",
       "      <td>Calgary</td>\n",
       "      <td>AB</td>\n",
       "      <td>24</td>\n",
       "      <td>0</td>\n",
       "      <td>0</td>\n",
       "      <td>0</td>\n",
       "      <td>Tours, Breweries, Pizza, Restaurants, Food, Ho...</td>\n",
       "      <td>4.0</td>\n",
       "      <td>0.599182</td>\n",
       "      <td>...</td>\n",
       "      <td>0.0</td>\n",
       "      <td>0.0</td>\n",
       "      <td>0.0</td>\n",
       "      <td>0.0</td>\n",
       "      <td>0.0</td>\n",
       "      <td>0.0</td>\n",
       "      <td>0.0</td>\n",
       "      <td>0.481923</td>\n",
       "      <td>0.0</td>\n",
       "      <td>0.63932</td>\n",
       "    </tr>\n",
       "  </tbody>\n",
       "</table>\n",
       "<p>2 rows × 39 columns</p>\n",
       "</div>"
      ],
      "text/plain": [
       "              business_id     city state  review_count  useful  funny  cool  \\\n",
       "0  Apn5Q_b6Nz61Tq4XzPdf9A  Calgary    AB            24       0      0     0   \n",
       "1  Apn5Q_b6Nz61Tq4XzPdf9A  Calgary    AB            24       0      0     0   \n",
       "\n",
       "                                          categories  stars_x      best  \\\n",
       "0  Tours, Breweries, Pizza, Restaurants, Food, Ho...      4.0  0.000000   \n",
       "1  Tours, Breweries, Pizza, Restaurants, Food, Ho...      4.0  0.599182   \n",
       "\n",
       "    ...     nice  order  ordered  people  really  service  staff      time  \\\n",
       "0   ...      0.0    0.0      0.0     0.0     0.0      0.0    0.0  0.000000   \n",
       "1   ...      0.0    0.0      0.0     0.0     0.0      0.0    0.0  0.481923   \n",
       "\n",
       "   try     went  \n",
       "0  0.0  0.00000  \n",
       "1  0.0  0.63932  \n",
       "\n",
       "[2 rows x 39 columns]"
      ]
     },
     "execution_count": 34,
     "metadata": {},
     "output_type": "execute_result"
    }
   ],
   "source": [
    "df.head(2)"
   ]
  },
  {
   "cell_type": "markdown",
   "metadata": {},
   "source": [
    "### NORMALISATION OF \"REVIEW COUNT\""
   ]
  },
  {
   "cell_type": "code",
   "execution_count": 35,
   "metadata": {},
   "outputs": [
    {
     "name": "stderr",
     "output_type": "stream",
     "text": [
      "C:\\Users\\Gurudev\\Anaconda3\\envs\\Tensorflowexclusive\\lib\\site-packages\\sklearn\\utils\\validation.py:475: DataConversionWarning: Data with input dtype int64 was converted to float64 by MinMaxScaler.\n",
      "  warnings.warn(msg, DataConversionWarning)\n"
     ]
    }
   ],
   "source": [
    "#Normalisation of the dataframe\n",
    "from sklearn import preprocessing\n",
    "\n",
    "y = df[['review_count']].values #returns a numpy array\n",
    "min_max_scaler = preprocessing.MinMaxScaler()\n",
    "x_scaled = min_max_scaler.fit_transform(y)\n",
    "df['review_count'] = pd.DataFrame(x_scaled)"
   ]
  },
  {
   "cell_type": "code",
   "execution_count": 36,
   "metadata": {},
   "outputs": [
    {
     "data": {
      "text/html": [
       "<div>\n",
       "<style scoped>\n",
       "    .dataframe tbody tr th:only-of-type {\n",
       "        vertical-align: middle;\n",
       "    }\n",
       "\n",
       "    .dataframe tbody tr th {\n",
       "        vertical-align: top;\n",
       "    }\n",
       "\n",
       "    .dataframe thead th {\n",
       "        text-align: right;\n",
       "    }\n",
       "</style>\n",
       "<table border=\"1\" class=\"dataframe\">\n",
       "  <thead>\n",
       "    <tr style=\"text-align: right;\">\n",
       "      <th></th>\n",
       "      <th>business_id</th>\n",
       "      <th>city</th>\n",
       "      <th>state</th>\n",
       "      <th>review_count</th>\n",
       "      <th>useful</th>\n",
       "      <th>funny</th>\n",
       "      <th>cool</th>\n",
       "      <th>categories</th>\n",
       "      <th>stars_x</th>\n",
       "      <th>best</th>\n",
       "      <th>...</th>\n",
       "      <th>nice</th>\n",
       "      <th>order</th>\n",
       "      <th>ordered</th>\n",
       "      <th>people</th>\n",
       "      <th>really</th>\n",
       "      <th>service</th>\n",
       "      <th>staff</th>\n",
       "      <th>time</th>\n",
       "      <th>try</th>\n",
       "      <th>went</th>\n",
       "    </tr>\n",
       "  </thead>\n",
       "  <tbody>\n",
       "    <tr>\n",
       "      <th>0</th>\n",
       "      <td>Apn5Q_b6Nz61Tq4XzPdf9A</td>\n",
       "      <td>Calgary</td>\n",
       "      <td>AB</td>\n",
       "      <td>0.013444</td>\n",
       "      <td>0</td>\n",
       "      <td>0</td>\n",
       "      <td>0</td>\n",
       "      <td>Tours, Breweries, Pizza, Restaurants, Food, Ho...</td>\n",
       "      <td>4.0</td>\n",
       "      <td>0.000000</td>\n",
       "      <td>...</td>\n",
       "      <td>0.0</td>\n",
       "      <td>0.0</td>\n",
       "      <td>0.0</td>\n",
       "      <td>0.0</td>\n",
       "      <td>0.0</td>\n",
       "      <td>0.0</td>\n",
       "      <td>0.0</td>\n",
       "      <td>0.000000</td>\n",
       "      <td>0.0</td>\n",
       "      <td>0.00000</td>\n",
       "    </tr>\n",
       "    <tr>\n",
       "      <th>1</th>\n",
       "      <td>Apn5Q_b6Nz61Tq4XzPdf9A</td>\n",
       "      <td>Calgary</td>\n",
       "      <td>AB</td>\n",
       "      <td>0.013444</td>\n",
       "      <td>0</td>\n",
       "      <td>0</td>\n",
       "      <td>0</td>\n",
       "      <td>Tours, Breweries, Pizza, Restaurants, Food, Ho...</td>\n",
       "      <td>4.0</td>\n",
       "      <td>0.599182</td>\n",
       "      <td>...</td>\n",
       "      <td>0.0</td>\n",
       "      <td>0.0</td>\n",
       "      <td>0.0</td>\n",
       "      <td>0.0</td>\n",
       "      <td>0.0</td>\n",
       "      <td>0.0</td>\n",
       "      <td>0.0</td>\n",
       "      <td>0.481923</td>\n",
       "      <td>0.0</td>\n",
       "      <td>0.63932</td>\n",
       "    </tr>\n",
       "  </tbody>\n",
       "</table>\n",
       "<p>2 rows × 39 columns</p>\n",
       "</div>"
      ],
      "text/plain": [
       "              business_id     city state  review_count  useful  funny  cool  \\\n",
       "0  Apn5Q_b6Nz61Tq4XzPdf9A  Calgary    AB      0.013444       0      0     0   \n",
       "1  Apn5Q_b6Nz61Tq4XzPdf9A  Calgary    AB      0.013444       0      0     0   \n",
       "\n",
       "                                          categories  stars_x      best  \\\n",
       "0  Tours, Breweries, Pizza, Restaurants, Food, Ho...      4.0  0.000000   \n",
       "1  Tours, Breweries, Pizza, Restaurants, Food, Ho...      4.0  0.599182   \n",
       "\n",
       "    ...     nice  order  ordered  people  really  service  staff      time  \\\n",
       "0   ...      0.0    0.0      0.0     0.0     0.0      0.0    0.0  0.000000   \n",
       "1   ...      0.0    0.0      0.0     0.0     0.0      0.0    0.0  0.481923   \n",
       "\n",
       "   try     went  \n",
       "0  0.0  0.00000  \n",
       "1  0.0  0.63932  \n",
       "\n",
       "[2 rows x 39 columns]"
      ]
     },
     "execution_count": 36,
     "metadata": {},
     "output_type": "execute_result"
    }
   ],
   "source": [
    "df.head(2)"
   ]
  },
  {
   "cell_type": "code",
   "execution_count": 39,
   "metadata": {},
   "outputs": [
    {
     "data": {
      "text/html": [
       "<div>\n",
       "<style scoped>\n",
       "    .dataframe tbody tr th:only-of-type {\n",
       "        vertical-align: middle;\n",
       "    }\n",
       "\n",
       "    .dataframe tbody tr th {\n",
       "        vertical-align: top;\n",
       "    }\n",
       "\n",
       "    .dataframe thead th {\n",
       "        text-align: right;\n",
       "    }\n",
       "</style>\n",
       "<table border=\"1\" class=\"dataframe\">\n",
       "  <thead>\n",
       "    <tr style=\"text-align: right;\">\n",
       "      <th></th>\n",
       "      <th>business_id</th>\n",
       "      <th>city</th>\n",
       "      <th>state</th>\n",
       "      <th>review_count</th>\n",
       "      <th>useful</th>\n",
       "      <th>funny</th>\n",
       "      <th>cool</th>\n",
       "      <th>categories</th>\n",
       "      <th>stars_x</th>\n",
       "      <th>best</th>\n",
       "      <th>...</th>\n",
       "      <th>nice</th>\n",
       "      <th>order</th>\n",
       "      <th>ordered</th>\n",
       "      <th>people</th>\n",
       "      <th>really</th>\n",
       "      <th>service</th>\n",
       "      <th>staff</th>\n",
       "      <th>time</th>\n",
       "      <th>try</th>\n",
       "      <th>went</th>\n",
       "    </tr>\n",
       "  </thead>\n",
       "  <tbody>\n",
       "    <tr>\n",
       "      <th>0</th>\n",
       "      <td>Apn5Q_b6Nz61Tq4XzPdf9A</td>\n",
       "      <td>Calgary</td>\n",
       "      <td>AB</td>\n",
       "      <td>0.013444</td>\n",
       "      <td>0</td>\n",
       "      <td>0</td>\n",
       "      <td>0</td>\n",
       "      <td>Tours, Breweries, Pizza, Restaurants, Food, Ho...</td>\n",
       "      <td>4.0</td>\n",
       "      <td>0.000000</td>\n",
       "      <td>...</td>\n",
       "      <td>0.0</td>\n",
       "      <td>0.0</td>\n",
       "      <td>0.0</td>\n",
       "      <td>0.0</td>\n",
       "      <td>0.0</td>\n",
       "      <td>0.0</td>\n",
       "      <td>0.0</td>\n",
       "      <td>0.000000</td>\n",
       "      <td>0.0</td>\n",
       "      <td>0.00000</td>\n",
       "    </tr>\n",
       "    <tr>\n",
       "      <th>1</th>\n",
       "      <td>Apn5Q_b6Nz61Tq4XzPdf9A</td>\n",
       "      <td>Calgary</td>\n",
       "      <td>AB</td>\n",
       "      <td>0.013444</td>\n",
       "      <td>0</td>\n",
       "      <td>0</td>\n",
       "      <td>0</td>\n",
       "      <td>Tours, Breweries, Pizza, Restaurants, Food, Ho...</td>\n",
       "      <td>4.0</td>\n",
       "      <td>0.599182</td>\n",
       "      <td>...</td>\n",
       "      <td>0.0</td>\n",
       "      <td>0.0</td>\n",
       "      <td>0.0</td>\n",
       "      <td>0.0</td>\n",
       "      <td>0.0</td>\n",
       "      <td>0.0</td>\n",
       "      <td>0.0</td>\n",
       "      <td>0.481923</td>\n",
       "      <td>0.0</td>\n",
       "      <td>0.63932</td>\n",
       "    </tr>\n",
       "  </tbody>\n",
       "</table>\n",
       "<p>2 rows × 39 columns</p>\n",
       "</div>"
      ],
      "text/plain": [
       "              business_id     city state  review_count  useful  funny  cool  \\\n",
       "0  Apn5Q_b6Nz61Tq4XzPdf9A  Calgary    AB      0.013444       0      0     0   \n",
       "1  Apn5Q_b6Nz61Tq4XzPdf9A  Calgary    AB      0.013444       0      0     0   \n",
       "\n",
       "                                          categories  stars_x      best  \\\n",
       "0  Tours, Breweries, Pizza, Restaurants, Food, Ho...      4.0  0.000000   \n",
       "1  Tours, Breweries, Pizza, Restaurants, Food, Ho...      4.0  0.599182   \n",
       "\n",
       "    ...     nice  order  ordered  people  really  service  staff      time  \\\n",
       "0   ...      0.0    0.0      0.0     0.0     0.0      0.0    0.0  0.000000   \n",
       "1   ...      0.0    0.0      0.0     0.0     0.0      0.0    0.0  0.481923   \n",
       "\n",
       "   try     went  \n",
       "0  0.0  0.00000  \n",
       "1  0.0  0.63932  \n",
       "\n",
       "[2 rows x 39 columns]"
      ]
     },
     "execution_count": 39,
     "metadata": {},
     "output_type": "execute_result"
    }
   ],
   "source": [
    "df.head(2)"
   ]
  },
  {
   "cell_type": "code",
   "execution_count": 40,
   "metadata": {},
   "outputs": [
    {
     "data": {
      "text/plain": [
       "array([4. , 4.5, 1.5, 2. , 2.5, 3.5, 1. , 5. , 3. ])"
      ]
     },
     "execution_count": 40,
     "metadata": {},
     "output_type": "execute_result"
    }
   ],
   "source": [
    "df['stars_x'].unique()"
   ]
  },
  {
   "cell_type": "markdown",
   "metadata": {},
   "source": [
    "**Making 2 copies of dataframe . One for Linear regression Model and one for one for Rest**"
   ]
  },
  {
   "cell_type": "code",
   "execution_count": 43,
   "metadata": {},
   "outputs": [],
   "source": [
    "dfo = df.copy() # for Other models "
   ]
  },
  {
   "cell_type": "code",
   "execution_count": 44,
   "metadata": {},
   "outputs": [],
   "source": [
    "dfl = df.copy() # for Linear Regression"
   ]
  },
  {
   "cell_type": "code",
   "execution_count": 45,
   "metadata": {},
   "outputs": [],
   "source": [
    "#Add the features to remove\n",
    "featurestoremove = {'business_id','categories','state','city'}\n",
    "dfo= dfo[dfo.columns.difference(featurestoremove)]\n",
    "dfl = dfl[dfl.columns.difference(featurestoremove)]\n",
    "\n",
    "# Shuffling and splitting the data into Features and Labels \n",
    "dfo = dfo.sample(frac=1).reset_index(drop=True)\n",
    "labelremove={'stars_x'}\n",
    "labels =['stars_x']\n",
    "dffeatures_x = dfo[dfo.columns.difference(labelremove)]"
   ]
  },
  {
   "cell_type": "code",
   "execution_count": 46,
   "metadata": {},
   "outputs": [],
   "source": [
    "#Splitting for Regression\n",
    "dffeatures_x_ne = dfl[dfl.columns.difference(labelremove)]\n",
    "dflabel_y_ne = df[['stars_x']]"
   ]
  },
  {
   "cell_type": "markdown",
   "metadata": {},
   "source": [
    "### Label Encoding of Target (Star Rating)"
   ]
  },
  {
   "cell_type": "code",
   "execution_count": 47,
   "metadata": {},
   "outputs": [],
   "source": [
    "# Label Encoding\n",
    "from sklearn import preprocessing\n",
    "le = preprocessing.LabelEncoder()\n",
    "dfo['stars_x'] = le.fit_transform(dfo['stars_x'] )"
   ]
  },
  {
   "cell_type": "markdown",
   "metadata": {},
   "source": [
    "**Splitting the dataframe into Features and Labels dataframe**"
   ]
  },
  {
   "cell_type": "code",
   "execution_count": 48,
   "metadata": {},
   "outputs": [],
   "source": [
    "#Adding the encoded labels to the dflabel_y\n",
    "dflabel_y=dfo[labels]\n",
    "\n"
   ]
  },
  {
   "cell_type": "code",
   "execution_count": 49,
   "metadata": {},
   "outputs": [
    {
     "data": {
      "text/plain": [
       "(15000, 34)"
      ]
     },
     "execution_count": 49,
     "metadata": {},
     "output_type": "execute_result"
    }
   ],
   "source": [
    "dffeatures_x.shape\n"
   ]
  },
  {
   "cell_type": "code",
   "execution_count": 50,
   "metadata": {},
   "outputs": [
    {
     "data": {
      "text/html": [
       "<div>\n",
       "<style scoped>\n",
       "    .dataframe tbody tr th:only-of-type {\n",
       "        vertical-align: middle;\n",
       "    }\n",
       "\n",
       "    .dataframe tbody tr th {\n",
       "        vertical-align: top;\n",
       "    }\n",
       "\n",
       "    .dataframe thead th {\n",
       "        text-align: right;\n",
       "    }\n",
       "</style>\n",
       "<table border=\"1\" class=\"dataframe\">\n",
       "  <thead>\n",
       "    <tr style=\"text-align: right;\">\n",
       "      <th></th>\n",
       "      <th>stars_x</th>\n",
       "    </tr>\n",
       "  </thead>\n",
       "  <tbody>\n",
       "    <tr>\n",
       "      <th>0</th>\n",
       "      <td>6</td>\n",
       "    </tr>\n",
       "    <tr>\n",
       "      <th>1</th>\n",
       "      <td>6</td>\n",
       "    </tr>\n",
       "    <tr>\n",
       "      <th>2</th>\n",
       "      <td>4</td>\n",
       "    </tr>\n",
       "    <tr>\n",
       "      <th>3</th>\n",
       "      <td>6</td>\n",
       "    </tr>\n",
       "    <tr>\n",
       "      <th>4</th>\n",
       "      <td>2</td>\n",
       "    </tr>\n",
       "  </tbody>\n",
       "</table>\n",
       "</div>"
      ],
      "text/plain": [
       "   stars_x\n",
       "0        6\n",
       "1        6\n",
       "2        4\n",
       "3        6\n",
       "4        2"
      ]
     },
     "execution_count": 50,
     "metadata": {},
     "output_type": "execute_result"
    }
   ],
   "source": [
    "dflabel_y.head() # Label encoded for Catagorical Models"
   ]
  },
  {
   "cell_type": "code",
   "execution_count": 51,
   "metadata": {},
   "outputs": [
    {
     "data": {
      "text/html": [
       "<div>\n",
       "<style scoped>\n",
       "    .dataframe tbody tr th:only-of-type {\n",
       "        vertical-align: middle;\n",
       "    }\n",
       "\n",
       "    .dataframe tbody tr th {\n",
       "        vertical-align: top;\n",
       "    }\n",
       "\n",
       "    .dataframe thead th {\n",
       "        text-align: right;\n",
       "    }\n",
       "</style>\n",
       "<table border=\"1\" class=\"dataframe\">\n",
       "  <thead>\n",
       "    <tr style=\"text-align: right;\">\n",
       "      <th></th>\n",
       "      <th>stars_x</th>\n",
       "    </tr>\n",
       "  </thead>\n",
       "  <tbody>\n",
       "    <tr>\n",
       "      <th>0</th>\n",
       "      <td>4.0</td>\n",
       "    </tr>\n",
       "    <tr>\n",
       "      <th>1</th>\n",
       "      <td>4.0</td>\n",
       "    </tr>\n",
       "    <tr>\n",
       "      <th>2</th>\n",
       "      <td>4.0</td>\n",
       "    </tr>\n",
       "    <tr>\n",
       "      <th>3</th>\n",
       "      <td>4.0</td>\n",
       "    </tr>\n",
       "    <tr>\n",
       "      <th>4</th>\n",
       "      <td>4.0</td>\n",
       "    </tr>\n",
       "  </tbody>\n",
       "</table>\n",
       "</div>"
      ],
      "text/plain": [
       "   stars_x\n",
       "0      4.0\n",
       "1      4.0\n",
       "2      4.0\n",
       "3      4.0\n",
       "4      4.0"
      ]
     },
     "execution_count": 51,
     "metadata": {},
     "output_type": "execute_result"
    }
   ],
   "source": [
    "dflabel_y_ne.head() # For regression Models "
   ]
  },
  {
   "cell_type": "code",
   "execution_count": 52,
   "metadata": {},
   "outputs": [
    {
     "data": {
      "text/plain": [
       "(15000, 34)"
      ]
     },
     "execution_count": 52,
     "metadata": {},
     "output_type": "execute_result"
    }
   ],
   "source": [
    "dffeatures_x_ne.shape  "
   ]
  },
  {
   "cell_type": "code",
   "execution_count": 56,
   "metadata": {
    "scrolled": true
   },
   "outputs": [
    {
     "data": {
      "text/plain": [
       "Index(['best', 'bi', 'came', 'come', 'cool', 'definitely', 'did', 'didnt',\n",
       "       'dont', 'experience', 'food', 'friendly', 'funny', 'going', 'got',\n",
       "       'great', 'im', 'just', 'like', 'little', 'love', 'make', 'nice',\n",
       "       'order', 'ordered', 'people', 'really', 'review_count', 'service',\n",
       "       'staff', 'time', 'try', 'useful', 'went'],\n",
       "      dtype='object')"
      ]
     },
     "execution_count": 56,
     "metadata": {},
     "output_type": "execute_result"
    }
   ],
   "source": [
    "dffeatures_x.columns"
   ]
  },
  {
   "cell_type": "code",
   "execution_count": 57,
   "metadata": {
    "scrolled": false
   },
   "outputs": [
    {
     "data": {
      "text/plain": [
       "0    0.175416\n",
       "1    0.198464\n",
       "2    0.029449\n",
       "3    0.092190\n",
       "4    0.056978\n",
       "Name: review_count, dtype: float64"
      ]
     },
     "execution_count": 57,
     "metadata": {},
     "output_type": "execute_result"
    }
   ],
   "source": [
    "dffeatures_x['review_count'].head()"
   ]
  },
  {
   "cell_type": "code",
   "execution_count": 58,
   "metadata": {},
   "outputs": [],
   "source": [
    "dffeatures_x=dffeatures_x.fillna(0)\n",
    "dflabel_y = dflabel_y.fillna(dflabel_y.mean())"
   ]
  },
  {
   "cell_type": "code",
   "execution_count": 59,
   "metadata": {},
   "outputs": [
    {
     "data": {
      "text/html": [
       "<div>\n",
       "<style scoped>\n",
       "    .dataframe tbody tr th:only-of-type {\n",
       "        vertical-align: middle;\n",
       "    }\n",
       "\n",
       "    .dataframe tbody tr th {\n",
       "        vertical-align: top;\n",
       "    }\n",
       "\n",
       "    .dataframe thead th {\n",
       "        text-align: right;\n",
       "    }\n",
       "</style>\n",
       "<table border=\"1\" class=\"dataframe\">\n",
       "  <thead>\n",
       "    <tr style=\"text-align: right;\">\n",
       "      <th></th>\n",
       "      <th>best</th>\n",
       "      <th>bi</th>\n",
       "      <th>came</th>\n",
       "      <th>come</th>\n",
       "      <th>cool</th>\n",
       "      <th>definitely</th>\n",
       "      <th>did</th>\n",
       "      <th>didnt</th>\n",
       "      <th>dont</th>\n",
       "      <th>experience</th>\n",
       "      <th>...</th>\n",
       "      <th>ordered</th>\n",
       "      <th>people</th>\n",
       "      <th>really</th>\n",
       "      <th>review_count</th>\n",
       "      <th>service</th>\n",
       "      <th>staff</th>\n",
       "      <th>time</th>\n",
       "      <th>try</th>\n",
       "      <th>useful</th>\n",
       "      <th>went</th>\n",
       "    </tr>\n",
       "  </thead>\n",
       "  <tbody>\n",
       "    <tr>\n",
       "      <th>0</th>\n",
       "      <td>0.38087</td>\n",
       "      <td>0.0</td>\n",
       "      <td>0.0</td>\n",
       "      <td>0.0</td>\n",
       "      <td>0</td>\n",
       "      <td>0.0</td>\n",
       "      <td>0.397441</td>\n",
       "      <td>0.394019</td>\n",
       "      <td>0.0</td>\n",
       "      <td>0.0</td>\n",
       "      <td>...</td>\n",
       "      <td>0.0</td>\n",
       "      <td>0.0</td>\n",
       "      <td>0.0</td>\n",
       "      <td>0.175416</td>\n",
       "      <td>0.0</td>\n",
       "      <td>0.377437</td>\n",
       "      <td>0.0</td>\n",
       "      <td>0.0</td>\n",
       "      <td>0</td>\n",
       "      <td>0.0</td>\n",
       "    </tr>\n",
       "    <tr>\n",
       "      <th>1</th>\n",
       "      <td>0.46878</td>\n",
       "      <td>0.0</td>\n",
       "      <td>0.0</td>\n",
       "      <td>0.0</td>\n",
       "      <td>0</td>\n",
       "      <td>0.0</td>\n",
       "      <td>0.000000</td>\n",
       "      <td>0.000000</td>\n",
       "      <td>0.0</td>\n",
       "      <td>0.0</td>\n",
       "      <td>...</td>\n",
       "      <td>0.0</td>\n",
       "      <td>0.0</td>\n",
       "      <td>0.0</td>\n",
       "      <td>0.198464</td>\n",
       "      <td>0.0</td>\n",
       "      <td>0.464554</td>\n",
       "      <td>0.0</td>\n",
       "      <td>0.0</td>\n",
       "      <td>0</td>\n",
       "      <td>0.0</td>\n",
       "    </tr>\n",
       "    <tr>\n",
       "      <th>2</th>\n",
       "      <td>0.00000</td>\n",
       "      <td>0.0</td>\n",
       "      <td>0.0</td>\n",
       "      <td>0.0</td>\n",
       "      <td>0</td>\n",
       "      <td>0.0</td>\n",
       "      <td>0.000000</td>\n",
       "      <td>0.000000</td>\n",
       "      <td>0.0</td>\n",
       "      <td>0.0</td>\n",
       "      <td>...</td>\n",
       "      <td>0.0</td>\n",
       "      <td>0.0</td>\n",
       "      <td>0.0</td>\n",
       "      <td>0.029449</td>\n",
       "      <td>0.0</td>\n",
       "      <td>0.000000</td>\n",
       "      <td>0.0</td>\n",
       "      <td>0.0</td>\n",
       "      <td>0</td>\n",
       "      <td>0.0</td>\n",
       "    </tr>\n",
       "    <tr>\n",
       "      <th>3</th>\n",
       "      <td>0.00000</td>\n",
       "      <td>0.0</td>\n",
       "      <td>0.0</td>\n",
       "      <td>0.0</td>\n",
       "      <td>0</td>\n",
       "      <td>0.0</td>\n",
       "      <td>0.000000</td>\n",
       "      <td>0.000000</td>\n",
       "      <td>1.0</td>\n",
       "      <td>0.0</td>\n",
       "      <td>...</td>\n",
       "      <td>0.0</td>\n",
       "      <td>0.0</td>\n",
       "      <td>0.0</td>\n",
       "      <td>0.092190</td>\n",
       "      <td>0.0</td>\n",
       "      <td>0.000000</td>\n",
       "      <td>0.0</td>\n",
       "      <td>0.0</td>\n",
       "      <td>1</td>\n",
       "      <td>0.0</td>\n",
       "    </tr>\n",
       "    <tr>\n",
       "      <th>4</th>\n",
       "      <td>0.00000</td>\n",
       "      <td>0.0</td>\n",
       "      <td>0.0</td>\n",
       "      <td>0.0</td>\n",
       "      <td>0</td>\n",
       "      <td>0.0</td>\n",
       "      <td>0.000000</td>\n",
       "      <td>0.000000</td>\n",
       "      <td>0.0</td>\n",
       "      <td>0.0</td>\n",
       "      <td>...</td>\n",
       "      <td>0.0</td>\n",
       "      <td>0.0</td>\n",
       "      <td>0.0</td>\n",
       "      <td>0.056978</td>\n",
       "      <td>0.0</td>\n",
       "      <td>0.000000</td>\n",
       "      <td>0.0</td>\n",
       "      <td>0.0</td>\n",
       "      <td>30</td>\n",
       "      <td>0.0</td>\n",
       "    </tr>\n",
       "  </tbody>\n",
       "</table>\n",
       "<p>5 rows × 34 columns</p>\n",
       "</div>"
      ],
      "text/plain": [
       "      best   bi  came  come  cool  definitely       did     didnt  dont  \\\n",
       "0  0.38087  0.0   0.0   0.0     0         0.0  0.397441  0.394019   0.0   \n",
       "1  0.46878  0.0   0.0   0.0     0         0.0  0.000000  0.000000   0.0   \n",
       "2  0.00000  0.0   0.0   0.0     0         0.0  0.000000  0.000000   0.0   \n",
       "3  0.00000  0.0   0.0   0.0     0         0.0  0.000000  0.000000   1.0   \n",
       "4  0.00000  0.0   0.0   0.0     0         0.0  0.000000  0.000000   0.0   \n",
       "\n",
       "   experience  ...   ordered  people  really  review_count  service     staff  \\\n",
       "0         0.0  ...       0.0     0.0     0.0      0.175416      0.0  0.377437   \n",
       "1         0.0  ...       0.0     0.0     0.0      0.198464      0.0  0.464554   \n",
       "2         0.0  ...       0.0     0.0     0.0      0.029449      0.0  0.000000   \n",
       "3         0.0  ...       0.0     0.0     0.0      0.092190      0.0  0.000000   \n",
       "4         0.0  ...       0.0     0.0     0.0      0.056978      0.0  0.000000   \n",
       "\n",
       "   time  try  useful  went  \n",
       "0   0.0  0.0       0   0.0  \n",
       "1   0.0  0.0       0   0.0  \n",
       "2   0.0  0.0       0   0.0  \n",
       "3   0.0  0.0       1   0.0  \n",
       "4   0.0  0.0      30   0.0  \n",
       "\n",
       "[5 rows x 34 columns]"
      ]
     },
     "execution_count": 59,
     "metadata": {},
     "output_type": "execute_result"
    }
   ],
   "source": [
    "dffeatures_x.head()"
   ]
  },
  {
   "cell_type": "markdown",
   "metadata": {},
   "source": [
    "# Splitting data to training and test"
   ]
  },
  {
   "cell_type": "code",
   "execution_count": 60,
   "metadata": {},
   "outputs": [],
   "source": [
    "#splitting the data into training and testing set for all models except linear regression\n",
    "from sklearn.model_selection import train_test_split\n",
    "X_train, X_test, y_train, y_test = train_test_split(dffeatures_x, dflabel_y, test_size=0.33, random_state=42 ,shuffle=False)\n",
    "\n",
    "\n",
    "\n",
    "#splitting for Linear regression model and regression neural network\n",
    "\n",
    "\n",
    "X_train_n, X_test_n, y_train_n, y_test_n = train_test_split(dffeatures_x_ne, dflabel_y_ne, test_size=0.33, random_state=42 ,shuffle=False)"
   ]
  },
  {
   "cell_type": "code",
   "execution_count": 61,
   "metadata": {},
   "outputs": [
    {
     "data": {
      "text/html": [
       "<div>\n",
       "<style scoped>\n",
       "    .dataframe tbody tr th:only-of-type {\n",
       "        vertical-align: middle;\n",
       "    }\n",
       "\n",
       "    .dataframe tbody tr th {\n",
       "        vertical-align: top;\n",
       "    }\n",
       "\n",
       "    .dataframe thead th {\n",
       "        text-align: right;\n",
       "    }\n",
       "</style>\n",
       "<table border=\"1\" class=\"dataframe\">\n",
       "  <thead>\n",
       "    <tr style=\"text-align: right;\">\n",
       "      <th></th>\n",
       "      <th>best</th>\n",
       "      <th>bi</th>\n",
       "      <th>came</th>\n",
       "      <th>come</th>\n",
       "      <th>cool</th>\n",
       "      <th>definitely</th>\n",
       "      <th>did</th>\n",
       "      <th>didnt</th>\n",
       "      <th>dont</th>\n",
       "      <th>experience</th>\n",
       "      <th>...</th>\n",
       "      <th>ordered</th>\n",
       "      <th>people</th>\n",
       "      <th>really</th>\n",
       "      <th>review_count</th>\n",
       "      <th>service</th>\n",
       "      <th>staff</th>\n",
       "      <th>time</th>\n",
       "      <th>try</th>\n",
       "      <th>useful</th>\n",
       "      <th>went</th>\n",
       "    </tr>\n",
       "  </thead>\n",
       "  <tbody>\n",
       "    <tr>\n",
       "      <th>10050</th>\n",
       "      <td>0.595102</td>\n",
       "      <td>0.000000</td>\n",
       "      <td>0.000000</td>\n",
       "      <td>0.0</td>\n",
       "      <td>0</td>\n",
       "      <td>0.000000</td>\n",
       "      <td>0.000000</td>\n",
       "      <td>0.0</td>\n",
       "      <td>0.000000</td>\n",
       "      <td>0.0</td>\n",
       "      <td>...</td>\n",
       "      <td>0.0</td>\n",
       "      <td>0.0</td>\n",
       "      <td>0.000000</td>\n",
       "      <td>0.093470</td>\n",
       "      <td>0.000000</td>\n",
       "      <td>0.000000</td>\n",
       "      <td>0.478641</td>\n",
       "      <td>0.0</td>\n",
       "      <td>0</td>\n",
       "      <td>0.0</td>\n",
       "    </tr>\n",
       "    <tr>\n",
       "      <th>10051</th>\n",
       "      <td>0.000000</td>\n",
       "      <td>0.000000</td>\n",
       "      <td>0.000000</td>\n",
       "      <td>0.0</td>\n",
       "      <td>0</td>\n",
       "      <td>0.000000</td>\n",
       "      <td>0.800365</td>\n",
       "      <td>0.0</td>\n",
       "      <td>0.000000</td>\n",
       "      <td>0.0</td>\n",
       "      <td>...</td>\n",
       "      <td>0.0</td>\n",
       "      <td>0.0</td>\n",
       "      <td>0.000000</td>\n",
       "      <td>0.056978</td>\n",
       "      <td>0.599513</td>\n",
       "      <td>0.000000</td>\n",
       "      <td>0.000000</td>\n",
       "      <td>0.0</td>\n",
       "      <td>1</td>\n",
       "      <td>0.0</td>\n",
       "    </tr>\n",
       "    <tr>\n",
       "      <th>10052</th>\n",
       "      <td>0.000000</td>\n",
       "      <td>0.000000</td>\n",
       "      <td>0.000000</td>\n",
       "      <td>0.0</td>\n",
       "      <td>0</td>\n",
       "      <td>0.000000</td>\n",
       "      <td>0.000000</td>\n",
       "      <td>0.0</td>\n",
       "      <td>0.000000</td>\n",
       "      <td>0.0</td>\n",
       "      <td>...</td>\n",
       "      <td>0.0</td>\n",
       "      <td>0.0</td>\n",
       "      <td>0.000000</td>\n",
       "      <td>0.016005</td>\n",
       "      <td>0.403204</td>\n",
       "      <td>0.511194</td>\n",
       "      <td>0.000000</td>\n",
       "      <td>0.0</td>\n",
       "      <td>0</td>\n",
       "      <td>0.0</td>\n",
       "    </tr>\n",
       "    <tr>\n",
       "      <th>10053</th>\n",
       "      <td>0.000000</td>\n",
       "      <td>0.000000</td>\n",
       "      <td>0.000000</td>\n",
       "      <td>0.0</td>\n",
       "      <td>0</td>\n",
       "      <td>0.000000</td>\n",
       "      <td>0.000000</td>\n",
       "      <td>0.0</td>\n",
       "      <td>0.385171</td>\n",
       "      <td>0.0</td>\n",
       "      <td>...</td>\n",
       "      <td>0.0</td>\n",
       "      <td>0.0</td>\n",
       "      <td>0.000000</td>\n",
       "      <td>0.065301</td>\n",
       "      <td>0.000000</td>\n",
       "      <td>0.000000</td>\n",
       "      <td>0.322926</td>\n",
       "      <td>0.0</td>\n",
       "      <td>0</td>\n",
       "      <td>0.0</td>\n",
       "    </tr>\n",
       "    <tr>\n",
       "      <th>10054</th>\n",
       "      <td>0.000000</td>\n",
       "      <td>0.424376</td>\n",
       "      <td>0.471226</td>\n",
       "      <td>0.0</td>\n",
       "      <td>0</td>\n",
       "      <td>0.480623</td>\n",
       "      <td>0.000000</td>\n",
       "      <td>0.0</td>\n",
       "      <td>0.000000</td>\n",
       "      <td>0.0</td>\n",
       "      <td>...</td>\n",
       "      <td>0.0</td>\n",
       "      <td>0.0</td>\n",
       "      <td>0.411377</td>\n",
       "      <td>0.041613</td>\n",
       "      <td>0.000000</td>\n",
       "      <td>0.444547</td>\n",
       "      <td>0.000000</td>\n",
       "      <td>0.0</td>\n",
       "      <td>0</td>\n",
       "      <td>0.0</td>\n",
       "    </tr>\n",
       "  </tbody>\n",
       "</table>\n",
       "<p>5 rows × 34 columns</p>\n",
       "</div>"
      ],
      "text/plain": [
       "           best        bi      came  come  cool  definitely       did  didnt  \\\n",
       "10050  0.595102  0.000000  0.000000   0.0     0    0.000000  0.000000    0.0   \n",
       "10051  0.000000  0.000000  0.000000   0.0     0    0.000000  0.800365    0.0   \n",
       "10052  0.000000  0.000000  0.000000   0.0     0    0.000000  0.000000    0.0   \n",
       "10053  0.000000  0.000000  0.000000   0.0     0    0.000000  0.000000    0.0   \n",
       "10054  0.000000  0.424376  0.471226   0.0     0    0.480623  0.000000    0.0   \n",
       "\n",
       "           dont  experience  ...   ordered  people    really  review_count  \\\n",
       "10050  0.000000         0.0  ...       0.0     0.0  0.000000      0.093470   \n",
       "10051  0.000000         0.0  ...       0.0     0.0  0.000000      0.056978   \n",
       "10052  0.000000         0.0  ...       0.0     0.0  0.000000      0.016005   \n",
       "10053  0.385171         0.0  ...       0.0     0.0  0.000000      0.065301   \n",
       "10054  0.000000         0.0  ...       0.0     0.0  0.411377      0.041613   \n",
       "\n",
       "        service     staff      time  try  useful  went  \n",
       "10050  0.000000  0.000000  0.478641  0.0       0   0.0  \n",
       "10051  0.599513  0.000000  0.000000  0.0       1   0.0  \n",
       "10052  0.403204  0.511194  0.000000  0.0       0   0.0  \n",
       "10053  0.000000  0.000000  0.322926  0.0       0   0.0  \n",
       "10054  0.000000  0.444547  0.000000  0.0       0   0.0  \n",
       "\n",
       "[5 rows x 34 columns]"
      ]
     },
     "execution_count": 61,
     "metadata": {},
     "output_type": "execute_result"
    }
   ],
   "source": [
    "X_test.head()"
   ]
  },
  {
   "cell_type": "markdown",
   "metadata": {},
   "source": [
    "**=========================================================================================================================**"
   ]
  },
  {
   "cell_type": "markdown",
   "metadata": {},
   "source": [
    "#  Classical Machine Learning Models "
   ]
  },
  {
   "cell_type": "markdown",
   "metadata": {},
   "source": [
    "**=========================================================================================================================**"
   ]
  },
  {
   "cell_type": "code",
   "execution_count": 62,
   "metadata": {},
   "outputs": [],
   "source": [
    "# Linear Regression to show true ratings of 5 businesses and the predicted ratings from model\n",
    "\n",
    "from sklearn.linear_model import LinearRegression\n",
    "from sklearn.metrics import classification_report\n",
    "import numpy as np\n",
    "clf  = LinearRegression()\n",
    "clf.fit(X_train_n,y_train_n)\n",
    "y_pred = clf.predict(X_test_n)\n"
   ]
  },
  {
   "cell_type": "code",
   "execution_count": 63,
   "metadata": {
    "scrolled": false
   },
   "outputs": [
    {
     "data": {
      "text/plain": [
       "array([[3.97623331],\n",
       "       [3.51951824],\n",
       "       [3.49982493],\n",
       "       ...,\n",
       "       [3.87375825],\n",
       "       [3.58238338],\n",
       "       [3.59981806]])"
      ]
     },
     "execution_count": 63,
     "metadata": {},
     "output_type": "execute_result"
    }
   ],
   "source": [
    "\n",
    "y_pred"
   ]
  },
  {
   "cell_type": "code",
   "execution_count": 64,
   "metadata": {},
   "outputs": [
    {
     "data": {
      "text/html": [
       "<div>\n",
       "<style scoped>\n",
       "    .dataframe tbody tr th:only-of-type {\n",
       "        vertical-align: middle;\n",
       "    }\n",
       "\n",
       "    .dataframe tbody tr th {\n",
       "        vertical-align: top;\n",
       "    }\n",
       "\n",
       "    .dataframe thead th {\n",
       "        text-align: right;\n",
       "    }\n",
       "</style>\n",
       "<table border=\"1\" class=\"dataframe\">\n",
       "  <thead>\n",
       "    <tr style=\"text-align: right;\">\n",
       "      <th></th>\n",
       "      <th>stars_x</th>\n",
       "    </tr>\n",
       "  </thead>\n",
       "  <tbody>\n",
       "    <tr>\n",
       "      <th>10050</th>\n",
       "      <td>4.5</td>\n",
       "    </tr>\n",
       "    <tr>\n",
       "      <th>10051</th>\n",
       "      <td>4.5</td>\n",
       "    </tr>\n",
       "    <tr>\n",
       "      <th>10052</th>\n",
       "      <td>4.5</td>\n",
       "    </tr>\n",
       "    <tr>\n",
       "      <th>10053</th>\n",
       "      <td>2.0</td>\n",
       "    </tr>\n",
       "    <tr>\n",
       "      <th>10054</th>\n",
       "      <td>2.0</td>\n",
       "    </tr>\n",
       "  </tbody>\n",
       "</table>\n",
       "</div>"
      ],
      "text/plain": [
       "       stars_x\n",
       "10050      4.5\n",
       "10051      4.5\n",
       "10052      4.5\n",
       "10053      2.0\n",
       "10054      2.0"
      ]
     },
     "execution_count": 64,
     "metadata": {},
     "output_type": "execute_result"
    }
   ],
   "source": [
    "y_test_n.head()"
   ]
  },
  {
   "cell_type": "code",
   "execution_count": 65,
   "metadata": {},
   "outputs": [
    {
     "name": "stdout",
     "output_type": "stream",
     "text": [
      "Final score (RMSE): 0.7285276374345943\n"
     ]
    }
   ],
   "source": [
    "# Measure RMSE error.  RMSE is common for regression.\n",
    "from sklearn import metrics\n",
    "score = np.sqrt(metrics.mean_squared_error(y_pred,y_test_n))\n",
    "print(\"Final score (RMSE): {}\".format(score))"
   ]
  },
  {
   "cell_type": "code",
   "execution_count": 66,
   "metadata": {},
   "outputs": [],
   "source": [
    "#SVM to show true ratings of 5 businesses and the predicted ratings from model\n",
    "from sklearn import svm\n",
    "#logmodel=  svm.SVC(kernel='linear')\n",
    "logmodel=  svm.SVC(C=1, kernel = 'linear', gamma=1, verbose= False, probability=False, random_state=42)\n",
    "logmodel.fit(X_train, y_train.values.ravel())\n",
    "y_predictval = logmodel.predict(X_test)"
   ]
  },
  {
   "cell_type": "code",
   "execution_count": 67,
   "metadata": {},
   "outputs": [
    {
     "data": {
      "text/plain": [
       "array([6, 5, 5, ..., 5, 5, 5], dtype=int64)"
      ]
     },
     "execution_count": 67,
     "metadata": {},
     "output_type": "execute_result"
    }
   ],
   "source": [
    "y_predictval"
   ]
  },
  {
   "cell_type": "code",
   "execution_count": 68,
   "metadata": {},
   "outputs": [
    {
     "data": {
      "text/html": [
       "<div>\n",
       "<style scoped>\n",
       "    .dataframe tbody tr th:only-of-type {\n",
       "        vertical-align: middle;\n",
       "    }\n",
       "\n",
       "    .dataframe tbody tr th {\n",
       "        vertical-align: top;\n",
       "    }\n",
       "\n",
       "    .dataframe thead th {\n",
       "        text-align: right;\n",
       "    }\n",
       "</style>\n",
       "<table border=\"1\" class=\"dataframe\">\n",
       "  <thead>\n",
       "    <tr style=\"text-align: right;\">\n",
       "      <th></th>\n",
       "      <th>stars_x</th>\n",
       "    </tr>\n",
       "  </thead>\n",
       "  <tbody>\n",
       "    <tr>\n",
       "      <th>10050</th>\n",
       "      <td>7</td>\n",
       "    </tr>\n",
       "    <tr>\n",
       "      <th>10051</th>\n",
       "      <td>2</td>\n",
       "    </tr>\n",
       "    <tr>\n",
       "      <th>10052</th>\n",
       "      <td>5</td>\n",
       "    </tr>\n",
       "    <tr>\n",
       "      <th>10053</th>\n",
       "      <td>6</td>\n",
       "    </tr>\n",
       "    <tr>\n",
       "      <th>10054</th>\n",
       "      <td>7</td>\n",
       "    </tr>\n",
       "  </tbody>\n",
       "</table>\n",
       "</div>"
      ],
      "text/plain": [
       "       stars_x\n",
       "10050        7\n",
       "10051        2\n",
       "10052        5\n",
       "10053        6\n",
       "10054        7"
      ]
     },
     "execution_count": 68,
     "metadata": {},
     "output_type": "execute_result"
    }
   ],
   "source": [
    "y_test.head()"
   ]
  },
  {
   "cell_type": "code",
   "execution_count": 69,
   "metadata": {},
   "outputs": [
    {
     "name": "stdout",
     "output_type": "stream",
     "text": [
      "             precision    recall  f1-score   support\n",
      "\n",
      "          0       0.00      0.00      0.00        24\n",
      "          1       0.00      0.00      0.00       101\n",
      "          2       0.59      0.05      0.09       198\n",
      "          3       0.00      0.00      0.00       279\n",
      "          4       0.00      0.00      0.00       613\n",
      "          5       0.29      0.71      0.42      1326\n",
      "          6       0.48      0.52      0.50      1600\n",
      "          7       0.00      0.00      0.00       618\n",
      "          8       0.00      0.00      0.00       191\n",
      "\n",
      "avg / total       0.26      0.36      0.28      4950\n",
      "\n"
     ]
    },
    {
     "name": "stderr",
     "output_type": "stream",
     "text": [
      "C:\\Users\\Gurudev\\Anaconda3\\envs\\Tensorflowexclusive\\lib\\site-packages\\sklearn\\metrics\\classification.py:1135: UndefinedMetricWarning: Precision and F-score are ill-defined and being set to 0.0 in labels with no predicted samples.\n",
      "  'precision', 'predicted', average, warn_for)\n"
     ]
    }
   ],
   "source": [
    "from sklearn import metrics\n",
    "print(metrics.classification_report(y_test,y_predictval))"
   ]
  },
  {
   "cell_type": "code",
   "execution_count": 70,
   "metadata": {},
   "outputs": [],
   "source": [
    "#Logistic Regression to show true ratings of 5 businesses and the predicted ratings from model\n",
    "from sklearn import linear_model \n",
    "from sklearn.metrics import classification_report\n",
    "logmod = linear_model.LogisticRegression(C=1e5)\n",
    "logmod.fit(X_train, y_train.values.ravel())\n",
    "y_predval = logmod.predict(X_test)"
   ]
  },
  {
   "cell_type": "code",
   "execution_count": 71,
   "metadata": {},
   "outputs": [
    {
     "data": {
      "text/plain": [
       "array([6, 5, 5, ..., 5, 6, 6], dtype=int64)"
      ]
     },
     "execution_count": 71,
     "metadata": {},
     "output_type": "execute_result"
    }
   ],
   "source": [
    "y_predval"
   ]
  },
  {
   "cell_type": "code",
   "execution_count": 72,
   "metadata": {},
   "outputs": [
    {
     "data": {
      "text/html": [
       "<div>\n",
       "<style scoped>\n",
       "    .dataframe tbody tr th:only-of-type {\n",
       "        vertical-align: middle;\n",
       "    }\n",
       "\n",
       "    .dataframe tbody tr th {\n",
       "        vertical-align: top;\n",
       "    }\n",
       "\n",
       "    .dataframe thead th {\n",
       "        text-align: right;\n",
       "    }\n",
       "</style>\n",
       "<table border=\"1\" class=\"dataframe\">\n",
       "  <thead>\n",
       "    <tr style=\"text-align: right;\">\n",
       "      <th></th>\n",
       "      <th>stars_x</th>\n",
       "    </tr>\n",
       "  </thead>\n",
       "  <tbody>\n",
       "    <tr>\n",
       "      <th>10050</th>\n",
       "      <td>7</td>\n",
       "    </tr>\n",
       "    <tr>\n",
       "      <th>10051</th>\n",
       "      <td>2</td>\n",
       "    </tr>\n",
       "    <tr>\n",
       "      <th>10052</th>\n",
       "      <td>5</td>\n",
       "    </tr>\n",
       "    <tr>\n",
       "      <th>10053</th>\n",
       "      <td>6</td>\n",
       "    </tr>\n",
       "    <tr>\n",
       "      <th>10054</th>\n",
       "      <td>7</td>\n",
       "    </tr>\n",
       "  </tbody>\n",
       "</table>\n",
       "</div>"
      ],
      "text/plain": [
       "       stars_x\n",
       "10050        7\n",
       "10051        2\n",
       "10052        5\n",
       "10053        6\n",
       "10054        7"
      ]
     },
     "execution_count": 72,
     "metadata": {},
     "output_type": "execute_result"
    }
   ],
   "source": [
    "y_test.head()"
   ]
  },
  {
   "cell_type": "code",
   "execution_count": 73,
   "metadata": {},
   "outputs": [
    {
     "name": "stdout",
     "output_type": "stream",
     "text": [
      "             precision    recall  f1-score   support\n",
      "\n",
      "          0       0.21      0.12      0.16        24\n",
      "          1       1.00      0.01      0.02       101\n",
      "          2       0.27      0.10      0.14       198\n",
      "          3       0.20      0.01      0.02       279\n",
      "          4       0.18      0.04      0.07       613\n",
      "          5       0.28      0.46      0.34      1326\n",
      "          6       0.46      0.61      0.52      1600\n",
      "          7       0.29      0.14      0.18       618\n",
      "          8       0.29      0.16      0.21       191\n",
      "\n",
      "avg / total       0.34      0.35      0.31      4950\n",
      "\n"
     ]
    }
   ],
   "source": [
    "print(metrics.classification_report(y_test,y_predval))"
   ]
  },
  {
   "cell_type": "code",
   "execution_count": 74,
   "metadata": {},
   "outputs": [],
   "source": [
    "#KNN to show true ratings of 5 businesses and the predicted ratings from model\n",
    "from sklearn.neighbors import KNeighborsClassifier\n",
    "from sklearn.metrics import classification_report\n",
    "neigh = KNeighborsClassifier(n_neighbors=5)\n",
    "neigh.fit(X_train, y_train.values.ravel())\n",
    "y_pv = neigh.predict(X_test)"
   ]
  },
  {
   "cell_type": "code",
   "execution_count": 75,
   "metadata": {},
   "outputs": [
    {
     "data": {
      "text/plain": [
       "array([5, 8, 6, ..., 4, 4, 5], dtype=int64)"
      ]
     },
     "execution_count": 75,
     "metadata": {},
     "output_type": "execute_result"
    }
   ],
   "source": [
    "y_pv"
   ]
  },
  {
   "cell_type": "code",
   "execution_count": 76,
   "metadata": {},
   "outputs": [
    {
     "data": {
      "text/html": [
       "<div>\n",
       "<style scoped>\n",
       "    .dataframe tbody tr th:only-of-type {\n",
       "        vertical-align: middle;\n",
       "    }\n",
       "\n",
       "    .dataframe tbody tr th {\n",
       "        vertical-align: top;\n",
       "    }\n",
       "\n",
       "    .dataframe thead th {\n",
       "        text-align: right;\n",
       "    }\n",
       "</style>\n",
       "<table border=\"1\" class=\"dataframe\">\n",
       "  <thead>\n",
       "    <tr style=\"text-align: right;\">\n",
       "      <th></th>\n",
       "      <th>stars_x</th>\n",
       "    </tr>\n",
       "  </thead>\n",
       "  <tbody>\n",
       "    <tr>\n",
       "      <th>10050</th>\n",
       "      <td>7</td>\n",
       "    </tr>\n",
       "    <tr>\n",
       "      <th>10051</th>\n",
       "      <td>2</td>\n",
       "    </tr>\n",
       "    <tr>\n",
       "      <th>10052</th>\n",
       "      <td>5</td>\n",
       "    </tr>\n",
       "    <tr>\n",
       "      <th>10053</th>\n",
       "      <td>6</td>\n",
       "    </tr>\n",
       "    <tr>\n",
       "      <th>10054</th>\n",
       "      <td>7</td>\n",
       "    </tr>\n",
       "  </tbody>\n",
       "</table>\n",
       "</div>"
      ],
      "text/plain": [
       "       stars_x\n",
       "10050        7\n",
       "10051        2\n",
       "10052        5\n",
       "10053        6\n",
       "10054        7"
      ]
     },
     "execution_count": 76,
     "metadata": {},
     "output_type": "execute_result"
    }
   ],
   "source": [
    "y_test.head()"
   ]
  },
  {
   "cell_type": "code",
   "execution_count": 77,
   "metadata": {},
   "outputs": [
    {
     "name": "stdout",
     "output_type": "stream",
     "text": [
      "             precision    recall  f1-score   support\n",
      "\n",
      "          0       0.00      0.00      0.00        24\n",
      "          1       0.08      0.14      0.10       101\n",
      "          2       0.13      0.12      0.13       198\n",
      "          3       0.08      0.07      0.07       279\n",
      "          4       0.16      0.18      0.17       613\n",
      "          5       0.35      0.39      0.37      1326\n",
      "          6       0.48      0.50      0.49      1600\n",
      "          7       0.18      0.11      0.14       618\n",
      "          8       0.15      0.06      0.09       191\n",
      "\n",
      "avg / total       0.31      0.32      0.31      4950\n",
      "\n"
     ]
    }
   ],
   "source": [
    "print(metrics.classification_report(y_test,y_pv))"
   ]
  },
  {
   "cell_type": "code",
   "execution_count": 78,
   "metadata": {},
   "outputs": [],
   "source": [
    "#Multinomial Naive Bayes to show true ratings of 5 businesses and the predicted ratings from model\n",
    "from sklearn.naive_bayes import MultinomialNB\n",
    "nb = MultinomialNB()\n",
    "nb.fit(X_train, y_train.values.ravel())\n",
    "y_preds = nb.predict(X_test)"
   ]
  },
  {
   "cell_type": "code",
   "execution_count": 79,
   "metadata": {},
   "outputs": [
    {
     "data": {
      "text/plain": [
       "array([6, 5, 5, ..., 5, 6, 6], dtype=int64)"
      ]
     },
     "execution_count": 79,
     "metadata": {},
     "output_type": "execute_result"
    }
   ],
   "source": [
    "y_preds"
   ]
  },
  {
   "cell_type": "code",
   "execution_count": 80,
   "metadata": {},
   "outputs": [
    {
     "data": {
      "text/html": [
       "<div>\n",
       "<style scoped>\n",
       "    .dataframe tbody tr th:only-of-type {\n",
       "        vertical-align: middle;\n",
       "    }\n",
       "\n",
       "    .dataframe tbody tr th {\n",
       "        vertical-align: top;\n",
       "    }\n",
       "\n",
       "    .dataframe thead th {\n",
       "        text-align: right;\n",
       "    }\n",
       "</style>\n",
       "<table border=\"1\" class=\"dataframe\">\n",
       "  <thead>\n",
       "    <tr style=\"text-align: right;\">\n",
       "      <th></th>\n",
       "      <th>stars_x</th>\n",
       "    </tr>\n",
       "  </thead>\n",
       "  <tbody>\n",
       "    <tr>\n",
       "      <th>10050</th>\n",
       "      <td>7</td>\n",
       "    </tr>\n",
       "    <tr>\n",
       "      <th>10051</th>\n",
       "      <td>2</td>\n",
       "    </tr>\n",
       "    <tr>\n",
       "      <th>10052</th>\n",
       "      <td>5</td>\n",
       "    </tr>\n",
       "    <tr>\n",
       "      <th>10053</th>\n",
       "      <td>6</td>\n",
       "    </tr>\n",
       "    <tr>\n",
       "      <th>10054</th>\n",
       "      <td>7</td>\n",
       "    </tr>\n",
       "  </tbody>\n",
       "</table>\n",
       "</div>"
      ],
      "text/plain": [
       "       stars_x\n",
       "10050        7\n",
       "10051        2\n",
       "10052        5\n",
       "10053        6\n",
       "10054        7"
      ]
     },
     "execution_count": 80,
     "metadata": {},
     "output_type": "execute_result"
    }
   ],
   "source": [
    "y_test.head()"
   ]
  },
  {
   "cell_type": "code",
   "execution_count": 81,
   "metadata": {},
   "outputs": [
    {
     "name": "stdout",
     "output_type": "stream",
     "text": [
      "             precision    recall  f1-score   support\n",
      "\n",
      "          0       0.00      0.00      0.00        24\n",
      "          1       0.00      0.00      0.00       101\n",
      "          2       0.15      0.14      0.15       198\n",
      "          3       0.00      0.00      0.00       279\n",
      "          4       0.16      0.04      0.06       613\n",
      "          5       0.26      0.24      0.25      1326\n",
      "          6       0.38      0.80      0.52      1600\n",
      "          7       0.34      0.03      0.06       618\n",
      "          8       0.00      0.00      0.00       191\n",
      "\n",
      "avg / total       0.26      0.34      0.25      4950\n",
      "\n"
     ]
    },
    {
     "name": "stderr",
     "output_type": "stream",
     "text": [
      "C:\\Users\\Gurudev\\Anaconda3\\envs\\Tensorflowexclusive\\lib\\site-packages\\sklearn\\metrics\\classification.py:1135: UndefinedMetricWarning: Precision and F-score are ill-defined and being set to 0.0 in labels with no predicted samples.\n",
      "  'precision', 'predicted', average, warn_for)\n"
     ]
    }
   ],
   "source": [
    "print(metrics.classification_report(y_test,y_preds))"
   ]
  },
  {
   "cell_type": "markdown",
   "metadata": {},
   "source": [
    "**=========================================================================================================================**"
   ]
  },
  {
   "cell_type": "markdown",
   "metadata": {},
   "source": [
    "\n",
    "# Neural Network Models "
   ]
  },
  {
   "cell_type": "markdown",
   "metadata": {},
   "source": [
    "**=========================================================================================================================**"
   ]
  },
  {
   "cell_type": "code",
   "execution_count": 82,
   "metadata": {},
   "outputs": [],
   "source": [
    "import collections\n",
    "from sklearn import preprocessing\n",
    "import matplotlib.pyplot as plt\n",
    "import numpy as np\n",
    "import pandas as pd\n",
    "import shutil\n",
    "import os"
   ]
  },
  {
   "cell_type": "markdown",
   "metadata": {},
   "source": [
    "***Task 1:  Consider this problem as a regression problem. Compare the RMSE of the BEST Tensorflow regression neural network model. ***\n",
    "\n",
    "\n",
    "\n"
   ]
  },
  {
   "cell_type": "code",
   "execution_count": 1042,
   "metadata": {},
   "outputs": [
    {
     "name": "stdout",
     "output_type": "stream",
     "text": [
      "shape of training features x and y  (10050, 34) (10050, 1)\n",
      "shape of Test features x and y  (4950, 34) (4950, 1)\n"
     ]
    }
   ],
   "source": [
    "print(\"shape of training features x and y \",X_train_n.shape, y_train_n.shape)\n",
    "print(\"shape of Test features x and y \",X_test_n.shape, y_test_n.shape)"
   ]
  },
  {
   "cell_type": "code",
   "execution_count": 1043,
   "metadata": {},
   "outputs": [],
   "source": [
    "X_train_n = X_train_n.fillna(X_train_n.mean() )\n",
    "y_train_n = y_train_n.fillna(y_train_n.mean() )\n",
    "X_test_n = X_test_n.fillna(X_test_n.mean())\n",
    "y_test_n = y_test_n.fillna(y_test_n.mean() )"
   ]
  },
  {
   "cell_type": "code",
   "execution_count": 1044,
   "metadata": {},
   "outputs": [],
   "source": [
    "import pandas as pd\n",
    "import tensorflow as tf\n",
    "import numpy as np\n",
    "import keras\n",
    "from keras.optimizers import SGD\n",
    "from keras import regularizers\n",
    "from keras.layers import Dense, Dropout\n",
    "from keras import metrics\n",
    "import sklearn as sk\n",
    "from keras.models import Sequential\n",
    "from keras.layers.core import Dense, Activation\n",
    "from keras.callbacks import EarlyStopping\n",
    "from keras.callbacks import ModelCheckpoint\n",
    "from keras.layers import LeakyReLU"
   ]
  },
  {
   "cell_type": "code",
   "execution_count": 1045,
   "metadata": {},
   "outputs": [],
   "source": [
    "from keras import backend as K\n",
    "\n",
    "def root_mean_squared_error(y_true, y_pred):\n",
    "        return K.sqrt(K.mean(K.square(y_pred - y_true), axis=-1)) "
   ]
  },
  {
   "cell_type": "markdown",
   "metadata": {},
   "source": [
    "**Neural network Model which  implements Linear Regression Model 1**"
   ]
  },
  {
   "cell_type": "code",
   "execution_count": 1046,
   "metadata": {},
   "outputs": [
    {
     "name": "stdout",
     "output_type": "stream",
     "text": [
      "Train on 10050 samples, validate on 4950 samples\n",
      "Epoch 1/10\n",
      " - 15s - loss: 9.2014 - mean_squared_error: 9.2014 - val_loss: 3.4709 - val_mean_squared_error: 3.4709\n",
      "Epoch 2/10\n",
      " - 1s - loss: 1.2701 - mean_squared_error: 1.2701 - val_loss: 0.8625 - val_mean_squared_error: 0.8625\n",
      "Epoch 3/10\n",
      " - 0s - loss: 0.7522 - mean_squared_error: 0.7522 - val_loss: 0.7423 - val_mean_squared_error: 0.7423\n",
      "Epoch 4/10\n",
      " - 1s - loss: 0.6534 - mean_squared_error: 0.6534 - val_loss: 0.6654 - val_mean_squared_error: 0.6654\n",
      "Epoch 5/10\n",
      " - 1s - loss: 0.5849 - mean_squared_error: 0.5849 - val_loss: 0.6061 - val_mean_squared_error: 0.6061\n",
      "Epoch 6/10\n",
      " - 0s - loss: 0.5350 - mean_squared_error: 0.5350 - val_loss: 0.5664 - val_mean_squared_error: 0.5664\n",
      "Epoch 7/10\n",
      " - 0s - loss: 0.5065 - mean_squared_error: 0.5065 - val_loss: 0.5425 - val_mean_squared_error: 0.5425\n",
      "Epoch 8/10\n",
      " - 0s - loss: 0.4959 - mean_squared_error: 0.4959 - val_loss: 0.5485 - val_mean_squared_error: 0.5485\n",
      "Epoch 9/10\n",
      " - 0s - loss: 0.4888 - mean_squared_error: 0.4888 - val_loss: 0.5345 - val_mean_squared_error: 0.5345\n",
      "Epoch 10/10\n",
      " - 0s - loss: 0.4838 - mean_squared_error: 0.4838 - val_loss: 0.5352 - val_mean_squared_error: 0.5352\n",
      "Train on 10050 samples, validate on 4950 samples\n",
      "Epoch 1/10\n",
      " - 4s - loss: 9.7278 - mean_squared_error: 9.7278 - val_loss: 3.9792 - val_mean_squared_error: 3.9792\n",
      "Epoch 2/10\n",
      " - 0s - loss: 2.0049 - mean_squared_error: 2.0049 - val_loss: 1.1898 - val_mean_squared_error: 1.1898\n",
      "Epoch 3/10\n",
      " - 0s - loss: 0.9001 - mean_squared_error: 0.9001 - val_loss: 0.8581 - val_mean_squared_error: 0.8581\n",
      "Epoch 4/10\n",
      " - 0s - loss: 0.7617 - mean_squared_error: 0.7617 - val_loss: 0.7689 - val_mean_squared_error: 0.7689\n",
      "Epoch 5/10\n",
      " - 0s - loss: 0.6855 - mean_squared_error: 0.6855 - val_loss: 0.7000 - val_mean_squared_error: 0.7000\n",
      "Epoch 6/10\n",
      " - 0s - loss: 0.6221 - mean_squared_error: 0.6221 - val_loss: 0.6524 - val_mean_squared_error: 0.6524\n",
      "Epoch 7/10\n",
      " - 1s - loss: 0.5705 - mean_squared_error: 0.5705 - val_loss: 0.6015 - val_mean_squared_error: 0.6015\n",
      "Epoch 8/10\n",
      " - 1s - loss: 0.5306 - mean_squared_error: 0.5306 - val_loss: 0.5702 - val_mean_squared_error: 0.5702\n",
      "Epoch 9/10\n",
      " - 0s - loss: 0.5045 - mean_squared_error: 0.5045 - val_loss: 0.5436 - val_mean_squared_error: 0.5436\n",
      "Epoch 10/10\n",
      " - 0s - loss: 0.4893 - mean_squared_error: 0.4893 - val_loss: 0.5495 - val_mean_squared_error: 0.5495\n",
      "Train on 10050 samples, validate on 4950 samples\n",
      "Epoch 1/10\n",
      " - 4s - loss: 9.4626 - mean_squared_error: 9.4626 - val_loss: 4.9622 - val_mean_squared_error: 4.9622\n",
      "Epoch 2/10\n",
      " - 0s - loss: 2.4160 - mean_squared_error: 2.4160 - val_loss: 1.3614 - val_mean_squared_error: 1.3614\n",
      "Epoch 3/10\n",
      " - 0s - loss: 0.9680 - mean_squared_error: 0.9680 - val_loss: 0.9313 - val_mean_squared_error: 0.9313\n",
      "Epoch 4/10\n",
      " - 0s - loss: 0.8025 - mean_squared_error: 0.8025 - val_loss: 0.8090 - val_mean_squared_error: 0.8090\n",
      "Epoch 5/10\n",
      " - 0s - loss: 0.7134 - mean_squared_error: 0.7134 - val_loss: 0.7259 - val_mean_squared_error: 0.7259\n",
      "Epoch 6/10\n",
      " - 0s - loss: 0.6480 - mean_squared_error: 0.6480 - val_loss: 0.6664 - val_mean_squared_error: 0.6664\n",
      "Epoch 7/10\n",
      " - 0s - loss: 0.5987 - mean_squared_error: 0.5987 - val_loss: 0.6340 - val_mean_squared_error: 0.6340\n",
      "Epoch 8/10\n",
      " - 0s - loss: 0.5579 - mean_squared_error: 0.5579 - val_loss: 0.5892 - val_mean_squared_error: 0.5892\n",
      "Epoch 9/10\n",
      " - 0s - loss: 0.5284 - mean_squared_error: 0.5284 - val_loss: 0.5702 - val_mean_squared_error: 0.5702\n",
      "Epoch 10/10\n",
      " - 0s - loss: 0.5083 - mean_squared_error: 0.5083 - val_loss: 0.5479 - val_mean_squared_error: 0.5479\n",
      "Train on 10050 samples, validate on 4950 samples\n",
      "Epoch 1/10\n",
      " - 10s - loss: 9.0539 - mean_squared_error: 9.0539 - val_loss: 5.3605 - val_mean_squared_error: 5.3605\n",
      "Epoch 2/10\n",
      " - 0s - loss: 2.1590 - mean_squared_error: 2.1590 - val_loss: 1.1181 - val_mean_squared_error: 1.1181\n",
      "Epoch 3/10\n",
      " - 0s - loss: 0.8750 - mean_squared_error: 0.8750 - val_loss: 0.8096 - val_mean_squared_error: 0.8096\n",
      "Epoch 4/10\n",
      " - 1s - loss: 0.6802 - mean_squared_error: 0.6802 - val_loss: 0.6541 - val_mean_squared_error: 0.6541\n",
      "Epoch 5/10\n",
      " - 1s - loss: 0.5582 - mean_squared_error: 0.5582 - val_loss: 0.5613 - val_mean_squared_error: 0.5613\n",
      "Epoch 6/10\n",
      " - 1s - loss: 0.5045 - mean_squared_error: 0.5045 - val_loss: 0.5474 - val_mean_squared_error: 0.5474\n",
      "Epoch 7/10\n",
      " - 0s - loss: 0.4912 - mean_squared_error: 0.4912 - val_loss: 0.5311 - val_mean_squared_error: 0.5311\n",
      "Epoch 8/10\n",
      " - 1s - loss: 0.4858 - mean_squared_error: 0.4858 - val_loss: 0.5293 - val_mean_squared_error: 0.5293\n",
      "Epoch 9/10\n",
      " - 1s - loss: 0.4848 - mean_squared_error: 0.4848 - val_loss: 0.5389 - val_mean_squared_error: 0.5389\n",
      "Epoch 10/10\n",
      " - 0s - loss: 0.4842 - mean_squared_error: 0.4842 - val_loss: 0.5228 - val_mean_squared_error: 0.5228\n",
      "Train on 10050 samples, validate on 4950 samples\n",
      "Epoch 1/10\n",
      " - 5s - loss: 11.7893 - mean_squared_error: 11.7893 - val_loss: 7.0170 - val_mean_squared_error: 7.0170\n",
      "Epoch 2/10\n",
      " - 0s - loss: 4.7716 - mean_squared_error: 4.7716 - val_loss: 3.2632 - val_mean_squared_error: 3.2632\n",
      "Epoch 3/10\n",
      " - 0s - loss: 1.9102 - mean_squared_error: 1.9102 - val_loss: 1.4137 - val_mean_squared_error: 1.4137\n",
      "Epoch 4/10\n",
      " - 0s - loss: 1.0529 - mean_squared_error: 1.0529 - val_loss: 0.9168 - val_mean_squared_error: 0.9168\n",
      "Epoch 5/10\n",
      " - 0s - loss: 0.8227 - mean_squared_error: 0.8227 - val_loss: 0.8189 - val_mean_squared_error: 0.8189\n",
      "Epoch 6/10\n",
      " - 0s - loss: 0.7454 - mean_squared_error: 0.7454 - val_loss: 0.7443 - val_mean_squared_error: 0.7443\n",
      "Epoch 7/10\n",
      " - 0s - loss: 0.6632 - mean_squared_error: 0.6632 - val_loss: 0.6640 - val_mean_squared_error: 0.6640\n",
      "Epoch 8/10\n",
      " - 0s - loss: 0.5896 - mean_squared_error: 0.5896 - val_loss: 0.6190 - val_mean_squared_error: 0.6190\n",
      "Epoch 9/10\n",
      " - 0s - loss: 0.5401 - mean_squared_error: 0.5401 - val_loss: 0.5677 - val_mean_squared_error: 0.5677\n",
      "Epoch 10/10\n",
      " - 0s - loss: 0.5110 - mean_squared_error: 0.5110 - val_loss: 0.5543 - val_mean_squared_error: 0.5543\n",
      "Training finished...Loading the best model\n",
      "\n",
      "0.5228049346780675\n",
      "Final mean_squared_error: 0.5228049346780675\n"
     ]
    }
   ],
   "source": [
    "checkpointer = ModelCheckpoint(filepath=\"best_weights1.hdf5\", verbose=0, save_best_only=True)\n",
    "for i in range(5):\n",
    "########################################################################################################################\n",
    "    model0 = Sequential()\n",
    "    model0.add(Dense(10, input_dim=dffeatures_x.shape[1], activation='relu', kernel_initializer = 'normal'))\n",
    "    model0.add(Dense(15,activation='relu'))\n",
    "    model0.add(Dense(dflabel_y.shape[1],activation='relu'))\n",
    "    model0.compile(loss='mean_squared_error', optimizer= keras.optimizers.Adam(lr=0.001, beta_1=0.9, beta_2=0.999, epsilon=None, decay=0.0, amsgrad=False),metrics=['mse'])\n",
    "#model0.compile(loss=root_mean_squared_error(y_test_n, y_pred), optimizer= tf.train.AdamOptimizer(),metrics=['mse','accuracy'])\n",
    "\n",
    "    monitor = EarlyStopping(monitor='val_loss', min_delta=1e-3, patience=20, verbose=2, mode='auto')  \n",
    "    model0.fit(X_train_n, y_train_n, validation_data=(X_test_n,y_test_n), callbacks=[monitor,checkpointer],verbose=2,epochs=10, batch_size = 100) \n",
    "#########################################################################################################################\n",
    "print('Training finished...Loading the best model')  \n",
    "print()\n",
    "model0.load_weights(\"best_weights1.hdf5\") # load weights from best model\n",
    "\n",
    "# Measure accuracy\n",
    "pred = model0.predict(X_test_n)\n",
    "#pred = np.argmax(pred,axis=1)\n",
    "score = sk.metrics.mean_squared_error(y_test_n, pred)\n",
    "print(score)\n",
    "print(\"Final mean_squared_error: {}\".format(score))"
   ]
  },
  {
   "cell_type": "code",
   "execution_count": null,
   "metadata": {},
   "outputs": [],
   "source": []
  },
  {
   "cell_type": "code",
   "execution_count": 1047,
   "metadata": {},
   "outputs": [
    {
     "name": "stdout",
     "output_type": "stream",
     "text": [
      "_________________________________________________________________\n",
      "Layer (type)                 Output Shape              Param #   \n",
      "=================================================================\n",
      "dense_544 (Dense)            (None, 10)                350       \n",
      "_________________________________________________________________\n",
      "dense_545 (Dense)            (None, 15)                165       \n",
      "_________________________________________________________________\n",
      "dense_546 (Dense)            (None, 1)                 16        \n",
      "=================================================================\n",
      "Total params: 531\n",
      "Trainable params: 531\n",
      "Non-trainable params: 0\n",
      "_________________________________________________________________\n",
      "None\n"
     ]
    }
   ],
   "source": [
    "print(model0.summary())"
   ]
  },
  {
   "cell_type": "markdown",
   "metadata": {},
   "source": [
    "**Neural network Model which  implements Linear Regression Model 2**"
   ]
  },
  {
   "cell_type": "code",
   "execution_count": 1048,
   "metadata": {},
   "outputs": [
    {
     "name": "stdout",
     "output_type": "stream",
     "text": [
      "Train on 10050 samples, validate on 4950 samples\n",
      "Epoch 1/100\n",
      " - 6s - loss: 3.3155 - mean_squared_error: 3.3155 - acc: 0.1762 - val_loss: 0.7071 - val_mean_squared_error: 0.7071 - val_acc: 0.1299\n",
      "Epoch 2/100\n",
      " - 2s - loss: 0.6120 - mean_squared_error: 0.6120 - acc: 0.3818 - val_loss: 0.6498 - val_mean_squared_error: 0.6498 - val_acc: 0.1301\n",
      "Epoch 3/100\n",
      " - 1s - loss: 0.5730 - mean_squared_error: 0.5730 - acc: 0.3968 - val_loss: 0.6051 - val_mean_squared_error: 0.6051 - val_acc: 0.1329\n",
      "Epoch 4/100\n",
      " - 1s - loss: 0.5316 - mean_squared_error: 0.5316 - acc: 0.4044 - val_loss: 0.5642 - val_mean_squared_error: 0.5642 - val_acc: 0.1457\n",
      "Epoch 5/100\n",
      " - 2s - loss: 0.4986 - mean_squared_error: 0.4986 - acc: 0.4053 - val_loss: 0.5515 - val_mean_squared_error: 0.5515 - val_acc: 0.1493\n",
      "Epoch 6/100\n",
      " - 2s - loss: 0.4781 - mean_squared_error: 0.4781 - acc: 0.4035 - val_loss: 0.5297 - val_mean_squared_error: 0.5297 - val_acc: 0.1552\n",
      "Epoch 7/100\n",
      " - 2s - loss: 0.4700 - mean_squared_error: 0.4700 - acc: 0.4062 - val_loss: 0.5453 - val_mean_squared_error: 0.5453 - val_acc: 0.1497\n",
      "Epoch 8/100\n",
      " - 2s - loss: 0.4665 - mean_squared_error: 0.4665 - acc: 0.4091 - val_loss: 0.5392 - val_mean_squared_error: 0.5392 - val_acc: 0.1549\n",
      "Epoch 9/100\n",
      " - 2s - loss: 0.4637 - mean_squared_error: 0.4637 - acc: 0.4125 - val_loss: 0.5184 - val_mean_squared_error: 0.5184 - val_acc: 0.1620\n",
      "Epoch 10/100\n",
      " - 1s - loss: 0.4618 - mean_squared_error: 0.4618 - acc: 0.4137 - val_loss: 0.5342 - val_mean_squared_error: 0.5342 - val_acc: 0.1596\n",
      "Epoch 11/100\n",
      " - 1s - loss: 0.4597 - mean_squared_error: 0.4597 - acc: 0.4155 - val_loss: 0.5209 - val_mean_squared_error: 0.5209 - val_acc: 0.1638\n",
      "Epoch 12/100\n",
      " - 1s - loss: 0.4591 - mean_squared_error: 0.4591 - acc: 0.4163 - val_loss: 0.5276 - val_mean_squared_error: 0.5276 - val_acc: 0.1592\n",
      "Epoch 13/100\n",
      " - 1s - loss: 0.4577 - mean_squared_error: 0.4577 - acc: 0.4171 - val_loss: 0.5298 - val_mean_squared_error: 0.5298 - val_acc: 0.1547\n",
      "Epoch 14/100\n",
      " - 1s - loss: 0.4583 - mean_squared_error: 0.4583 - acc: 0.4217 - val_loss: 0.5219 - val_mean_squared_error: 0.5219 - val_acc: 0.1608\n",
      "Epoch 15/100\n",
      " - 1s - loss: 0.4559 - mean_squared_error: 0.4559 - acc: 0.4175 - val_loss: 0.5470 - val_mean_squared_error: 0.5470 - val_acc: 0.1529\n",
      "Epoch 16/100\n",
      " - 2s - loss: 0.4556 - mean_squared_error: 0.4556 - acc: 0.4218 - val_loss: 0.5370 - val_mean_squared_error: 0.5370 - val_acc: 0.1539\n",
      "Epoch 17/100\n",
      " - 2s - loss: 0.4556 - mean_squared_error: 0.4556 - acc: 0.4211 - val_loss: 0.5281 - val_mean_squared_error: 0.5281 - val_acc: 0.1554\n",
      "Epoch 18/100\n",
      " - 2s - loss: 0.4544 - mean_squared_error: 0.4544 - acc: 0.4237 - val_loss: 0.5356 - val_mean_squared_error: 0.5356 - val_acc: 0.1519\n",
      "Epoch 19/100\n",
      " - 1s - loss: 0.4543 - mean_squared_error: 0.4543 - acc: 0.4228 - val_loss: 0.5294 - val_mean_squared_error: 0.5294 - val_acc: 0.1558\n",
      "Epoch 20/100\n",
      " - 2s - loss: 0.4532 - mean_squared_error: 0.4532 - acc: 0.4235 - val_loss: 0.5302 - val_mean_squared_error: 0.5302 - val_acc: 0.1541\n",
      "Epoch 21/100\n",
      " - 1s - loss: 0.4530 - mean_squared_error: 0.4530 - acc: 0.4243 - val_loss: 0.5357 - val_mean_squared_error: 0.5357 - val_acc: 0.1539\n",
      "Epoch 22/100\n",
      " - 1s - loss: 0.4516 - mean_squared_error: 0.4516 - acc: 0.4253 - val_loss: 0.5227 - val_mean_squared_error: 0.5227 - val_acc: 0.1578\n",
      "Epoch 23/100\n",
      " - 1s - loss: 0.4524 - mean_squared_error: 0.4524 - acc: 0.4241 - val_loss: 0.5213 - val_mean_squared_error: 0.5213 - val_acc: 0.1562\n",
      "Epoch 24/100\n",
      " - 1s - loss: 0.4523 - mean_squared_error: 0.4523 - acc: 0.4254 - val_loss: 0.5251 - val_mean_squared_error: 0.5251 - val_acc: 0.1556\n",
      "Epoch 25/100\n",
      " - 2s - loss: 0.4510 - mean_squared_error: 0.4510 - acc: 0.4248 - val_loss: 0.5307 - val_mean_squared_error: 0.5307 - val_acc: 0.1527\n",
      "Epoch 26/100\n",
      " - 1s - loss: 0.4506 - mean_squared_error: 0.4506 - acc: 0.4263 - val_loss: 0.5340 - val_mean_squared_error: 0.5340 - val_acc: 0.1539\n",
      "Epoch 27/100\n",
      " - 1s - loss: 0.4503 - mean_squared_error: 0.4503 - acc: 0.4270 - val_loss: 0.5382 - val_mean_squared_error: 0.5382 - val_acc: 0.1511\n",
      "Epoch 28/100\n",
      " - 1s - loss: 0.4484 - mean_squared_error: 0.4484 - acc: 0.4275 - val_loss: 0.5280 - val_mean_squared_error: 0.5280 - val_acc: 0.1554\n",
      "Epoch 29/100\n",
      " - 2s - loss: 0.4482 - mean_squared_error: 0.4482 - acc: 0.4254 - val_loss: 0.5311 - val_mean_squared_error: 0.5311 - val_acc: 0.1519\n",
      "Epoch 00029: early stopping\n",
      "Train on 10050 samples, validate on 4950 samples\n",
      "Epoch 1/100\n",
      " - 6s - loss: 2.4861 - mean_squared_error: 2.4861 - acc: 0.2531 - val_loss: 0.6897 - val_mean_squared_error: 0.6897 - val_acc: 0.1388\n",
      "Epoch 2/100\n",
      " - 2s - loss: 0.5632 - mean_squared_error: 0.5632 - acc: 0.3900 - val_loss: 0.5996 - val_mean_squared_error: 0.5996 - val_acc: 0.1442\n",
      "Epoch 3/100\n",
      " - 2s - loss: 0.5180 - mean_squared_error: 0.5180 - acc: 0.3991 - val_loss: 0.5658 - val_mean_squared_error: 0.5658 - val_acc: 0.1491\n",
      "Epoch 4/100\n",
      " - 2s - loss: 0.4954 - mean_squared_error: 0.4954 - acc: 0.4029 - val_loss: 0.5431 - val_mean_squared_error: 0.5431 - val_acc: 0.1545\n",
      "Epoch 5/100\n",
      " - 1s - loss: 0.4824 - mean_squared_error: 0.4824 - acc: 0.4041 - val_loss: 0.5337 - val_mean_squared_error: 0.5337 - val_acc: 0.1586\n",
      "Epoch 6/100\n",
      " - 1s - loss: 0.4750 - mean_squared_error: 0.4750 - acc: 0.4066 - val_loss: 0.5283 - val_mean_squared_error: 0.5283 - val_acc: 0.1586\n",
      "Epoch 7/100\n",
      " - 1s - loss: 0.4706 - mean_squared_error: 0.4706 - acc: 0.4059 - val_loss: 0.5250 - val_mean_squared_error: 0.5250 - val_acc: 0.1622\n",
      "Epoch 8/100\n",
      " - 1s - loss: 0.4664 - mean_squared_error: 0.4664 - acc: 0.4100 - val_loss: 0.5284 - val_mean_squared_error: 0.5284 - val_acc: 0.1594\n",
      "Epoch 9/100\n",
      " - 1s - loss: 0.4636 - mean_squared_error: 0.4636 - acc: 0.4127 - val_loss: 0.5322 - val_mean_squared_error: 0.5322 - val_acc: 0.1588\n",
      "Epoch 10/100\n",
      " - 2s - loss: 0.4624 - mean_squared_error: 0.4624 - acc: 0.4132 - val_loss: 0.5290 - val_mean_squared_error: 0.5290 - val_acc: 0.1554\n",
      "Epoch 11/100\n",
      " - 2s - loss: 0.4593 - mean_squared_error: 0.4593 - acc: 0.4155 - val_loss: 0.5312 - val_mean_squared_error: 0.5312 - val_acc: 0.1584\n",
      "Epoch 12/100\n",
      " - 2s - loss: 0.4584 - mean_squared_error: 0.4584 - acc: 0.4183 - val_loss: 0.5280 - val_mean_squared_error: 0.5280 - val_acc: 0.1568\n",
      "Epoch 13/100\n",
      " - 1s - loss: 0.4567 - mean_squared_error: 0.4567 - acc: 0.4186 - val_loss: 0.5218 - val_mean_squared_error: 0.5218 - val_acc: 0.1612\n",
      "Epoch 14/100\n",
      " - 1s - loss: 0.4566 - mean_squared_error: 0.4566 - acc: 0.4181 - val_loss: 0.5309 - val_mean_squared_error: 0.5309 - val_acc: 0.1566\n",
      "Epoch 15/100\n",
      " - 1s - loss: 0.4548 - mean_squared_error: 0.4548 - acc: 0.4185 - val_loss: 0.5229 - val_mean_squared_error: 0.5229 - val_acc: 0.1604\n",
      "Epoch 16/100\n",
      " - 1s - loss: 0.4529 - mean_squared_error: 0.4529 - acc: 0.4181 - val_loss: 0.5296 - val_mean_squared_error: 0.5296 - val_acc: 0.1543\n",
      "Epoch 17/100\n",
      " - 2s - loss: 0.4523 - mean_squared_error: 0.4523 - acc: 0.4193 - val_loss: 0.5343 - val_mean_squared_error: 0.5343 - val_acc: 0.1527\n",
      "Epoch 18/100\n",
      " - 1s - loss: 0.4522 - mean_squared_error: 0.4522 - acc: 0.4211 - val_loss: 0.5203 - val_mean_squared_error: 0.5203 - val_acc: 0.1608\n",
      "Epoch 19/100\n",
      " - 1s - loss: 0.4526 - mean_squared_error: 0.4526 - acc: 0.4200 - val_loss: 0.5242 - val_mean_squared_error: 0.5242 - val_acc: 0.1547\n",
      "Epoch 20/100\n",
      " - 2s - loss: 0.4497 - mean_squared_error: 0.4497 - acc: 0.4220 - val_loss: 0.5212 - val_mean_squared_error: 0.5212 - val_acc: 0.1566\n",
      "Epoch 21/100\n",
      " - 1s - loss: 0.4484 - mean_squared_error: 0.4484 - acc: 0.4240 - val_loss: 0.5205 - val_mean_squared_error: 0.5205 - val_acc: 0.1576\n",
      "Epoch 22/100\n",
      " - 1s - loss: 0.4485 - mean_squared_error: 0.4485 - acc: 0.4233 - val_loss: 0.5267 - val_mean_squared_error: 0.5267 - val_acc: 0.1560\n",
      "Epoch 23/100\n",
      " - 1s - loss: 0.4460 - mean_squared_error: 0.4460 - acc: 0.4246 - val_loss: 0.5369 - val_mean_squared_error: 0.5369 - val_acc: 0.1505\n",
      "Epoch 24/100\n",
      " - 1s - loss: 0.4450 - mean_squared_error: 0.4450 - acc: 0.4246 - val_loss: 0.5233 - val_mean_squared_error: 0.5233 - val_acc: 0.1568\n",
      "Epoch 25/100\n",
      " - 1s - loss: 0.4467 - mean_squared_error: 0.4467 - acc: 0.4233 - val_loss: 0.5196 - val_mean_squared_error: 0.5196 - val_acc: 0.1527\n",
      "Epoch 26/100\n",
      " - 2s - loss: 0.4439 - mean_squared_error: 0.4439 - acc: 0.4247 - val_loss: 0.5134 - val_mean_squared_error: 0.5134 - val_acc: 0.1554\n"
     ]
    },
    {
     "name": "stdout",
     "output_type": "stream",
     "text": [
      "Epoch 27/100\n",
      " - 1s - loss: 0.4424 - mean_squared_error: 0.4424 - acc: 0.4260 - val_loss: 0.5237 - val_mean_squared_error: 0.5237 - val_acc: 0.1552\n",
      "Epoch 28/100\n",
      " - 1s - loss: 0.4430 - mean_squared_error: 0.4430 - acc: 0.4266 - val_loss: 0.5162 - val_mean_squared_error: 0.5162 - val_acc: 0.1545\n",
      "Epoch 29/100\n",
      " - 1s - loss: 0.4409 - mean_squared_error: 0.4409 - acc: 0.4272 - val_loss: 0.5132 - val_mean_squared_error: 0.5132 - val_acc: 0.1535\n",
      "Epoch 30/100\n",
      " - 1s - loss: 0.4419 - mean_squared_error: 0.4419 - acc: 0.4258 - val_loss: 0.5203 - val_mean_squared_error: 0.5203 - val_acc: 0.1543\n",
      "Epoch 31/100\n",
      " - 1s - loss: 0.4407 - mean_squared_error: 0.4407 - acc: 0.4248 - val_loss: 0.5233 - val_mean_squared_error: 0.5233 - val_acc: 0.1525\n",
      "Epoch 32/100\n",
      " - 1s - loss: 0.4399 - mean_squared_error: 0.4399 - acc: 0.4277 - val_loss: 0.5186 - val_mean_squared_error: 0.5186 - val_acc: 0.1525\n",
      "Epoch 33/100\n",
      " - 1s - loss: 0.4395 - mean_squared_error: 0.4395 - acc: 0.4256 - val_loss: 0.5172 - val_mean_squared_error: 0.5172 - val_acc: 0.1529\n",
      "Epoch 34/100\n",
      " - 1s - loss: 0.4386 - mean_squared_error: 0.4386 - acc: 0.4288 - val_loss: 0.5301 - val_mean_squared_error: 0.5301 - val_acc: 0.1521\n",
      "Epoch 35/100\n",
      " - 1s - loss: 0.4379 - mean_squared_error: 0.4379 - acc: 0.4296 - val_loss: 0.5217 - val_mean_squared_error: 0.5217 - val_acc: 0.1519\n",
      "Epoch 36/100\n",
      " - 1s - loss: 0.4384 - mean_squared_error: 0.4384 - acc: 0.4266 - val_loss: 0.5123 - val_mean_squared_error: 0.5123 - val_acc: 0.1539\n",
      "Epoch 37/100\n",
      " - 1s - loss: 0.4376 - mean_squared_error: 0.4376 - acc: 0.4276 - val_loss: 0.5142 - val_mean_squared_error: 0.5142 - val_acc: 0.1507\n",
      "Epoch 38/100\n",
      " - 1s - loss: 0.4368 - mean_squared_error: 0.4368 - acc: 0.4292 - val_loss: 0.5222 - val_mean_squared_error: 0.5222 - val_acc: 0.1511\n",
      "Epoch 39/100\n",
      " - 2s - loss: 0.4348 - mean_squared_error: 0.4348 - acc: 0.4280 - val_loss: 0.5423 - val_mean_squared_error: 0.5423 - val_acc: 0.1503\n",
      "Epoch 40/100\n",
      " - 2s - loss: 0.4372 - mean_squared_error: 0.4372 - acc: 0.4300 - val_loss: 0.5288 - val_mean_squared_error: 0.5288 - val_acc: 0.1499\n",
      "Epoch 41/100\n",
      " - 1s - loss: 0.4345 - mean_squared_error: 0.4345 - acc: 0.4290 - val_loss: 0.5260 - val_mean_squared_error: 0.5260 - val_acc: 0.1495\n",
      "Epoch 42/100\n",
      " - 1s - loss: 0.4349 - mean_squared_error: 0.4349 - acc: 0.4295 - val_loss: 0.5190 - val_mean_squared_error: 0.5190 - val_acc: 0.1513\n",
      "Epoch 43/100\n",
      " - 1s - loss: 0.4331 - mean_squared_error: 0.4331 - acc: 0.4292 - val_loss: 0.5382 - val_mean_squared_error: 0.5382 - val_acc: 0.1475\n",
      "Epoch 44/100\n",
      " - 1s - loss: 0.4342 - mean_squared_error: 0.4342 - acc: 0.4302 - val_loss: 0.5108 - val_mean_squared_error: 0.5108 - val_acc: 0.1513\n",
      "Epoch 45/100\n",
      " - 1s - loss: 0.4334 - mean_squared_error: 0.4334 - acc: 0.4299 - val_loss: 0.5420 - val_mean_squared_error: 0.5420 - val_acc: 0.1481\n",
      "Epoch 46/100\n",
      " - 1s - loss: 0.4324 - mean_squared_error: 0.4324 - acc: 0.4302 - val_loss: 0.5251 - val_mean_squared_error: 0.5251 - val_acc: 0.1509\n",
      "Epoch 47/100\n",
      " - 2s - loss: 0.4326 - mean_squared_error: 0.4326 - acc: 0.4285 - val_loss: 0.5275 - val_mean_squared_error: 0.5275 - val_acc: 0.1489\n",
      "Epoch 48/100\n",
      " - 1s - loss: 0.4329 - mean_squared_error: 0.4329 - acc: 0.4306 - val_loss: 0.5164 - val_mean_squared_error: 0.5164 - val_acc: 0.1501\n",
      "Epoch 49/100\n",
      " - 1s - loss: 0.4314 - mean_squared_error: 0.4314 - acc: 0.4302 - val_loss: 0.5203 - val_mean_squared_error: 0.5203 - val_acc: 0.1511\n",
      "Epoch 50/100\n",
      " - 1s - loss: 0.4313 - mean_squared_error: 0.4313 - acc: 0.4312 - val_loss: 0.5108 - val_mean_squared_error: 0.5108 - val_acc: 0.1535\n",
      "Epoch 51/100\n",
      " - 1s - loss: 0.4314 - mean_squared_error: 0.4314 - acc: 0.4320 - val_loss: 0.5273 - val_mean_squared_error: 0.5273 - val_acc: 0.1505\n",
      "Epoch 52/100\n",
      " - 1s - loss: 0.4306 - mean_squared_error: 0.4306 - acc: 0.4306 - val_loss: 0.5168 - val_mean_squared_error: 0.5168 - val_acc: 0.1515\n",
      "Epoch 53/100\n",
      " - 1s - loss: 0.4302 - mean_squared_error: 0.4302 - acc: 0.4303 - val_loss: 0.5229 - val_mean_squared_error: 0.5229 - val_acc: 0.1487\n",
      "Epoch 54/100\n",
      " - 1s - loss: 0.4303 - mean_squared_error: 0.4303 - acc: 0.4320 - val_loss: 0.5238 - val_mean_squared_error: 0.5238 - val_acc: 0.1497\n",
      "Epoch 55/100\n",
      " - 1s - loss: 0.4294 - mean_squared_error: 0.4294 - acc: 0.4320 - val_loss: 0.5393 - val_mean_squared_error: 0.5393 - val_acc: 0.1455\n",
      "Epoch 56/100\n",
      " - 1s - loss: 0.4312 - mean_squared_error: 0.4312 - acc: 0.4313 - val_loss: 0.5199 - val_mean_squared_error: 0.5199 - val_acc: 0.1487\n",
      "Epoch 57/100\n",
      " - 1s - loss: 0.4274 - mean_squared_error: 0.4274 - acc: 0.4305 - val_loss: 0.5313 - val_mean_squared_error: 0.5313 - val_acc: 0.1467\n",
      "Epoch 58/100\n",
      " - 1s - loss: 0.4279 - mean_squared_error: 0.4279 - acc: 0.4312 - val_loss: 0.5257 - val_mean_squared_error: 0.5257 - val_acc: 0.1483\n",
      "Epoch 59/100\n",
      " - 1s - loss: 0.4273 - mean_squared_error: 0.4273 - acc: 0.4324 - val_loss: 0.5234 - val_mean_squared_error: 0.5234 - val_acc: 0.1499\n",
      "Epoch 60/100\n",
      " - 1s - loss: 0.4276 - mean_squared_error: 0.4276 - acc: 0.4322 - val_loss: 0.5422 - val_mean_squared_error: 0.5422 - val_acc: 0.1455\n",
      "Epoch 61/100\n",
      " - 1s - loss: 0.4269 - mean_squared_error: 0.4269 - acc: 0.4335 - val_loss: 0.5368 - val_mean_squared_error: 0.5368 - val_acc: 0.1465\n",
      "Epoch 62/100\n",
      " - 1s - loss: 0.4258 - mean_squared_error: 0.4258 - acc: 0.4325 - val_loss: 0.5182 - val_mean_squared_error: 0.5182 - val_acc: 0.1549\n",
      "Epoch 63/100\n",
      " - 2s - loss: 0.4262 - mean_squared_error: 0.4262 - acc: 0.4317 - val_loss: 0.5280 - val_mean_squared_error: 0.5280 - val_acc: 0.1457\n",
      "Epoch 64/100\n",
      " - 1s - loss: 0.4261 - mean_squared_error: 0.4261 - acc: 0.4315 - val_loss: 0.5217 - val_mean_squared_error: 0.5217 - val_acc: 0.1495\n",
      "Epoch 00064: early stopping\n",
      "Train on 10050 samples, validate on 4950 samples\n",
      "Epoch 1/100\n",
      " - 5s - loss: 2.5330 - mean_squared_error: 2.5330 - acc: 0.2388 - val_loss: 0.6760 - val_mean_squared_error: 0.6760 - val_acc: 0.1390\n",
      "Epoch 2/100\n",
      " - 1s - loss: 0.5657 - mean_squared_error: 0.5657 - acc: 0.3825 - val_loss: 0.5871 - val_mean_squared_error: 0.5871 - val_acc: 0.1489\n",
      "Epoch 3/100\n",
      " - 2s - loss: 0.5144 - mean_squared_error: 0.5144 - acc: 0.3962 - val_loss: 0.5544 - val_mean_squared_error: 0.5544 - val_acc: 0.1552\n",
      "Epoch 4/100\n",
      " - 2s - loss: 0.4916 - mean_squared_error: 0.4916 - acc: 0.3988 - val_loss: 0.5377 - val_mean_squared_error: 0.5377 - val_acc: 0.1596\n",
      "Epoch 5/100\n",
      " - 1s - loss: 0.4812 - mean_squared_error: 0.4812 - acc: 0.4016 - val_loss: 0.5304 - val_mean_squared_error: 0.5304 - val_acc: 0.1596\n",
      "Epoch 6/100\n",
      " - 1s - loss: 0.4758 - mean_squared_error: 0.4758 - acc: 0.4032 - val_loss: 0.5200 - val_mean_squared_error: 0.5200 - val_acc: 0.1612\n",
      "Epoch 7/100\n",
      " - 1s - loss: 0.4729 - mean_squared_error: 0.4729 - acc: 0.4084 - val_loss: 0.5222 - val_mean_squared_error: 0.5222 - val_acc: 0.1604\n",
      "Epoch 8/100\n",
      " - 1s - loss: 0.4717 - mean_squared_error: 0.4717 - acc: 0.4065 - val_loss: 0.5317 - val_mean_squared_error: 0.5317 - val_acc: 0.1586\n",
      "Epoch 9/100\n",
      " - 1s - loss: 0.4687 - mean_squared_error: 0.4687 - acc: 0.4103 - val_loss: 0.5176 - val_mean_squared_error: 0.5176 - val_acc: 0.1638\n",
      "Epoch 10/100\n",
      " - 1s - loss: 0.4677 - mean_squared_error: 0.4677 - acc: 0.4138 - val_loss: 0.5227 - val_mean_squared_error: 0.5227 - val_acc: 0.1616\n",
      "Epoch 11/100\n",
      " - 1s - loss: 0.4651 - mean_squared_error: 0.4651 - acc: 0.4116 - val_loss: 0.5218 - val_mean_squared_error: 0.5218 - val_acc: 0.1604\n",
      "Epoch 12/100\n",
      " - 1s - loss: 0.4628 - mean_squared_error: 0.4628 - acc: 0.4126 - val_loss: 0.5273 - val_mean_squared_error: 0.5273 - val_acc: 0.1582\n",
      "Epoch 13/100\n",
      " - 1s - loss: 0.4623 - mean_squared_error: 0.4623 - acc: 0.4120 - val_loss: 0.5328 - val_mean_squared_error: 0.5328 - val_acc: 0.1547\n",
      "Epoch 14/100\n",
      " - 1s - loss: 0.4596 - mean_squared_error: 0.4596 - acc: 0.4121 - val_loss: 0.5213 - val_mean_squared_error: 0.5213 - val_acc: 0.1604\n",
      "Epoch 15/100\n",
      " - 2s - loss: 0.4593 - mean_squared_error: 0.4593 - acc: 0.4168 - val_loss: 0.5308 - val_mean_squared_error: 0.5308 - val_acc: 0.1549\n",
      "Epoch 16/100\n",
      " - 1s - loss: 0.4567 - mean_squared_error: 0.4567 - acc: 0.4174 - val_loss: 0.5381 - val_mean_squared_error: 0.5381 - val_acc: 0.1491\n",
      "Epoch 17/100\n",
      " - 1s - loss: 0.4556 - mean_squared_error: 0.4556 - acc: 0.4183 - val_loss: 0.5382 - val_mean_squared_error: 0.5382 - val_acc: 0.1519\n",
      "Epoch 18/100\n",
      " - 1s - loss: 0.4548 - mean_squared_error: 0.4548 - acc: 0.4179 - val_loss: 0.5274 - val_mean_squared_error: 0.5274 - val_acc: 0.1529\n"
     ]
    },
    {
     "name": "stdout",
     "output_type": "stream",
     "text": [
      "Epoch 19/100\n",
      " - 2s - loss: 0.4537 - mean_squared_error: 0.4537 - acc: 0.4206 - val_loss: 0.5378 - val_mean_squared_error: 0.5378 - val_acc: 0.1505\n",
      "Epoch 20/100\n",
      " - 1s - loss: 0.4525 - mean_squared_error: 0.4525 - acc: 0.4207 - val_loss: 0.5231 - val_mean_squared_error: 0.5231 - val_acc: 0.1562\n",
      "Epoch 21/100\n",
      " - 1s - loss: 0.4513 - mean_squared_error: 0.4513 - acc: 0.4203 - val_loss: 0.5363 - val_mean_squared_error: 0.5363 - val_acc: 0.1489\n",
      "Epoch 22/100\n",
      " - 2s - loss: 0.4517 - mean_squared_error: 0.4517 - acc: 0.4217 - val_loss: 0.5357 - val_mean_squared_error: 0.5357 - val_acc: 0.1513\n",
      "Epoch 23/100\n",
      " - 2s - loss: 0.4506 - mean_squared_error: 0.4506 - acc: 0.4237 - val_loss: 0.5336 - val_mean_squared_error: 0.5336 - val_acc: 0.1485\n",
      "Epoch 24/100\n",
      " - 1s - loss: 0.4504 - mean_squared_error: 0.4504 - acc: 0.4219 - val_loss: 0.5296 - val_mean_squared_error: 0.5296 - val_acc: 0.1509\n",
      "Epoch 25/100\n",
      " - 2s - loss: 0.4497 - mean_squared_error: 0.4497 - acc: 0.4219 - val_loss: 0.5328 - val_mean_squared_error: 0.5328 - val_acc: 0.1507\n",
      "Epoch 26/100\n",
      " - 2s - loss: 0.4485 - mean_squared_error: 0.4485 - acc: 0.4226 - val_loss: 0.5320 - val_mean_squared_error: 0.5320 - val_acc: 0.1507\n",
      "Epoch 27/100\n",
      " - 1s - loss: 0.4482 - mean_squared_error: 0.4482 - acc: 0.4232 - val_loss: 0.5296 - val_mean_squared_error: 0.5296 - val_acc: 0.1483\n",
      "Epoch 28/100\n",
      " - 1s - loss: 0.4470 - mean_squared_error: 0.4470 - acc: 0.4258 - val_loss: 0.5446 - val_mean_squared_error: 0.5446 - val_acc: 0.1503\n",
      "Epoch 29/100\n",
      " - 1s - loss: 0.4470 - mean_squared_error: 0.4470 - acc: 0.4247 - val_loss: 0.5331 - val_mean_squared_error: 0.5331 - val_acc: 0.1483\n",
      "Epoch 00029: early stopping\n",
      "Train on 10050 samples, validate on 4950 samples\n",
      "Epoch 1/100\n",
      " - 5s - loss: 1.8663 - mean_squared_error: 1.8663 - acc: 0.2586 - val_loss: 0.6831 - val_mean_squared_error: 0.6831 - val_acc: 0.1354\n",
      "Epoch 2/100\n",
      " - 1s - loss: 0.5677 - mean_squared_error: 0.5677 - acc: 0.3837 - val_loss: 0.5774 - val_mean_squared_error: 0.5774 - val_acc: 0.1444\n",
      "Epoch 3/100\n",
      " - 2s - loss: 0.5108 - mean_squared_error: 0.5108 - acc: 0.3962 - val_loss: 0.5508 - val_mean_squared_error: 0.5508 - val_acc: 0.1499\n",
      "Epoch 4/100\n",
      " - 2s - loss: 0.4923 - mean_squared_error: 0.4923 - acc: 0.4031 - val_loss: 0.5403 - val_mean_squared_error: 0.5403 - val_acc: 0.1497\n",
      "Epoch 5/100\n",
      " - 2s - loss: 0.4837 - mean_squared_error: 0.4837 - acc: 0.4065 - val_loss: 0.5291 - val_mean_squared_error: 0.5291 - val_acc: 0.1549\n",
      "Epoch 6/100\n",
      " - 2s - loss: 0.4775 - mean_squared_error: 0.4775 - acc: 0.4067 - val_loss: 0.5269 - val_mean_squared_error: 0.5269 - val_acc: 0.1610\n",
      "Epoch 7/100\n",
      " - 1s - loss: 0.4738 - mean_squared_error: 0.4738 - acc: 0.4072 - val_loss: 0.5331 - val_mean_squared_error: 0.5331 - val_acc: 0.1549\n",
      "Epoch 8/100\n",
      " - 1s - loss: 0.4706 - mean_squared_error: 0.4706 - acc: 0.4099 - val_loss: 0.5200 - val_mean_squared_error: 0.5200 - val_acc: 0.1614\n",
      "Epoch 9/100\n",
      " - 1s - loss: 0.4647 - mean_squared_error: 0.4647 - acc: 0.4146 - val_loss: 0.5329 - val_mean_squared_error: 0.5329 - val_acc: 0.1574\n",
      "Epoch 10/100\n",
      " - 1s - loss: 0.4643 - mean_squared_error: 0.4643 - acc: 0.4132 - val_loss: 0.5247 - val_mean_squared_error: 0.5247 - val_acc: 0.1594\n",
      "Epoch 11/100\n",
      " - 1s - loss: 0.4603 - mean_squared_error: 0.4603 - acc: 0.4139 - val_loss: 0.5323 - val_mean_squared_error: 0.5323 - val_acc: 0.1552\n",
      "Epoch 12/100\n",
      " - 1s - loss: 0.4590 - mean_squared_error: 0.4590 - acc: 0.4158 - val_loss: 0.5218 - val_mean_squared_error: 0.5218 - val_acc: 0.1618\n",
      "Epoch 13/100\n",
      " - 1s - loss: 0.4575 - mean_squared_error: 0.4575 - acc: 0.4170 - val_loss: 0.5261 - val_mean_squared_error: 0.5261 - val_acc: 0.1630\n",
      "Epoch 14/100\n",
      " - 1s - loss: 0.4561 - mean_squared_error: 0.4561 - acc: 0.4170 - val_loss: 0.5164 - val_mean_squared_error: 0.5164 - val_acc: 0.1622\n",
      "Epoch 15/100\n",
      " - 1s - loss: 0.4543 - mean_squared_error: 0.4543 - acc: 0.4199 - val_loss: 0.5207 - val_mean_squared_error: 0.5207 - val_acc: 0.1584\n",
      "Epoch 16/100\n",
      " - 1s - loss: 0.4551 - mean_squared_error: 0.4551 - acc: 0.4192 - val_loss: 0.5315 - val_mean_squared_error: 0.5315 - val_acc: 0.1501\n",
      "Epoch 17/100\n",
      " - 1s - loss: 0.4524 - mean_squared_error: 0.4524 - acc: 0.4181 - val_loss: 0.5262 - val_mean_squared_error: 0.5262 - val_acc: 0.1541\n",
      "Epoch 18/100\n",
      " - 1s - loss: 0.4519 - mean_squared_error: 0.4519 - acc: 0.4212 - val_loss: 0.5278 - val_mean_squared_error: 0.5278 - val_acc: 0.1517\n",
      "Epoch 19/100\n",
      " - 1s - loss: 0.4508 - mean_squared_error: 0.4508 - acc: 0.4211 - val_loss: 0.5318 - val_mean_squared_error: 0.5318 - val_acc: 0.1503\n",
      "Epoch 20/100\n",
      " - 1s - loss: 0.4506 - mean_squared_error: 0.4506 - acc: 0.4216 - val_loss: 0.5407 - val_mean_squared_error: 0.5407 - val_acc: 0.1509\n",
      "Epoch 21/100\n",
      " - 1s - loss: 0.4496 - mean_squared_error: 0.4496 - acc: 0.4232 - val_loss: 0.5278 - val_mean_squared_error: 0.5278 - val_acc: 0.1509\n",
      "Epoch 22/100\n",
      " - 1s - loss: 0.4486 - mean_squared_error: 0.4486 - acc: 0.4212 - val_loss: 0.5466 - val_mean_squared_error: 0.5466 - val_acc: 0.1493\n",
      "Epoch 23/100\n",
      " - 1s - loss: 0.4483 - mean_squared_error: 0.4483 - acc: 0.4231 - val_loss: 0.5446 - val_mean_squared_error: 0.5446 - val_acc: 0.1479\n",
      "Epoch 24/100\n",
      " - 1s - loss: 0.4468 - mean_squared_error: 0.4468 - acc: 0.4255 - val_loss: 0.5183 - val_mean_squared_error: 0.5183 - val_acc: 0.1566\n",
      "Epoch 25/100\n",
      " - 1s - loss: 0.4484 - mean_squared_error: 0.4484 - acc: 0.4223 - val_loss: 0.5319 - val_mean_squared_error: 0.5319 - val_acc: 0.1501\n",
      "Epoch 26/100\n",
      " - 1s - loss: 0.4469 - mean_squared_error: 0.4469 - acc: 0.4231 - val_loss: 0.5229 - val_mean_squared_error: 0.5229 - val_acc: 0.1511\n",
      "Epoch 27/100\n",
      " - 1s - loss: 0.4459 - mean_squared_error: 0.4459 - acc: 0.4238 - val_loss: 0.5270 - val_mean_squared_error: 0.5270 - val_acc: 0.1487\n",
      "Epoch 28/100\n",
      " - 1s - loss: 0.4451 - mean_squared_error: 0.4451 - acc: 0.4236 - val_loss: 0.5274 - val_mean_squared_error: 0.5274 - val_acc: 0.1495\n",
      "Epoch 29/100\n",
      " - 2s - loss: 0.4436 - mean_squared_error: 0.4436 - acc: 0.4252 - val_loss: 0.5298 - val_mean_squared_error: 0.5298 - val_acc: 0.1507\n",
      "Epoch 30/100\n",
      " - 1s - loss: 0.4450 - mean_squared_error: 0.4450 - acc: 0.4253 - val_loss: 0.5257 - val_mean_squared_error: 0.5257 - val_acc: 0.1497\n",
      "Epoch 31/100\n",
      " - 1s - loss: 0.4422 - mean_squared_error: 0.4422 - acc: 0.4273 - val_loss: 0.5142 - val_mean_squared_error: 0.5142 - val_acc: 0.1539\n",
      "Epoch 32/100\n",
      " - 1s - loss: 0.4411 - mean_squared_error: 0.4411 - acc: 0.4270 - val_loss: 0.5240 - val_mean_squared_error: 0.5240 - val_acc: 0.1499\n",
      "Epoch 33/100\n",
      " - 2s - loss: 0.4420 - mean_squared_error: 0.4420 - acc: 0.4270 - val_loss: 0.5266 - val_mean_squared_error: 0.5266 - val_acc: 0.1497\n",
      "Epoch 34/100\n",
      " - 2s - loss: 0.4400 - mean_squared_error: 0.4400 - acc: 0.4258 - val_loss: 0.5165 - val_mean_squared_error: 0.5165 - val_acc: 0.1547\n",
      "Epoch 35/100\n",
      " - 1s - loss: 0.4393 - mean_squared_error: 0.4393 - acc: 0.4250 - val_loss: 0.5095 - val_mean_squared_error: 0.5095 - val_acc: 0.1564\n",
      "Epoch 36/100\n",
      " - 1s - loss: 0.4389 - mean_squared_error: 0.4389 - acc: 0.4288 - val_loss: 0.5099 - val_mean_squared_error: 0.5099 - val_acc: 0.1560\n",
      "Epoch 37/100\n",
      " - 1s - loss: 0.4393 - mean_squared_error: 0.4393 - acc: 0.4275 - val_loss: 0.5219 - val_mean_squared_error: 0.5219 - val_acc: 0.1483\n",
      "Epoch 38/100\n",
      " - 2s - loss: 0.4380 - mean_squared_error: 0.4380 - acc: 0.4249 - val_loss: 0.5121 - val_mean_squared_error: 0.5121 - val_acc: 0.1511\n",
      "Epoch 39/100\n",
      " - 1s - loss: 0.4372 - mean_squared_error: 0.4372 - acc: 0.4282 - val_loss: 0.5221 - val_mean_squared_error: 0.5221 - val_acc: 0.1491\n",
      "Epoch 40/100\n",
      " - 1s - loss: 0.4375 - mean_squared_error: 0.4375 - acc: 0.4273 - val_loss: 0.5309 - val_mean_squared_error: 0.5309 - val_acc: 0.1483\n",
      "Epoch 41/100\n",
      " - 1s - loss: 0.4373 - mean_squared_error: 0.4373 - acc: 0.4309 - val_loss: 0.5221 - val_mean_squared_error: 0.5221 - val_acc: 0.1507\n",
      "Epoch 42/100\n",
      " - 1s - loss: 0.4365 - mean_squared_error: 0.4365 - acc: 0.4271 - val_loss: 0.5281 - val_mean_squared_error: 0.5281 - val_acc: 0.1501\n",
      "Epoch 43/100\n",
      " - 1s - loss: 0.4343 - mean_squared_error: 0.4343 - acc: 0.4295 - val_loss: 0.5330 - val_mean_squared_error: 0.5330 - val_acc: 0.1483\n",
      "Epoch 44/100\n",
      " - 1s - loss: 0.4351 - mean_squared_error: 0.4351 - acc: 0.4281 - val_loss: 0.5174 - val_mean_squared_error: 0.5174 - val_acc: 0.1495\n",
      "Epoch 45/100\n",
      " - 1s - loss: 0.4364 - mean_squared_error: 0.4364 - acc: 0.4281 - val_loss: 0.5158 - val_mean_squared_error: 0.5158 - val_acc: 0.1543\n"
     ]
    },
    {
     "name": "stdout",
     "output_type": "stream",
     "text": [
      "Epoch 46/100\n",
      " - 2s - loss: 0.4336 - mean_squared_error: 0.4336 - acc: 0.4318 - val_loss: 0.5217 - val_mean_squared_error: 0.5217 - val_acc: 0.1491\n",
      "Epoch 47/100\n",
      " - 1s - loss: 0.4332 - mean_squared_error: 0.4332 - acc: 0.4313 - val_loss: 0.5117 - val_mean_squared_error: 0.5117 - val_acc: 0.1541\n",
      "Epoch 48/100\n",
      " - 1s - loss: 0.4330 - mean_squared_error: 0.4330 - acc: 0.4316 - val_loss: 0.5252 - val_mean_squared_error: 0.5252 - val_acc: 0.1517\n",
      "Epoch 49/100\n",
      " - 1s - loss: 0.4332 - mean_squared_error: 0.4332 - acc: 0.4297 - val_loss: 0.5211 - val_mean_squared_error: 0.5211 - val_acc: 0.1481\n",
      "Epoch 50/100\n",
      " - 2s - loss: 0.4322 - mean_squared_error: 0.4322 - acc: 0.4311 - val_loss: 0.5154 - val_mean_squared_error: 0.5154 - val_acc: 0.1531\n",
      "Epoch 51/100\n",
      " - 1s - loss: 0.4322 - mean_squared_error: 0.4322 - acc: 0.4308 - val_loss: 0.5134 - val_mean_squared_error: 0.5134 - val_acc: 0.1570\n",
      "Epoch 52/100\n",
      " - 1s - loss: 0.4325 - mean_squared_error: 0.4325 - acc: 0.4317 - val_loss: 0.5274 - val_mean_squared_error: 0.5274 - val_acc: 0.1529\n",
      "Epoch 53/100\n",
      " - 1s - loss: 0.4322 - mean_squared_error: 0.4322 - acc: 0.4315 - val_loss: 0.5164 - val_mean_squared_error: 0.5164 - val_acc: 0.1525\n",
      "Epoch 54/100\n",
      " - 1s - loss: 0.4307 - mean_squared_error: 0.4307 - acc: 0.4318 - val_loss: 0.5240 - val_mean_squared_error: 0.5240 - val_acc: 0.1489\n",
      "Epoch 55/100\n",
      " - 1s - loss: 0.4305 - mean_squared_error: 0.4305 - acc: 0.4306 - val_loss: 0.5459 - val_mean_squared_error: 0.5459 - val_acc: 0.1432\n",
      "Epoch 00055: early stopping\n",
      "Train on 10050 samples, validate on 4950 samples\n",
      "Epoch 1/100\n",
      " - 5s - loss: 2.1495 - mean_squared_error: 2.1495 - acc: 0.2383 - val_loss: 0.7231 - val_mean_squared_error: 0.7231 - val_acc: 0.1307\n",
      "Epoch 2/100\n",
      " - 2s - loss: 0.5831 - mean_squared_error: 0.5831 - acc: 0.3782 - val_loss: 0.6042 - val_mean_squared_error: 0.6042 - val_acc: 0.1444\n",
      "Epoch 3/100\n",
      " - 2s - loss: 0.5274 - mean_squared_error: 0.5274 - acc: 0.3906 - val_loss: 0.5686 - val_mean_squared_error: 0.5686 - val_acc: 0.1519\n",
      "Epoch 4/100\n",
      " - 1s - loss: 0.5020 - mean_squared_error: 0.5020 - acc: 0.3982 - val_loss: 0.5513 - val_mean_squared_error: 0.5513 - val_acc: 0.1517\n",
      "Epoch 5/100\n",
      " - 2s - loss: 0.4885 - mean_squared_error: 0.4885 - acc: 0.3982 - val_loss: 0.5419 - val_mean_squared_error: 0.5419 - val_acc: 0.1505\n",
      "Epoch 6/100\n",
      " - 2s - loss: 0.4795 - mean_squared_error: 0.4795 - acc: 0.4022 - val_loss: 0.5420 - val_mean_squared_error: 0.5420 - val_acc: 0.1491\n",
      "Epoch 7/100\n",
      " - 2s - loss: 0.4747 - mean_squared_error: 0.4747 - acc: 0.4040 - val_loss: 0.5283 - val_mean_squared_error: 0.5283 - val_acc: 0.1531\n",
      "Epoch 8/100\n",
      " - 1s - loss: 0.4712 - mean_squared_error: 0.4712 - acc: 0.4073 - val_loss: 0.5249 - val_mean_squared_error: 0.5249 - val_acc: 0.1588\n",
      "Epoch 9/100\n",
      " - 1s - loss: 0.4689 - mean_squared_error: 0.4689 - acc: 0.4087 - val_loss: 0.5237 - val_mean_squared_error: 0.5237 - val_acc: 0.1586\n",
      "Epoch 10/100\n",
      " - 1s - loss: 0.4675 - mean_squared_error: 0.4675 - acc: 0.4097 - val_loss: 0.5334 - val_mean_squared_error: 0.5334 - val_acc: 0.1590\n",
      "Epoch 11/100\n",
      " - 2s - loss: 0.4648 - mean_squared_error: 0.4648 - acc: 0.4129 - val_loss: 0.5302 - val_mean_squared_error: 0.5302 - val_acc: 0.1578\n",
      "Epoch 12/100\n",
      " - 1s - loss: 0.4627 - mean_squared_error: 0.4627 - acc: 0.4129 - val_loss: 0.5313 - val_mean_squared_error: 0.5313 - val_acc: 0.1592\n",
      "Epoch 13/100\n",
      " - 2s - loss: 0.4619 - mean_squared_error: 0.4619 - acc: 0.4169 - val_loss: 0.5224 - val_mean_squared_error: 0.5224 - val_acc: 0.1626\n",
      "Epoch 14/100\n",
      " - 2s - loss: 0.4601 - mean_squared_error: 0.4601 - acc: 0.4147 - val_loss: 0.5296 - val_mean_squared_error: 0.5296 - val_acc: 0.1556\n",
      "Epoch 15/100\n",
      " - 2s - loss: 0.4588 - mean_squared_error: 0.4588 - acc: 0.4176 - val_loss: 0.5388 - val_mean_squared_error: 0.5388 - val_acc: 0.1535\n",
      "Epoch 16/100\n",
      " - 2s - loss: 0.4566 - mean_squared_error: 0.4566 - acc: 0.4191 - val_loss: 0.5243 - val_mean_squared_error: 0.5243 - val_acc: 0.1541\n",
      "Epoch 17/100\n",
      " - 2s - loss: 0.4565 - mean_squared_error: 0.4565 - acc: 0.4178 - val_loss: 0.5283 - val_mean_squared_error: 0.5283 - val_acc: 0.1566\n",
      "Epoch 18/100\n",
      " - 2s - loss: 0.4552 - mean_squared_error: 0.4552 - acc: 0.4191 - val_loss: 0.5365 - val_mean_squared_error: 0.5365 - val_acc: 0.1556\n",
      "Epoch 19/100\n",
      " - 2s - loss: 0.4546 - mean_squared_error: 0.4546 - acc: 0.4199 - val_loss: 0.5426 - val_mean_squared_error: 0.5426 - val_acc: 0.1513\n",
      "Epoch 20/100\n",
      " - 1s - loss: 0.4539 - mean_squared_error: 0.4539 - acc: 0.4231 - val_loss: 0.5345 - val_mean_squared_error: 0.5345 - val_acc: 0.1537\n",
      "Epoch 21/100\n",
      " - 1s - loss: 0.4528 - mean_squared_error: 0.4528 - acc: 0.4224 - val_loss: 0.5275 - val_mean_squared_error: 0.5275 - val_acc: 0.1570\n",
      "Epoch 22/100\n",
      " - 2s - loss: 0.4518 - mean_squared_error: 0.4518 - acc: 0.4229 - val_loss: 0.5282 - val_mean_squared_error: 0.5282 - val_acc: 0.1556\n",
      "Epoch 23/100\n",
      " - 2s - loss: 0.4510 - mean_squared_error: 0.4510 - acc: 0.4230 - val_loss: 0.5283 - val_mean_squared_error: 0.5283 - val_acc: 0.1556\n",
      "Epoch 24/100\n",
      " - 2s - loss: 0.4508 - mean_squared_error: 0.4508 - acc: 0.4234 - val_loss: 0.5477 - val_mean_squared_error: 0.5477 - val_acc: 0.1513\n",
      "Epoch 25/100\n",
      " - 2s - loss: 0.4497 - mean_squared_error: 0.4497 - acc: 0.4233 - val_loss: 0.5333 - val_mean_squared_error: 0.5333 - val_acc: 0.1525\n",
      "Epoch 26/100\n",
      " - 2s - loss: 0.4494 - mean_squared_error: 0.4494 - acc: 0.4243 - val_loss: 0.5368 - val_mean_squared_error: 0.5368 - val_acc: 0.1505\n",
      "Epoch 27/100\n",
      " - 2s - loss: 0.4475 - mean_squared_error: 0.4475 - acc: 0.4254 - val_loss: 0.5285 - val_mean_squared_error: 0.5285 - val_acc: 0.1570\n",
      "Epoch 28/100\n",
      " - 2s - loss: 0.4469 - mean_squared_error: 0.4469 - acc: 0.4268 - val_loss: 0.5269 - val_mean_squared_error: 0.5269 - val_acc: 0.1525\n",
      "Epoch 29/100\n",
      " - 2s - loss: 0.4452 - mean_squared_error: 0.4452 - acc: 0.4269 - val_loss: 0.5218 - val_mean_squared_error: 0.5218 - val_acc: 0.1566\n",
      "Epoch 30/100\n",
      " - 2s - loss: 0.4464 - mean_squared_error: 0.4464 - acc: 0.4264 - val_loss: 0.5430 - val_mean_squared_error: 0.5430 - val_acc: 0.1501\n",
      "Epoch 31/100\n",
      " - 2s - loss: 0.4447 - mean_squared_error: 0.4447 - acc: 0.4266 - val_loss: 0.5600 - val_mean_squared_error: 0.5600 - val_acc: 0.1487\n",
      "Epoch 32/100\n",
      " - 1s - loss: 0.4439 - mean_squared_error: 0.4439 - acc: 0.4277 - val_loss: 0.5294 - val_mean_squared_error: 0.5294 - val_acc: 0.1525\n",
      "Epoch 33/100\n",
      " - 1s - loss: 0.4431 - mean_squared_error: 0.4431 - acc: 0.4265 - val_loss: 0.5279 - val_mean_squared_error: 0.5279 - val_acc: 0.1501\n",
      "Epoch 00033: early stopping\n",
      "Training finished...Loading the best model\n",
      "\n",
      "0.509498012157246\n",
      "Final mean_squared_error: 0.509498012157246\n"
     ]
    }
   ],
   "source": [
    "checkpointer1 = ModelCheckpoint(filepath=\"best_weights2.hdf5\", verbose=0, save_best_only=True) # save best model\n",
    "for i in range(5):\n",
    "########################################################################################################################\n",
    "    model1 = Sequential()\n",
    "    model1.add(Dense(20, input_dim=dffeatures_x.shape[1], activation='tanh'))\n",
    "    model1.add(Dense(10,activation='tanh')) #tanh Activation Function Used\n",
    "    #model1.add(Dense(dflabel_y.shape[1],activation='relu'))\n",
    "    model1.add(Dense(dflabel_y.shape[1]))\n",
    "    model1.add(LeakyReLU(alpha=0.1))\n",
    "    model1.compile(loss='mean_squared_error', optimizer=keras.optimizers.Adam(lr=0.001, beta_1=0.9, beta_2=0.999, epsilon=None, decay=0.0, amsgrad=False) ,metrics=['mse','accuracy'])\n",
    "    monitor1 = EarlyStopping(monitor='val_loss', min_delta=1e-3, patience=20, verbose=2, mode='auto')  \n",
    "# patience: number of epochs with no improvement after which training will be stopped\n",
    "    model1.fit(X_train_n, y_train_n, validation_data=(X_test_n,y_test_n), callbacks=[monitor1,checkpointer1],verbose=2,epochs=100)\n",
    "#########################################################################################################################\n",
    "print('Training finished...Loading the best model')  \n",
    "print()\n",
    "model1.load_weights(\"best_weights2.hdf5\") # load weights from best model\n",
    "# Measure accuracy\n",
    "pred1 = model1.predict(X_test_n)\n",
    "score = sk.metrics.mean_squared_error(y_test_n, pred1)\n",
    "print(score)\n",
    "print(\"Final mean_squared_error: {}\".format(score))\n"
   ]
  },
  {
   "cell_type": "code",
   "execution_count": 1049,
   "metadata": {},
   "outputs": [
    {
     "name": "stdout",
     "output_type": "stream",
     "text": [
      "_________________________________________________________________\n",
      "Layer (type)                 Output Shape              Param #   \n",
      "=================================================================\n",
      "dense_559 (Dense)            (None, 20)                700       \n",
      "_________________________________________________________________\n",
      "dense_560 (Dense)            (None, 10)                210       \n",
      "_________________________________________________________________\n",
      "dense_561 (Dense)            (None, 1)                 11        \n",
      "_________________________________________________________________\n",
      "leaky_re_lu_68 (LeakyReLU)   (None, 1)                 0         \n",
      "=================================================================\n",
      "Total params: 921\n",
      "Trainable params: 921\n",
      "Non-trainable params: 0\n",
      "_________________________________________________________________\n"
     ]
    }
   ],
   "source": [
    "model1.summary()"
   ]
  },
  {
   "cell_type": "code",
   "execution_count": 1050,
   "metadata": {},
   "outputs": [
    {
     "name": "stdout",
     "output_type": "stream",
     "text": [
      "[[3.8402147]\n",
      " [3.6953278]\n",
      " [3.5868654]\n",
      " ...\n",
      " [3.8170156]\n",
      " [3.6548662]\n",
      " [3.5807843]]\n"
     ]
    }
   ],
   "source": [
    "pred = model1.predict(X_test_n)\n",
    "print(pred) # print predictions"
   ]
  },
  {
   "cell_type": "markdown",
   "metadata": {},
   "source": [
    "**/////////////////////////////////////////////////////////////////////////////////////////////////////////////////////////////////////////////////////////////////////////////////////////////////////////////////////////////////////////////////////////**"
   ]
  },
  {
   "cell_type": "markdown",
   "metadata": {},
   "source": [
    "***Task 2:  Consider this problem as a classification problem. Compare the accuracy of the BEST Tensorflow classification neural network model ***"
   ]
  },
  {
   "cell_type": "markdown",
   "metadata": {},
   "source": [
    "**Neural network Model which  implements Classification Model 1**"
   ]
  },
  {
   "cell_type": "code",
   "execution_count": 1051,
   "metadata": {},
   "outputs": [],
   "source": [
    "from keras.utils import to_categorical\n",
    "y_binary_test = to_categorical(y_test)\n",
    "y_binary_train = to_categorical(y_train)"
   ]
  },
  {
   "cell_type": "code",
   "execution_count": null,
   "metadata": {},
   "outputs": [],
   "source": []
  },
  {
   "cell_type": "code",
   "execution_count": 1052,
   "metadata": {},
   "outputs": [
    {
     "data": {
      "text/plain": [
       "array([[0., 0., 0., ..., 1., 0., 0.],\n",
       "       [0., 0., 0., ..., 0., 0., 0.],\n",
       "       [0., 0., 0., ..., 0., 1., 0.],\n",
       "       ...,\n",
       "       [0., 0., 0., ..., 1., 0., 0.],\n",
       "       [0., 0., 0., ..., 1., 0., 0.],\n",
       "       [0., 0., 0., ..., 0., 0., 1.]], dtype=float32)"
      ]
     },
     "execution_count": 1052,
     "metadata": {},
     "output_type": "execute_result"
    }
   ],
   "source": [
    "y_binary_test"
   ]
  },
  {
   "cell_type": "code",
   "execution_count": 1053,
   "metadata": {},
   "outputs": [
    {
     "data": {
      "text/plain": [
       "9"
      ]
     },
     "execution_count": 1053,
     "metadata": {},
     "output_type": "execute_result"
    }
   ],
   "source": [
    "y_binary_test .shape[1]"
   ]
  },
  {
   "cell_type": "code",
   "execution_count": 1055,
   "metadata": {},
   "outputs": [
    {
     "name": "stdout",
     "output_type": "stream",
     "text": [
      "Train on 10050 samples, validate on 4950 samples\n",
      "Epoch 1/100\n",
      " - 8s - loss: 1.8826 - mean_absolute_error: 0.1809 - categorical_accuracy: 0.3041 - val_loss: 1.7298 - val_mean_absolute_error: 0.1705 - val_categorical_accuracy: 0.3297\n",
      "Epoch 2/100\n",
      " - 1s - loss: 1.6628 - mean_absolute_error: 0.1661 - categorical_accuracy: 0.3431 - val_loss: 1.6464 - val_mean_absolute_error: 0.1643 - val_categorical_accuracy: 0.3412\n",
      "Epoch 3/100\n",
      " - 1s - loss: 1.6029 - mean_absolute_error: 0.1610 - categorical_accuracy: 0.3560 - val_loss: 1.6106 - val_mean_absolute_error: 0.1616 - val_categorical_accuracy: 0.3370\n",
      "Epoch 4/100\n",
      " - 1s - loss: 1.5714 - mean_absolute_error: 0.1585 - categorical_accuracy: 0.3556 - val_loss: 1.5843 - val_mean_absolute_error: 0.1600 - val_categorical_accuracy: 0.3370\n",
      "Epoch 5/100\n",
      " - 1s - loss: 1.5440 - mean_absolute_error: 0.1571 - categorical_accuracy: 0.3559 - val_loss: 1.5645 - val_mean_absolute_error: 0.1581 - val_categorical_accuracy: 0.3333\n",
      "Epoch 6/100\n",
      " - 2s - loss: 1.5231 - mean_absolute_error: 0.1559 - categorical_accuracy: 0.3611 - val_loss: 1.5380 - val_mean_absolute_error: 0.1566 - val_categorical_accuracy: 0.3487\n",
      "Epoch 7/100\n",
      " - 1s - loss: 1.5037 - mean_absolute_error: 0.1551 - categorical_accuracy: 0.3639 - val_loss: 1.5272 - val_mean_absolute_error: 0.1555 - val_categorical_accuracy: 0.3394\n",
      "Epoch 8/100\n",
      " - 1s - loss: 1.4880 - mean_absolute_error: 0.1542 - categorical_accuracy: 0.3655 - val_loss: 1.5064 - val_mean_absolute_error: 0.1552 - val_categorical_accuracy: 0.3511\n",
      "Epoch 9/100\n",
      " - 1s - loss: 1.4749 - mean_absolute_error: 0.1535 - categorical_accuracy: 0.3697 - val_loss: 1.4961 - val_mean_absolute_error: 0.1553 - val_categorical_accuracy: 0.3503\n",
      "Epoch 10/100\n",
      " - 1s - loss: 1.4626 - mean_absolute_error: 0.1526 - categorical_accuracy: 0.3746 - val_loss: 1.4894 - val_mean_absolute_error: 0.1545 - val_categorical_accuracy: 0.3543\n",
      "Epoch 11/100\n",
      " - 1s - loss: 1.4541 - mean_absolute_error: 0.1521 - categorical_accuracy: 0.3777 - val_loss: 1.4805 - val_mean_absolute_error: 0.1534 - val_categorical_accuracy: 0.3481\n",
      "Epoch 12/100\n",
      " - 2s - loss: 1.4453 - mean_absolute_error: 0.1514 - categorical_accuracy: 0.3854 - val_loss: 1.4730 - val_mean_absolute_error: 0.1531 - val_categorical_accuracy: 0.3669\n",
      "Epoch 13/100\n",
      " - 1s - loss: 1.4387 - mean_absolute_error: 0.1508 - categorical_accuracy: 0.3900 - val_loss: 1.4649 - val_mean_absolute_error: 0.1532 - val_categorical_accuracy: 0.3687\n",
      "Epoch 14/100\n",
      " - 1s - loss: 1.4315 - mean_absolute_error: 0.1503 - categorical_accuracy: 0.3991 - val_loss: 1.4607 - val_mean_absolute_error: 0.1525 - val_categorical_accuracy: 0.3756\n",
      "Epoch 15/100\n",
      " - 1s - loss: 1.4267 - mean_absolute_error: 0.1497 - categorical_accuracy: 0.4006 - val_loss: 1.4583 - val_mean_absolute_error: 0.1518 - val_categorical_accuracy: 0.3838\n",
      "Epoch 16/100\n",
      " - 1s - loss: 1.4207 - mean_absolute_error: 0.1491 - categorical_accuracy: 0.4080 - val_loss: 1.4523 - val_mean_absolute_error: 0.1514 - val_categorical_accuracy: 0.3806\n",
      "Epoch 17/100\n",
      " - 1s - loss: 1.4180 - mean_absolute_error: 0.1487 - categorical_accuracy: 0.4084 - val_loss: 1.4487 - val_mean_absolute_error: 0.1514 - val_categorical_accuracy: 0.3814\n",
      "Epoch 18/100\n",
      " - 1s - loss: 1.4126 - mean_absolute_error: 0.1483 - categorical_accuracy: 0.4114 - val_loss: 1.4481 - val_mean_absolute_error: 0.1511 - val_categorical_accuracy: 0.3848\n",
      "Epoch 19/100\n",
      " - 1s - loss: 1.4108 - mean_absolute_error: 0.1479 - categorical_accuracy: 0.4130 - val_loss: 1.4602 - val_mean_absolute_error: 0.1505 - val_categorical_accuracy: 0.3919\n",
      "Epoch 20/100\n",
      " - 1s - loss: 1.4092 - mean_absolute_error: 0.1478 - categorical_accuracy: 0.4119 - val_loss: 1.4465 - val_mean_absolute_error: 0.1505 - val_categorical_accuracy: 0.3881\n",
      "Epoch 21/100\n",
      " - 1s - loss: 1.4054 - mean_absolute_error: 0.1474 - categorical_accuracy: 0.4134 - val_loss: 1.4475 - val_mean_absolute_error: 0.1507 - val_categorical_accuracy: 0.3889\n",
      "Epoch 22/100\n",
      " - 1s - loss: 1.4029 - mean_absolute_error: 0.1472 - categorical_accuracy: 0.4194 - val_loss: 1.4480 - val_mean_absolute_error: 0.1497 - val_categorical_accuracy: 0.3844\n",
      "Epoch 23/100\n",
      " - 1s - loss: 1.4020 - mean_absolute_error: 0.1470 - categorical_accuracy: 0.4138 - val_loss: 1.4451 - val_mean_absolute_error: 0.1495 - val_categorical_accuracy: 0.3887\n",
      "Epoch 24/100\n",
      " - 1s - loss: 1.4015 - mean_absolute_error: 0.1468 - categorical_accuracy: 0.4144 - val_loss: 1.4414 - val_mean_absolute_error: 0.1498 - val_categorical_accuracy: 0.3889\n",
      "Epoch 25/100\n",
      " - 1s - loss: 1.4006 - mean_absolute_error: 0.1468 - categorical_accuracy: 0.4140 - val_loss: 1.4493 - val_mean_absolute_error: 0.1486 - val_categorical_accuracy: 0.3931\n",
      "Epoch 26/100\n",
      " - 1s - loss: 1.3991 - mean_absolute_error: 0.1465 - categorical_accuracy: 0.4157 - val_loss: 1.4440 - val_mean_absolute_error: 0.1501 - val_categorical_accuracy: 0.3931\n",
      "Epoch 27/100\n",
      " - 1s - loss: 1.3956 - mean_absolute_error: 0.1464 - categorical_accuracy: 0.4223 - val_loss: 1.4415 - val_mean_absolute_error: 0.1497 - val_categorical_accuracy: 0.3907\n",
      "Epoch 28/100\n",
      " - 1s - loss: 1.3959 - mean_absolute_error: 0.1464 - categorical_accuracy: 0.4162 - val_loss: 1.4449 - val_mean_absolute_error: 0.1493 - val_categorical_accuracy: 0.3869\n",
      "Epoch 29/100\n",
      " - 1s - loss: 1.3955 - mean_absolute_error: 0.1462 - categorical_accuracy: 0.4221 - val_loss: 1.4423 - val_mean_absolute_error: 0.1495 - val_categorical_accuracy: 0.3943\n",
      "Epoch 30/100\n",
      " - 1s - loss: 1.3947 - mean_absolute_error: 0.1462 - categorical_accuracy: 0.4182 - val_loss: 1.4440 - val_mean_absolute_error: 0.1493 - val_categorical_accuracy: 0.3949\n",
      "Epoch 31/100\n",
      " - 1s - loss: 1.3939 - mean_absolute_error: 0.1461 - categorical_accuracy: 0.4182 - val_loss: 1.4424 - val_mean_absolute_error: 0.1498 - val_categorical_accuracy: 0.3927\n",
      "Epoch 32/100\n",
      " - 1s - loss: 1.3910 - mean_absolute_error: 0.1458 - categorical_accuracy: 0.4203 - val_loss: 1.4426 - val_mean_absolute_error: 0.1493 - val_categorical_accuracy: 0.3949\n",
      "Epoch 33/100\n",
      " - 1s - loss: 1.3905 - mean_absolute_error: 0.1459 - categorical_accuracy: 0.4168 - val_loss: 1.4397 - val_mean_absolute_error: 0.1497 - val_categorical_accuracy: 0.3879\n",
      "Epoch 34/100\n",
      " - 1s - loss: 1.3910 - mean_absolute_error: 0.1460 - categorical_accuracy: 0.4214 - val_loss: 1.4439 - val_mean_absolute_error: 0.1497 - val_categorical_accuracy: 0.3962\n",
      "Epoch 35/100\n",
      " - 1s - loss: 1.3905 - mean_absolute_error: 0.1457 - categorical_accuracy: 0.4268 - val_loss: 1.4493 - val_mean_absolute_error: 0.1484 - val_categorical_accuracy: 0.3937\n",
      "Epoch 36/100\n",
      " - 1s - loss: 1.3897 - mean_absolute_error: 0.1457 - categorical_accuracy: 0.4221 - val_loss: 1.4435 - val_mean_absolute_error: 0.1489 - val_categorical_accuracy: 0.3952\n",
      "Epoch 37/100\n",
      " - 1s - loss: 1.3888 - mean_absolute_error: 0.1456 - categorical_accuracy: 0.4223 - val_loss: 1.4418 - val_mean_absolute_error: 0.1486 - val_categorical_accuracy: 0.3984\n",
      "Epoch 38/100\n",
      " - 1s - loss: 1.3877 - mean_absolute_error: 0.1454 - categorical_accuracy: 0.4254 - val_loss: 1.4434 - val_mean_absolute_error: 0.1501 - val_categorical_accuracy: 0.3937\n",
      "Epoch 39/100\n",
      " - 1s - loss: 1.3888 - mean_absolute_error: 0.1457 - categorical_accuracy: 0.4266 - val_loss: 1.4381 - val_mean_absolute_error: 0.1490 - val_categorical_accuracy: 0.3964\n",
      "Epoch 40/100\n",
      " - 1s - loss: 1.3873 - mean_absolute_error: 0.1454 - categorical_accuracy: 0.4217 - val_loss: 1.4395 - val_mean_absolute_error: 0.1490 - val_categorical_accuracy: 0.3974\n",
      "Epoch 41/100\n",
      " - 2s - loss: 1.3866 - mean_absolute_error: 0.1454 - categorical_accuracy: 0.4275 - val_loss: 1.4395 - val_mean_absolute_error: 0.1485 - val_categorical_accuracy: 0.3998\n",
      "Epoch 42/100\n",
      " - 2s - loss: 1.3864 - mean_absolute_error: 0.1454 - categorical_accuracy: 0.4257 - val_loss: 1.4461 - val_mean_absolute_error: 0.1486 - val_categorical_accuracy: 0.3949\n",
      "Epoch 43/100\n",
      " - 1s - loss: 1.3845 - mean_absolute_error: 0.1453 - categorical_accuracy: 0.4280 - val_loss: 1.4435 - val_mean_absolute_error: 0.1496 - val_categorical_accuracy: 0.3945\n",
      "Epoch 44/100\n",
      " - 1s - loss: 1.3855 - mean_absolute_error: 0.1453 - categorical_accuracy: 0.4273 - val_loss: 1.4378 - val_mean_absolute_error: 0.1486 - val_categorical_accuracy: 0.3988\n",
      "Epoch 45/100\n",
      " - 1s - loss: 1.3848 - mean_absolute_error: 0.1452 - categorical_accuracy: 0.4281 - val_loss: 1.4404 - val_mean_absolute_error: 0.1483 - val_categorical_accuracy: 0.3968\n"
     ]
    },
    {
     "name": "stdout",
     "output_type": "stream",
     "text": [
      "Epoch 46/100\n",
      " - 1s - loss: 1.3848 - mean_absolute_error: 0.1451 - categorical_accuracy: 0.4319 - val_loss: 1.4438 - val_mean_absolute_error: 0.1491 - val_categorical_accuracy: 0.3915\n",
      "Epoch 47/100\n",
      " - 1s - loss: 1.3824 - mean_absolute_error: 0.1451 - categorical_accuracy: 0.4296 - val_loss: 1.4433 - val_mean_absolute_error: 0.1494 - val_categorical_accuracy: 0.3897\n",
      "Epoch 48/100\n",
      " - 1s - loss: 1.3833 - mean_absolute_error: 0.1451 - categorical_accuracy: 0.4295 - val_loss: 1.4473 - val_mean_absolute_error: 0.1497 - val_categorical_accuracy: 0.3891\n",
      "Epoch 49/100\n",
      " - 1s - loss: 1.3825 - mean_absolute_error: 0.1451 - categorical_accuracy: 0.4286 - val_loss: 1.4433 - val_mean_absolute_error: 0.1484 - val_categorical_accuracy: 0.3992\n",
      "Epoch 50/100\n",
      " - 1s - loss: 1.3816 - mean_absolute_error: 0.1449 - categorical_accuracy: 0.4302 - val_loss: 1.4415 - val_mean_absolute_error: 0.1488 - val_categorical_accuracy: 0.3909\n",
      "Epoch 51/100\n",
      " - 1s - loss: 1.3818 - mean_absolute_error: 0.1449 - categorical_accuracy: 0.4321 - val_loss: 1.4375 - val_mean_absolute_error: 0.1486 - val_categorical_accuracy: 0.4000\n",
      "Epoch 52/100\n",
      " - 1s - loss: 1.3810 - mean_absolute_error: 0.1450 - categorical_accuracy: 0.4280 - val_loss: 1.4415 - val_mean_absolute_error: 0.1481 - val_categorical_accuracy: 0.3982\n",
      "Epoch 53/100\n",
      " - 1s - loss: 1.3812 - mean_absolute_error: 0.1448 - categorical_accuracy: 0.4300 - val_loss: 1.4396 - val_mean_absolute_error: 0.1486 - val_categorical_accuracy: 0.3958\n",
      "Epoch 54/100\n",
      " - 1s - loss: 1.3808 - mean_absolute_error: 0.1449 - categorical_accuracy: 0.4338 - val_loss: 1.4419 - val_mean_absolute_error: 0.1484 - val_categorical_accuracy: 0.3966\n",
      "Epoch 55/100\n",
      " - 1s - loss: 1.3805 - mean_absolute_error: 0.1449 - categorical_accuracy: 0.4307 - val_loss: 1.4380 - val_mean_absolute_error: 0.1486 - val_categorical_accuracy: 0.3964\n",
      "Epoch 56/100\n",
      " - 1s - loss: 1.3809 - mean_absolute_error: 0.1450 - categorical_accuracy: 0.4282 - val_loss: 1.4443 - val_mean_absolute_error: 0.1477 - val_categorical_accuracy: 0.3945\n",
      "Epoch 57/100\n",
      " - 1s - loss: 1.3791 - mean_absolute_error: 0.1447 - categorical_accuracy: 0.4280 - val_loss: 1.4433 - val_mean_absolute_error: 0.1483 - val_categorical_accuracy: 0.3925\n",
      "Epoch 58/100\n",
      " - 1s - loss: 1.3785 - mean_absolute_error: 0.1447 - categorical_accuracy: 0.4289 - val_loss: 1.4454 - val_mean_absolute_error: 0.1480 - val_categorical_accuracy: 0.4006\n",
      "Epoch 59/100\n",
      " - 1s - loss: 1.3793 - mean_absolute_error: 0.1447 - categorical_accuracy: 0.4302 - val_loss: 1.4441 - val_mean_absolute_error: 0.1485 - val_categorical_accuracy: 0.3970\n",
      "Epoch 00059: early stopping\n",
      "Train on 10050 samples, validate on 4950 samples\n",
      "Epoch 1/100\n",
      " - 5s - loss: 1.8893 - mean_absolute_error: 0.1806 - categorical_accuracy: 0.3149 - val_loss: 1.7092 - val_mean_absolute_error: 0.1709 - val_categorical_accuracy: 0.3236\n",
      "Epoch 2/100\n",
      " - 1s - loss: 1.6337 - mean_absolute_error: 0.1653 - categorical_accuracy: 0.3280 - val_loss: 1.6128 - val_mean_absolute_error: 0.1627 - val_categorical_accuracy: 0.3154\n",
      "Epoch 3/100\n",
      " - 1s - loss: 1.5643 - mean_absolute_error: 0.1595 - categorical_accuracy: 0.3264 - val_loss: 1.5681 - val_mean_absolute_error: 0.1592 - val_categorical_accuracy: 0.3196\n",
      "Epoch 4/100\n",
      " - 2s - loss: 1.5282 - mean_absolute_error: 0.1566 - categorical_accuracy: 0.3424 - val_loss: 1.5418 - val_mean_absolute_error: 0.1576 - val_categorical_accuracy: 0.3273\n",
      "Epoch 5/100\n",
      " - 1s - loss: 1.5055 - mean_absolute_error: 0.1551 - categorical_accuracy: 0.3495 - val_loss: 1.5220 - val_mean_absolute_error: 0.1567 - val_categorical_accuracy: 0.3380\n",
      "Epoch 6/100\n",
      " - 1s - loss: 1.4887 - mean_absolute_error: 0.1540 - categorical_accuracy: 0.3571 - val_loss: 1.5080 - val_mean_absolute_error: 0.1557 - val_categorical_accuracy: 0.3396\n",
      "Epoch 7/100\n",
      " - 1s - loss: 1.4744 - mean_absolute_error: 0.1532 - categorical_accuracy: 0.3649 - val_loss: 1.4983 - val_mean_absolute_error: 0.1551 - val_categorical_accuracy: 0.3404\n",
      "Epoch 8/100\n",
      " - 1s - loss: 1.4625 - mean_absolute_error: 0.1525 - categorical_accuracy: 0.3693 - val_loss: 1.4882 - val_mean_absolute_error: 0.1535 - val_categorical_accuracy: 0.3396\n",
      "Epoch 9/100\n",
      " - 1s - loss: 1.4526 - mean_absolute_error: 0.1517 - categorical_accuracy: 0.3731 - val_loss: 1.4812 - val_mean_absolute_error: 0.1531 - val_categorical_accuracy: 0.3525\n",
      "Epoch 10/100\n",
      " - 1s - loss: 1.4438 - mean_absolute_error: 0.1510 - categorical_accuracy: 0.3820 - val_loss: 1.4726 - val_mean_absolute_error: 0.1531 - val_categorical_accuracy: 0.3545\n",
      "Epoch 11/100\n",
      " - 1s - loss: 1.4350 - mean_absolute_error: 0.1502 - categorical_accuracy: 0.3875 - val_loss: 1.4648 - val_mean_absolute_error: 0.1522 - val_categorical_accuracy: 0.3624\n",
      "Epoch 12/100\n",
      " - 1s - loss: 1.4255 - mean_absolute_error: 0.1492 - categorical_accuracy: 0.3979 - val_loss: 1.4668 - val_mean_absolute_error: 0.1529 - val_categorical_accuracy: 0.3723\n",
      "Epoch 13/100\n",
      " - 1s - loss: 1.4199 - mean_absolute_error: 0.1486 - categorical_accuracy: 0.4063 - val_loss: 1.4526 - val_mean_absolute_error: 0.1499 - val_categorical_accuracy: 0.3762\n",
      "Epoch 14/100\n",
      " - 1s - loss: 1.4201 - mean_absolute_error: 0.1479 - categorical_accuracy: 0.4041 - val_loss: 1.4526 - val_mean_absolute_error: 0.1504 - val_categorical_accuracy: 0.3800\n",
      "Epoch 15/100\n",
      " - 2s - loss: 1.4089 - mean_absolute_error: 0.1473 - categorical_accuracy: 0.4104 - val_loss: 1.4496 - val_mean_absolute_error: 0.1504 - val_categorical_accuracy: 0.3838\n",
      "Epoch 16/100\n",
      " - 1s - loss: 1.4043 - mean_absolute_error: 0.1468 - categorical_accuracy: 0.4127 - val_loss: 1.4431 - val_mean_absolute_error: 0.1499 - val_categorical_accuracy: 0.3838\n",
      "Epoch 17/100\n",
      " - 1s - loss: 1.4018 - mean_absolute_error: 0.1465 - categorical_accuracy: 0.4129 - val_loss: 1.4488 - val_mean_absolute_error: 0.1491 - val_categorical_accuracy: 0.3844\n",
      "Epoch 18/100\n",
      " - 1s - loss: 1.3983 - mean_absolute_error: 0.1462 - categorical_accuracy: 0.4113 - val_loss: 1.4389 - val_mean_absolute_error: 0.1491 - val_categorical_accuracy: 0.3861\n",
      "Epoch 19/100\n",
      " - 1s - loss: 1.3970 - mean_absolute_error: 0.1462 - categorical_accuracy: 0.4120 - val_loss: 1.4386 - val_mean_absolute_error: 0.1484 - val_categorical_accuracy: 0.3867\n",
      "Epoch 20/100\n",
      " - 1s - loss: 1.3943 - mean_absolute_error: 0.1459 - categorical_accuracy: 0.4144 - val_loss: 1.4451 - val_mean_absolute_error: 0.1477 - val_categorical_accuracy: 0.3877\n",
      "Epoch 21/100\n",
      " - 1s - loss: 1.3935 - mean_absolute_error: 0.1458 - categorical_accuracy: 0.4129 - val_loss: 1.4381 - val_mean_absolute_error: 0.1487 - val_categorical_accuracy: 0.3865\n",
      "Epoch 22/100\n",
      " - 1s - loss: 1.3937 - mean_absolute_error: 0.1458 - categorical_accuracy: 0.4137 - val_loss: 1.4403 - val_mean_absolute_error: 0.1483 - val_categorical_accuracy: 0.3840\n",
      "Epoch 23/100\n",
      " - 1s - loss: 1.3917 - mean_absolute_error: 0.1458 - categorical_accuracy: 0.4140 - val_loss: 1.4379 - val_mean_absolute_error: 0.1481 - val_categorical_accuracy: 0.3857\n",
      "Epoch 24/100\n",
      " - 2s - loss: 1.3935 - mean_absolute_error: 0.1456 - categorical_accuracy: 0.4141 - val_loss: 1.4365 - val_mean_absolute_error: 0.1490 - val_categorical_accuracy: 0.3867\n",
      "Epoch 25/100\n",
      " - 1s - loss: 1.3899 - mean_absolute_error: 0.1456 - categorical_accuracy: 0.4156 - val_loss: 1.4353 - val_mean_absolute_error: 0.1481 - val_categorical_accuracy: 0.3909\n",
      "Epoch 26/100\n",
      " - 1s - loss: 1.3882 - mean_absolute_error: 0.1454 - categorical_accuracy: 0.4136 - val_loss: 1.4350 - val_mean_absolute_error: 0.1482 - val_categorical_accuracy: 0.3899\n",
      "Epoch 27/100\n",
      " - 2s - loss: 1.3878 - mean_absolute_error: 0.1454 - categorical_accuracy: 0.4174 - val_loss: 1.4382 - val_mean_absolute_error: 0.1486 - val_categorical_accuracy: 0.3891\n",
      "Epoch 28/100\n",
      " - 2s - loss: 1.3872 - mean_absolute_error: 0.1453 - categorical_accuracy: 0.4139 - val_loss: 1.4334 - val_mean_absolute_error: 0.1486 - val_categorical_accuracy: 0.3885\n",
      "Epoch 29/100\n",
      " - 1s - loss: 1.3858 - mean_absolute_error: 0.1454 - categorical_accuracy: 0.4186 - val_loss: 1.4336 - val_mean_absolute_error: 0.1481 - val_categorical_accuracy: 0.3947\n",
      "Epoch 30/100\n",
      " - 1s - loss: 1.3851 - mean_absolute_error: 0.1452 - categorical_accuracy: 0.4244 - val_loss: 1.4388 - val_mean_absolute_error: 0.1480 - val_categorical_accuracy: 0.3895\n",
      "Epoch 31/100\n",
      " - 1s - loss: 1.3899 - mean_absolute_error: 0.1455 - categorical_accuracy: 0.4184 - val_loss: 1.4429 - val_mean_absolute_error: 0.1478 - val_categorical_accuracy: 0.3881\n"
     ]
    },
    {
     "name": "stdout",
     "output_type": "stream",
     "text": [
      "Epoch 32/100\n",
      " - 1s - loss: 1.3836 - mean_absolute_error: 0.1450 - categorical_accuracy: 0.4204 - val_loss: 1.4395 - val_mean_absolute_error: 0.1480 - val_categorical_accuracy: 0.3915\n",
      "Epoch 33/100\n",
      " - 1s - loss: 1.3840 - mean_absolute_error: 0.1453 - categorical_accuracy: 0.4199 - val_loss: 1.4378 - val_mean_absolute_error: 0.1472 - val_categorical_accuracy: 0.3943\n",
      "Epoch 34/100\n",
      " - 1s - loss: 1.3837 - mean_absolute_error: 0.1451 - categorical_accuracy: 0.4200 - val_loss: 1.4359 - val_mean_absolute_error: 0.1484 - val_categorical_accuracy: 0.3943\n",
      "Epoch 35/100\n",
      " - 1s - loss: 1.3823 - mean_absolute_error: 0.1450 - categorical_accuracy: 0.4199 - val_loss: 1.4423 - val_mean_absolute_error: 0.1471 - val_categorical_accuracy: 0.3939\n",
      "Epoch 36/100\n",
      " - 1s - loss: 1.3817 - mean_absolute_error: 0.1450 - categorical_accuracy: 0.4192 - val_loss: 1.4334 - val_mean_absolute_error: 0.1485 - val_categorical_accuracy: 0.3909\n",
      "Epoch 37/100\n",
      " - 2s - loss: 1.3817 - mean_absolute_error: 0.1449 - categorical_accuracy: 0.4220 - val_loss: 1.4340 - val_mean_absolute_error: 0.1485 - val_categorical_accuracy: 0.3925\n",
      "Epoch 38/100\n",
      " - 2s - loss: 1.3835 - mean_absolute_error: 0.1450 - categorical_accuracy: 0.4221 - val_loss: 1.4450 - val_mean_absolute_error: 0.1481 - val_categorical_accuracy: 0.3891\n",
      "Epoch 39/100\n",
      " - 1s - loss: 1.3816 - mean_absolute_error: 0.1450 - categorical_accuracy: 0.4223 - val_loss: 1.4344 - val_mean_absolute_error: 0.1483 - val_categorical_accuracy: 0.3919\n",
      "Epoch 40/100\n",
      " - 1s - loss: 1.3794 - mean_absolute_error: 0.1450 - categorical_accuracy: 0.4253 - val_loss: 1.4362 - val_mean_absolute_error: 0.1471 - val_categorical_accuracy: 0.3941\n",
      "Epoch 41/100\n",
      " - 1s - loss: 1.3809 - mean_absolute_error: 0.1448 - categorical_accuracy: 0.4216 - val_loss: 1.4346 - val_mean_absolute_error: 0.1479 - val_categorical_accuracy: 0.3905\n",
      "Epoch 42/100\n",
      " - 1s - loss: 1.3804 - mean_absolute_error: 0.1450 - categorical_accuracy: 0.4223 - val_loss: 1.4377 - val_mean_absolute_error: 0.1476 - val_categorical_accuracy: 0.3907\n",
      "Epoch 43/100\n",
      " - 1s - loss: 1.3790 - mean_absolute_error: 0.1448 - categorical_accuracy: 0.4246 - val_loss: 1.4381 - val_mean_absolute_error: 0.1473 - val_categorical_accuracy: 0.3909\n",
      "Epoch 44/100\n",
      " - 1s - loss: 1.3793 - mean_absolute_error: 0.1448 - categorical_accuracy: 0.4226 - val_loss: 1.4330 - val_mean_absolute_error: 0.1476 - val_categorical_accuracy: 0.3935\n",
      "Epoch 45/100\n",
      " - 1s - loss: 1.3767 - mean_absolute_error: 0.1447 - categorical_accuracy: 0.4246 - val_loss: 1.4333 - val_mean_absolute_error: 0.1476 - val_categorical_accuracy: 0.3958\n",
      "Epoch 46/100\n",
      " - 1s - loss: 1.3782 - mean_absolute_error: 0.1447 - categorical_accuracy: 0.4248 - val_loss: 1.4359 - val_mean_absolute_error: 0.1477 - val_categorical_accuracy: 0.3929\n",
      "Epoch 47/100\n",
      " - 1s - loss: 1.3770 - mean_absolute_error: 0.1447 - categorical_accuracy: 0.4235 - val_loss: 1.4346 - val_mean_absolute_error: 0.1481 - val_categorical_accuracy: 0.3956\n",
      "Epoch 48/100\n",
      " - 1s - loss: 1.3775 - mean_absolute_error: 0.1447 - categorical_accuracy: 0.4250 - val_loss: 1.4378 - val_mean_absolute_error: 0.1477 - val_categorical_accuracy: 0.3943\n",
      "Epoch 00048: early stopping\n",
      "Train on 10050 samples, validate on 4950 samples\n",
      "Epoch 1/100\n",
      " - 5s - loss: 1.9302 - mean_absolute_error: 0.1844 - categorical_accuracy: 0.3127 - val_loss: 1.7146 - val_mean_absolute_error: 0.1709 - val_categorical_accuracy: 0.3269\n",
      "Epoch 2/100\n",
      " - 1s - loss: 1.6408 - mean_absolute_error: 0.1648 - categorical_accuracy: 0.3391 - val_loss: 1.6201 - val_mean_absolute_error: 0.1628 - val_categorical_accuracy: 0.3325\n",
      "Epoch 3/100\n",
      " - 1s - loss: 1.5806 - mean_absolute_error: 0.1590 - categorical_accuracy: 0.3450 - val_loss: 1.5888 - val_mean_absolute_error: 0.1594 - val_categorical_accuracy: 0.3289\n",
      "Epoch 4/100\n",
      " - 1s - loss: 1.5525 - mean_absolute_error: 0.1568 - categorical_accuracy: 0.3455 - val_loss: 1.5635 - val_mean_absolute_error: 0.1581 - val_categorical_accuracy: 0.3420\n",
      "Epoch 5/100\n",
      " - 1s - loss: 1.5239 - mean_absolute_error: 0.1550 - categorical_accuracy: 0.3602 - val_loss: 1.5369 - val_mean_absolute_error: 0.1568 - val_categorical_accuracy: 0.3426\n",
      "Epoch 6/100\n",
      " - 1s - loss: 1.4945 - mean_absolute_error: 0.1533 - categorical_accuracy: 0.3790 - val_loss: 1.5072 - val_mean_absolute_error: 0.1543 - val_categorical_accuracy: 0.3725\n",
      "Epoch 7/100\n",
      " - 1s - loss: 1.4676 - mean_absolute_error: 0.1511 - categorical_accuracy: 0.3994 - val_loss: 1.4852 - val_mean_absolute_error: 0.1529 - val_categorical_accuracy: 0.3796\n",
      "Epoch 8/100\n",
      " - 1s - loss: 1.4471 - mean_absolute_error: 0.1494 - categorical_accuracy: 0.4091 - val_loss: 1.4671 - val_mean_absolute_error: 0.1512 - val_categorical_accuracy: 0.3869\n",
      "Epoch 9/100\n",
      " - 2s - loss: 1.4328 - mean_absolute_error: 0.1482 - categorical_accuracy: 0.4083 - val_loss: 1.4577 - val_mean_absolute_error: 0.1499 - val_categorical_accuracy: 0.3885\n",
      "Epoch 10/100\n",
      " - 1s - loss: 1.4232 - mean_absolute_error: 0.1474 - categorical_accuracy: 0.4087 - val_loss: 1.4490 - val_mean_absolute_error: 0.1493 - val_categorical_accuracy: 0.3947\n",
      "Epoch 11/100\n",
      " - 1s - loss: 1.4159 - mean_absolute_error: 0.1467 - categorical_accuracy: 0.4104 - val_loss: 1.4457 - val_mean_absolute_error: 0.1503 - val_categorical_accuracy: 0.3909\n",
      "Epoch 12/100\n",
      " - 1s - loss: 1.4101 - mean_absolute_error: 0.1465 - categorical_accuracy: 0.4134 - val_loss: 1.4391 - val_mean_absolute_error: 0.1490 - val_categorical_accuracy: 0.3921\n",
      "Epoch 13/100\n",
      " - 1s - loss: 1.4061 - mean_absolute_error: 0.1464 - categorical_accuracy: 0.4138 - val_loss: 1.4358 - val_mean_absolute_error: 0.1478 - val_categorical_accuracy: 0.3964\n",
      "Epoch 14/100\n",
      " - 1s - loss: 1.4005 - mean_absolute_error: 0.1458 - categorical_accuracy: 0.4144 - val_loss: 1.4371 - val_mean_absolute_error: 0.1477 - val_categorical_accuracy: 0.3943\n",
      "Epoch 15/100\n",
      " - 1s - loss: 1.3998 - mean_absolute_error: 0.1458 - categorical_accuracy: 0.4114 - val_loss: 1.4307 - val_mean_absolute_error: 0.1480 - val_categorical_accuracy: 0.3947\n",
      "Epoch 16/100\n",
      " - 1s - loss: 1.3950 - mean_absolute_error: 0.1455 - categorical_accuracy: 0.4133 - val_loss: 1.4280 - val_mean_absolute_error: 0.1489 - val_categorical_accuracy: 0.3978\n",
      "Epoch 17/100\n",
      " - 1s - loss: 1.3917 - mean_absolute_error: 0.1454 - categorical_accuracy: 0.4138 - val_loss: 1.4246 - val_mean_absolute_error: 0.1478 - val_categorical_accuracy: 0.3960\n",
      "Epoch 18/100\n",
      " - 1s - loss: 1.3900 - mean_absolute_error: 0.1452 - categorical_accuracy: 0.4128 - val_loss: 1.4226 - val_mean_absolute_error: 0.1474 - val_categorical_accuracy: 0.3980\n",
      "Epoch 19/100\n",
      " - 1s - loss: 1.3879 - mean_absolute_error: 0.1450 - categorical_accuracy: 0.4134 - val_loss: 1.4228 - val_mean_absolute_error: 0.1473 - val_categorical_accuracy: 0.3982\n",
      "Epoch 20/100\n",
      " - 2s - loss: 1.3850 - mean_absolute_error: 0.1450 - categorical_accuracy: 0.4137 - val_loss: 1.4199 - val_mean_absolute_error: 0.1475 - val_categorical_accuracy: 0.3980\n",
      "Epoch 21/100\n",
      " - 1s - loss: 1.3831 - mean_absolute_error: 0.1448 - categorical_accuracy: 0.4153 - val_loss: 1.4220 - val_mean_absolute_error: 0.1471 - val_categorical_accuracy: 0.3984\n",
      "Epoch 22/100\n",
      " - 1s - loss: 1.3819 - mean_absolute_error: 0.1448 - categorical_accuracy: 0.4144 - val_loss: 1.4177 - val_mean_absolute_error: 0.1472 - val_categorical_accuracy: 0.4010\n",
      "Epoch 23/100\n",
      " - 1s - loss: 1.3800 - mean_absolute_error: 0.1446 - categorical_accuracy: 0.4129 - val_loss: 1.4170 - val_mean_absolute_error: 0.1467 - val_categorical_accuracy: 0.3972\n",
      "Epoch 24/100\n",
      " - 1s - loss: 1.3785 - mean_absolute_error: 0.1444 - categorical_accuracy: 0.4162 - val_loss: 1.4179 - val_mean_absolute_error: 0.1464 - val_categorical_accuracy: 0.4028\n",
      "Epoch 25/100\n",
      " - 1s - loss: 1.3782 - mean_absolute_error: 0.1445 - categorical_accuracy: 0.4134 - val_loss: 1.4148 - val_mean_absolute_error: 0.1471 - val_categorical_accuracy: 0.3952\n",
      "Epoch 26/100\n",
      " - 1s - loss: 1.3754 - mean_absolute_error: 0.1444 - categorical_accuracy: 0.4131 - val_loss: 1.4133 - val_mean_absolute_error: 0.1466 - val_categorical_accuracy: 0.3980\n",
      "Epoch 27/100\n",
      " - 1s - loss: 1.3732 - mean_absolute_error: 0.1443 - categorical_accuracy: 0.4180 - val_loss: 1.4178 - val_mean_absolute_error: 0.1468 - val_categorical_accuracy: 0.3970\n",
      "Epoch 28/100\n",
      " - 1s - loss: 1.3716 - mean_absolute_error: 0.1442 - categorical_accuracy: 0.4178 - val_loss: 1.4166 - val_mean_absolute_error: 0.1477 - val_categorical_accuracy: 0.3958\n"
     ]
    },
    {
     "name": "stdout",
     "output_type": "stream",
     "text": [
      "Epoch 29/100\n",
      " - 1s - loss: 1.3725 - mean_absolute_error: 0.1442 - categorical_accuracy: 0.4167 - val_loss: 1.4114 - val_mean_absolute_error: 0.1470 - val_categorical_accuracy: 0.3988\n",
      "Epoch 30/100\n",
      " - 1s - loss: 1.3714 - mean_absolute_error: 0.1441 - categorical_accuracy: 0.4203 - val_loss: 1.4135 - val_mean_absolute_error: 0.1460 - val_categorical_accuracy: 0.3988\n",
      "Epoch 31/100\n",
      " - 2s - loss: 1.3678 - mean_absolute_error: 0.1438 - categorical_accuracy: 0.4203 - val_loss: 1.4110 - val_mean_absolute_error: 0.1460 - val_categorical_accuracy: 0.4026\n",
      "Epoch 32/100\n",
      " - 2s - loss: 1.3674 - mean_absolute_error: 0.1439 - categorical_accuracy: 0.4174 - val_loss: 1.4088 - val_mean_absolute_error: 0.1466 - val_categorical_accuracy: 0.3966\n",
      "Epoch 33/100\n",
      " - 1s - loss: 1.3658 - mean_absolute_error: 0.1438 - categorical_accuracy: 0.4213 - val_loss: 1.4084 - val_mean_absolute_error: 0.1470 - val_categorical_accuracy: 0.3933\n",
      "Epoch 34/100\n",
      " - 1s - loss: 1.3644 - mean_absolute_error: 0.1437 - categorical_accuracy: 0.4192 - val_loss: 1.4100 - val_mean_absolute_error: 0.1472 - val_categorical_accuracy: 0.3895\n",
      "Epoch 35/100\n",
      " - 1s - loss: 1.3637 - mean_absolute_error: 0.1436 - categorical_accuracy: 0.4182 - val_loss: 1.4092 - val_mean_absolute_error: 0.1464 - val_categorical_accuracy: 0.3923\n",
      "Epoch 36/100\n",
      " - 2s - loss: 1.3617 - mean_absolute_error: 0.1436 - categorical_accuracy: 0.4177 - val_loss: 1.4077 - val_mean_absolute_error: 0.1459 - val_categorical_accuracy: 0.3978\n",
      "Epoch 37/100\n",
      " - 1s - loss: 1.3616 - mean_absolute_error: 0.1435 - categorical_accuracy: 0.4164 - val_loss: 1.4081 - val_mean_absolute_error: 0.1467 - val_categorical_accuracy: 0.3901\n",
      "Epoch 38/100\n",
      " - 1s - loss: 1.3592 - mean_absolute_error: 0.1434 - categorical_accuracy: 0.4188 - val_loss: 1.4077 - val_mean_absolute_error: 0.1470 - val_categorical_accuracy: 0.3923\n",
      "Epoch 39/100\n",
      " - 1s - loss: 1.3594 - mean_absolute_error: 0.1434 - categorical_accuracy: 0.4184 - val_loss: 1.4071 - val_mean_absolute_error: 0.1459 - val_categorical_accuracy: 0.3943\n",
      "Epoch 40/100\n",
      " - 1s - loss: 1.3578 - mean_absolute_error: 0.1433 - categorical_accuracy: 0.4182 - val_loss: 1.4072 - val_mean_absolute_error: 0.1461 - val_categorical_accuracy: 0.4002\n",
      "Epoch 41/100\n",
      " - 1s - loss: 1.3558 - mean_absolute_error: 0.1431 - categorical_accuracy: 0.4207 - val_loss: 1.4052 - val_mean_absolute_error: 0.1465 - val_categorical_accuracy: 0.3982\n",
      "Epoch 42/100\n",
      " - 2s - loss: 1.3558 - mean_absolute_error: 0.1433 - categorical_accuracy: 0.4212 - val_loss: 1.4047 - val_mean_absolute_error: 0.1458 - val_categorical_accuracy: 0.3939\n",
      "Epoch 43/100\n",
      " - 2s - loss: 1.3542 - mean_absolute_error: 0.1431 - categorical_accuracy: 0.4196 - val_loss: 1.4090 - val_mean_absolute_error: 0.1464 - val_categorical_accuracy: 0.3956\n",
      "Epoch 44/100\n",
      " - 1s - loss: 1.3541 - mean_absolute_error: 0.1431 - categorical_accuracy: 0.4201 - val_loss: 1.4048 - val_mean_absolute_error: 0.1461 - val_categorical_accuracy: 0.3980\n",
      "Epoch 45/100\n",
      " - 1s - loss: 1.3562 - mean_absolute_error: 0.1431 - categorical_accuracy: 0.4196 - val_loss: 1.4055 - val_mean_absolute_error: 0.1463 - val_categorical_accuracy: 0.3978\n",
      "Epoch 46/100\n",
      " - 1s - loss: 1.3514 - mean_absolute_error: 0.1430 - categorical_accuracy: 0.4225 - val_loss: 1.4055 - val_mean_absolute_error: 0.1459 - val_categorical_accuracy: 0.3952\n",
      "Epoch 47/100\n",
      " - 1s - loss: 1.3514 - mean_absolute_error: 0.1428 - categorical_accuracy: 0.4213 - val_loss: 1.4114 - val_mean_absolute_error: 0.1456 - val_categorical_accuracy: 0.4010\n",
      "Epoch 48/100\n",
      " - 1s - loss: 1.3521 - mean_absolute_error: 0.1429 - categorical_accuracy: 0.4235 - val_loss: 1.4064 - val_mean_absolute_error: 0.1459 - val_categorical_accuracy: 0.3947\n",
      "Epoch 49/100\n",
      " - 1s - loss: 1.3496 - mean_absolute_error: 0.1428 - categorical_accuracy: 0.4220 - val_loss: 1.4082 - val_mean_absolute_error: 0.1468 - val_categorical_accuracy: 0.4010\n",
      "Epoch 50/100\n",
      " - 1s - loss: 1.3483 - mean_absolute_error: 0.1428 - categorical_accuracy: 0.4208 - val_loss: 1.4090 - val_mean_absolute_error: 0.1465 - val_categorical_accuracy: 0.3943\n",
      "Epoch 51/100\n",
      " - 1s - loss: 1.3499 - mean_absolute_error: 0.1428 - categorical_accuracy: 0.4179 - val_loss: 1.4052 - val_mean_absolute_error: 0.1455 - val_categorical_accuracy: 0.3972\n",
      "Epoch 52/100\n",
      " - 1s - loss: 1.3481 - mean_absolute_error: 0.1425 - categorical_accuracy: 0.4240 - val_loss: 1.4049 - val_mean_absolute_error: 0.1454 - val_categorical_accuracy: 0.4004\n",
      "Epoch 53/100\n",
      " - 2s - loss: 1.3481 - mean_absolute_error: 0.1426 - categorical_accuracy: 0.4241 - val_loss: 1.4035 - val_mean_absolute_error: 0.1457 - val_categorical_accuracy: 0.3970\n",
      "Epoch 54/100\n",
      " - 2s - loss: 1.3459 - mean_absolute_error: 0.1426 - categorical_accuracy: 0.4231 - val_loss: 1.4080 - val_mean_absolute_error: 0.1452 - val_categorical_accuracy: 0.3982\n",
      "Epoch 55/100\n",
      " - 1s - loss: 1.3478 - mean_absolute_error: 0.1426 - categorical_accuracy: 0.4239 - val_loss: 1.4056 - val_mean_absolute_error: 0.1460 - val_categorical_accuracy: 0.3990\n",
      "Epoch 56/100\n",
      " - 1s - loss: 1.3458 - mean_absolute_error: 0.1426 - categorical_accuracy: 0.4237 - val_loss: 1.4079 - val_mean_absolute_error: 0.1451 - val_categorical_accuracy: 0.3996\n",
      "Epoch 57/100\n",
      " - 1s - loss: 1.3463 - mean_absolute_error: 0.1424 - categorical_accuracy: 0.4216 - val_loss: 1.4068 - val_mean_absolute_error: 0.1457 - val_categorical_accuracy: 0.4002\n",
      "Epoch 58/100\n",
      " - 1s - loss: 1.3441 - mean_absolute_error: 0.1424 - categorical_accuracy: 0.4228 - val_loss: 1.4087 - val_mean_absolute_error: 0.1456 - val_categorical_accuracy: 0.3976\n",
      "Epoch 59/100\n",
      " - 1s - loss: 1.3461 - mean_absolute_error: 0.1424 - categorical_accuracy: 0.4251 - val_loss: 1.4079 - val_mean_absolute_error: 0.1456 - val_categorical_accuracy: 0.3974\n",
      "Epoch 60/100\n",
      " - 1s - loss: 1.3442 - mean_absolute_error: 0.1424 - categorical_accuracy: 0.4245 - val_loss: 1.4078 - val_mean_absolute_error: 0.1459 - val_categorical_accuracy: 0.3990\n",
      "Epoch 61/100\n",
      " - 1s - loss: 1.3447 - mean_absolute_error: 0.1423 - categorical_accuracy: 0.4248 - val_loss: 1.4086 - val_mean_absolute_error: 0.1452 - val_categorical_accuracy: 0.3962\n",
      "Epoch 62/100\n",
      " - 1s - loss: 1.3428 - mean_absolute_error: 0.1422 - categorical_accuracy: 0.4237 - val_loss: 1.4101 - val_mean_absolute_error: 0.1457 - val_categorical_accuracy: 0.4018\n",
      "Epoch 63/100\n",
      " - 1s - loss: 1.3421 - mean_absolute_error: 0.1423 - categorical_accuracy: 0.4247 - val_loss: 1.4082 - val_mean_absolute_error: 0.1456 - val_categorical_accuracy: 0.3945\n",
      "Epoch 64/100\n",
      " - 1s - loss: 1.3416 - mean_absolute_error: 0.1422 - categorical_accuracy: 0.4249 - val_loss: 1.4094 - val_mean_absolute_error: 0.1455 - val_categorical_accuracy: 0.4018\n",
      "Epoch 65/100\n",
      " - 2s - loss: 1.3422 - mean_absolute_error: 0.1422 - categorical_accuracy: 0.4244 - val_loss: 1.4138 - val_mean_absolute_error: 0.1460 - val_categorical_accuracy: 0.3925\n",
      "Epoch 66/100\n",
      " - 1s - loss: 1.3431 - mean_absolute_error: 0.1423 - categorical_accuracy: 0.4245 - val_loss: 1.4180 - val_mean_absolute_error: 0.1450 - val_categorical_accuracy: 0.3984\n",
      "Epoch 67/100\n",
      " - 1s - loss: 1.3423 - mean_absolute_error: 0.1423 - categorical_accuracy: 0.4252 - val_loss: 1.4110 - val_mean_absolute_error: 0.1452 - val_categorical_accuracy: 0.3994\n",
      "Epoch 68/100\n",
      " - 1s - loss: 1.3422 - mean_absolute_error: 0.1421 - categorical_accuracy: 0.4270 - val_loss: 1.4087 - val_mean_absolute_error: 0.1464 - val_categorical_accuracy: 0.3952\n",
      "Epoch 69/100\n",
      " - 1s - loss: 1.3415 - mean_absolute_error: 0.1424 - categorical_accuracy: 0.4258 - val_loss: 1.4107 - val_mean_absolute_error: 0.1457 - val_categorical_accuracy: 0.3895\n",
      "Epoch 70/100\n",
      " - 1s - loss: 1.3407 - mean_absolute_error: 0.1421 - categorical_accuracy: 0.4261 - val_loss: 1.4088 - val_mean_absolute_error: 0.1457 - val_categorical_accuracy: 0.3982\n",
      "Epoch 71/100\n",
      " - 1s - loss: 1.3399 - mean_absolute_error: 0.1420 - categorical_accuracy: 0.4262 - val_loss: 1.4100 - val_mean_absolute_error: 0.1452 - val_categorical_accuracy: 0.3917\n",
      "Epoch 72/100\n",
      " - 1s - loss: 1.3412 - mean_absolute_error: 0.1421 - categorical_accuracy: 0.4240 - val_loss: 1.4153 - val_mean_absolute_error: 0.1465 - val_categorical_accuracy: 0.3972\n",
      "Epoch 73/100\n",
      " - 1s - loss: 1.3409 - mean_absolute_error: 0.1420 - categorical_accuracy: 0.4263 - val_loss: 1.4106 - val_mean_absolute_error: 0.1460 - val_categorical_accuracy: 0.3964\n"
     ]
    },
    {
     "name": "stdout",
     "output_type": "stream",
     "text": [
      "Epoch 00073: early stopping\n",
      "Train on 10050 samples, validate on 4950 samples\n",
      "Epoch 1/100\n",
      " - 5s - loss: 1.8309 - mean_absolute_error: 0.1776 - categorical_accuracy: 0.3265 - val_loss: 1.6898 - val_mean_absolute_error: 0.1686 - val_categorical_accuracy: 0.3248\n",
      "Epoch 2/100\n",
      " - 1s - loss: 1.6273 - mean_absolute_error: 0.1644 - categorical_accuracy: 0.3319 - val_loss: 1.6156 - val_mean_absolute_error: 0.1624 - val_categorical_accuracy: 0.3230\n",
      "Epoch 3/100\n",
      " - 1s - loss: 1.5704 - mean_absolute_error: 0.1596 - categorical_accuracy: 0.3375 - val_loss: 1.5760 - val_mean_absolute_error: 0.1597 - val_categorical_accuracy: 0.3251\n",
      "Epoch 4/100\n",
      " - 1s - loss: 1.5369 - mean_absolute_error: 0.1570 - categorical_accuracy: 0.3415 - val_loss: 1.5440 - val_mean_absolute_error: 0.1584 - val_categorical_accuracy: 0.3354\n",
      "Epoch 5/100\n",
      " - 1s - loss: 1.5080 - mean_absolute_error: 0.1553 - categorical_accuracy: 0.3568 - val_loss: 1.5166 - val_mean_absolute_error: 0.1556 - val_categorical_accuracy: 0.3410\n",
      "Epoch 6/100\n",
      " - 1s - loss: 1.4822 - mean_absolute_error: 0.1534 - categorical_accuracy: 0.3748 - val_loss: 1.4945 - val_mean_absolute_error: 0.1545 - val_categorical_accuracy: 0.3675\n",
      "Epoch 7/100\n",
      " - 1s - loss: 1.4616 - mean_absolute_error: 0.1516 - categorical_accuracy: 0.3939 - val_loss: 1.4789 - val_mean_absolute_error: 0.1524 - val_categorical_accuracy: 0.3762\n",
      "Epoch 8/100\n",
      " - 1s - loss: 1.4461 - mean_absolute_error: 0.1501 - categorical_accuracy: 0.4021 - val_loss: 1.4671 - val_mean_absolute_error: 0.1523 - val_categorical_accuracy: 0.3806\n",
      "Epoch 9/100\n",
      " - 1s - loss: 1.4349 - mean_absolute_error: 0.1491 - categorical_accuracy: 0.4050 - val_loss: 1.4588 - val_mean_absolute_error: 0.1515 - val_categorical_accuracy: 0.3834\n",
      "Epoch 10/100\n",
      " - 1s - loss: 1.4258 - mean_absolute_error: 0.1483 - categorical_accuracy: 0.4141 - val_loss: 1.4554 - val_mean_absolute_error: 0.1507 - val_categorical_accuracy: 0.3865\n",
      "Epoch 11/100\n",
      " - 2s - loss: 1.4209 - mean_absolute_error: 0.1478 - categorical_accuracy: 0.4093 - val_loss: 1.4513 - val_mean_absolute_error: 0.1506 - val_categorical_accuracy: 0.3923\n",
      "Epoch 12/100\n",
      " - 1s - loss: 1.4147 - mean_absolute_error: 0.1473 - categorical_accuracy: 0.4097 - val_loss: 1.4473 - val_mean_absolute_error: 0.1495 - val_categorical_accuracy: 0.3869\n",
      "Epoch 13/100\n",
      " - 1s - loss: 1.4117 - mean_absolute_error: 0.1470 - categorical_accuracy: 0.4075 - val_loss: 1.4455 - val_mean_absolute_error: 0.1488 - val_categorical_accuracy: 0.3899\n",
      "Epoch 14/100\n",
      " - 1s - loss: 1.4087 - mean_absolute_error: 0.1469 - categorical_accuracy: 0.4073 - val_loss: 1.4445 - val_mean_absolute_error: 0.1491 - val_categorical_accuracy: 0.3889\n",
      "Epoch 15/100\n",
      " - 1s - loss: 1.4057 - mean_absolute_error: 0.1466 - categorical_accuracy: 0.4076 - val_loss: 1.4426 - val_mean_absolute_error: 0.1485 - val_categorical_accuracy: 0.3881\n",
      "Epoch 16/100\n",
      " - 1s - loss: 1.4026 - mean_absolute_error: 0.1463 - categorical_accuracy: 0.4092 - val_loss: 1.4431 - val_mean_absolute_error: 0.1488 - val_categorical_accuracy: 0.3891\n",
      "Epoch 17/100\n",
      " - 1s - loss: 1.4027 - mean_absolute_error: 0.1464 - categorical_accuracy: 0.4057 - val_loss: 1.4379 - val_mean_absolute_error: 0.1490 - val_categorical_accuracy: 0.3945\n",
      "Epoch 18/100\n",
      " - 1s - loss: 1.4003 - mean_absolute_error: 0.1463 - categorical_accuracy: 0.4060 - val_loss: 1.4392 - val_mean_absolute_error: 0.1488 - val_categorical_accuracy: 0.3913\n",
      "Epoch 19/100\n",
      " - 1s - loss: 1.3967 - mean_absolute_error: 0.1460 - categorical_accuracy: 0.4091 - val_loss: 1.4390 - val_mean_absolute_error: 0.1485 - val_categorical_accuracy: 0.3899\n",
      "Epoch 20/100\n",
      " - 1s - loss: 1.3965 - mean_absolute_error: 0.1460 - categorical_accuracy: 0.4100 - val_loss: 1.4467 - val_mean_absolute_error: 0.1475 - val_categorical_accuracy: 0.3881\n",
      "Epoch 21/100\n",
      " - 1s - loss: 1.3947 - mean_absolute_error: 0.1458 - categorical_accuracy: 0.4099 - val_loss: 1.4377 - val_mean_absolute_error: 0.1488 - val_categorical_accuracy: 0.3966\n",
      "Epoch 22/100\n",
      " - 2s - loss: 1.3935 - mean_absolute_error: 0.1459 - categorical_accuracy: 0.4076 - val_loss: 1.4371 - val_mean_absolute_error: 0.1482 - val_categorical_accuracy: 0.3917\n",
      "Epoch 23/100\n",
      " - 1s - loss: 1.3930 - mean_absolute_error: 0.1457 - categorical_accuracy: 0.4116 - val_loss: 1.4376 - val_mean_absolute_error: 0.1479 - val_categorical_accuracy: 0.3954\n",
      "Epoch 24/100\n",
      " - 1s - loss: 1.3927 - mean_absolute_error: 0.1458 - categorical_accuracy: 0.4118 - val_loss: 1.4421 - val_mean_absolute_error: 0.1475 - val_categorical_accuracy: 0.3929\n",
      "Epoch 25/100\n",
      " - 1s - loss: 1.3914 - mean_absolute_error: 0.1456 - categorical_accuracy: 0.4140 - val_loss: 1.4376 - val_mean_absolute_error: 0.1482 - val_categorical_accuracy: 0.3968\n",
      "Epoch 26/100\n",
      " - 1s - loss: 1.3907 - mean_absolute_error: 0.1455 - categorical_accuracy: 0.4122 - val_loss: 1.4345 - val_mean_absolute_error: 0.1482 - val_categorical_accuracy: 0.3994\n",
      "Epoch 27/100\n",
      " - 1s - loss: 1.3909 - mean_absolute_error: 0.1456 - categorical_accuracy: 0.4146 - val_loss: 1.4362 - val_mean_absolute_error: 0.1484 - val_categorical_accuracy: 0.3988\n",
      "Epoch 28/100\n",
      " - 1s - loss: 1.3887 - mean_absolute_error: 0.1455 - categorical_accuracy: 0.4136 - val_loss: 1.4352 - val_mean_absolute_error: 0.1485 - val_categorical_accuracy: 0.4008\n",
      "Epoch 29/100\n",
      " - 1s - loss: 1.3866 - mean_absolute_error: 0.1452 - categorical_accuracy: 0.4129 - val_loss: 1.4375 - val_mean_absolute_error: 0.1488 - val_categorical_accuracy: 0.3966\n",
      "Epoch 30/100\n",
      " - 1s - loss: 1.3864 - mean_absolute_error: 0.1455 - categorical_accuracy: 0.4159 - val_loss: 1.4423 - val_mean_absolute_error: 0.1470 - val_categorical_accuracy: 0.3974\n",
      "Epoch 31/100\n",
      " - 1s - loss: 1.3867 - mean_absolute_error: 0.1454 - categorical_accuracy: 0.4163 - val_loss: 1.4361 - val_mean_absolute_error: 0.1482 - val_categorical_accuracy: 0.4016\n",
      "Epoch 32/100\n",
      " - 1s - loss: 1.3861 - mean_absolute_error: 0.1454 - categorical_accuracy: 0.4136 - val_loss: 1.4358 - val_mean_absolute_error: 0.1479 - val_categorical_accuracy: 0.4008\n",
      "Epoch 33/100\n",
      " - 2s - loss: 1.3868 - mean_absolute_error: 0.1453 - categorical_accuracy: 0.4182 - val_loss: 1.4344 - val_mean_absolute_error: 0.1481 - val_categorical_accuracy: 0.3982\n",
      "Epoch 34/100\n",
      " - 1s - loss: 1.3847 - mean_absolute_error: 0.1452 - categorical_accuracy: 0.4203 - val_loss: 1.4381 - val_mean_absolute_error: 0.1487 - val_categorical_accuracy: 0.3970\n",
      "Epoch 35/100\n",
      " - 1s - loss: 1.3841 - mean_absolute_error: 0.1452 - categorical_accuracy: 0.4173 - val_loss: 1.4417 - val_mean_absolute_error: 0.1476 - val_categorical_accuracy: 0.3976\n",
      "Epoch 36/100\n",
      " - 1s - loss: 1.3841 - mean_absolute_error: 0.1453 - categorical_accuracy: 0.4152 - val_loss: 1.4366 - val_mean_absolute_error: 0.1476 - val_categorical_accuracy: 0.4004\n",
      "Epoch 37/100\n",
      " - 1s - loss: 1.3815 - mean_absolute_error: 0.1450 - categorical_accuracy: 0.4174 - val_loss: 1.4393 - val_mean_absolute_error: 0.1480 - val_categorical_accuracy: 0.3954\n",
      "Epoch 38/100\n",
      " - 1s - loss: 1.3824 - mean_absolute_error: 0.1450 - categorical_accuracy: 0.4174 - val_loss: 1.4391 - val_mean_absolute_error: 0.1485 - val_categorical_accuracy: 0.4014\n",
      "Epoch 39/100\n",
      " - 1s - loss: 1.3807 - mean_absolute_error: 0.1451 - categorical_accuracy: 0.4191 - val_loss: 1.4366 - val_mean_absolute_error: 0.1476 - val_categorical_accuracy: 0.3992\n",
      "Epoch 40/100\n",
      " - 1s - loss: 1.3818 - mean_absolute_error: 0.1451 - categorical_accuracy: 0.4175 - val_loss: 1.4359 - val_mean_absolute_error: 0.1478 - val_categorical_accuracy: 0.3962\n",
      "Epoch 41/100\n",
      " - 1s - loss: 1.3803 - mean_absolute_error: 0.1450 - categorical_accuracy: 0.4170 - val_loss: 1.4376 - val_mean_absolute_error: 0.1481 - val_categorical_accuracy: 0.3962\n",
      "Epoch 42/100\n",
      " - 1s - loss: 1.3792 - mean_absolute_error: 0.1449 - categorical_accuracy: 0.4178 - val_loss: 1.4405 - val_mean_absolute_error: 0.1474 - val_categorical_accuracy: 0.3968\n",
      "Epoch 43/100\n",
      " - 1s - loss: 1.3793 - mean_absolute_error: 0.1450 - categorical_accuracy: 0.4181 - val_loss: 1.4410 - val_mean_absolute_error: 0.1485 - val_categorical_accuracy: 0.3933\n",
      "Epoch 44/100\n",
      " - 2s - loss: 1.3803 - mean_absolute_error: 0.1450 - categorical_accuracy: 0.4185 - val_loss: 1.4412 - val_mean_absolute_error: 0.1478 - val_categorical_accuracy: 0.3962\n",
      "Epoch 45/100\n",
      " - 1s - loss: 1.3785 - mean_absolute_error: 0.1448 - categorical_accuracy: 0.4176 - val_loss: 1.4401 - val_mean_absolute_error: 0.1478 - val_categorical_accuracy: 0.3964\n"
     ]
    },
    {
     "name": "stdout",
     "output_type": "stream",
     "text": [
      "Epoch 46/100\n",
      " - 1s - loss: 1.3792 - mean_absolute_error: 0.1449 - categorical_accuracy: 0.4187 - val_loss: 1.4425 - val_mean_absolute_error: 0.1480 - val_categorical_accuracy: 0.3943\n",
      "Epoch 00046: early stopping\n",
      "Train on 10050 samples, validate on 4950 samples\n",
      "Epoch 1/100\n",
      " - 5s - loss: 2.1277 - mean_absolute_error: 0.1950 - categorical_accuracy: 0.2929 - val_loss: 2.0186 - val_mean_absolute_error: 0.1922 - val_categorical_accuracy: 0.3287\n",
      "Epoch 2/100\n",
      " - 1s - loss: 1.9547 - mean_absolute_error: 0.1896 - categorical_accuracy: 0.3293 - val_loss: 1.9081 - val_mean_absolute_error: 0.1874 - val_categorical_accuracy: 0.3279\n",
      "Epoch 3/100\n",
      " - 1s - loss: 1.8308 - mean_absolute_error: 0.1821 - categorical_accuracy: 0.3300 - val_loss: 1.7453 - val_mean_absolute_error: 0.1732 - val_categorical_accuracy: 0.3267\n",
      "Epoch 4/100\n",
      " - 1s - loss: 1.6756 - mean_absolute_error: 0.1663 - categorical_accuracy: 0.3343 - val_loss: 1.6623 - val_mean_absolute_error: 0.1647 - val_categorical_accuracy: 0.3107\n",
      "Epoch 5/100\n",
      " - 2s - loss: 1.6148 - mean_absolute_error: 0.1611 - categorical_accuracy: 0.3249 - val_loss: 1.6130 - val_mean_absolute_error: 0.1610 - val_categorical_accuracy: 0.3113\n",
      "Epoch 6/100\n",
      " - 1s - loss: 1.5697 - mean_absolute_error: 0.1583 - categorical_accuracy: 0.3246 - val_loss: 1.5756 - val_mean_absolute_error: 0.1592 - val_categorical_accuracy: 0.3190\n",
      "Epoch 7/100\n",
      " - 1s - loss: 1.5422 - mean_absolute_error: 0.1571 - categorical_accuracy: 0.3275 - val_loss: 1.5602 - val_mean_absolute_error: 0.1575 - val_categorical_accuracy: 0.3190\n",
      "Epoch 8/100\n",
      " - 1s - loss: 1.5259 - mean_absolute_error: 0.1564 - categorical_accuracy: 0.3310 - val_loss: 1.5456 - val_mean_absolute_error: 0.1582 - val_categorical_accuracy: 0.3192\n",
      "Epoch 9/100\n",
      " - 1s - loss: 1.5103 - mean_absolute_error: 0.1557 - categorical_accuracy: 0.3282 - val_loss: 1.5284 - val_mean_absolute_error: 0.1574 - val_categorical_accuracy: 0.3170\n",
      "Epoch 10/100\n",
      " - 1s - loss: 1.4972 - mean_absolute_error: 0.1552 - categorical_accuracy: 0.3317 - val_loss: 1.5186 - val_mean_absolute_error: 0.1574 - val_categorical_accuracy: 0.3184\n",
      "Epoch 11/100\n",
      " - 1s - loss: 1.4854 - mean_absolute_error: 0.1547 - categorical_accuracy: 0.3400 - val_loss: 1.5074 - val_mean_absolute_error: 0.1565 - val_categorical_accuracy: 0.3261\n",
      "Epoch 12/100\n",
      " - 2s - loss: 1.4774 - mean_absolute_error: 0.1544 - categorical_accuracy: 0.3440 - val_loss: 1.5000 - val_mean_absolute_error: 0.1557 - val_categorical_accuracy: 0.3301\n",
      "Epoch 13/100\n",
      " - 2s - loss: 1.4695 - mean_absolute_error: 0.1538 - categorical_accuracy: 0.3463 - val_loss: 1.4931 - val_mean_absolute_error: 0.1556 - val_categorical_accuracy: 0.3366\n",
      "Epoch 14/100\n",
      " - 1s - loss: 1.4631 - mean_absolute_error: 0.1535 - categorical_accuracy: 0.3494 - val_loss: 1.4889 - val_mean_absolute_error: 0.1547 - val_categorical_accuracy: 0.3372\n",
      "Epoch 15/100\n",
      " - 2s - loss: 1.4572 - mean_absolute_error: 0.1531 - categorical_accuracy: 0.3542 - val_loss: 1.4846 - val_mean_absolute_error: 0.1554 - val_categorical_accuracy: 0.3428\n",
      "Epoch 16/100\n",
      " - 1s - loss: 1.4524 - mean_absolute_error: 0.1526 - categorical_accuracy: 0.3597 - val_loss: 1.4782 - val_mean_absolute_error: 0.1544 - val_categorical_accuracy: 0.3495\n",
      "Epoch 17/100\n",
      " - 1s - loss: 1.4485 - mean_absolute_error: 0.1525 - categorical_accuracy: 0.3629 - val_loss: 1.4748 - val_mean_absolute_error: 0.1540 - val_categorical_accuracy: 0.3477\n",
      "Epoch 18/100\n",
      " - 1s - loss: 1.4406 - mean_absolute_error: 0.1519 - categorical_accuracy: 0.3672 - val_loss: 1.4713 - val_mean_absolute_error: 0.1538 - val_categorical_accuracy: 0.3513\n",
      "Epoch 19/100\n",
      " - 1s - loss: 1.4365 - mean_absolute_error: 0.1513 - categorical_accuracy: 0.3736 - val_loss: 1.4684 - val_mean_absolute_error: 0.1541 - val_categorical_accuracy: 0.3594\n",
      "Epoch 20/100\n",
      " - 1s - loss: 1.4326 - mean_absolute_error: 0.1511 - categorical_accuracy: 0.3833 - val_loss: 1.4639 - val_mean_absolute_error: 0.1527 - val_categorical_accuracy: 0.3558\n",
      "Epoch 21/100\n",
      " - 1s - loss: 1.4277 - mean_absolute_error: 0.1504 - categorical_accuracy: 0.3857 - val_loss: 1.4600 - val_mean_absolute_error: 0.1534 - val_categorical_accuracy: 0.3659\n",
      "Epoch 22/100\n",
      " - 1s - loss: 1.4222 - mean_absolute_error: 0.1502 - categorical_accuracy: 0.3946 - val_loss: 1.4568 - val_mean_absolute_error: 0.1522 - val_categorical_accuracy: 0.3725\n",
      "Epoch 23/100\n",
      " - 1s - loss: 1.4216 - mean_absolute_error: 0.1497 - categorical_accuracy: 0.3988 - val_loss: 1.4530 - val_mean_absolute_error: 0.1511 - val_categorical_accuracy: 0.3830\n",
      "Epoch 24/100\n",
      " - 1s - loss: 1.4140 - mean_absolute_error: 0.1491 - categorical_accuracy: 0.4030 - val_loss: 1.4504 - val_mean_absolute_error: 0.1512 - val_categorical_accuracy: 0.3842\n",
      "Epoch 25/100\n",
      " - 1s - loss: 1.4106 - mean_absolute_error: 0.1486 - categorical_accuracy: 0.4062 - val_loss: 1.4509 - val_mean_absolute_error: 0.1502 - val_categorical_accuracy: 0.3830\n",
      "Epoch 26/100\n",
      " - 2s - loss: 1.4070 - mean_absolute_error: 0.1481 - categorical_accuracy: 0.4098 - val_loss: 1.4447 - val_mean_absolute_error: 0.1512 - val_categorical_accuracy: 0.3901\n",
      "Epoch 27/100\n",
      " - 1s - loss: 1.4041 - mean_absolute_error: 0.1478 - categorical_accuracy: 0.4122 - val_loss: 1.4427 - val_mean_absolute_error: 0.1503 - val_categorical_accuracy: 0.3901\n",
      "Epoch 28/100\n",
      " - 1s - loss: 1.4029 - mean_absolute_error: 0.1475 - categorical_accuracy: 0.4159 - val_loss: 1.4432 - val_mean_absolute_error: 0.1490 - val_categorical_accuracy: 0.3972\n",
      "Epoch 29/100\n",
      " - 1s - loss: 1.3990 - mean_absolute_error: 0.1470 - categorical_accuracy: 0.4149 - val_loss: 1.4382 - val_mean_absolute_error: 0.1495 - val_categorical_accuracy: 0.3937\n",
      "Epoch 30/100\n",
      " - 1s - loss: 1.3981 - mean_absolute_error: 0.1468 - categorical_accuracy: 0.4127 - val_loss: 1.4362 - val_mean_absolute_error: 0.1490 - val_categorical_accuracy: 0.3941\n",
      "Epoch 31/100\n",
      " - 1s - loss: 1.3957 - mean_absolute_error: 0.1465 - categorical_accuracy: 0.4126 - val_loss: 1.4358 - val_mean_absolute_error: 0.1489 - val_categorical_accuracy: 0.3960\n",
      "Epoch 32/100\n",
      " - 1s - loss: 1.3932 - mean_absolute_error: 0.1463 - categorical_accuracy: 0.4183 - val_loss: 1.4377 - val_mean_absolute_error: 0.1490 - val_categorical_accuracy: 0.3949\n",
      "Epoch 33/100\n",
      " - 1s - loss: 1.3931 - mean_absolute_error: 0.1461 - categorical_accuracy: 0.4151 - val_loss: 1.4367 - val_mean_absolute_error: 0.1490 - val_categorical_accuracy: 0.3931\n",
      "Epoch 34/100\n",
      " - 2s - loss: 1.3917 - mean_absolute_error: 0.1461 - categorical_accuracy: 0.4174 - val_loss: 1.4318 - val_mean_absolute_error: 0.1489 - val_categorical_accuracy: 0.3958\n",
      "Epoch 35/100\n",
      " - 1s - loss: 1.3896 - mean_absolute_error: 0.1460 - categorical_accuracy: 0.4166 - val_loss: 1.4326 - val_mean_absolute_error: 0.1482 - val_categorical_accuracy: 0.3962\n",
      "Epoch 36/100\n",
      " - 1s - loss: 1.3911 - mean_absolute_error: 0.1459 - categorical_accuracy: 0.4171 - val_loss: 1.4333 - val_mean_absolute_error: 0.1485 - val_categorical_accuracy: 0.3958\n",
      "Epoch 37/100\n",
      " - 2s - loss: 1.3891 - mean_absolute_error: 0.1456 - categorical_accuracy: 0.4173 - val_loss: 1.4327 - val_mean_absolute_error: 0.1486 - val_categorical_accuracy: 0.3976\n",
      "Epoch 38/100\n",
      " - 1s - loss: 1.3894 - mean_absolute_error: 0.1456 - categorical_accuracy: 0.4186 - val_loss: 1.4330 - val_mean_absolute_error: 0.1484 - val_categorical_accuracy: 0.3984\n",
      "Epoch 39/100\n",
      " - 1s - loss: 1.3894 - mean_absolute_error: 0.1456 - categorical_accuracy: 0.4173 - val_loss: 1.4334 - val_mean_absolute_error: 0.1486 - val_categorical_accuracy: 0.3937\n",
      "Epoch 40/100\n",
      " - 1s - loss: 1.3868 - mean_absolute_error: 0.1455 - categorical_accuracy: 0.4205 - val_loss: 1.4350 - val_mean_absolute_error: 0.1477 - val_categorical_accuracy: 0.3960\n",
      "Epoch 41/100\n",
      " - 1s - loss: 1.3887 - mean_absolute_error: 0.1453 - categorical_accuracy: 0.4192 - val_loss: 1.4334 - val_mean_absolute_error: 0.1483 - val_categorical_accuracy: 0.4000\n",
      "Epoch 42/100\n",
      " - 1s - loss: 1.3865 - mean_absolute_error: 0.1454 - categorical_accuracy: 0.4191 - val_loss: 1.4355 - val_mean_absolute_error: 0.1484 - val_categorical_accuracy: 0.3947\n",
      "Epoch 43/100\n",
      " - 1s - loss: 1.3852 - mean_absolute_error: 0.1453 - categorical_accuracy: 0.4193 - val_loss: 1.4332 - val_mean_absolute_error: 0.1488 - val_categorical_accuracy: 0.3964\n",
      "Epoch 44/100\n",
      " - 1s - loss: 1.3833 - mean_absolute_error: 0.1454 - categorical_accuracy: 0.4198 - val_loss: 1.4358 - val_mean_absolute_error: 0.1485 - val_categorical_accuracy: 0.3931\n"
     ]
    },
    {
     "name": "stdout",
     "output_type": "stream",
     "text": [
      "Epoch 45/100\n",
      " - 1s - loss: 1.3827 - mean_absolute_error: 0.1451 - categorical_accuracy: 0.4202 - val_loss: 1.4365 - val_mean_absolute_error: 0.1483 - val_categorical_accuracy: 0.3929\n",
      "Epoch 46/100\n",
      " - 1s - loss: 1.3819 - mean_absolute_error: 0.1451 - categorical_accuracy: 0.4209 - val_loss: 1.4358 - val_mean_absolute_error: 0.1480 - val_categorical_accuracy: 0.3907\n",
      "Epoch 47/100\n",
      " - 1s - loss: 1.3818 - mean_absolute_error: 0.1450 - categorical_accuracy: 0.4188 - val_loss: 1.4347 - val_mean_absolute_error: 0.1485 - val_categorical_accuracy: 0.3998\n",
      "Epoch 48/100\n",
      " - 2s - loss: 1.3809 - mean_absolute_error: 0.1450 - categorical_accuracy: 0.4214 - val_loss: 1.4346 - val_mean_absolute_error: 0.1483 - val_categorical_accuracy: 0.3988\n",
      "Epoch 49/100\n",
      " - 1s - loss: 1.3822 - mean_absolute_error: 0.1451 - categorical_accuracy: 0.4193 - val_loss: 1.4391 - val_mean_absolute_error: 0.1478 - val_categorical_accuracy: 0.3911\n",
      "Epoch 50/100\n",
      " - 1s - loss: 1.3824 - mean_absolute_error: 0.1450 - categorical_accuracy: 0.4228 - val_loss: 1.4471 - val_mean_absolute_error: 0.1479 - val_categorical_accuracy: 0.3919\n",
      "Epoch 51/100\n",
      " - 1s - loss: 1.3814 - mean_absolute_error: 0.1450 - categorical_accuracy: 0.4198 - val_loss: 1.4352 - val_mean_absolute_error: 0.1480 - val_categorical_accuracy: 0.3988\n",
      "Epoch 52/100\n",
      " - 1s - loss: 1.3824 - mean_absolute_error: 0.1450 - categorical_accuracy: 0.4203 - val_loss: 1.4373 - val_mean_absolute_error: 0.1486 - val_categorical_accuracy: 0.3931\n",
      "Epoch 53/100\n",
      " - 2s - loss: 1.3810 - mean_absolute_error: 0.1449 - categorical_accuracy: 0.4203 - val_loss: 1.4360 - val_mean_absolute_error: 0.1485 - val_categorical_accuracy: 0.3949\n",
      "Epoch 54/100\n",
      " - 2s - loss: 1.4141 - mean_absolute_error: 0.1464 - categorical_accuracy: 0.4082 - val_loss: 1.4600 - val_mean_absolute_error: 0.1490 - val_categorical_accuracy: 0.3857\n",
      "Epoch 00054: early stopping\n",
      "Training finished...Loading the best model\n",
      "\n",
      "Final accuracy: 0.3286868686868687\n"
     ]
    }
   ],
   "source": [
    "checkpoint = ModelCheckpoint(filepath=\"best_weights3.hdf5\", verbose=0, save_best_only=True,mode='max') # save best model\n",
    "for i in range(5):\n",
    "########################################################################################################################\n",
    "    model = Sequential()\n",
    "    model.add(Dense(20, input_shape=(34,), activation='relu'))\n",
    "    model.add(Dense(5,activation='relu'))\n",
    "    model.add(Dense(y_binary_test.shape[1],activation='softmax'))\n",
    "    model.compile(loss='categorical_crossentropy', optimizer= keras.optimizers.Adam(lr=0.001, beta_1=0.9, beta_2=0.999, epsilon=None, decay=0.0, amsgrad=False),metrics=[metrics.mae, metrics.categorical_accuracy])\n",
    "    monitor2 = EarlyStopping(monitor='val_loss', min_delta=1e-3, patience=20, verbose=2, mode='auto')  \n",
    "    # patience: number of epochs with no improvement after which training will be stopped\n",
    "    # The test set is checked during training to monitor progress for early stopping but is never used for gradient descent (model training)\n",
    "    callbacks_list = [monitor2,checkpoint]\n",
    "    model.fit(X_train, y_binary_train, validation_data=(X_test,y_binary_test), callbacks=callbacks_list, verbose=2,batch_size=32, epochs=100)\n",
    "##########################################################################################################################\n",
    "\n",
    "print('Training finished...Loading the best model')  \n",
    "print()\n",
    "model.load_weights(\"best_weights3.hdf5\") # load weights from best model\n",
    "\n",
    "# Measure accuracy\n",
    "pred2 = model.predict(X_test)\n",
    "pred2 = np.argmax(pred2,axis=1)\n",
    "y_true = np.argmax(y_test,axis=1)\n",
    "score = sk.metrics.accuracy_score(y_test, pred2)\n",
    "print(\"Final accuracy: {}\".format(score))\n"
   ]
  },
  {
   "cell_type": "code",
   "execution_count": null,
   "metadata": {},
   "outputs": [],
   "source": [
    "y_binary_test"
   ]
  },
  {
   "cell_type": "code",
   "execution_count": null,
   "metadata": {},
   "outputs": [],
   "source": [
    "model.summary()"
   ]
  },
  {
   "cell_type": "code",
   "execution_count": null,
   "metadata": {},
   "outputs": [],
   "source": [
    "predc = model.predict(X_test)\n",
    "print(predc) # print  predictions"
   ]
  },
  {
   "cell_type": "markdown",
   "metadata": {},
   "source": [
    "**Neural network Model which  implements Classification Model 2**"
   ]
  },
  {
   "cell_type": "code",
   "execution_count": null,
   "metadata": {},
   "outputs": [],
   "source": [
    "checkpoints = ModelCheckpoint(filepath=\"best_weights4.hdf5\", verbose=0, save_best_only=True,mode='max') # save best model\n",
    "for i in range(5):\n",
    "########################################################################################################################\n",
    "    models = Sequential()\n",
    "    models.add(Dense(20, input_shape=(152,), activation='relu'))\n",
    "    models.add(Dense(15,activation='relu'))\n",
    "    models.add(Dense(15,activation='tanh'))\n",
    "    model.add(Dense(15, \n",
    "                kernel_regularizer=regularizers.l1(0.01),\n",
    "                activity_regularizer=regularizers.l2(0.01), activation='relu'))\n",
    "    models.add(Dropout(0.5))\n",
    "    models.add(Dense(15,activation= 'relu'))\n",
    "    models.add(Dense(y_binary_test.shape[1],activation='sigmoid'))\n",
    "    sgd = SGD(lr=0.01, momentum=0.8, decay=0.0, nesterov=False)\n",
    "    models.compile(loss='categorical_crossentropy', optimizer= sgd ,metrics=[metrics.mae, metrics.categorical_accuracy])\n",
    "    monitors = EarlyStopping(monitor='val_loss', min_delta=1e-3, patience=20, verbose=2, mode='auto')  \n",
    "    # The test set is checked during training to monitor progress for early stopping but is never used for gradient descent (model training)\n",
    "    callbacks_list = [monitors,checkpoints]\n",
    "    models.fit(X_train, y_binary_train, validation_data=(X_test,y_binary_test), callbacks=callbacks_list, verbose=2,batch_size=32, epochs=100)\n",
    "    models.load_weights(\"best_weights4.hdf5\")\n",
    "##########################################################################################################################\n",
    "print('Training finished...Loading the best model')  \n",
    "print()\n",
    "models.load_weights(\"best_weights4.hdf5\") # load weights from best model\n",
    "\n",
    "# Measure accuracy\n",
    "pred3 = models.predict(X_test)\n",
    "pred3 = np.argmax(pred3,axis=1)\n",
    "#y_true = np.argmax(y_test,axis=1)\n",
    "score = sk.metrics.accuracy_score(y_test, pred3)\n",
    "print(\"Final accuracy: {}\".format(score))\n",
    "\n"
   ]
  },
  {
   "cell_type": "code",
   "execution_count": null,
   "metadata": {},
   "outputs": [],
   "source": [
    "models.summary()"
   ]
  },
  {
   "cell_type": "code",
   "execution_count": null,
   "metadata": {},
   "outputs": [],
   "source": [
    "predc = models.predict(X_test)\n",
    "print(predc) # print predictions"
   ]
  },
  {
   "cell_type": "markdown",
   "metadata": {},
   "source": [
    "**Neural network Model which  implements Classification Model 3**"
   ]
  },
  {
   "cell_type": "code",
   "execution_count": null,
   "metadata": {},
   "outputs": [],
   "source": [
    "import keras as kp\n",
    "# Define ModelCheckpoint outside the loop\n",
    "checkpoint3 = ModelCheckpoint(filepath=\"best_weights5.hdf5\", verbose=0, save_best_only=True,mode='max') # save best model\n",
    "for i in range(1):\n",
    "########################################################################################################################\n",
    "    model3 = Sequential()\n",
    "    model3.add(Dense(20, input_shape=(152,), activation='relu'))\n",
    "    model3.add(Dense(15,activation='relu' ))\n",
    "    model3.add(Dense(100))\n",
    "    model3.add(LeakyReLU(alpha=0.1))\n",
    "    model3.add(Dense(100))\n",
    "    model3.add(LeakyReLU(alpha=0.1)) ##Leaky Relu\n",
    "    model3.add(Dense(20,activation= 'relu' ))\n",
    "    # Regularisation Through Drop Out \n",
    "    model3.add(Dense(15,activation='tanh'))\n",
    "    model3.add(Dense(15, \n",
    "                kernel_regularizer=regularizers.l1(0.01),\n",
    "                activity_regularizer=regularizers.l2(0.01), activation='relu'))\n",
    "    model3.add(Dropout(0.25))\n",
    "    model3.add(Dense(15,activation= 'relu'))\n",
    "    model3.add(Dense(y_binary_test.shape[1],activation='sigmoid'))\n",
    "    rms = keras.optimizers.RMSprop(lr=0.001, rho=0.9, epsilon=None, decay=0.0)\n",
    "    model3.compile(loss='categorical_crossentropy', optimizer= rms ,metrics=[kp.metrics.mae, kp.metrics.categorical_accuracy])\n",
    "    monitor3 = EarlyStopping(monitor='val_loss', min_delta=1e-3, patience=20, verbose=2, mode='auto')  \n",
    "# The test set is checked during training to monitor progress for early stopping but is never used for gradient descent (model training)\n",
    "#checkpoint3 = ModelCheckpoint(filepath=\"best_weights5.hdf5\", verbose=0, save_best_only=True,mode='max') # save best model\n",
    "    callbacks_list = [monitor3,checkpoint3]\n",
    "    model3.fit(X_train, y_binary_train, validation_data=(X_test,y_binary_test), callbacks=callbacks_list, verbose=2,batch_size=32, epochs=200)\n",
    "##########################################################################################################################\n",
    "\n"
   ]
  },
  {
   "cell_type": "code",
   "execution_count": null,
   "metadata": {},
   "outputs": [],
   "source": [
    "model3.summary()"
   ]
  },
  {
   "cell_type": "code",
   "execution_count": null,
   "metadata": {},
   "outputs": [],
   "source": []
  },
  {
   "cell_type": "markdown",
   "metadata": {},
   "source": [
    "**xxxxxxxxxxxxxxxxxxxxxxxxxxxxxxxxxxxxxxxxxxxxxxxxxxxxxxxxxxxxxxxxxxxxxxxxxxxxxxxxxxxxxxxxxxxxxxxxxxxxxxxxxxxxxxxxxxxxxxxxx**"
   ]
  },
  {
   "cell_type": "markdown",
   "metadata": {},
   "source": [
    "# Accuracy Comparision"
   ]
  },
  {
   "cell_type": "markdown",
   "metadata": {},
   "source": [
    "**xxxxxxxxxxxxxxxxxxxxxxxxxxxxxxxxxxxxxxxxxxxxxxxxxxxxxxxxxxxxxxxxxxxxxxxxxxxxxxxxxxxxxxxxxxxxxxxxxxxxxxxxxxxxxxxxxxxxxxxxx**"
   ]
  },
  {
   "cell_type": "markdown",
   "metadata": {},
   "source": [
    "**Task 1 Accuracy comparison**"
   ]
  },
  {
   "cell_type": "markdown",
   "metadata": {},
   "source": [
    "**Accuracy of Classical Machine Learning Model (Linear Regression)**"
   ]
  },
  {
   "cell_type": "code",
   "execution_count": null,
   "metadata": {},
   "outputs": [],
   "source": [
    "from sklearn.metrics import confusion_matrix, classification_report\n",
    "score = np.sqrt(sk.metrics.mean_squared_error(y_pred,y_test_n))\n",
    "print(\"Final score (RMSE): {}\".format(score))"
   ]
  },
  {
   "cell_type": "code",
   "execution_count": null,
   "metadata": {},
   "outputs": [],
   "source": [
    "import math\n",
    "print(\"RMSE of Neural network model: \",math.sqrt(12.883383838383839))"
   ]
  },
  {
   "cell_type": "markdown",
   "metadata": {},
   "source": [
    "**Task 2 Accuracy Comparison**"
   ]
  },
  {
   "cell_type": "markdown",
   "metadata": {},
   "source": [
    "**Classic SVM model accuracy**"
   ]
  },
  {
   "cell_type": "code",
   "execution_count": null,
   "metadata": {},
   "outputs": [],
   "source": [
    "\n",
    "print(sk.metrics.classification_report(y_test,y_predictval))"
   ]
  },
  {
   "cell_type": "code",
   "execution_count": null,
   "metadata": {},
   "outputs": [],
   "source": [
    "# cm is the confusion matrix, names are the names of the classes.\n",
    "def plot_confusion_matrix(cm, names, title='Confusion matrix', cmap=plt.cm.Blues):\n",
    "    plt.imshow(cm, interpolation='nearest', cmap=cmap)\n",
    "    plt.title(title)\n",
    "    plt.colorbar()\n",
    "    tick_marks = np.arange(len(names))\n",
    "    plt.xticks(tick_marks, names, rotation=45)\n",
    "    plt.yticks(tick_marks, names)\n",
    "    plt.tight_layout()\n",
    "    plt.ylabel('True label')\n",
    "    plt.xlabel('Predicted label')"
   ]
  },
  {
   "cell_type": "code",
   "execution_count": 956,
   "metadata": {},
   "outputs": [
    {
     "name": "stdout",
     "output_type": "stream",
     "text": [
      "[[  0   0   0   0   0  21   6   0   0]\n",
      " [  0   0   2   0   0  95  26   0   0]\n",
      " [  0   0   8   0   0 135  32   0   0]\n",
      " [  0   0   1   0   0 191  56   0   0]\n",
      " [  0   0   1   0   0 496 156   0   0]\n",
      " [  0   0   1   0   0 910 435   0   0]\n",
      " [  0   0   1   0   0 740 883   0   0]\n",
      " [  0   0   0   0   0 350 220   0   0]\n",
      " [  0   0   0   0   0 108  76   0   0]]\n",
      "Plotting confusion matrix\n"
     ]
    },
    {
     "data": {
      "image/png": "[encoded data removed]",
      "text/plain": [
       "<Figure size 432x288 with 2 Axes>"
      ]
     },
     "metadata": {},
     "output_type": "display_data"
    },
    {
     "name": "stdout",
     "output_type": "stream",
     "text": [
      "             precision    recall  f1-score   support\n",
      "\n",
      "          0       0.00      0.00      0.00        27\n",
      "          1       0.00      0.00      0.00       123\n",
      "          2       0.57      0.05      0.08       175\n",
      "          3       0.00      0.00      0.00       248\n",
      "          4       0.00      0.00      0.00       653\n",
      "          5       0.30      0.68      0.41      1346\n",
      "          6       0.47      0.54      0.50      1624\n",
      "          7       0.00      0.00      0.00       570\n",
      "          8       0.00      0.00      0.00       184\n",
      "\n",
      "avg / total       0.25      0.36      0.28      4950\n",
      "\n"
     ]
    },
    {
     "name": "stderr",
     "output_type": "stream",
     "text": [
      "C:\\Users\\Gurudev\\Anaconda3\\envs\\Giithub Program Test\\lib\\site-packages\\sklearn\\metrics\\classification.py:1135: UndefinedMetricWarning: Precision and F-score are ill-defined and being set to 0.0 in labels with no predicted samples.\n",
      "  'precision', 'predicted', average, warn_for)\n"
     ]
    }
   ],
   "source": [
    "\n",
    "\n",
    "# Compute confusion matrix\n",
    "cm = confusion_matrix(y_test,y_predictval)\n",
    "print(cm)\n",
    "print('Plotting confusion matrix')\n",
    "diagnosis= 'stars_x'\n",
    "plt.figure()\n",
    "plot_confusion_matrix(cm, diagnosis)\n",
    "plt.show()\n",
    "print(classification_report(y_test,y_predictval))"
   ]
  },
  {
   "cell_type": "markdown",
   "metadata": {},
   "source": [
    "** Classic Logistic regression accuracy**"
   ]
  },
  {
   "cell_type": "code",
   "execution_count": 957,
   "metadata": {},
   "outputs": [
    {
     "name": "stdout",
     "output_type": "stream",
     "text": [
      "             precision    recall  f1-score   support\n",
      "\n",
      "          0       0.27      0.11      0.16        27\n",
      "          1       0.00      0.00      0.00       123\n",
      "          2       0.14      0.06      0.09       175\n",
      "          3       0.18      0.01      0.02       248\n",
      "          4       0.12      0.02      0.03       653\n",
      "          5       0.27      0.43      0.33      1346\n",
      "          6       0.45      0.59      0.51      1624\n",
      "          7       0.25      0.17      0.20       570\n",
      "          8       0.29      0.16      0.21       184\n",
      "\n",
      "avg / total       0.29      0.34      0.30      4950\n",
      "\n"
     ]
    },
    {
     "name": "stderr",
     "output_type": "stream",
     "text": [
      "C:\\Users\\Gurudev\\Anaconda3\\envs\\Giithub Program Test\\lib\\site-packages\\sklearn\\metrics\\classification.py:1135: UndefinedMetricWarning: Precision and F-score are ill-defined and being set to 0.0 in labels with no predicted samples.\n",
      "  'precision', 'predicted', average, warn_for)\n"
     ]
    }
   ],
   "source": [
    "print(sk.metrics.classification_report(y_test,y_predval))"
   ]
  },
  {
   "cell_type": "markdown",
   "metadata": {},
   "source": [
    "**Classic KNN model Accuracy**"
   ]
  },
  {
   "cell_type": "code",
   "execution_count": null,
   "metadata": {},
   "outputs": [],
   "source": [
    "print(sk.metrics.classification_report(y_test,y_pv))"
   ]
  },
  {
   "cell_type": "markdown",
   "metadata": {},
   "source": [
    "**Classic Multinomial Naive Bayes model accuracy**"
   ]
  },
  {
   "cell_type": "code",
   "execution_count": null,
   "metadata": {},
   "outputs": [],
   "source": [
    "print(sk.metrics.classification_report(y_test,y_preds))"
   ]
  },
  {
   "cell_type": "markdown",
   "metadata": {},
   "source": [
    "**Neural network Model accuracy which implements best Classification model 1** "
   ]
  },
  {
   "cell_type": "code",
   "execution_count": null,
   "metadata": {},
   "outputs": [],
   "source": [
    "print(\" Neural network Model Accuracy: val_categorical_accuracy: 0.52 \")"
   ]
  },
  {
   "cell_type": "code",
   "execution_count": null,
   "metadata": {},
   "outputs": [],
   "source": [
    " "
   ]
  }
 ],
 "metadata": {
  "kernelspec": {
   "display_name": "Python 3",
   "language": "python",
   "name": "python3"
  },
  "language_info": {
   "codemirror_mode": {
    "name": "ipython",
    "version": 3
   },
   "file_extension": ".py",
   "mimetype": "text/x-python",
   "name": "python",
   "nbconvert_exporter": "python",
   "pygments_lexer": "ipython3",
   "version": "3.6.5"
  }
 },
 "nbformat": 4,
 "nbformat_minor": 2
}
