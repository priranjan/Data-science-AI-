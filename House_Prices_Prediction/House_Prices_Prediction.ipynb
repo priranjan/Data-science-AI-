{
  "nbformat": 4,
  "nbformat_minor": 0,
  "metadata": {
    "colab": {
      "name": "Copy of Coffee_and_Code_House_Prices.ipynb",
      "version": "0.3.2",
      "views": {},
      "default_view": {},
      "provenance": [
        {
          "file_id": "1hZE4uIP5mnstNgGBbVHTmIsrZw1hkXQS",
          "timestamp": 1531099061951
        },
        {
          "file_id": "1tovAuMgSblIi_VwkpfYO7k4u1tvYxjo3",
          "timestamp": 1528679072548
        }
      ],
      "collapsed_sections": []
    },
    "kernelspec": {
      "name": "python3",
      "display_name": "Python 3"
    }
  },
  "cells": [
    {
      "metadata": {
        "id": "b4k32K20Ac_Z",
        "colab_type": "code",
        "colab": {
          "autoexec": {
            "startup": false,
            "wait_interval": 0
          }
        }
      },
      "cell_type": "code",
      "source": [
        "import os\n",
        "import tarfile\n",
        "from six.moves import urllib\n",
        "\n",
        "DOWNLOAD_ROOT = \"https://raw.githubusercontent.com/ageron/handson-ml/master/\"\n",
        "HOUSING_PATH = \"datasets/housing\"\n",
        "HOUSING_URL = DOWNLOAD_ROOT + HOUSING_PATH + \"/housing.tgz\"\n",
        "\n",
        "def fetch_housing_data(housing_url=HOUSING_URL, housing_path=HOUSING_PATH):\n",
        "  if not os.path.isdir(housing_path):\n",
        "     os.makedirs(housing_path)\n",
        "  tgz_path = os.path.join(housing_path, \"housing.tgz\")\n",
        "  urllib.request.urlretrieve(housing_url, tgz_path)\n",
        "  housing_tgz = tarfile.open(tgz_path)\n",
        "  housing_tgz.extractall(path=housing_path)\n",
        "  housing_tgz.close()\n",
        "  \n",
        "  \n",
        "fetch_housing_data()"
      ],
      "execution_count": 0,
      "outputs": []
    },
    {
      "metadata": {
        "id": "fg_x7gJDLjh6",
        "colab_type": "code",
        "colab": {
          "autoexec": {
            "startup": false,
            "wait_interval": 0
          },
          "base_uri": "https://localhost:8080/",
          "height": 34
        },
        "outputId": "caab96cb-bb56-4792-d859-ffca202e0a6f",
        "executionInfo": {
          "status": "ok",
          "timestamp": 1531696538398,
          "user_tz": 420,
          "elapsed": 1314,
          "user": {
            "displayName": "Rima Seiilova-Olson",
            "photoUrl": "//lh3.googleusercontent.com/-8eNxaqv5nE0/AAAAAAAAAAI/AAAAAAAAAoU/Nb-EoucD9YM/s50-c-k-no/photo.jpg",
            "userId": "115856803459228045258"
          }
        }
      },
      "cell_type": "code",
      "source": [
        "!ls datasets/housing"
      ],
      "execution_count": 21,
      "outputs": [
        {
          "output_type": "stream",
          "text": [
            "housing.csv  housing.tgz\r\n"
          ],
          "name": "stdout"
        }
      ]
    },
    {
      "metadata": {
        "id": "IbZKPwFTLT-V",
        "colab_type": "code",
        "colab": {
          "autoexec": {
            "startup": false,
            "wait_interval": 0
          },
          "base_uri": "https://localhost:8080/",
          "height": 224
        },
        "outputId": "2989a4e4-0704-40a9-9a13-85a30d947f59",
        "executionInfo": {
          "status": "ok",
          "timestamp": 1531696538818,
          "user_tz": 420,
          "elapsed": 278,
          "user": {
            "displayName": "Rima Seiilova-Olson",
            "photoUrl": "//lh3.googleusercontent.com/-8eNxaqv5nE0/AAAAAAAAAAI/AAAAAAAAAoU/Nb-EoucD9YM/s50-c-k-no/photo.jpg",
            "userId": "115856803459228045258"
          }
        }
      },
      "cell_type": "code",
      "source": [
        "import pandas as pd\n",
        "\n",
        "def load_housing_data(housing_path=HOUSING_PATH):\n",
        "    csv_path = os.path.join(housing_path, \"housing.csv\")\n",
        "    return pd.read_csv(csv_path)\n",
        "\n",
        "housing = load_housing_data()\n",
        "housing.head()"
      ],
      "execution_count": 22,
      "outputs": [
        {
          "output_type": "execute_result",
          "data": {
            "text/html": [
              "<div>\n",
              "<style scoped>\n",
              "    .dataframe tbody tr th:only-of-type {\n",
              "        vertical-align: middle;\n",
              "    }\n",
              "\n",
              "    .dataframe tbody tr th {\n",
              "        vertical-align: top;\n",
              "    }\n",
              "\n",
              "    .dataframe thead th {\n",
              "        text-align: right;\n",
              "    }\n",
              "</style>\n",
              "<table border=\"1\" class=\"dataframe\">\n",
              "  <thead>\n",
              "    <tr style=\"text-align: right;\">\n",
              "      <th></th>\n",
              "      <th>longitude</th>\n",
              "      <th>latitude</th>\n",
              "      <th>housing_median_age</th>\n",
              "      <th>total_rooms</th>\n",
              "      <th>total_bedrooms</th>\n",
              "      <th>population</th>\n",
              "      <th>households</th>\n",
              "      <th>median_income</th>\n",
              "      <th>median_house_value</th>\n",
              "      <th>ocean_proximity</th>\n",
              "    </tr>\n",
              "  </thead>\n",
              "  <tbody>\n",
              "    <tr>\n",
              "      <th>0</th>\n",
              "      <td>-122.23</td>\n",
              "      <td>37.88</td>\n",
              "      <td>41.0</td>\n",
              "      <td>880.0</td>\n",
              "      <td>129.0</td>\n",
              "      <td>322.0</td>\n",
              "      <td>126.0</td>\n",
              "      <td>8.3252</td>\n",
              "      <td>452600.0</td>\n",
              "      <td>NEAR BAY</td>\n",
              "    </tr>\n",
              "    <tr>\n",
              "      <th>1</th>\n",
              "      <td>-122.22</td>\n",
              "      <td>37.86</td>\n",
              "      <td>21.0</td>\n",
              "      <td>7099.0</td>\n",
              "      <td>1106.0</td>\n",
              "      <td>2401.0</td>\n",
              "      <td>1138.0</td>\n",
              "      <td>8.3014</td>\n",
              "      <td>358500.0</td>\n",
              "      <td>NEAR BAY</td>\n",
              "    </tr>\n",
              "    <tr>\n",
              "      <th>2</th>\n",
              "      <td>-122.24</td>\n",
              "      <td>37.85</td>\n",
              "      <td>52.0</td>\n",
              "      <td>1467.0</td>\n",
              "      <td>190.0</td>\n",
              "      <td>496.0</td>\n",
              "      <td>177.0</td>\n",
              "      <td>7.2574</td>\n",
              "      <td>352100.0</td>\n",
              "      <td>NEAR BAY</td>\n",
              "    </tr>\n",
              "    <tr>\n",
              "      <th>3</th>\n",
              "      <td>-122.25</td>\n",
              "      <td>37.85</td>\n",
              "      <td>52.0</td>\n",
              "      <td>1274.0</td>\n",
              "      <td>235.0</td>\n",
              "      <td>558.0</td>\n",
              "      <td>219.0</td>\n",
              "      <td>5.6431</td>\n",
              "      <td>341300.0</td>\n",
              "      <td>NEAR BAY</td>\n",
              "    </tr>\n",
              "    <tr>\n",
              "      <th>4</th>\n",
              "      <td>-122.25</td>\n",
              "      <td>37.85</td>\n",
              "      <td>52.0</td>\n",
              "      <td>1627.0</td>\n",
              "      <td>280.0</td>\n",
              "      <td>565.0</td>\n",
              "      <td>259.0</td>\n",
              "      <td>3.8462</td>\n",
              "      <td>342200.0</td>\n",
              "      <td>NEAR BAY</td>\n",
              "    </tr>\n",
              "  </tbody>\n",
              "</table>\n",
              "</div>"
            ],
            "text/plain": [
              "   longitude  latitude  housing_median_age  total_rooms  total_bedrooms  \\\n",
              "0    -122.23     37.88                41.0        880.0           129.0   \n",
              "1    -122.22     37.86                21.0       7099.0          1106.0   \n",
              "2    -122.24     37.85                52.0       1467.0           190.0   \n",
              "3    -122.25     37.85                52.0       1274.0           235.0   \n",
              "4    -122.25     37.85                52.0       1627.0           280.0   \n",
              "\n",
              "   population  households  median_income  median_house_value ocean_proximity  \n",
              "0       322.0       126.0         8.3252            452600.0        NEAR BAY  \n",
              "1      2401.0      1138.0         8.3014            358500.0        NEAR BAY  \n",
              "2       496.0       177.0         7.2574            352100.0        NEAR BAY  \n",
              "3       558.0       219.0         5.6431            341300.0        NEAR BAY  \n",
              "4       565.0       259.0         3.8462            342200.0        NEAR BAY  "
            ]
          },
          "metadata": {
            "tags": []
          },
          "execution_count": 22
        }
      ]
    },
    {
      "metadata": {
        "id": "JyB-PiVcLecE",
        "colab_type": "code",
        "colab": {
          "autoexec": {
            "startup": false,
            "wait_interval": 0
          },
          "base_uri": "https://localhost:8080/",
          "height": 272
        },
        "outputId": "ffbacbe9-ffb5-4f96-949c-347d9a772274",
        "executionInfo": {
          "status": "ok",
          "timestamp": 1531696539465,
          "user_tz": 420,
          "elapsed": 301,
          "user": {
            "displayName": "Rima Seiilova-Olson",
            "photoUrl": "//lh3.googleusercontent.com/-8eNxaqv5nE0/AAAAAAAAAAI/AAAAAAAAAoU/Nb-EoucD9YM/s50-c-k-no/photo.jpg",
            "userId": "115856803459228045258"
          }
        }
      },
      "cell_type": "code",
      "source": [
        "housing.info()"
      ],
      "execution_count": 23,
      "outputs": [
        {
          "output_type": "stream",
          "text": [
            "<class 'pandas.core.frame.DataFrame'>\n",
            "RangeIndex: 20640 entries, 0 to 20639\n",
            "Data columns (total 10 columns):\n",
            "longitude             20640 non-null float64\n",
            "latitude              20640 non-null float64\n",
            "housing_median_age    20640 non-null float64\n",
            "total_rooms           20640 non-null float64\n",
            "total_bedrooms        20433 non-null float64\n",
            "population            20640 non-null float64\n",
            "households            20640 non-null float64\n",
            "median_income         20640 non-null float64\n",
            "median_house_value    20640 non-null float64\n",
            "ocean_proximity       20640 non-null object\n",
            "dtypes: float64(9), object(1)\n",
            "memory usage: 1.6+ MB\n"
          ],
          "name": "stdout"
        }
      ]
    },
    {
      "metadata": {
        "id": "lTzUnSuUL6dH",
        "colab_type": "code",
        "colab": {
          "autoexec": {
            "startup": false,
            "wait_interval": 0
          },
          "base_uri": "https://localhost:8080/",
          "height": 317
        },
        "outputId": "cb5c7948-f506-417a-9708-fde285d51944",
        "executionInfo": {
          "status": "ok",
          "timestamp": 1531696540227,
          "user_tz": 420,
          "elapsed": 304,
          "user": {
            "displayName": "Rima Seiilova-Olson",
            "photoUrl": "//lh3.googleusercontent.com/-8eNxaqv5nE0/AAAAAAAAAAI/AAAAAAAAAoU/Nb-EoucD9YM/s50-c-k-no/photo.jpg",
            "userId": "115856803459228045258"
          }
        }
      },
      "cell_type": "code",
      "source": [
        "housing.describe()"
      ],
      "execution_count": 24,
      "outputs": [
        {
          "output_type": "execute_result",
          "data": {
            "text/html": [
              "<div>\n",
              "<style scoped>\n",
              "    .dataframe tbody tr th:only-of-type {\n",
              "        vertical-align: middle;\n",
              "    }\n",
              "\n",
              "    .dataframe tbody tr th {\n",
              "        vertical-align: top;\n",
              "    }\n",
              "\n",
              "    .dataframe thead th {\n",
              "        text-align: right;\n",
              "    }\n",
              "</style>\n",
              "<table border=\"1\" class=\"dataframe\">\n",
              "  <thead>\n",
              "    <tr style=\"text-align: right;\">\n",
              "      <th></th>\n",
              "      <th>longitude</th>\n",
              "      <th>latitude</th>\n",
              "      <th>housing_median_age</th>\n",
              "      <th>total_rooms</th>\n",
              "      <th>total_bedrooms</th>\n",
              "      <th>population</th>\n",
              "      <th>households</th>\n",
              "      <th>median_income</th>\n",
              "      <th>median_house_value</th>\n",
              "    </tr>\n",
              "  </thead>\n",
              "  <tbody>\n",
              "    <tr>\n",
              "      <th>count</th>\n",
              "      <td>20640.000000</td>\n",
              "      <td>20640.000000</td>\n",
              "      <td>20640.000000</td>\n",
              "      <td>20640.000000</td>\n",
              "      <td>20433.000000</td>\n",
              "      <td>20640.000000</td>\n",
              "      <td>20640.000000</td>\n",
              "      <td>20640.000000</td>\n",
              "      <td>20640.000000</td>\n",
              "    </tr>\n",
              "    <tr>\n",
              "      <th>mean</th>\n",
              "      <td>-119.569704</td>\n",
              "      <td>35.631861</td>\n",
              "      <td>28.639486</td>\n",
              "      <td>2635.763081</td>\n",
              "      <td>537.870553</td>\n",
              "      <td>1425.476744</td>\n",
              "      <td>499.539680</td>\n",
              "      <td>3.870671</td>\n",
              "      <td>206855.816909</td>\n",
              "    </tr>\n",
              "    <tr>\n",
              "      <th>std</th>\n",
              "      <td>2.003532</td>\n",
              "      <td>2.135952</td>\n",
              "      <td>12.585558</td>\n",
              "      <td>2181.615252</td>\n",
              "      <td>421.385070</td>\n",
              "      <td>1132.462122</td>\n",
              "      <td>382.329753</td>\n",
              "      <td>1.899822</td>\n",
              "      <td>115395.615874</td>\n",
              "    </tr>\n",
              "    <tr>\n",
              "      <th>min</th>\n",
              "      <td>-124.350000</td>\n",
              "      <td>32.540000</td>\n",
              "      <td>1.000000</td>\n",
              "      <td>2.000000</td>\n",
              "      <td>1.000000</td>\n",
              "      <td>3.000000</td>\n",
              "      <td>1.000000</td>\n",
              "      <td>0.499900</td>\n",
              "      <td>14999.000000</td>\n",
              "    </tr>\n",
              "    <tr>\n",
              "      <th>25%</th>\n",
              "      <td>-121.800000</td>\n",
              "      <td>33.930000</td>\n",
              "      <td>18.000000</td>\n",
              "      <td>1447.750000</td>\n",
              "      <td>296.000000</td>\n",
              "      <td>787.000000</td>\n",
              "      <td>280.000000</td>\n",
              "      <td>2.563400</td>\n",
              "      <td>119600.000000</td>\n",
              "    </tr>\n",
              "    <tr>\n",
              "      <th>50%</th>\n",
              "      <td>-118.490000</td>\n",
              "      <td>34.260000</td>\n",
              "      <td>29.000000</td>\n",
              "      <td>2127.000000</td>\n",
              "      <td>435.000000</td>\n",
              "      <td>1166.000000</td>\n",
              "      <td>409.000000</td>\n",
              "      <td>3.534800</td>\n",
              "      <td>179700.000000</td>\n",
              "    </tr>\n",
              "    <tr>\n",
              "      <th>75%</th>\n",
              "      <td>-118.010000</td>\n",
              "      <td>37.710000</td>\n",
              "      <td>37.000000</td>\n",
              "      <td>3148.000000</td>\n",
              "      <td>647.000000</td>\n",
              "      <td>1725.000000</td>\n",
              "      <td>605.000000</td>\n",
              "      <td>4.743250</td>\n",
              "      <td>264725.000000</td>\n",
              "    </tr>\n",
              "    <tr>\n",
              "      <th>max</th>\n",
              "      <td>-114.310000</td>\n",
              "      <td>41.950000</td>\n",
              "      <td>52.000000</td>\n",
              "      <td>39320.000000</td>\n",
              "      <td>6445.000000</td>\n",
              "      <td>35682.000000</td>\n",
              "      <td>6082.000000</td>\n",
              "      <td>15.000100</td>\n",
              "      <td>500001.000000</td>\n",
              "    </tr>\n",
              "  </tbody>\n",
              "</table>\n",
              "</div>"
            ],
            "text/plain": [
              "          longitude      latitude  housing_median_age   total_rooms  \\\n",
              "count  20640.000000  20640.000000        20640.000000  20640.000000   \n",
              "mean    -119.569704     35.631861           28.639486   2635.763081   \n",
              "std        2.003532      2.135952           12.585558   2181.615252   \n",
              "min     -124.350000     32.540000            1.000000      2.000000   \n",
              "25%     -121.800000     33.930000           18.000000   1447.750000   \n",
              "50%     -118.490000     34.260000           29.000000   2127.000000   \n",
              "75%     -118.010000     37.710000           37.000000   3148.000000   \n",
              "max     -114.310000     41.950000           52.000000  39320.000000   \n",
              "\n",
              "       total_bedrooms    population    households  median_income  \\\n",
              "count    20433.000000  20640.000000  20640.000000   20640.000000   \n",
              "mean       537.870553   1425.476744    499.539680       3.870671   \n",
              "std        421.385070   1132.462122    382.329753       1.899822   \n",
              "min          1.000000      3.000000      1.000000       0.499900   \n",
              "25%        296.000000    787.000000    280.000000       2.563400   \n",
              "50%        435.000000   1166.000000    409.000000       3.534800   \n",
              "75%        647.000000   1725.000000    605.000000       4.743250   \n",
              "max       6445.000000  35682.000000   6082.000000      15.000100   \n",
              "\n",
              "       median_house_value  \n",
              "count        20640.000000  \n",
              "mean        206855.816909  \n",
              "std         115395.615874  \n",
              "min          14999.000000  \n",
              "25%         119600.000000  \n",
              "50%         179700.000000  \n",
              "75%         264725.000000  \n",
              "max         500001.000000  "
            ]
          },
          "metadata": {
            "tags": []
          },
          "execution_count": 24
        }
      ]
    },
    {
      "metadata": {
        "id": "u7_fIGxbLaAH",
        "colab_type": "code",
        "colab": {
          "autoexec": {
            "startup": false,
            "wait_interval": 0
          },
          "base_uri": "https://localhost:8080/",
          "height": 898
        },
        "outputId": "cfa13f6c-7146-4b3e-c1a9-f691da901500",
        "executionInfo": {
          "status": "ok",
          "timestamp": 1531696543610,
          "user_tz": 420,
          "elapsed": 3190,
          "user": {
            "displayName": "Rima Seiilova-Olson",
            "photoUrl": "//lh3.googleusercontent.com/-8eNxaqv5nE0/AAAAAAAAAAI/AAAAAAAAAoU/Nb-EoucD9YM/s50-c-k-no/photo.jpg",
            "userId": "115856803459228045258"
          }
        }
      },
      "cell_type": "code",
      "source": [
        "import matplotlib.pyplot as plt\n",
        "housing.hist(bins=50, figsize=(20,15))\n",
        "plt.show() \n",
        "\n",
        "import numpy as np\n",
        "\n",
        "def split_train_test(data, test_ratio):\n",
        "    shuffled_indices = np.random.permutation(len(data))\n",
        "    test_set_size = int(len(data) * test_ratio)\n",
        "    test_indices = shuffled_indices[:test_set_size]\n",
        "    train_indices = shuffled_indices[test_set_size:]\n",
        "    return data.iloc[train_indices], data.iloc[test_indices]"
      ],
      "execution_count": 25,
      "outputs": [
        {
          "output_type": "display_data",
          "data": {
            "image/png": "[encoded data removed]",
            "text/plain": [
              "<matplotlib.figure.Figure at 0x7fd9affcb3c8>"
            ]
          },
          "metadata": {
            "tags": []
          }
        }
      ]
    },
    {
      "metadata": {
        "id": "RjHh5q1FL3hP",
        "colab_type": "code",
        "colab": {
          "autoexec": {
            "startup": false,
            "wait_interval": 0
          }
        }
      },
      "cell_type": "code",
      "source": [
        "housing[\"rooms_per_household\"] = housing[\"total_rooms\"] / housing[\"households\"]\n",
        "housing[\"bedrooms_per_room\"] = housing[\"total_bedrooms\"] / housing[\"total_rooms\"]\n",
        "housing[\"population_per_household\"] = housing[\"population\"] / housing[\"households\"]"
      ],
      "execution_count": 0,
      "outputs": []
    },
    {
      "metadata": {
        "id": "riq-VmhNLLAi",
        "colab_type": "code",
        "colab": {
          "autoexec": {
            "startup": false,
            "wait_interval": 0
          },
          "base_uri": "https://localhost:8080/",
          "height": 119
        },
        "outputId": "2647a74c-03cd-41ce-cb6d-ee42700b6d77",
        "executionInfo": {
          "status": "ok",
          "timestamp": 1531696545199,
          "user_tz": 420,
          "elapsed": 273,
          "user": {
            "displayName": "Rima Seiilova-Olson",
            "photoUrl": "//lh3.googleusercontent.com/-8eNxaqv5nE0/AAAAAAAAAAI/AAAAAAAAAoU/Nb-EoucD9YM/s50-c-k-no/photo.jpg",
            "userId": "115856803459228045258"
          }
        }
      },
      "cell_type": "code",
      "source": [
        "housing[\"ocean_proximity\"].value_counts()"
      ],
      "execution_count": 27,
      "outputs": [
        {
          "output_type": "execute_result",
          "data": {
            "text/plain": [
              "<1H OCEAN     9136\n",
              "INLAND        6551\n",
              "NEAR OCEAN    2658\n",
              "NEAR BAY      2290\n",
              "ISLAND           5\n",
              "Name: ocean_proximity, dtype: int64"
            ]
          },
          "metadata": {
            "tags": []
          },
          "execution_count": 27
        }
      ]
    },
    {
      "metadata": {
        "id": "pii578KZNZyt",
        "colab_type": "code",
        "colab": {
          "autoexec": {
            "startup": false,
            "wait_interval": 0
          },
          "base_uri": "https://localhost:8080/",
          "height": 34
        },
        "outputId": "72e39de0-8071-4cbb-dbe7-b692fda571c9",
        "executionInfo": {
          "status": "ok",
          "timestamp": 1531696546206,
          "user_tz": 420,
          "elapsed": 329,
          "user": {
            "displayName": "Rima Seiilova-Olson",
            "photoUrl": "//lh3.googleusercontent.com/-8eNxaqv5nE0/AAAAAAAAAAI/AAAAAAAAAoU/Nb-EoucD9YM/s50-c-k-no/photo.jpg",
            "userId": "115856803459228045258"
          }
        }
      },
      "cell_type": "code",
      "source": [
        "train_set, test_set = split_train_test(housing, 0.2)\n",
        "\n",
        "print(len(train_set), \"train +\", len(test_set), \"test\")"
      ],
      "execution_count": 28,
      "outputs": [
        {
          "output_type": "stream",
          "text": [
            "16512 train + 4128 test\n"
          ],
          "name": "stdout"
        }
      ]
    },
    {
      "metadata": {
        "id": "1Olk49MQDavI",
        "colab_type": "code",
        "colab": {
          "autoexec": {
            "startup": false,
            "wait_interval": 0
          }
        }
      },
      "cell_type": "code",
      "source": [
        "fetch_housing_data()"
      ],
      "execution_count": 0,
      "outputs": []
    },
    {
      "metadata": {
        "id": "swFG5nIcEOBm",
        "colab_type": "code",
        "colab": {
          "autoexec": {
            "startup": false,
            "wait_interval": 0
          }
        }
      },
      "cell_type": "code",
      "source": [
        "import pandas as pd\n",
        "def load_housing_data(housing_path=HOUSING_PATH):\n",
        "  csv_path = os.path.join(housing_path, \"housing.csv\")\n",
        "  return pd.read_csv(csv_path)"
      ],
      "execution_count": 0,
      "outputs": []
    },
    {
      "metadata": {
        "id": "ZyP0Vc9LMI8z",
        "colab_type": "code",
        "colab": {
          "autoexec": {
            "startup": false,
            "wait_interval": 0
          },
          "base_uri": "https://localhost:8080/",
          "height": 224
        },
        "outputId": "5ae64464-0786-43a1-a988-96ace1f0c8e4",
        "executionInfo": {
          "status": "ok",
          "timestamp": 1531696548786,
          "user_tz": 420,
          "elapsed": 487,
          "user": {
            "displayName": "Rima Seiilova-Olson",
            "photoUrl": "//lh3.googleusercontent.com/-8eNxaqv5nE0/AAAAAAAAAAI/AAAAAAAAAoU/Nb-EoucD9YM/s50-c-k-no/photo.jpg",
            "userId": "115856803459228045258"
          }
        }
      },
      "cell_type": "code",
      "source": [
        "housing.head()"
      ],
      "execution_count": 31,
      "outputs": [
        {
          "output_type": "execute_result",
          "data": {
            "text/html": [
              "<div>\n",
              "<style scoped>\n",
              "    .dataframe tbody tr th:only-of-type {\n",
              "        vertical-align: middle;\n",
              "    }\n",
              "\n",
              "    .dataframe tbody tr th {\n",
              "        vertical-align: top;\n",
              "    }\n",
              "\n",
              "    .dataframe thead th {\n",
              "        text-align: right;\n",
              "    }\n",
              "</style>\n",
              "<table border=\"1\" class=\"dataframe\">\n",
              "  <thead>\n",
              "    <tr style=\"text-align: right;\">\n",
              "      <th></th>\n",
              "      <th>longitude</th>\n",
              "      <th>latitude</th>\n",
              "      <th>housing_median_age</th>\n",
              "      <th>total_rooms</th>\n",
              "      <th>total_bedrooms</th>\n",
              "      <th>population</th>\n",
              "      <th>households</th>\n",
              "      <th>median_income</th>\n",
              "      <th>median_house_value</th>\n",
              "      <th>ocean_proximity</th>\n",
              "      <th>rooms_per_household</th>\n",
              "      <th>bedrooms_per_room</th>\n",
              "      <th>population_per_household</th>\n",
              "    </tr>\n",
              "  </thead>\n",
              "  <tbody>\n",
              "    <tr>\n",
              "      <th>0</th>\n",
              "      <td>-122.23</td>\n",
              "      <td>37.88</td>\n",
              "      <td>41.0</td>\n",
              "      <td>880.0</td>\n",
              "      <td>129.0</td>\n",
              "      <td>322.0</td>\n",
              "      <td>126.0</td>\n",
              "      <td>8.3252</td>\n",
              "      <td>452600.0</td>\n",
              "      <td>NEAR BAY</td>\n",
              "      <td>6.984127</td>\n",
              "      <td>0.146591</td>\n",
              "      <td>2.555556</td>\n",
              "    </tr>\n",
              "    <tr>\n",
              "      <th>1</th>\n",
              "      <td>-122.22</td>\n",
              "      <td>37.86</td>\n",
              "      <td>21.0</td>\n",
              "      <td>7099.0</td>\n",
              "      <td>1106.0</td>\n",
              "      <td>2401.0</td>\n",
              "      <td>1138.0</td>\n",
              "      <td>8.3014</td>\n",
              "      <td>358500.0</td>\n",
              "      <td>NEAR BAY</td>\n",
              "      <td>6.238137</td>\n",
              "      <td>0.155797</td>\n",
              "      <td>2.109842</td>\n",
              "    </tr>\n",
              "    <tr>\n",
              "      <th>2</th>\n",
              "      <td>-122.24</td>\n",
              "      <td>37.85</td>\n",
              "      <td>52.0</td>\n",
              "      <td>1467.0</td>\n",
              "      <td>190.0</td>\n",
              "      <td>496.0</td>\n",
              "      <td>177.0</td>\n",
              "      <td>7.2574</td>\n",
              "      <td>352100.0</td>\n",
              "      <td>NEAR BAY</td>\n",
              "      <td>8.288136</td>\n",
              "      <td>0.129516</td>\n",
              "      <td>2.802260</td>\n",
              "    </tr>\n",
              "    <tr>\n",
              "      <th>3</th>\n",
              "      <td>-122.25</td>\n",
              "      <td>37.85</td>\n",
              "      <td>52.0</td>\n",
              "      <td>1274.0</td>\n",
              "      <td>235.0</td>\n",
              "      <td>558.0</td>\n",
              "      <td>219.0</td>\n",
              "      <td>5.6431</td>\n",
              "      <td>341300.0</td>\n",
              "      <td>NEAR BAY</td>\n",
              "      <td>5.817352</td>\n",
              "      <td>0.184458</td>\n",
              "      <td>2.547945</td>\n",
              "    </tr>\n",
              "    <tr>\n",
              "      <th>4</th>\n",
              "      <td>-122.25</td>\n",
              "      <td>37.85</td>\n",
              "      <td>52.0</td>\n",
              "      <td>1627.0</td>\n",
              "      <td>280.0</td>\n",
              "      <td>565.0</td>\n",
              "      <td>259.0</td>\n",
              "      <td>3.8462</td>\n",
              "      <td>342200.0</td>\n",
              "      <td>NEAR BAY</td>\n",
              "      <td>6.281853</td>\n",
              "      <td>0.172096</td>\n",
              "      <td>2.181467</td>\n",
              "    </tr>\n",
              "  </tbody>\n",
              "</table>\n",
              "</div>"
            ],
            "text/plain": [
              "   longitude  latitude  housing_median_age  total_rooms  total_bedrooms  \\\n",
              "0    -122.23     37.88                41.0        880.0           129.0   \n",
              "1    -122.22     37.86                21.0       7099.0          1106.0   \n",
              "2    -122.24     37.85                52.0       1467.0           190.0   \n",
              "3    -122.25     37.85                52.0       1274.0           235.0   \n",
              "4    -122.25     37.85                52.0       1627.0           280.0   \n",
              "\n",
              "   population  households  median_income  median_house_value ocean_proximity  \\\n",
              "0       322.0       126.0         8.3252            452600.0        NEAR BAY   \n",
              "1      2401.0      1138.0         8.3014            358500.0        NEAR BAY   \n",
              "2       496.0       177.0         7.2574            352100.0        NEAR BAY   \n",
              "3       558.0       219.0         5.6431            341300.0        NEAR BAY   \n",
              "4       565.0       259.0         3.8462            342200.0        NEAR BAY   \n",
              "\n",
              "   rooms_per_household  bedrooms_per_room  population_per_household  \n",
              "0             6.984127           0.146591                  2.555556  \n",
              "1             6.238137           0.155797                  2.109842  \n",
              "2             8.288136           0.129516                  2.802260  \n",
              "3             5.817352           0.184458                  2.547945  \n",
              "4             6.281853           0.172096                  2.181467  "
            ]
          },
          "metadata": {
            "tags": []
          },
          "execution_count": 31
        }
      ]
    },
    {
      "metadata": {
        "id": "IHHuOr4fFSqW",
        "colab_type": "code",
        "colab": {
          "autoexec": {
            "startup": false,
            "wait_interval": 0
          }
        }
      },
      "cell_type": "code",
      "source": [
        "housing[\"income_cat\"] = np.ceil(housing[\"median_income\"] / 1.5)"
      ],
      "execution_count": 0,
      "outputs": []
    },
    {
      "metadata": {
        "id": "ReQ6uDJzBcdL",
        "colab_type": "code",
        "colab": {
          "autoexec": {
            "startup": false,
            "wait_interval": 0
          },
          "base_uri": "https://localhost:8080/",
          "height": 317
        },
        "outputId": "69aca38a-7741-48bb-9af3-e9cf7c0d937b",
        "executionInfo": {
          "status": "ok",
          "timestamp": 1531696549785,
          "user_tz": 420,
          "elapsed": 286,
          "user": {
            "displayName": "Rima Seiilova-Olson",
            "photoUrl": "//lh3.googleusercontent.com/-8eNxaqv5nE0/AAAAAAAAAAI/AAAAAAAAAoU/Nb-EoucD9YM/s50-c-k-no/photo.jpg",
            "userId": "115856803459228045258"
          }
        }
      },
      "cell_type": "code",
      "source": [
        "housing.describe()"
      ],
      "execution_count": 33,
      "outputs": [
        {
          "output_type": "execute_result",
          "data": {
            "text/html": [
              "<div>\n",
              "<style scoped>\n",
              "    .dataframe tbody tr th:only-of-type {\n",
              "        vertical-align: middle;\n",
              "    }\n",
              "\n",
              "    .dataframe tbody tr th {\n",
              "        vertical-align: top;\n",
              "    }\n",
              "\n",
              "    .dataframe thead th {\n",
              "        text-align: right;\n",
              "    }\n",
              "</style>\n",
              "<table border=\"1\" class=\"dataframe\">\n",
              "  <thead>\n",
              "    <tr style=\"text-align: right;\">\n",
              "      <th></th>\n",
              "      <th>longitude</th>\n",
              "      <th>latitude</th>\n",
              "      <th>housing_median_age</th>\n",
              "      <th>total_rooms</th>\n",
              "      <th>total_bedrooms</th>\n",
              "      <th>population</th>\n",
              "      <th>households</th>\n",
              "      <th>median_income</th>\n",
              "      <th>median_house_value</th>\n",
              "      <th>rooms_per_household</th>\n",
              "      <th>bedrooms_per_room</th>\n",
              "      <th>population_per_household</th>\n",
              "      <th>income_cat</th>\n",
              "    </tr>\n",
              "  </thead>\n",
              "  <tbody>\n",
              "    <tr>\n",
              "      <th>count</th>\n",
              "      <td>20640.000000</td>\n",
              "      <td>20640.000000</td>\n",
              "      <td>20640.000000</td>\n",
              "      <td>20640.000000</td>\n",
              "      <td>20433.000000</td>\n",
              "      <td>20640.000000</td>\n",
              "      <td>20640.000000</td>\n",
              "      <td>20640.000000</td>\n",
              "      <td>20640.000000</td>\n",
              "      <td>20640.000000</td>\n",
              "      <td>20433.000000</td>\n",
              "      <td>20640.000000</td>\n",
              "      <td>20640.000000</td>\n",
              "    </tr>\n",
              "    <tr>\n",
              "      <th>mean</th>\n",
              "      <td>-119.569704</td>\n",
              "      <td>35.631861</td>\n",
              "      <td>28.639486</td>\n",
              "      <td>2635.763081</td>\n",
              "      <td>537.870553</td>\n",
              "      <td>1425.476744</td>\n",
              "      <td>499.539680</td>\n",
              "      <td>3.870671</td>\n",
              "      <td>206855.816909</td>\n",
              "      <td>5.429000</td>\n",
              "      <td>0.213039</td>\n",
              "      <td>3.070655</td>\n",
              "      <td>3.093362</td>\n",
              "    </tr>\n",
              "    <tr>\n",
              "      <th>std</th>\n",
              "      <td>2.003532</td>\n",
              "      <td>2.135952</td>\n",
              "      <td>12.585558</td>\n",
              "      <td>2181.615252</td>\n",
              "      <td>421.385070</td>\n",
              "      <td>1132.462122</td>\n",
              "      <td>382.329753</td>\n",
              "      <td>1.899822</td>\n",
              "      <td>115395.615874</td>\n",
              "      <td>2.474173</td>\n",
              "      <td>0.057983</td>\n",
              "      <td>10.386050</td>\n",
              "      <td>1.303707</td>\n",
              "    </tr>\n",
              "    <tr>\n",
              "      <th>min</th>\n",
              "      <td>-124.350000</td>\n",
              "      <td>32.540000</td>\n",
              "      <td>1.000000</td>\n",
              "      <td>2.000000</td>\n",
              "      <td>1.000000</td>\n",
              "      <td>3.000000</td>\n",
              "      <td>1.000000</td>\n",
              "      <td>0.499900</td>\n",
              "      <td>14999.000000</td>\n",
              "      <td>0.846154</td>\n",
              "      <td>0.100000</td>\n",
              "      <td>0.692308</td>\n",
              "      <td>1.000000</td>\n",
              "    </tr>\n",
              "    <tr>\n",
              "      <th>25%</th>\n",
              "      <td>-121.800000</td>\n",
              "      <td>33.930000</td>\n",
              "      <td>18.000000</td>\n",
              "      <td>1447.750000</td>\n",
              "      <td>296.000000</td>\n",
              "      <td>787.000000</td>\n",
              "      <td>280.000000</td>\n",
              "      <td>2.563400</td>\n",
              "      <td>119600.000000</td>\n",
              "      <td>4.440716</td>\n",
              "      <td>0.175427</td>\n",
              "      <td>2.429741</td>\n",
              "      <td>2.000000</td>\n",
              "    </tr>\n",
              "    <tr>\n",
              "      <th>50%</th>\n",
              "      <td>-118.490000</td>\n",
              "      <td>34.260000</td>\n",
              "      <td>29.000000</td>\n",
              "      <td>2127.000000</td>\n",
              "      <td>435.000000</td>\n",
              "      <td>1166.000000</td>\n",
              "      <td>409.000000</td>\n",
              "      <td>3.534800</td>\n",
              "      <td>179700.000000</td>\n",
              "      <td>5.229129</td>\n",
              "      <td>0.203162</td>\n",
              "      <td>2.818116</td>\n",
              "      <td>3.000000</td>\n",
              "    </tr>\n",
              "    <tr>\n",
              "      <th>75%</th>\n",
              "      <td>-118.010000</td>\n",
              "      <td>37.710000</td>\n",
              "      <td>37.000000</td>\n",
              "      <td>3148.000000</td>\n",
              "      <td>647.000000</td>\n",
              "      <td>1725.000000</td>\n",
              "      <td>605.000000</td>\n",
              "      <td>4.743250</td>\n",
              "      <td>264725.000000</td>\n",
              "      <td>6.052381</td>\n",
              "      <td>0.239821</td>\n",
              "      <td>3.282261</td>\n",
              "      <td>4.000000</td>\n",
              "    </tr>\n",
              "    <tr>\n",
              "      <th>max</th>\n",
              "      <td>-114.310000</td>\n",
              "      <td>41.950000</td>\n",
              "      <td>52.000000</td>\n",
              "      <td>39320.000000</td>\n",
              "      <td>6445.000000</td>\n",
              "      <td>35682.000000</td>\n",
              "      <td>6082.000000</td>\n",
              "      <td>15.000100</td>\n",
              "      <td>500001.000000</td>\n",
              "      <td>141.909091</td>\n",
              "      <td>1.000000</td>\n",
              "      <td>1243.333333</td>\n",
              "      <td>11.000000</td>\n",
              "    </tr>\n",
              "  </tbody>\n",
              "</table>\n",
              "</div>"
            ],
            "text/plain": [
              "          longitude      latitude  housing_median_age   total_rooms  \\\n",
              "count  20640.000000  20640.000000        20640.000000  20640.000000   \n",
              "mean    -119.569704     35.631861           28.639486   2635.763081   \n",
              "std        2.003532      2.135952           12.585558   2181.615252   \n",
              "min     -124.350000     32.540000            1.000000      2.000000   \n",
              "25%     -121.800000     33.930000           18.000000   1447.750000   \n",
              "50%     -118.490000     34.260000           29.000000   2127.000000   \n",
              "75%     -118.010000     37.710000           37.000000   3148.000000   \n",
              "max     -114.310000     41.950000           52.000000  39320.000000   \n",
              "\n",
              "       total_bedrooms    population    households  median_income  \\\n",
              "count    20433.000000  20640.000000  20640.000000   20640.000000   \n",
              "mean       537.870553   1425.476744    499.539680       3.870671   \n",
              "std        421.385070   1132.462122    382.329753       1.899822   \n",
              "min          1.000000      3.000000      1.000000       0.499900   \n",
              "25%        296.000000    787.000000    280.000000       2.563400   \n",
              "50%        435.000000   1166.000000    409.000000       3.534800   \n",
              "75%        647.000000   1725.000000    605.000000       4.743250   \n",
              "max       6445.000000  35682.000000   6082.000000      15.000100   \n",
              "\n",
              "       median_house_value  rooms_per_household  bedrooms_per_room  \\\n",
              "count        20640.000000         20640.000000       20433.000000   \n",
              "mean        206855.816909             5.429000           0.213039   \n",
              "std         115395.615874             2.474173           0.057983   \n",
              "min          14999.000000             0.846154           0.100000   \n",
              "25%         119600.000000             4.440716           0.175427   \n",
              "50%         179700.000000             5.229129           0.203162   \n",
              "75%         264725.000000             6.052381           0.239821   \n",
              "max         500001.000000           141.909091           1.000000   \n",
              "\n",
              "       population_per_household    income_cat  \n",
              "count              20640.000000  20640.000000  \n",
              "mean                   3.070655      3.093362  \n",
              "std                   10.386050      1.303707  \n",
              "min                    0.692308      1.000000  \n",
              "25%                    2.429741      2.000000  \n",
              "50%                    2.818116      3.000000  \n",
              "75%                    3.282261      4.000000  \n",
              "max                 1243.333333     11.000000  "
            ]
          },
          "metadata": {
            "tags": []
          },
          "execution_count": 33
        }
      ]
    },
    {
      "metadata": {
        "id": "0KKXporGBt3m",
        "colab_type": "code",
        "colab": {
          "autoexec": {
            "startup": false,
            "wait_interval": 0
          }
        }
      },
      "cell_type": "code",
      "source": [
        "housing[\"income_cat\"].where(housing[\"income_cat\"] < 5, 5.0, inplace= True)"
      ],
      "execution_count": 0,
      "outputs": []
    },
    {
      "metadata": {
        "id": "XbDCZtF0CkT8",
        "colab_type": "code",
        "colab": {
          "autoexec": {
            "startup": false,
            "wait_interval": 0
          },
          "base_uri": "https://localhost:8080/",
          "height": 317
        },
        "outputId": "d13d132d-8bfc-4634-882e-5da78bab6236",
        "executionInfo": {
          "status": "ok",
          "timestamp": 1531696552894,
          "user_tz": 420,
          "elapsed": 2143,
          "user": {
            "displayName": "Rima Seiilova-Olson",
            "photoUrl": "//lh3.googleusercontent.com/-8eNxaqv5nE0/AAAAAAAAAAI/AAAAAAAAAoU/Nb-EoucD9YM/s50-c-k-no/photo.jpg",
            "userId": "115856803459228045258"
          }
        }
      },
      "cell_type": "code",
      "source": [
        "housing.describe()"
      ],
      "execution_count": 35,
      "outputs": [
        {
          "output_type": "execute_result",
          "data": {
            "text/html": [
              "<div>\n",
              "<style scoped>\n",
              "    .dataframe tbody tr th:only-of-type {\n",
              "        vertical-align: middle;\n",
              "    }\n",
              "\n",
              "    .dataframe tbody tr th {\n",
              "        vertical-align: top;\n",
              "    }\n",
              "\n",
              "    .dataframe thead th {\n",
              "        text-align: right;\n",
              "    }\n",
              "</style>\n",
              "<table border=\"1\" class=\"dataframe\">\n",
              "  <thead>\n",
              "    <tr style=\"text-align: right;\">\n",
              "      <th></th>\n",
              "      <th>longitude</th>\n",
              "      <th>latitude</th>\n",
              "      <th>housing_median_age</th>\n",
              "      <th>total_rooms</th>\n",
              "      <th>total_bedrooms</th>\n",
              "      <th>population</th>\n",
              "      <th>households</th>\n",
              "      <th>median_income</th>\n",
              "      <th>median_house_value</th>\n",
              "      <th>rooms_per_household</th>\n",
              "      <th>bedrooms_per_room</th>\n",
              "      <th>population_per_household</th>\n",
              "      <th>income_cat</th>\n",
              "    </tr>\n",
              "  </thead>\n",
              "  <tbody>\n",
              "    <tr>\n",
              "      <th>count</th>\n",
              "      <td>20640.000000</td>\n",
              "      <td>20640.000000</td>\n",
              "      <td>20640.000000</td>\n",
              "      <td>20640.000000</td>\n",
              "      <td>20433.000000</td>\n",
              "      <td>20640.000000</td>\n",
              "      <td>20640.000000</td>\n",
              "      <td>20640.000000</td>\n",
              "      <td>20640.000000</td>\n",
              "      <td>20640.000000</td>\n",
              "      <td>20433.000000</td>\n",
              "      <td>20640.000000</td>\n",
              "      <td>20640.000000</td>\n",
              "    </tr>\n",
              "    <tr>\n",
              "      <th>mean</th>\n",
              "      <td>-119.569704</td>\n",
              "      <td>35.631861</td>\n",
              "      <td>28.639486</td>\n",
              "      <td>2635.763081</td>\n",
              "      <td>537.870553</td>\n",
              "      <td>1425.476744</td>\n",
              "      <td>499.539680</td>\n",
              "      <td>3.870671</td>\n",
              "      <td>206855.816909</td>\n",
              "      <td>5.429000</td>\n",
              "      <td>0.213039</td>\n",
              "      <td>3.070655</td>\n",
              "      <td>3.006686</td>\n",
              "    </tr>\n",
              "    <tr>\n",
              "      <th>std</th>\n",
              "      <td>2.003532</td>\n",
              "      <td>2.135952</td>\n",
              "      <td>12.585558</td>\n",
              "      <td>2181.615252</td>\n",
              "      <td>421.385070</td>\n",
              "      <td>1132.462122</td>\n",
              "      <td>382.329753</td>\n",
              "      <td>1.899822</td>\n",
              "      <td>115395.615874</td>\n",
              "      <td>2.474173</td>\n",
              "      <td>0.057983</td>\n",
              "      <td>10.386050</td>\n",
              "      <td>1.054618</td>\n",
              "    </tr>\n",
              "    <tr>\n",
              "      <th>min</th>\n",
              "      <td>-124.350000</td>\n",
              "      <td>32.540000</td>\n",
              "      <td>1.000000</td>\n",
              "      <td>2.000000</td>\n",
              "      <td>1.000000</td>\n",
              "      <td>3.000000</td>\n",
              "      <td>1.000000</td>\n",
              "      <td>0.499900</td>\n",
              "      <td>14999.000000</td>\n",
              "      <td>0.846154</td>\n",
              "      <td>0.100000</td>\n",
              "      <td>0.692308</td>\n",
              "      <td>1.000000</td>\n",
              "    </tr>\n",
              "    <tr>\n",
              "      <th>25%</th>\n",
              "      <td>-121.800000</td>\n",
              "      <td>33.930000</td>\n",
              "      <td>18.000000</td>\n",
              "      <td>1447.750000</td>\n",
              "      <td>296.000000</td>\n",
              "      <td>787.000000</td>\n",
              "      <td>280.000000</td>\n",
              "      <td>2.563400</td>\n",
              "      <td>119600.000000</td>\n",
              "      <td>4.440716</td>\n",
              "      <td>0.175427</td>\n",
              "      <td>2.429741</td>\n",
              "      <td>2.000000</td>\n",
              "    </tr>\n",
              "    <tr>\n",
              "      <th>50%</th>\n",
              "      <td>-118.490000</td>\n",
              "      <td>34.260000</td>\n",
              "      <td>29.000000</td>\n",
              "      <td>2127.000000</td>\n",
              "      <td>435.000000</td>\n",
              "      <td>1166.000000</td>\n",
              "      <td>409.000000</td>\n",
              "      <td>3.534800</td>\n",
              "      <td>179700.000000</td>\n",
              "      <td>5.229129</td>\n",
              "      <td>0.203162</td>\n",
              "      <td>2.818116</td>\n",
              "      <td>3.000000</td>\n",
              "    </tr>\n",
              "    <tr>\n",
              "      <th>75%</th>\n",
              "      <td>-118.010000</td>\n",
              "      <td>37.710000</td>\n",
              "      <td>37.000000</td>\n",
              "      <td>3148.000000</td>\n",
              "      <td>647.000000</td>\n",
              "      <td>1725.000000</td>\n",
              "      <td>605.000000</td>\n",
              "      <td>4.743250</td>\n",
              "      <td>264725.000000</td>\n",
              "      <td>6.052381</td>\n",
              "      <td>0.239821</td>\n",
              "      <td>3.282261</td>\n",
              "      <td>4.000000</td>\n",
              "    </tr>\n",
              "    <tr>\n",
              "      <th>max</th>\n",
              "      <td>-114.310000</td>\n",
              "      <td>41.950000</td>\n",
              "      <td>52.000000</td>\n",
              "      <td>39320.000000</td>\n",
              "      <td>6445.000000</td>\n",
              "      <td>35682.000000</td>\n",
              "      <td>6082.000000</td>\n",
              "      <td>15.000100</td>\n",
              "      <td>500001.000000</td>\n",
              "      <td>141.909091</td>\n",
              "      <td>1.000000</td>\n",
              "      <td>1243.333333</td>\n",
              "      <td>5.000000</td>\n",
              "    </tr>\n",
              "  </tbody>\n",
              "</table>\n",
              "</div>"
            ],
            "text/plain": [
              "          longitude      latitude  housing_median_age   total_rooms  \\\n",
              "count  20640.000000  20640.000000        20640.000000  20640.000000   \n",
              "mean    -119.569704     35.631861           28.639486   2635.763081   \n",
              "std        2.003532      2.135952           12.585558   2181.615252   \n",
              "min     -124.350000     32.540000            1.000000      2.000000   \n",
              "25%     -121.800000     33.930000           18.000000   1447.750000   \n",
              "50%     -118.490000     34.260000           29.000000   2127.000000   \n",
              "75%     -118.010000     37.710000           37.000000   3148.000000   \n",
              "max     -114.310000     41.950000           52.000000  39320.000000   \n",
              "\n",
              "       total_bedrooms    population    households  median_income  \\\n",
              "count    20433.000000  20640.000000  20640.000000   20640.000000   \n",
              "mean       537.870553   1425.476744    499.539680       3.870671   \n",
              "std        421.385070   1132.462122    382.329753       1.899822   \n",
              "min          1.000000      3.000000      1.000000       0.499900   \n",
              "25%        296.000000    787.000000    280.000000       2.563400   \n",
              "50%        435.000000   1166.000000    409.000000       3.534800   \n",
              "75%        647.000000   1725.000000    605.000000       4.743250   \n",
              "max       6445.000000  35682.000000   6082.000000      15.000100   \n",
              "\n",
              "       median_house_value  rooms_per_household  bedrooms_per_room  \\\n",
              "count        20640.000000         20640.000000       20433.000000   \n",
              "mean        206855.816909             5.429000           0.213039   \n",
              "std         115395.615874             2.474173           0.057983   \n",
              "min          14999.000000             0.846154           0.100000   \n",
              "25%         119600.000000             4.440716           0.175427   \n",
              "50%         179700.000000             5.229129           0.203162   \n",
              "75%         264725.000000             6.052381           0.239821   \n",
              "max         500001.000000           141.909091           1.000000   \n",
              "\n",
              "       population_per_household    income_cat  \n",
              "count              20640.000000  20640.000000  \n",
              "mean                   3.070655      3.006686  \n",
              "std                   10.386050      1.054618  \n",
              "min                    0.692308      1.000000  \n",
              "25%                    2.429741      2.000000  \n",
              "50%                    2.818116      3.000000  \n",
              "75%                    3.282261      4.000000  \n",
              "max                 1243.333333      5.000000  "
            ]
          },
          "metadata": {
            "tags": []
          },
          "execution_count": 35
        }
      ]
    },
    {
      "metadata": {
        "id": "Peg2j07eMpw8",
        "colab_type": "code",
        "colab": {
          "autoexec": {
            "startup": false,
            "wait_interval": 0
          },
          "base_uri": "https://localhost:8080/",
          "height": 224
        },
        "outputId": "a1c3d3c4-8b2b-475d-f220-3f5aaf722608",
        "executionInfo": {
          "status": "ok",
          "timestamp": 1531696554689,
          "user_tz": 420,
          "elapsed": 1486,
          "user": {
            "displayName": "Rima Seiilova-Olson",
            "photoUrl": "//lh3.googleusercontent.com/-8eNxaqv5nE0/AAAAAAAAAAI/AAAAAAAAAoU/Nb-EoucD9YM/s50-c-k-no/photo.jpg",
            "userId": "115856803459228045258"
          }
        }
      },
      "cell_type": "code",
      "source": [
        "housing.head()"
      ],
      "execution_count": 36,
      "outputs": [
        {
          "output_type": "execute_result",
          "data": {
            "text/html": [
              "<div>\n",
              "<style scoped>\n",
              "    .dataframe tbody tr th:only-of-type {\n",
              "        vertical-align: middle;\n",
              "    }\n",
              "\n",
              "    .dataframe tbody tr th {\n",
              "        vertical-align: top;\n",
              "    }\n",
              "\n",
              "    .dataframe thead th {\n",
              "        text-align: right;\n",
              "    }\n",
              "</style>\n",
              "<table border=\"1\" class=\"dataframe\">\n",
              "  <thead>\n",
              "    <tr style=\"text-align: right;\">\n",
              "      <th></th>\n",
              "      <th>longitude</th>\n",
              "      <th>latitude</th>\n",
              "      <th>housing_median_age</th>\n",
              "      <th>total_rooms</th>\n",
              "      <th>total_bedrooms</th>\n",
              "      <th>population</th>\n",
              "      <th>households</th>\n",
              "      <th>median_income</th>\n",
              "      <th>median_house_value</th>\n",
              "      <th>ocean_proximity</th>\n",
              "      <th>rooms_per_household</th>\n",
              "      <th>bedrooms_per_room</th>\n",
              "      <th>population_per_household</th>\n",
              "      <th>income_cat</th>\n",
              "    </tr>\n",
              "  </thead>\n",
              "  <tbody>\n",
              "    <tr>\n",
              "      <th>0</th>\n",
              "      <td>-122.23</td>\n",
              "      <td>37.88</td>\n",
              "      <td>41.0</td>\n",
              "      <td>880.0</td>\n",
              "      <td>129.0</td>\n",
              "      <td>322.0</td>\n",
              "      <td>126.0</td>\n",
              "      <td>8.3252</td>\n",
              "      <td>452600.0</td>\n",
              "      <td>NEAR BAY</td>\n",
              "      <td>6.984127</td>\n",
              "      <td>0.146591</td>\n",
              "      <td>2.555556</td>\n",
              "      <td>5.0</td>\n",
              "    </tr>\n",
              "    <tr>\n",
              "      <th>1</th>\n",
              "      <td>-122.22</td>\n",
              "      <td>37.86</td>\n",
              "      <td>21.0</td>\n",
              "      <td>7099.0</td>\n",
              "      <td>1106.0</td>\n",
              "      <td>2401.0</td>\n",
              "      <td>1138.0</td>\n",
              "      <td>8.3014</td>\n",
              "      <td>358500.0</td>\n",
              "      <td>NEAR BAY</td>\n",
              "      <td>6.238137</td>\n",
              "      <td>0.155797</td>\n",
              "      <td>2.109842</td>\n",
              "      <td>5.0</td>\n",
              "    </tr>\n",
              "    <tr>\n",
              "      <th>2</th>\n",
              "      <td>-122.24</td>\n",
              "      <td>37.85</td>\n",
              "      <td>52.0</td>\n",
              "      <td>1467.0</td>\n",
              "      <td>190.0</td>\n",
              "      <td>496.0</td>\n",
              "      <td>177.0</td>\n",
              "      <td>7.2574</td>\n",
              "      <td>352100.0</td>\n",
              "      <td>NEAR BAY</td>\n",
              "      <td>8.288136</td>\n",
              "      <td>0.129516</td>\n",
              "      <td>2.802260</td>\n",
              "      <td>5.0</td>\n",
              "    </tr>\n",
              "    <tr>\n",
              "      <th>3</th>\n",
              "      <td>-122.25</td>\n",
              "      <td>37.85</td>\n",
              "      <td>52.0</td>\n",
              "      <td>1274.0</td>\n",
              "      <td>235.0</td>\n",
              "      <td>558.0</td>\n",
              "      <td>219.0</td>\n",
              "      <td>5.6431</td>\n",
              "      <td>341300.0</td>\n",
              "      <td>NEAR BAY</td>\n",
              "      <td>5.817352</td>\n",
              "      <td>0.184458</td>\n",
              "      <td>2.547945</td>\n",
              "      <td>4.0</td>\n",
              "    </tr>\n",
              "    <tr>\n",
              "      <th>4</th>\n",
              "      <td>-122.25</td>\n",
              "      <td>37.85</td>\n",
              "      <td>52.0</td>\n",
              "      <td>1627.0</td>\n",
              "      <td>280.0</td>\n",
              "      <td>565.0</td>\n",
              "      <td>259.0</td>\n",
              "      <td>3.8462</td>\n",
              "      <td>342200.0</td>\n",
              "      <td>NEAR BAY</td>\n",
              "      <td>6.281853</td>\n",
              "      <td>0.172096</td>\n",
              "      <td>2.181467</td>\n",
              "      <td>3.0</td>\n",
              "    </tr>\n",
              "  </tbody>\n",
              "</table>\n",
              "</div>"
            ],
            "text/plain": [
              "   longitude  latitude  housing_median_age  total_rooms  total_bedrooms  \\\n",
              "0    -122.23     37.88                41.0        880.0           129.0   \n",
              "1    -122.22     37.86                21.0       7099.0          1106.0   \n",
              "2    -122.24     37.85                52.0       1467.0           190.0   \n",
              "3    -122.25     37.85                52.0       1274.0           235.0   \n",
              "4    -122.25     37.85                52.0       1627.0           280.0   \n",
              "\n",
              "   population  households  median_income  median_house_value ocean_proximity  \\\n",
              "0       322.0       126.0         8.3252            452600.0        NEAR BAY   \n",
              "1      2401.0      1138.0         8.3014            358500.0        NEAR BAY   \n",
              "2       496.0       177.0         7.2574            352100.0        NEAR BAY   \n",
              "3       558.0       219.0         5.6431            341300.0        NEAR BAY   \n",
              "4       565.0       259.0         3.8462            342200.0        NEAR BAY   \n",
              "\n",
              "   rooms_per_household  bedrooms_per_room  population_per_household  \\\n",
              "0             6.984127           0.146591                  2.555556   \n",
              "1             6.238137           0.155797                  2.109842   \n",
              "2             8.288136           0.129516                  2.802260   \n",
              "3             5.817352           0.184458                  2.547945   \n",
              "4             6.281853           0.172096                  2.181467   \n",
              "\n",
              "   income_cat  \n",
              "0         5.0  \n",
              "1         5.0  \n",
              "2         5.0  \n",
              "3         4.0  \n",
              "4         3.0  "
            ]
          },
          "metadata": {
            "tags": []
          },
          "execution_count": 36
        }
      ]
    },
    {
      "metadata": {
        "id": "wIlrKxf5Cl2R",
        "colab_type": "code",
        "colab": {
          "autoexec": {
            "startup": false,
            "wait_interval": 0
          },
          "base_uri": "https://localhost:8080/",
          "height": 119
        },
        "outputId": "51cdd22a-66ef-48c6-f576-a9675b634b9f",
        "executionInfo": {
          "status": "ok",
          "timestamp": 1531696555151,
          "user_tz": 420,
          "elapsed": 286,
          "user": {
            "displayName": "Rima Seiilova-Olson",
            "photoUrl": "//lh3.googleusercontent.com/-8eNxaqv5nE0/AAAAAAAAAAI/AAAAAAAAAoU/Nb-EoucD9YM/s50-c-k-no/photo.jpg",
            "userId": "115856803459228045258"
          }
        }
      },
      "cell_type": "code",
      "source": [
        "housing[\"income_cat\"].value_counts() / len(housing)"
      ],
      "execution_count": 37,
      "outputs": [
        {
          "output_type": "execute_result",
          "data": {
            "text/plain": [
              "3.0    0.350581\n",
              "2.0    0.318847\n",
              "4.0    0.176308\n",
              "5.0    0.114438\n",
              "1.0    0.039826\n",
              "Name: income_cat, dtype: float64"
            ]
          },
          "metadata": {
            "tags": []
          },
          "execution_count": 37
        }
      ]
    },
    {
      "metadata": {
        "id": "lPCH36yzDxsv",
        "colab_type": "code",
        "colab": {
          "autoexec": {
            "startup": false,
            "wait_interval": 0
          }
        }
      },
      "cell_type": "code",
      "source": [
        "from sklearn.model_selection import StratifiedShuffleSplit"
      ],
      "execution_count": 0,
      "outputs": []
    },
    {
      "metadata": {
        "id": "M2Sk710Vi0Ki",
        "colab_type": "code",
        "colab": {
          "autoexec": {
            "startup": false,
            "wait_interval": 0
          }
        }
      },
      "cell_type": "code",
      "source": [
        ""
      ],
      "execution_count": 0,
      "outputs": []
    },
    {
      "metadata": {
        "id": "e-O6gmeREaUu",
        "colab_type": "code",
        "colab": {
          "autoexec": {
            "startup": false,
            "wait_interval": 0
          }
        }
      },
      "cell_type": "code",
      "source": [
        "split = StratifiedShuffleSplit(n_splits=1, test_size=0.2, random_state=42)\n",
        "\n",
        "for train_index, test_index in split.split(housing, housing[\"income_cat\"]):\n",
        "  strat_train_set =  housing.loc[train_index]\n",
        "  strat_test_set = housing.loc[test_index]\n",
        "  \n",
        "# train_test_split in scikit-learn can be used for a stratified split as well"
      ],
      "execution_count": 0,
      "outputs": []
    },
    {
      "metadata": {
        "id": "OuTYqPPAH9Rq",
        "colab_type": "code",
        "colab": {
          "autoexec": {
            "startup": false,
            "wait_interval": 0
          },
          "base_uri": "https://localhost:8080/",
          "height": 119
        },
        "outputId": "26e8786f-25a6-4ed8-fc76-230856e8d41a",
        "executionInfo": {
          "status": "ok",
          "timestamp": 1531696558124,
          "user_tz": 420,
          "elapsed": 522,
          "user": {
            "displayName": "Rima Seiilova-Olson",
            "photoUrl": "//lh3.googleusercontent.com/-8eNxaqv5nE0/AAAAAAAAAAI/AAAAAAAAAoU/Nb-EoucD9YM/s50-c-k-no/photo.jpg",
            "userId": "115856803459228045258"
          }
        }
      },
      "cell_type": "code",
      "source": [
        "strat_train_set[\"income_cat\"].value_counts() / len(strat_train_set)"
      ],
      "execution_count": 40,
      "outputs": [
        {
          "output_type": "execute_result",
          "data": {
            "text/plain": [
              "3.0    0.350594\n",
              "2.0    0.318859\n",
              "4.0    0.176296\n",
              "5.0    0.114402\n",
              "1.0    0.039850\n",
              "Name: income_cat, dtype: float64"
            ]
          },
          "metadata": {
            "tags": []
          },
          "execution_count": 40
        }
      ]
    },
    {
      "metadata": {
        "id": "dDOXPpunIAtr",
        "colab_type": "code",
        "colab": {
          "autoexec": {
            "startup": false,
            "wait_interval": 0
          },
          "base_uri": "https://localhost:8080/",
          "height": 119
        },
        "outputId": "89a623de-1c8b-4db3-dfce-e3562c372456",
        "executionInfo": {
          "status": "ok",
          "timestamp": 1531696558642,
          "user_tz": 420,
          "elapsed": 358,
          "user": {
            "displayName": "Rima Seiilova-Olson",
            "photoUrl": "//lh3.googleusercontent.com/-8eNxaqv5nE0/AAAAAAAAAAI/AAAAAAAAAoU/Nb-EoucD9YM/s50-c-k-no/photo.jpg",
            "userId": "115856803459228045258"
          }
        }
      },
      "cell_type": "code",
      "source": [
        "strat_test_set[\"income_cat\"].value_counts() / len(strat_test_set)"
      ],
      "execution_count": 41,
      "outputs": [
        {
          "output_type": "execute_result",
          "data": {
            "text/plain": [
              "3.0    0.350533\n",
              "2.0    0.318798\n",
              "4.0    0.176357\n",
              "5.0    0.114583\n",
              "1.0    0.039729\n",
              "Name: income_cat, dtype: float64"
            ]
          },
          "metadata": {
            "tags": []
          },
          "execution_count": 41
        }
      ]
    },
    {
      "metadata": {
        "id": "4rGMMwKqIRTv",
        "colab_type": "code",
        "colab": {
          "autoexec": {
            "startup": false,
            "wait_interval": 0
          }
        }
      },
      "cell_type": "code",
      "source": [
        "for set in (strat_train_set, strat_test_set):\n",
        "  set.drop([\"income_cat\"], axis=1, inplace=True)"
      ],
      "execution_count": 0,
      "outputs": []
    },
    {
      "metadata": {
        "id": "Or6EtrQCI_40",
        "colab_type": "code",
        "colab": {
          "autoexec": {
            "startup": false,
            "wait_interval": 0
          }
        }
      },
      "cell_type": "code",
      "source": [
        "housing = strat_train_set.copy()"
      ],
      "execution_count": 0,
      "outputs": []
    },
    {
      "metadata": {
        "id": "tnD5DrXSLsYb",
        "colab_type": "code",
        "colab": {
          "autoexec": {
            "startup": false,
            "wait_interval": 0
          },
          "base_uri": "https://localhost:8080/",
          "height": 323
        },
        "outputId": "28cc780b-3d6b-43ea-9131-5daa8fcb8c23",
        "executionInfo": {
          "status": "ok",
          "timestamp": 1531696560810,
          "user_tz": 420,
          "elapsed": 339,
          "user": {
            "displayName": "Rima Seiilova-Olson",
            "photoUrl": "//lh3.googleusercontent.com/-8eNxaqv5nE0/AAAAAAAAAAI/AAAAAAAAAoU/Nb-EoucD9YM/s50-c-k-no/photo.jpg",
            "userId": "115856803459228045258"
          }
        }
      },
      "cell_type": "code",
      "source": [
        "housing.info()"
      ],
      "execution_count": 44,
      "outputs": [
        {
          "output_type": "stream",
          "text": [
            "<class 'pandas.core.frame.DataFrame'>\n",
            "Int64Index: 16512 entries, 17606 to 15775\n",
            "Data columns (total 13 columns):\n",
            "longitude                   16512 non-null float64\n",
            "latitude                    16512 non-null float64\n",
            "housing_median_age          16512 non-null float64\n",
            "total_rooms                 16512 non-null float64\n",
            "total_bedrooms              16354 non-null float64\n",
            "population                  16512 non-null float64\n",
            "households                  16512 non-null float64\n",
            "median_income               16512 non-null float64\n",
            "median_house_value          16512 non-null float64\n",
            "ocean_proximity             16512 non-null object\n",
            "rooms_per_household         16512 non-null float64\n",
            "bedrooms_per_room           16354 non-null float64\n",
            "population_per_household    16512 non-null float64\n",
            "dtypes: float64(12), object(1)\n",
            "memory usage: 1.8+ MB\n"
          ],
          "name": "stdout"
        }
      ]
    },
    {
      "metadata": {
        "id": "CYT-fn_zSwn7",
        "colab_type": "code",
        "colab": {
          "autoexec": {
            "startup": false,
            "wait_interval": 0
          }
        }
      },
      "cell_type": "code",
      "source": [
        "housing = strat_train_set.drop(\"median_house_value\",axis=1)"
      ],
      "execution_count": 0,
      "outputs": []
    },
    {
      "metadata": {
        "id": "J1y0RvlIV3dT",
        "colab_type": "code",
        "colab": {
          "autoexec": {
            "startup": false,
            "wait_interval": 0
          },
          "base_uri": "https://localhost:8080/",
          "height": 224
        },
        "outputId": "06f92f63-d0b4-4f1c-c5db-1891d695f364",
        "executionInfo": {
          "status": "ok",
          "timestamp": 1531696561731,
          "user_tz": 420,
          "elapsed": 396,
          "user": {
            "displayName": "Rima Seiilova-Olson",
            "photoUrl": "//lh3.googleusercontent.com/-8eNxaqv5nE0/AAAAAAAAAAI/AAAAAAAAAoU/Nb-EoucD9YM/s50-c-k-no/photo.jpg",
            "userId": "115856803459228045258"
          }
        }
      },
      "cell_type": "code",
      "source": [
        "housing.head()"
      ],
      "execution_count": 46,
      "outputs": [
        {
          "output_type": "execute_result",
          "data": {
            "text/html": [
              "<div>\n",
              "<style scoped>\n",
              "    .dataframe tbody tr th:only-of-type {\n",
              "        vertical-align: middle;\n",
              "    }\n",
              "\n",
              "    .dataframe tbody tr th {\n",
              "        vertical-align: top;\n",
              "    }\n",
              "\n",
              "    .dataframe thead th {\n",
              "        text-align: right;\n",
              "    }\n",
              "</style>\n",
              "<table border=\"1\" class=\"dataframe\">\n",
              "  <thead>\n",
              "    <tr style=\"text-align: right;\">\n",
              "      <th></th>\n",
              "      <th>longitude</th>\n",
              "      <th>latitude</th>\n",
              "      <th>housing_median_age</th>\n",
              "      <th>total_rooms</th>\n",
              "      <th>total_bedrooms</th>\n",
              "      <th>population</th>\n",
              "      <th>households</th>\n",
              "      <th>median_income</th>\n",
              "      <th>ocean_proximity</th>\n",
              "      <th>rooms_per_household</th>\n",
              "      <th>bedrooms_per_room</th>\n",
              "      <th>population_per_household</th>\n",
              "    </tr>\n",
              "  </thead>\n",
              "  <tbody>\n",
              "    <tr>\n",
              "      <th>17606</th>\n",
              "      <td>-121.89</td>\n",
              "      <td>37.29</td>\n",
              "      <td>38.0</td>\n",
              "      <td>1568.0</td>\n",
              "      <td>351.0</td>\n",
              "      <td>710.0</td>\n",
              "      <td>339.0</td>\n",
              "      <td>2.7042</td>\n",
              "      <td>&lt;1H OCEAN</td>\n",
              "      <td>4.625369</td>\n",
              "      <td>0.223852</td>\n",
              "      <td>2.094395</td>\n",
              "    </tr>\n",
              "    <tr>\n",
              "      <th>18632</th>\n",
              "      <td>-121.93</td>\n",
              "      <td>37.05</td>\n",
              "      <td>14.0</td>\n",
              "      <td>679.0</td>\n",
              "      <td>108.0</td>\n",
              "      <td>306.0</td>\n",
              "      <td>113.0</td>\n",
              "      <td>6.4214</td>\n",
              "      <td>&lt;1H OCEAN</td>\n",
              "      <td>6.008850</td>\n",
              "      <td>0.159057</td>\n",
              "      <td>2.707965</td>\n",
              "    </tr>\n",
              "    <tr>\n",
              "      <th>14650</th>\n",
              "      <td>-117.20</td>\n",
              "      <td>32.77</td>\n",
              "      <td>31.0</td>\n",
              "      <td>1952.0</td>\n",
              "      <td>471.0</td>\n",
              "      <td>936.0</td>\n",
              "      <td>462.0</td>\n",
              "      <td>2.8621</td>\n",
              "      <td>NEAR OCEAN</td>\n",
              "      <td>4.225108</td>\n",
              "      <td>0.241291</td>\n",
              "      <td>2.025974</td>\n",
              "    </tr>\n",
              "    <tr>\n",
              "      <th>3230</th>\n",
              "      <td>-119.61</td>\n",
              "      <td>36.31</td>\n",
              "      <td>25.0</td>\n",
              "      <td>1847.0</td>\n",
              "      <td>371.0</td>\n",
              "      <td>1460.0</td>\n",
              "      <td>353.0</td>\n",
              "      <td>1.8839</td>\n",
              "      <td>INLAND</td>\n",
              "      <td>5.232295</td>\n",
              "      <td>0.200866</td>\n",
              "      <td>4.135977</td>\n",
              "    </tr>\n",
              "    <tr>\n",
              "      <th>3555</th>\n",
              "      <td>-118.59</td>\n",
              "      <td>34.23</td>\n",
              "      <td>17.0</td>\n",
              "      <td>6592.0</td>\n",
              "      <td>1525.0</td>\n",
              "      <td>4459.0</td>\n",
              "      <td>1463.0</td>\n",
              "      <td>3.0347</td>\n",
              "      <td>&lt;1H OCEAN</td>\n",
              "      <td>4.505810</td>\n",
              "      <td>0.231341</td>\n",
              "      <td>3.047847</td>\n",
              "    </tr>\n",
              "  </tbody>\n",
              "</table>\n",
              "</div>"
            ],
            "text/plain": [
              "       longitude  latitude  housing_median_age  total_rooms  total_bedrooms  \\\n",
              "17606    -121.89     37.29                38.0       1568.0           351.0   \n",
              "18632    -121.93     37.05                14.0        679.0           108.0   \n",
              "14650    -117.20     32.77                31.0       1952.0           471.0   \n",
              "3230     -119.61     36.31                25.0       1847.0           371.0   \n",
              "3555     -118.59     34.23                17.0       6592.0          1525.0   \n",
              "\n",
              "       population  households  median_income ocean_proximity  \\\n",
              "17606       710.0       339.0         2.7042       <1H OCEAN   \n",
              "18632       306.0       113.0         6.4214       <1H OCEAN   \n",
              "14650       936.0       462.0         2.8621      NEAR OCEAN   \n",
              "3230       1460.0       353.0         1.8839          INLAND   \n",
              "3555       4459.0      1463.0         3.0347       <1H OCEAN   \n",
              "\n",
              "       rooms_per_household  bedrooms_per_room  population_per_household  \n",
              "17606             4.625369           0.223852                  2.094395  \n",
              "18632             6.008850           0.159057                  2.707965  \n",
              "14650             4.225108           0.241291                  2.025974  \n",
              "3230              5.232295           0.200866                  4.135977  \n",
              "3555              4.505810           0.231341                  3.047847  "
            ]
          },
          "metadata": {
            "tags": []
          },
          "execution_count": 46
        }
      ]
    },
    {
      "metadata": {
        "id": "gbVKbur0WKAj",
        "colab_type": "code",
        "colab": {
          "autoexec": {
            "startup": false,
            "wait_interval": 0
          }
        }
      },
      "cell_type": "code",
      "source": [
        "housing_labels = strat_train_set[\"median_house_value\"].copy()"
      ],
      "execution_count": 0,
      "outputs": []
    },
    {
      "metadata": {
        "id": "BdfLTeyNWkLp",
        "colab_type": "code",
        "colab": {
          "autoexec": {
            "startup": false,
            "wait_interval": 0
          },
          "base_uri": "https://localhost:8080/",
          "height": 1071
        },
        "outputId": "6bf7b377-ed6d-4ba6-c9f4-39f242d82c00",
        "executionInfo": {
          "status": "ok",
          "timestamp": 1531696562590,
          "user_tz": 420,
          "elapsed": 261,
          "user": {
            "displayName": "Rima Seiilova-Olson",
            "photoUrl": "//lh3.googleusercontent.com/-8eNxaqv5nE0/AAAAAAAAAAI/AAAAAAAAAoU/Nb-EoucD9YM/s50-c-k-no/photo.jpg",
            "userId": "115856803459228045258"
          }
        }
      },
      "cell_type": "code",
      "source": [
        "housing_labels"
      ],
      "execution_count": 48,
      "outputs": [
        {
          "output_type": "execute_result",
          "data": {
            "text/plain": [
              "17606    286600.0\n",
              "18632    340600.0\n",
              "14650    196900.0\n",
              "3230      46300.0\n",
              "3555     254500.0\n",
              "19480    127900.0\n",
              "8879     500001.0\n",
              "13685    140200.0\n",
              "4937      95000.0\n",
              "4861     500001.0\n",
              "16365     92100.0\n",
              "19684     61500.0\n",
              "19234    313000.0\n",
              "13956     89000.0\n",
              "2390     123900.0\n",
              "11176    197400.0\n",
              "15614    500001.0\n",
              "2953      63300.0\n",
              "13209    107000.0\n",
              "6569     184200.0\n",
              "5825     280900.0\n",
              "18086    500001.0\n",
              "16718    171300.0\n",
              "13600    116600.0\n",
              "13989     60800.0\n",
              "15168    121100.0\n",
              "6747     270700.0\n",
              "7398     109900.0\n",
              "5562     159600.0\n",
              "16121    500001.0\n",
              "           ...   \n",
              "12380    122500.0\n",
              "5618     350000.0\n",
              "10060    172800.0\n",
              "18067    500001.0\n",
              "4471     146600.0\n",
              "19786     81300.0\n",
              "9969     247600.0\n",
              "14621    164100.0\n",
              "579      254900.0\n",
              "11682    185700.0\n",
              "245      126800.0\n",
              "12130    114200.0\n",
              "16441    101800.0\n",
              "11016    265600.0\n",
              "19934     88900.0\n",
              "1364     225000.0\n",
              "1236     123500.0\n",
              "5364     500001.0\n",
              "11703    321600.0\n",
              "10356    266000.0\n",
              "15270    346700.0\n",
              "3754     190200.0\n",
              "12166    148800.0\n",
              "6003     214800.0\n",
              "7364     174300.0\n",
              "6563     240200.0\n",
              "12053    113000.0\n",
              "13908     97800.0\n",
              "11159    225900.0\n",
              "15775    500001.0\n",
              "Name: median_house_value, Length: 16512, dtype: float64"
            ]
          },
          "metadata": {
            "tags": []
          },
          "execution_count": 48
        }
      ]
    },
    {
      "metadata": {
        "id": "oZGLnEiiWG0l",
        "colab_type": "code",
        "colab": {
          "autoexec": {
            "startup": false,
            "wait_interval": 0
          }
        }
      },
      "cell_type": "code",
      "source": [
        "from sklearn.preprocessing import Imputer"
      ],
      "execution_count": 0,
      "outputs": []
    },
    {
      "metadata": {
        "id": "ekJEi2-DVk2h",
        "colab_type": "code",
        "colab": {
          "autoexec": {
            "startup": false,
            "wait_interval": 0
          }
        }
      },
      "cell_type": "code",
      "source": [
        "from sklearn.preprocessing import StandardScaler\n",
        "\n",
        "#scaler = StandardScaler()\n",
        "#housing = scaler.fit_transform(housing)"
      ],
      "execution_count": 0,
      "outputs": []
    },
    {
      "metadata": {
        "id": "jHF3C0xaWnGh",
        "colab_type": "code",
        "colab": {
          "autoexec": {
            "startup": false,
            "wait_interval": 0
          }
        }
      },
      "cell_type": "code",
      "source": [
        "from sklearn.pipeline import Pipeline\n",
        "\n"
      ],
      "execution_count": 0,
      "outputs": []
    },
    {
      "metadata": {
        "id": "XX8agCCRX8Fs",
        "colab_type": "code",
        "colab": {
          "autoexec": {
            "startup": false,
            "wait_interval": 0
          }
        }
      },
      "cell_type": "code",
      "source": [
        "from sklearn.pipeline import FeatureUnion"
      ],
      "execution_count": 0,
      "outputs": []
    },
    {
      "metadata": {
        "id": "l4yeuTjdPAng",
        "colab_type": "code",
        "colab": {
          "autoexec": {
            "startup": false,
            "wait_interval": 0
          },
          "base_uri": "https://localhost:8080/",
          "height": 224
        },
        "outputId": "8c8a03fc-93b8-4644-e46f-3009d2c52a78",
        "executionInfo": {
          "status": "ok",
          "timestamp": 1531696689513,
          "user_tz": 420,
          "elapsed": 280,
          "user": {
            "displayName": "Rima Seiilova-Olson",
            "photoUrl": "//lh3.googleusercontent.com/-8eNxaqv5nE0/AAAAAAAAAAI/AAAAAAAAAoU/Nb-EoucD9YM/s50-c-k-no/photo.jpg",
            "userId": "115856803459228045258"
          }
        }
      },
      "cell_type": "code",
      "source": [
        "housing.head()"
      ],
      "execution_count": 55,
      "outputs": [
        {
          "output_type": "execute_result",
          "data": {
            "text/html": [
              "<div>\n",
              "<style scoped>\n",
              "    .dataframe tbody tr th:only-of-type {\n",
              "        vertical-align: middle;\n",
              "    }\n",
              "\n",
              "    .dataframe tbody tr th {\n",
              "        vertical-align: top;\n",
              "    }\n",
              "\n",
              "    .dataframe thead th {\n",
              "        text-align: right;\n",
              "    }\n",
              "</style>\n",
              "<table border=\"1\" class=\"dataframe\">\n",
              "  <thead>\n",
              "    <tr style=\"text-align: right;\">\n",
              "      <th></th>\n",
              "      <th>longitude</th>\n",
              "      <th>latitude</th>\n",
              "      <th>housing_median_age</th>\n",
              "      <th>total_rooms</th>\n",
              "      <th>total_bedrooms</th>\n",
              "      <th>population</th>\n",
              "      <th>households</th>\n",
              "      <th>median_income</th>\n",
              "      <th>ocean_proximity</th>\n",
              "      <th>rooms_per_household</th>\n",
              "      <th>bedrooms_per_room</th>\n",
              "      <th>population_per_household</th>\n",
              "    </tr>\n",
              "  </thead>\n",
              "  <tbody>\n",
              "    <tr>\n",
              "      <th>17606</th>\n",
              "      <td>-121.89</td>\n",
              "      <td>37.29</td>\n",
              "      <td>38.0</td>\n",
              "      <td>1568.0</td>\n",
              "      <td>351.0</td>\n",
              "      <td>710.0</td>\n",
              "      <td>339.0</td>\n",
              "      <td>2.7042</td>\n",
              "      <td>&lt;1H OCEAN</td>\n",
              "      <td>4.625369</td>\n",
              "      <td>0.223852</td>\n",
              "      <td>2.094395</td>\n",
              "    </tr>\n",
              "    <tr>\n",
              "      <th>18632</th>\n",
              "      <td>-121.93</td>\n",
              "      <td>37.05</td>\n",
              "      <td>14.0</td>\n",
              "      <td>679.0</td>\n",
              "      <td>108.0</td>\n",
              "      <td>306.0</td>\n",
              "      <td>113.0</td>\n",
              "      <td>6.4214</td>\n",
              "      <td>&lt;1H OCEAN</td>\n",
              "      <td>6.008850</td>\n",
              "      <td>0.159057</td>\n",
              "      <td>2.707965</td>\n",
              "    </tr>\n",
              "    <tr>\n",
              "      <th>14650</th>\n",
              "      <td>-117.20</td>\n",
              "      <td>32.77</td>\n",
              "      <td>31.0</td>\n",
              "      <td>1952.0</td>\n",
              "      <td>471.0</td>\n",
              "      <td>936.0</td>\n",
              "      <td>462.0</td>\n",
              "      <td>2.8621</td>\n",
              "      <td>NEAR OCEAN</td>\n",
              "      <td>4.225108</td>\n",
              "      <td>0.241291</td>\n",
              "      <td>2.025974</td>\n",
              "    </tr>\n",
              "    <tr>\n",
              "      <th>3230</th>\n",
              "      <td>-119.61</td>\n",
              "      <td>36.31</td>\n",
              "      <td>25.0</td>\n",
              "      <td>1847.0</td>\n",
              "      <td>371.0</td>\n",
              "      <td>1460.0</td>\n",
              "      <td>353.0</td>\n",
              "      <td>1.8839</td>\n",
              "      <td>INLAND</td>\n",
              "      <td>5.232295</td>\n",
              "      <td>0.200866</td>\n",
              "      <td>4.135977</td>\n",
              "    </tr>\n",
              "    <tr>\n",
              "      <th>3555</th>\n",
              "      <td>-118.59</td>\n",
              "      <td>34.23</td>\n",
              "      <td>17.0</td>\n",
              "      <td>6592.0</td>\n",
              "      <td>1525.0</td>\n",
              "      <td>4459.0</td>\n",
              "      <td>1463.0</td>\n",
              "      <td>3.0347</td>\n",
              "      <td>&lt;1H OCEAN</td>\n",
              "      <td>4.505810</td>\n",
              "      <td>0.231341</td>\n",
              "      <td>3.047847</td>\n",
              "    </tr>\n",
              "  </tbody>\n",
              "</table>\n",
              "</div>"
            ],
            "text/plain": [
              "       longitude  latitude  housing_median_age  total_rooms  total_bedrooms  \\\n",
              "17606    -121.89     37.29                38.0       1568.0           351.0   \n",
              "18632    -121.93     37.05                14.0        679.0           108.0   \n",
              "14650    -117.20     32.77                31.0       1952.0           471.0   \n",
              "3230     -119.61     36.31                25.0       1847.0           371.0   \n",
              "3555     -118.59     34.23                17.0       6592.0          1525.0   \n",
              "\n",
              "       population  households  median_income ocean_proximity  \\\n",
              "17606       710.0       339.0         2.7042       <1H OCEAN   \n",
              "18632       306.0       113.0         6.4214       <1H OCEAN   \n",
              "14650       936.0       462.0         2.8621      NEAR OCEAN   \n",
              "3230       1460.0       353.0         1.8839          INLAND   \n",
              "3555       4459.0      1463.0         3.0347       <1H OCEAN   \n",
              "\n",
              "       rooms_per_household  bedrooms_per_room  population_per_household  \n",
              "17606             4.625369           0.223852                  2.094395  \n",
              "18632             6.008850           0.159057                  2.707965  \n",
              "14650             4.225108           0.241291                  2.025974  \n",
              "3230              5.232295           0.200866                  4.135977  \n",
              "3555              4.505810           0.231341                  3.047847  "
            ]
          },
          "metadata": {
            "tags": []
          },
          "execution_count": 55
        }
      ]
    },
    {
      "metadata": {
        "id": "2wn89BVVp3QA",
        "colab_type": "code",
        "colab": {
          "autoexec": {
            "startup": false,
            "wait_interval": 0
          }
        }
      },
      "cell_type": "code",
      "source": [
        "housing_num = housing.drop(\"ocean_proximity\",axis=1)"
      ],
      "execution_count": 0,
      "outputs": []
    },
    {
      "metadata": {
        "id": "LjDuAAxIaxRK",
        "colab_type": "code",
        "colab": {
          "autoexec": {
            "startup": false,
            "wait_interval": 0
          }
        }
      },
      "cell_type": "code",
      "source": [
        "cat_attribs = [\"ocean_proximity\"]\n",
        "num_attribs = list(housing_num)"
      ],
      "execution_count": 0,
      "outputs": []
    },
    {
      "metadata": {
        "id": "X2FgEh97prAQ",
        "colab_type": "code",
        "colab": {
          "autoexec": {
            "startup": false,
            "wait_interval": 0
          },
          "base_uri": "https://localhost:8080/",
          "height": 204
        },
        "outputId": "45c56a78-85f0-4fb3-b2f7-5969377b6496",
        "executionInfo": {
          "status": "ok",
          "timestamp": 1531696772059,
          "user_tz": 420,
          "elapsed": 276,
          "user": {
            "displayName": "Rima Seiilova-Olson",
            "photoUrl": "//lh3.googleusercontent.com/-8eNxaqv5nE0/AAAAAAAAAAI/AAAAAAAAAoU/Nb-EoucD9YM/s50-c-k-no/photo.jpg",
            "userId": "115856803459228045258"
          }
        }
      },
      "cell_type": "code",
      "source": [
        "num_attribs"
      ],
      "execution_count": 60,
      "outputs": [
        {
          "output_type": "execute_result",
          "data": {
            "text/plain": [
              "['longitude',\n",
              " 'latitude',\n",
              " 'housing_median_age',\n",
              " 'total_rooms',\n",
              " 'total_bedrooms',\n",
              " 'population',\n",
              " 'households',\n",
              " 'median_income',\n",
              " 'rooms_per_household',\n",
              " 'bedrooms_per_room',\n",
              " 'population_per_household']"
            ]
          },
          "metadata": {
            "tags": []
          },
          "execution_count": 60
        }
      ]
    },
    {
      "metadata": {
        "id": "0eYXvmRha8ER",
        "colab_type": "code",
        "colab": {
          "autoexec": {
            "startup": false,
            "wait_interval": 0
          }
        }
      },
      "cell_type": "code",
      "source": [
        "from sklearn.base import BaseEstimator, TransformerMixin\n",
        "\n",
        "class DataFrameSelector(BaseEstimator, TransformerMixin):\n",
        "  def __init__ (self, attribute_names):\n",
        "    self.attribute_names = attribute_names\n",
        "  def  fit(self, X, y=None):\n",
        "    return self\n",
        "  def transform(self, X):\n",
        "    return X[self.attribute_names].values\n",
        "    "
      ],
      "execution_count": 0,
      "outputs": []
    },
    {
      "metadata": {
        "id": "I0QHqaBWZWBx",
        "colab_type": "code",
        "colab": {
          "autoexec": {
            "startup": false,
            "wait_interval": 0
          }
        }
      },
      "cell_type": "code",
      "source": [
        "from sklearn.base import TransformerMixin #gives fit_transform method for free\n",
        "class MyLabelBinarizer(TransformerMixin):\n",
        "    def __init__(self, *args, **kwargs):\n",
        "        self.encoder = LabelBinarizer(*args, **kwargs)\n",
        "    def fit(self, x, y=0):\n",
        "        self.encoder.fit(x)\n",
        "        return self\n",
        "    def transform(self, x, y=0):\n",
        "        return self.encoder.transform(x)"
      ],
      "execution_count": 0,
      "outputs": []
    },
    {
      "metadata": {
        "id": "vXfCcj2oWOtf",
        "colab_type": "code",
        "colab": {
          "autoexec": {
            "startup": false,
            "wait_interval": 0
          }
        }
      },
      "cell_type": "code",
      "source": [
        "num_pipeline = Pipeline([\n",
        "    ('selector', DataFrameSelector(num_attribs)),\n",
        "    ('imputer', Imputer(strategy=\"median\")),\n",
        "    ('std_scaler', StandardScaler())\n",
        "    \n",
        "])"
      ],
      "execution_count": 0,
      "outputs": []
    },
    {
      "metadata": {
        "id": "EDBr2bQdYJ2-",
        "colab_type": "code",
        "colab": {
          "autoexec": {
            "startup": false,
            "wait_interval": 0
          }
        }
      },
      "cell_type": "code",
      "source": [
        "from sklearn.preprocessing import LabelBinarizer\n",
        "\n",
        "cat_pipeline = Pipeline([\n",
        "    ('selector', DataFrameSelector(cat_attribs)),\n",
        "    ('label_binarizer', MyLabelBinarizer()), \n",
        "])"
      ],
      "execution_count": 0,
      "outputs": []
    },
    {
      "metadata": {
        "id": "4vwvVkmNYcue",
        "colab_type": "code",
        "colab": {
          "autoexec": {
            "startup": false,
            "wait_interval": 0
          }
        }
      },
      "cell_type": "code",
      "source": [
        "\n",
        "full_pipeline = FeatureUnion(transformer_list=[\n",
        "    (\"num_pipeline\", num_pipeline),\n",
        "    (\"cat_pipeline\", cat_pipeline)\n",
        "])"
      ],
      "execution_count": 0,
      "outputs": []
    },
    {
      "metadata": {
        "id": "y6WQuea4ZBMB",
        "colab_type": "code",
        "colab": {
          "autoexec": {
            "startup": false,
            "wait_interval": 0
          }
        }
      },
      "cell_type": "code",
      "source": [
        "housing_prepared = full_pipeline.fit_transform(housing)"
      ],
      "execution_count": 0,
      "outputs": []
    },
    {
      "metadata": {
        "id": "Q99YWHjhXF_o",
        "colab_type": "code",
        "colab": {
          "autoexec": {
            "startup": false,
            "wait_interval": 0
          },
          "base_uri": "https://localhost:8080/",
          "height": 34
        },
        "outputId": "fecf25dd-b060-4aa1-f49d-a5552f65082a",
        "executionInfo": {
          "status": "ok",
          "timestamp": 1531696779899,
          "user_tz": 420,
          "elapsed": 272,
          "user": {
            "displayName": "Rima Seiilova-Olson",
            "photoUrl": "//lh3.googleusercontent.com/-8eNxaqv5nE0/AAAAAAAAAAI/AAAAAAAAAoU/Nb-EoucD9YM/s50-c-k-no/photo.jpg",
            "userId": "115856803459228045258"
          }
        }
      },
      "cell_type": "code",
      "source": [
        "housing_prepared.shape"
      ],
      "execution_count": 67,
      "outputs": [
        {
          "output_type": "execute_result",
          "data": {
            "text/plain": [
              "(16512, 16)"
            ]
          },
          "metadata": {
            "tags": []
          },
          "execution_count": 67
        }
      ]
    },
    {
      "metadata": {
        "id": "UW7SCnrra59S",
        "colab_type": "code",
        "colab": {
          "autoexec": {
            "startup": false,
            "wait_interval": 0
          },
          "base_uri": "https://localhost:8080/",
          "height": 34
        },
        "outputId": "3296af62-adf7-4b99-b48a-0faaa7428ff1",
        "executionInfo": {
          "status": "ok",
          "timestamp": 1531696780710,
          "user_tz": 420,
          "elapsed": 497,
          "user": {
            "displayName": "Rima Seiilova-Olson",
            "photoUrl": "//lh3.googleusercontent.com/-8eNxaqv5nE0/AAAAAAAAAAI/AAAAAAAAAoU/Nb-EoucD9YM/s50-c-k-no/photo.jpg",
            "userId": "115856803459228045258"
          }
        }
      },
      "cell_type": "code",
      "source": [
        "type(housing_prepared)"
      ],
      "execution_count": 68,
      "outputs": [
        {
          "output_type": "execute_result",
          "data": {
            "text/plain": [
              "numpy.ndarray"
            ]
          },
          "metadata": {
            "tags": []
          },
          "execution_count": 68
        }
      ]
    },
    {
      "metadata": {
        "id": "FfWFRqCiZgOp",
        "colab_type": "code",
        "colab": {
          "autoexec": {
            "startup": false,
            "wait_interval": 0
          },
          "base_uri": "https://localhost:8080/",
          "height": 34
        },
        "outputId": "d6369a69-cd9b-4aa3-f7a5-1372f674647d",
        "executionInfo": {
          "status": "ok",
          "timestamp": 1531696781749,
          "user_tz": 420,
          "elapsed": 799,
          "user": {
            "displayName": "Rima Seiilova-Olson",
            "photoUrl": "//lh3.googleusercontent.com/-8eNxaqv5nE0/AAAAAAAAAAI/AAAAAAAAAoU/Nb-EoucD9YM/s50-c-k-no/photo.jpg",
            "userId": "115856803459228045258"
          }
        }
      },
      "cell_type": "code",
      "source": [
        "from sklearn.linear_model import LinearRegression\n",
        "\n",
        "lin_reg = LinearRegression()\n",
        "lin_reg.fit(housing_prepared, housing_labels)"
      ],
      "execution_count": 69,
      "outputs": [
        {
          "output_type": "execute_result",
          "data": {
            "text/plain": [
              "LinearRegression(copy_X=True, fit_intercept=True, n_jobs=1, normalize=False)"
            ]
          },
          "metadata": {
            "tags": []
          },
          "execution_count": 69
        }
      ]
    },
    {
      "metadata": {
        "id": "NbqYzeWQZwmJ",
        "colab_type": "code",
        "colab": {
          "autoexec": {
            "startup": false,
            "wait_interval": 0
          },
          "base_uri": "https://localhost:8080/",
          "height": 34
        },
        "outputId": "af0fcf3f-ac26-4f2b-a68b-db8e05503eed",
        "executionInfo": {
          "status": "ok",
          "timestamp": 1531696782246,
          "user_tz": 420,
          "elapsed": 334,
          "user": {
            "displayName": "Rima Seiilova-Olson",
            "photoUrl": "//lh3.googleusercontent.com/-8eNxaqv5nE0/AAAAAAAAAAI/AAAAAAAAAoU/Nb-EoucD9YM/s50-c-k-no/photo.jpg",
            "userId": "115856803459228045258"
          }
        }
      },
      "cell_type": "code",
      "source": [
        "from sklearn.metrics import mean_squared_error\n",
        "\n",
        "housing_predictions = lin_reg.predict(housing_prepared)\n",
        "lin_mse = mean_squared_error(housing_labels, housing_predictions)\n",
        "print(lin_mse)"
      ],
      "execution_count": 70,
      "outputs": [
        {
          "output_type": "stream",
          "text": [
            "4645952790.395503\n"
          ],
          "name": "stdout"
        }
      ]
    },
    {
      "metadata": {
        "id": "lS2ffQoEcSAB",
        "colab_type": "code",
        "colab": {
          "autoexec": {
            "startup": false,
            "wait_interval": 0
          },
          "base_uri": "https://localhost:8080/",
          "height": 34
        },
        "outputId": "0e95e14c-1cb4-49a1-d76f-5ab6f2c4456f",
        "executionInfo": {
          "status": "ok",
          "timestamp": 1531696782972,
          "user_tz": 420,
          "elapsed": 339,
          "user": {
            "displayName": "Rima Seiilova-Olson",
            "photoUrl": "//lh3.googleusercontent.com/-8eNxaqv5nE0/AAAAAAAAAAI/AAAAAAAAAoU/Nb-EoucD9YM/s50-c-k-no/photo.jpg",
            "userId": "115856803459228045258"
          }
        }
      },
      "cell_type": "code",
      "source": [
        "from sklearn.metrics import r2_score\n",
        "\n",
        "r2_score(housing_labels, housing_predictions)"
      ],
      "execution_count": 71,
      "outputs": [
        {
          "output_type": "execute_result",
          "data": {
            "text/plain": [
              "0.6529342607006609"
            ]
          },
          "metadata": {
            "tags": []
          },
          "execution_count": 71
        }
      ]
    },
    {
      "metadata": {
        "id": "I8Oko6nIcTAZ",
        "colab_type": "code",
        "colab": {
          "autoexec": {
            "startup": false,
            "wait_interval": 0
          },
          "base_uri": "https://localhost:8080/",
          "height": 122
        },
        "outputId": "838e6508-7c97-40b9-debb-d4c70063f9bf",
        "executionInfo": {
          "status": "ok",
          "timestamp": 1531696788108,
          "user_tz": 420,
          "elapsed": 4948,
          "user": {
            "displayName": "Rima Seiilova-Olson",
            "photoUrl": "//lh3.googleusercontent.com/-8eNxaqv5nE0/AAAAAAAAAAI/AAAAAAAAAoU/Nb-EoucD9YM/s50-c-k-no/photo.jpg",
            "userId": "115856803459228045258"
          }
        }
      },
      "cell_type": "code",
      "source": [
        "from sklearn.linear_model import Lasso\n",
        "\n",
        "ridge_regression = Lasso()\n",
        "ridge_regression.fit (housing_prepared, housing_labels)"
      ],
      "execution_count": 72,
      "outputs": [
        {
          "output_type": "stream",
          "text": [
            "/usr/local/lib/python3.6/dist-packages/sklearn/linear_model/coordinate_descent.py:491: ConvergenceWarning: Objective did not converge. You might want to increase the number of iterations. Fitting data with very small alpha may cause precision problems.\n",
            "  ConvergenceWarning)\n"
          ],
          "name": "stderr"
        },
        {
          "output_type": "execute_result",
          "data": {
            "text/plain": [
              "Lasso(alpha=1.0, copy_X=True, fit_intercept=True, max_iter=1000,\n",
              "   normalize=False, positive=False, precompute=False, random_state=None,\n",
              "   selection='cyclic', tol=0.0001, warm_start=False)"
            ]
          },
          "metadata": {
            "tags": []
          },
          "execution_count": 72
        }
      ]
    },
    {
      "metadata": {
        "id": "LKxcoInHdTH7",
        "colab_type": "code",
        "colab": {
          "autoexec": {
            "startup": false,
            "wait_interval": 0
          }
        }
      },
      "cell_type": "code",
      "source": [
        "housing_predictions = ridge_regression.predict(housing_prepared)"
      ],
      "execution_count": 0,
      "outputs": []
    },
    {
      "metadata": {
        "id": "DthIC9yHdjcN",
        "colab_type": "code",
        "colab": {
          "autoexec": {
            "startup": false,
            "wait_interval": 0
          },
          "base_uri": "https://localhost:8080/",
          "height": 34
        },
        "outputId": "34fffed4-6815-4976-b41f-282e958ae194",
        "executionInfo": {
          "status": "ok",
          "timestamp": 1531696791387,
          "user_tz": 420,
          "elapsed": 2523,
          "user": {
            "displayName": "Rima Seiilova-Olson",
            "photoUrl": "//lh3.googleusercontent.com/-8eNxaqv5nE0/AAAAAAAAAAI/AAAAAAAAAoU/Nb-EoucD9YM/s50-c-k-no/photo.jpg",
            "userId": "115856803459228045258"
          }
        }
      },
      "cell_type": "code",
      "source": [
        "r2_score(housing_labels, housing_predictions)"
      ],
      "execution_count": 74,
      "outputs": [
        {
          "output_type": "execute_result",
          "data": {
            "text/plain": [
              "0.6529336399109733"
            ]
          },
          "metadata": {
            "tags": []
          },
          "execution_count": 74
        }
      ]
    },
    {
      "metadata": {
        "id": "89Wla6g3dlOK",
        "colab_type": "code",
        "colab": {
          "autoexec": {
            "startup": false,
            "wait_interval": 0
          },
          "base_uri": "https://localhost:8080/",
          "height": 34
        },
        "outputId": "5578ec35-9c58-4179-a214-28ed170ed73c",
        "executionInfo": {
          "status": "ok",
          "timestamp": 1531696791845,
          "user_tz": 420,
          "elapsed": 284,
          "user": {
            "displayName": "Rima Seiilova-Olson",
            "photoUrl": "//lh3.googleusercontent.com/-8eNxaqv5nE0/AAAAAAAAAAI/AAAAAAAAAoU/Nb-EoucD9YM/s50-c-k-no/photo.jpg",
            "userId": "115856803459228045258"
          }
        }
      },
      "cell_type": "code",
      "source": [
        "lin_mse = mean_squared_error(housing_labels, housing_predictions)\n",
        "print(lin_mse)"
      ],
      "execution_count": 75,
      "outputs": [
        {
          "output_type": "stream",
          "text": [
            "4645961100.5202265\n"
          ],
          "name": "stdout"
        }
      ]
    },
    {
      "metadata": {
        "id": "ESyW1AC2fTYJ",
        "colab_type": "code",
        "colab": {
          "autoexec": {
            "startup": false,
            "wait_interval": 0
          },
          "base_uri": "https://localhost:8080/",
          "height": 156
        },
        "outputId": "0c58a6c7-4687-45e0-d129-6dd2992ce31d",
        "executionInfo": {
          "status": "ok",
          "timestamp": 1531696792310,
          "user_tz": 420,
          "elapsed": 282,
          "user": {
            "displayName": "Rima Seiilova-Olson",
            "photoUrl": "//lh3.googleusercontent.com/-8eNxaqv5nE0/AAAAAAAAAAI/AAAAAAAAAoU/Nb-EoucD9YM/s50-c-k-no/photo.jpg",
            "userId": "115856803459228045258"
          }
        }
      },
      "cell_type": "code",
      "source": [
        "from sklearn.linear_model import SGDRegressor\n",
        "\n",
        "sgd = SGDRegressor()\n",
        "sgd.fit (housing_prepared, housing_labels)"
      ],
      "execution_count": 76,
      "outputs": [
        {
          "output_type": "stream",
          "text": [
            "/usr/local/lib/python3.6/dist-packages/sklearn/linear_model/stochastic_gradient.py:128: FutureWarning: max_iter and tol parameters have been added in <class 'sklearn.linear_model.stochastic_gradient.SGDRegressor'> in 0.19. If both are left unset, they default to max_iter=5 and tol=None. If tol is not None, max_iter defaults to max_iter=1000. From 0.21, default max_iter will be 1000, and default tol will be 1e-3.\n",
            "  \"and default tol will be 1e-3.\" % type(self), FutureWarning)\n"
          ],
          "name": "stderr"
        },
        {
          "output_type": "execute_result",
          "data": {
            "text/plain": [
              "SGDRegressor(alpha=0.0001, average=False, epsilon=0.1, eta0=0.01,\n",
              "       fit_intercept=True, l1_ratio=0.15, learning_rate='invscaling',\n",
              "       loss='squared_loss', max_iter=None, n_iter=None, penalty='l2',\n",
              "       power_t=0.25, random_state=None, shuffle=True, tol=None, verbose=0,\n",
              "       warm_start=False)"
            ]
          },
          "metadata": {
            "tags": []
          },
          "execution_count": 76
        }
      ]
    },
    {
      "metadata": {
        "id": "d0IaFG1igVrM",
        "colab_type": "code",
        "colab": {
          "autoexec": {
            "startup": false,
            "wait_interval": 0
          }
        }
      },
      "cell_type": "code",
      "source": [
        "housing_predictions = sgd.predict(housing_prepared)"
      ],
      "execution_count": 0,
      "outputs": []
    },
    {
      "metadata": {
        "id": "rIrPprWYgaOA",
        "colab_type": "code",
        "colab": {
          "autoexec": {
            "startup": false,
            "wait_interval": 0
          },
          "base_uri": "https://localhost:8080/",
          "height": 34
        },
        "outputId": "4a9ffc92-c1d4-4a61-ac72-b99e153fb6f0",
        "executionInfo": {
          "status": "ok",
          "timestamp": 1531696793253,
          "user_tz": 420,
          "elapsed": 316,
          "user": {
            "displayName": "Rima Seiilova-Olson",
            "photoUrl": "//lh3.googleusercontent.com/-8eNxaqv5nE0/AAAAAAAAAAI/AAAAAAAAAoU/Nb-EoucD9YM/s50-c-k-no/photo.jpg",
            "userId": "115856803459228045258"
          }
        }
      },
      "cell_type": "code",
      "source": [
        "r2_score(housing_labels, housing_predictions)"
      ],
      "execution_count": 78,
      "outputs": [
        {
          "output_type": "execute_result",
          "data": {
            "text/plain": [
              "0.21508750447477687"
            ]
          },
          "metadata": {
            "tags": []
          },
          "execution_count": 78
        }
      ]
    },
    {
      "metadata": {
        "id": "BTvbeRRNgepm",
        "colab_type": "code",
        "colab": {
          "autoexec": {
            "startup": false,
            "wait_interval": 0
          },
          "base_uri": "https://localhost:8080/",
          "height": 102
        },
        "outputId": "b5f9c475-700b-4980-886d-2c5ef4ea5b21",
        "executionInfo": {
          "status": "ok",
          "timestamp": 1531696793828,
          "user_tz": 420,
          "elapsed": 410,
          "user": {
            "displayName": "Rima Seiilova-Olson",
            "photoUrl": "//lh3.googleusercontent.com/-8eNxaqv5nE0/AAAAAAAAAAI/AAAAAAAAAoU/Nb-EoucD9YM/s50-c-k-no/photo.jpg",
            "userId": "115856803459228045258"
          }
        }
      },
      "cell_type": "code",
      "source": [
        "from sklearn.tree import DecisionTreeRegressor\n",
        "\n",
        "tree_reg = DecisionTreeRegressor(max_depth=10, max_leaf_nodes = 90)\n",
        "tree_reg.fit(housing_prepared, housing_labels)"
      ],
      "execution_count": 79,
      "outputs": [
        {
          "output_type": "execute_result",
          "data": {
            "text/plain": [
              "DecisionTreeRegressor(criterion='mse', max_depth=10, max_features=None,\n",
              "           max_leaf_nodes=90, min_impurity_decrease=0.0,\n",
              "           min_impurity_split=None, min_samples_leaf=1,\n",
              "           min_samples_split=2, min_weight_fraction_leaf=0.0,\n",
              "           presort=False, random_state=None, splitter='best')"
            ]
          },
          "metadata": {
            "tags": []
          },
          "execution_count": 79
        }
      ]
    },
    {
      "metadata": {
        "id": "CUO_T2zukSRf",
        "colab_type": "code",
        "colab": {
          "autoexec": {
            "startup": false,
            "wait_interval": 0
          },
          "base_uri": "https://localhost:8080/",
          "height": 34
        },
        "outputId": "020ed9fa-77a7-4b84-96fb-3e034422b610",
        "executionInfo": {
          "status": "ok",
          "timestamp": 1531696798258,
          "user_tz": 420,
          "elapsed": 4149,
          "user": {
            "displayName": "Rima Seiilova-Olson",
            "photoUrl": "//lh3.googleusercontent.com/-8eNxaqv5nE0/AAAAAAAAAAI/AAAAAAAAAoU/Nb-EoucD9YM/s50-c-k-no/photo.jpg",
            "userId": "115856803459228045258"
          }
        }
      },
      "cell_type": "code",
      "source": [
        "housing_predictions = tree_reg.predict(housing_prepared)\n",
        "r2_score(housing_labels, housing_predictions)"
      ],
      "execution_count": 80,
      "outputs": [
        {
          "output_type": "execute_result",
          "data": {
            "text/plain": [
              "0.7607611195031849"
            ]
          },
          "metadata": {
            "tags": []
          },
          "execution_count": 80
        }
      ]
    },
    {
      "metadata": {
        "id": "il1Mz3dhkbEb",
        "colab_type": "code",
        "colab": {
          "autoexec": {
            "startup": false,
            "wait_interval": 0
          },
          "base_uri": "https://localhost:8080/",
          "height": 34
        },
        "outputId": "ff6b64de-fa98-4b30-eca4-2fd4152e20b4",
        "executionInfo": {
          "status": "ok",
          "timestamp": 1531696799222,
          "user_tz": 420,
          "elapsed": 771,
          "user": {
            "displayName": "Rima Seiilova-Olson",
            "photoUrl": "//lh3.googleusercontent.com/-8eNxaqv5nE0/AAAAAAAAAAI/AAAAAAAAAoU/Nb-EoucD9YM/s50-c-k-no/photo.jpg",
            "userId": "115856803459228045258"
          }
        }
      },
      "cell_type": "code",
      "source": [
        "from sklearn.model_selection import cross_val_score\n",
        "\n",
        "score = cross_val_score(tree_reg, housing_prepared, housing_labels, scoring=\"r2\", cv=5)\n",
        "print(score.mean())"
      ],
      "execution_count": 81,
      "outputs": [
        {
          "output_type": "stream",
          "text": [
            "0.7204373159524919\n"
          ],
          "name": "stdout"
        }
      ]
    },
    {
      "metadata": {
        "id": "SnR0wucelQEY",
        "colab_type": "code",
        "colab": {
          "autoexec": {
            "startup": false,
            "wait_interval": 0
          },
          "base_uri": "https://localhost:8080/",
          "height": 34
        },
        "outputId": "0939e645-b2e3-4ca3-a318-dece091f1429",
        "executionInfo": {
          "status": "ok",
          "timestamp": 1531700048721,
          "user_tz": 420,
          "elapsed": 10122,
          "user": {
            "displayName": "Rima Seiilova-Olson",
            "photoUrl": "//lh3.googleusercontent.com/-8eNxaqv5nE0/AAAAAAAAAAI/AAAAAAAAAoU/Nb-EoucD9YM/s50-c-k-no/photo.jpg",
            "userId": "115856803459228045258"
          }
        }
      },
      "cell_type": "code",
      "source": [
        "from sklearn.ensemble import RandomForestRegressor\n",
        "forest_reg = RandomForestRegressor(n_estimators=150,max_features=6, max_depth=20)\n",
        "forest_reg.fit(housing_prepared, housing_labels)\n",
        "housing_predictions = forest_reg.predict(housing_prepared)\n",
        "r2_score(housing_labels, housing_predictions)"
      ],
      "execution_count": 126,
      "outputs": [
        {
          "output_type": "execute_result",
          "data": {
            "text/plain": [
              "0.9727962643761862"
            ]
          },
          "metadata": {
            "tags": []
          },
          "execution_count": 126
        }
      ]
    },
    {
      "metadata": {
        "id": "OvUoAYaVn9g5",
        "colab_type": "code",
        "colab": {
          "autoexec": {
            "startup": false,
            "wait_interval": 0
          },
          "base_uri": "https://localhost:8080/",
          "height": 34
        },
        "outputId": "360d7fa8-2e3d-403a-8cf0-f9d68cc44454",
        "executionInfo": {
          "status": "ok",
          "timestamp": 1531700110533,
          "user_tz": 420,
          "elapsed": 40560,
          "user": {
            "displayName": "Rima Seiilova-Olson",
            "photoUrl": "//lh3.googleusercontent.com/-8eNxaqv5nE0/AAAAAAAAAAI/AAAAAAAAAoU/Nb-EoucD9YM/s50-c-k-no/photo.jpg",
            "userId": "115856803459228045258"
          }
        }
      },
      "cell_type": "code",
      "source": [
        "from sklearn.model_selection import cross_val_score\n",
        "\n",
        "score = cross_val_score(forest_reg, housing_prepared, housing_labels, scoring=\"r2\", cv=5)\n",
        "print(score.mean())"
      ],
      "execution_count": 127,
      "outputs": [
        {
          "output_type": "stream",
          "text": [
            "0.8198197845812496\n"
          ],
          "name": "stdout"
        }
      ]
    },
    {
      "metadata": {
        "id": "QsKMPOmKsU6b",
        "colab_type": "code",
        "colab": {
          "autoexec": {
            "startup": false,
            "wait_interval": 0
          }
        }
      },
      "cell_type": "code",
      "source": [
        "from sklearn.model_selection import GridSearchCV\n",
        "\n",
        "param_grid = [\n",
        "    {'n_estimators': [150], 'max_features':[6], 'max_depth':[20] },\n",
        "    \n",
        "]"
      ],
      "execution_count": 0,
      "outputs": []
    },
    {
      "metadata": {
        "id": "zxv83H0kSXLs",
        "colab_type": "code",
        "colab": {
          "autoexec": {
            "startup": false,
            "wait_interval": 0
          },
          "base_uri": "https://localhost:8080/",
          "height": 204
        },
        "outputId": "c1f2b070-779f-424b-e9e9-1e6086efda34",
        "executionInfo": {
          "status": "ok",
          "timestamp": 1531700771476,
          "user_tz": 420,
          "elapsed": 49380,
          "user": {
            "displayName": "Rima Seiilova-Olson",
            "photoUrl": "//lh3.googleusercontent.com/-8eNxaqv5nE0/AAAAAAAAAAI/AAAAAAAAAoU/Nb-EoucD9YM/s50-c-k-no/photo.jpg",
            "userId": "115856803459228045258"
          }
        }
      },
      "cell_type": "code",
      "source": [
        "forest_reg = RandomForestRegressor()\n",
        "\n",
        "grid_search = GridSearchCV(forest_reg, param_grid, cv=5, scoring='r2')\n",
        "\n",
        "grid_search.fit(housing_prepared, housing_labels)"
      ],
      "execution_count": 146,
      "outputs": [
        {
          "output_type": "execute_result",
          "data": {
            "text/plain": [
              "GridSearchCV(cv=5, error_score='raise',\n",
              "       estimator=RandomForestRegressor(bootstrap=True, criterion='mse', max_depth=None,\n",
              "           max_features='auto', max_leaf_nodes=None,\n",
              "           min_impurity_decrease=0.0, min_impurity_split=None,\n",
              "           min_samples_leaf=1, min_samples_split=2,\n",
              "           min_weight_fraction_leaf=0.0, n_estimators=10, n_jobs=1,\n",
              "           oob_score=False, random_state=None, verbose=0, warm_start=False),\n",
              "       fit_params=None, iid=True, n_jobs=1,\n",
              "       param_grid=[{'n_estimators': [150], 'max_features': [6], 'max_depth': [20]}],\n",
              "       pre_dispatch='2*n_jobs', refit=True, return_train_score='warn',\n",
              "       scoring='r2', verbose=0)"
            ]
          },
          "metadata": {
            "tags": []
          },
          "execution_count": 146
        }
      ]
    },
    {
      "metadata": {
        "id": "e6wsF6IYTHKi",
        "colab_type": "code",
        "colab": {
          "autoexec": {
            "startup": false,
            "wait_interval": 0
          },
          "base_uri": "https://localhost:8080/",
          "height": 119
        },
        "outputId": "db345688-c408-4673-c575-e44f0a9173af",
        "executionInfo": {
          "status": "ok",
          "timestamp": 1531700771924,
          "user_tz": 420,
          "elapsed": 280,
          "user": {
            "displayName": "Rima Seiilova-Olson",
            "photoUrl": "//lh3.googleusercontent.com/-8eNxaqv5nE0/AAAAAAAAAAI/AAAAAAAAAoU/Nb-EoucD9YM/s50-c-k-no/photo.jpg",
            "userId": "115856803459228045258"
          }
        }
      },
      "cell_type": "code",
      "source": [
        "grid_search.best_estimator_"
      ],
      "execution_count": 147,
      "outputs": [
        {
          "output_type": "execute_result",
          "data": {
            "text/plain": [
              "RandomForestRegressor(bootstrap=True, criterion='mse', max_depth=20,\n",
              "           max_features=6, max_leaf_nodes=None, min_impurity_decrease=0.0,\n",
              "           min_impurity_split=None, min_samples_leaf=1,\n",
              "           min_samples_split=2, min_weight_fraction_leaf=0.0,\n",
              "           n_estimators=150, n_jobs=1, oob_score=False, random_state=None,\n",
              "           verbose=0, warm_start=False)"
            ]
          },
          "metadata": {
            "tags": []
          },
          "execution_count": 147
        }
      ]
    },
    {
      "metadata": {
        "id": "0cWlOKSiUiso",
        "colab_type": "code",
        "colab": {
          "autoexec": {
            "startup": false,
            "wait_interval": 0
          }
        }
      },
      "cell_type": "code",
      "source": [
        "cvres = grid_search.cv_results_"
      ],
      "execution_count": 0,
      "outputs": []
    },
    {
      "metadata": {
        "id": "K-8LWMFgVO6Y",
        "colab_type": "code",
        "colab": {
          "autoexec": {
            "startup": false,
            "wait_interval": 0
          }
        }
      },
      "cell_type": "code",
      "source": [
        ""
      ],
      "execution_count": 0,
      "outputs": []
    },
    {
      "metadata": {
        "id": "LSKjTJSkUwe8",
        "colab_type": "code",
        "colab": {
          "autoexec": {
            "startup": false,
            "wait_interval": 0
          },
          "base_uri": "https://localhost:8080/",
          "height": 34
        },
        "outputId": "9b0ce1c4-2d55-405d-e230-c11d904fb7ad",
        "executionInfo": {
          "status": "ok",
          "timestamp": 1531700777601,
          "user_tz": 420,
          "elapsed": 4194,
          "user": {
            "displayName": "Rima Seiilova-Olson",
            "photoUrl": "//lh3.googleusercontent.com/-8eNxaqv5nE0/AAAAAAAAAAI/AAAAAAAAAoU/Nb-EoucD9YM/s50-c-k-no/photo.jpg",
            "userId": "115856803459228045258"
          }
        }
      },
      "cell_type": "code",
      "source": [
        "for mean_score, params in zip(cvres[\"mean_test_score\"], cvres[\"params\"]):\n",
        "  print(mean_score, params)"
      ],
      "execution_count": 149,
      "outputs": [
        {
          "output_type": "stream",
          "text": [
            "0.8190265573425994 {'max_depth': 20, 'max_features': 6, 'n_estimators': 150}\n"
          ],
          "name": "stdout"
        }
      ]
    },
    {
      "metadata": {
        "id": "wSg_MPe0U1gf",
        "colab_type": "code",
        "colab": {
          "autoexec": {
            "startup": false,
            "wait_interval": 0
          }
        }
      },
      "cell_type": "code",
      "source": [
        "final_model = grid_search.best_estimator_"
      ],
      "execution_count": 0,
      "outputs": []
    },
    {
      "metadata": {
        "id": "kEqH8aTgX8Iv",
        "colab_type": "code",
        "colab": {
          "autoexec": {
            "startup": false,
            "wait_interval": 0
          }
        }
      },
      "cell_type": "code",
      "source": [
        "X_test = strat_test_set.drop(\"median_house_value\",axis=1)\n",
        "y_test = strat_test_set[\"median_house_value\"].copy()\n",
        "\n",
        "X_test_prepared = full_pipeline.transform(X_test)\n",
        "\n",
        "final_prediction = final_model.predict(X_test_prepared)\n",
        "\n"
      ],
      "execution_count": 0,
      "outputs": []
    },
    {
      "metadata": {
        "id": "Kv-lK8ejZ1Fo",
        "colab_type": "code",
        "colab": {
          "autoexec": {
            "startup": false,
            "wait_interval": 0
          },
          "base_uri": "https://localhost:8080/",
          "height": 34
        },
        "outputId": "fda021f5-d1fe-4a4b-d487-18821b9e9b36",
        "executionInfo": {
          "status": "ok",
          "timestamp": 1531700779596,
          "user_tz": 420,
          "elapsed": 294,
          "user": {
            "displayName": "Rima Seiilova-Olson",
            "photoUrl": "//lh3.googleusercontent.com/-8eNxaqv5nE0/AAAAAAAAAAI/AAAAAAAAAoU/Nb-EoucD9YM/s50-c-k-no/photo.jpg",
            "userId": "115856803459228045258"
          }
        }
      },
      "cell_type": "code",
      "source": [
        "r2_score(y_test, final_prediction)"
      ],
      "execution_count": 152,
      "outputs": [
        {
          "output_type": "execute_result",
          "data": {
            "text/plain": [
              "0.830560689048628"
            ]
          },
          "metadata": {
            "tags": []
          },
          "execution_count": 152
        }
      ]
    },
    {
      "metadata": {
        "id": "BsRiUt4FaCxE",
        "colab_type": "code",
        "colab": {
          "autoexec": {
            "startup": false,
            "wait_interval": 0
          }
        }
      },
      "cell_type": "code",
      "source": [
        ""
      ],
      "execution_count": 0,
      "outputs": []
    }
  ]
}