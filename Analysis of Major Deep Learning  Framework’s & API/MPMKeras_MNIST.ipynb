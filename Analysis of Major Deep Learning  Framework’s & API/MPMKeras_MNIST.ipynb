{
  "nbformat": 4,
  "nbformat_minor": 0,
  "metadata": {
    "colab": {
      "name": "MPMKeras_MNIST.ipynb",
      "version": "0.3.2",
      "provenance": [],
      "collapsed_sections": []
    },
    "kernelspec": {
      "name": "python3",
      "display_name": "Python 3"
    },
    "accelerator": "GPU"
  },
  "cells": [
    {
      "metadata": {
        "id": "SnV68GCjdt5X",
        "colab_type": "text"
      },
      "cell_type": "markdown",
      "source": [
        "**KERAS **"
      ]
    },
    {
      "metadata": {
        "id": "CYnNcp4KdC6K",
        "colab_type": "code",
        "outputId": "27200667-0e1d-4376-8922-1323bd492ec3",
        "colab": {
          "base_uri": "https://localhost:8080/",
          "height": 552
        }
      },
      "cell_type": "code",
      "source": [
        "from tensorflow.examples.tutorials.mnist import input_data\n",
        "mnist = input_data.read_data_sets(\"model_data/\", one_hot=True)"
      ],
      "execution_count": 1,
      "outputs": [
        {
          "output_type": "stream",
          "text": [
            "WARNING:tensorflow:From <ipython-input-1-ef088ae25415>:2: read_data_sets (from tensorflow.contrib.learn.python.learn.datasets.mnist) is deprecated and will be removed in a future version.\n",
            "Instructions for updating:\n",
            "Please use alternatives such as official/mnist/dataset.py from tensorflow/models.\n",
            "WARNING:tensorflow:From /usr/local/lib/python3.6/dist-packages/tensorflow/contrib/learn/python/learn/datasets/mnist.py:260: maybe_download (from tensorflow.contrib.learn.python.learn.datasets.base) is deprecated and will be removed in a future version.\n",
            "Instructions for updating:\n",
            "Please write your own downloading logic.\n",
            "WARNING:tensorflow:From /usr/local/lib/python3.6/dist-packages/tensorflow/contrib/learn/python/learn/datasets/base.py:252: _internal_retry.<locals>.wrap.<locals>.wrapped_fn (from tensorflow.contrib.learn.python.learn.datasets.base) is deprecated and will be removed in a future version.\n",
            "Instructions for updating:\n",
            "Please use urllib or similar directly.\n",
            "Successfully downloaded train-images-idx3-ubyte.gz 9912422 bytes.\n",
            "WARNING:tensorflow:From /usr/local/lib/python3.6/dist-packages/tensorflow/contrib/learn/python/learn/datasets/mnist.py:262: extract_images (from tensorflow.contrib.learn.python.learn.datasets.mnist) is deprecated and will be removed in a future version.\n",
            "Instructions for updating:\n",
            "Please use tf.data to implement this functionality.\n",
            "Extracting model_data/train-images-idx3-ubyte.gz\n",
            "Successfully downloaded train-labels-idx1-ubyte.gz 28881 bytes.\n",
            "WARNING:tensorflow:From /usr/local/lib/python3.6/dist-packages/tensorflow/contrib/learn/python/learn/datasets/mnist.py:267: extract_labels (from tensorflow.contrib.learn.python.learn.datasets.mnist) is deprecated and will be removed in a future version.\n",
            "Instructions for updating:\n",
            "Please use tf.data to implement this functionality.\n",
            "Extracting model_data/train-labels-idx1-ubyte.gz\n",
            "WARNING:tensorflow:From /usr/local/lib/python3.6/dist-packages/tensorflow/contrib/learn/python/learn/datasets/mnist.py:110: dense_to_one_hot (from tensorflow.contrib.learn.python.learn.datasets.mnist) is deprecated and will be removed in a future version.\n",
            "Instructions for updating:\n",
            "Please use tf.one_hot on tensors.\n",
            "Successfully downloaded t10k-images-idx3-ubyte.gz 1648877 bytes.\n",
            "Extracting model_data/t10k-images-idx3-ubyte.gz\n",
            "Successfully downloaded t10k-labels-idx1-ubyte.gz 4542 bytes.\n",
            "Extracting model_data/t10k-labels-idx1-ubyte.gz\n",
            "WARNING:tensorflow:From /usr/local/lib/python3.6/dist-packages/tensorflow/contrib/learn/python/learn/datasets/mnist.py:290: DataSet.__init__ (from tensorflow.contrib.learn.python.learn.datasets.mnist) is deprecated and will be removed in a future version.\n",
            "Instructions for updating:\n",
            "Please use alternatives such as official/mnist/dataset.py from tensorflow/models.\n"
          ],
          "name": "stdout"
        }
      ]
    },
    {
      "metadata": {
        "id": "HiHNGKrWookZ",
        "colab_type": "code",
        "colab": {
          "base_uri": "https://localhost:8080/",
          "height": 34
        },
        "outputId": "bf3ca304-603f-488f-ed95-9e80b7ddf8f9"
      },
      "cell_type": "code",
      "source": [
        "from keras.models import Sequential\n",
        "import numpy\n",
        "from keras.layers import Dense\n",
        "from keras.layers import Dropout\n",
        "from keras.layers import Flatten\n",
        "from keras.layers.convolutional import Conv2D\n",
        "from keras.utils import np_utils\n",
        "from keras.layers.convolutional import MaxPooling2D\n",
        "import keras\n",
        "from keras import optimizers"
      ],
      "execution_count": 2,
      "outputs": [
        {
          "output_type": "stream",
          "text": [
            "Using TensorFlow backend.\n"
          ],
          "name": "stderr"
        }
      ]
    },
    {
      "metadata": {
        "id": "QFOj4-oAb-8g",
        "colab_type": "text"
      },
      "cell_type": "markdown",
      "source": [
        "Import time Function to calculate Time"
      ]
    },
    {
      "metadata": {
        "id": "6o_EXvdce-44",
        "colab_type": "code",
        "colab": {}
      },
      "cell_type": "code",
      "source": [
        "import time"
      ],
      "execution_count": 0,
      "outputs": []
    },
    {
      "metadata": {
        "id": "Mw2hkozIfu77",
        "colab_type": "text"
      },
      "cell_type": "markdown",
      "source": [
        "MNIST data download"
      ]
    },
    {
      "metadata": {
        "id": "tdbGR0wznJ9u",
        "colab_type": "code",
        "colab": {}
      },
      "cell_type": "code",
      "source": [
        "X_train = mnist.train.images\n",
        "y_train =mnist.train.labels\n",
        "X_test =mnist.test.images\n",
        "y_test =mnist.test.labels"
      ],
      "execution_count": 0,
      "outputs": []
    },
    {
      "metadata": {
        "id": "VKBu4bkfNqWF",
        "colab_type": "code",
        "outputId": "f9c94f8b-242d-4aa1-9bf8-d25666591e22",
        "colab": {
          "base_uri": "https://localhost:8080/",
          "height": 87
        }
      },
      "cell_type": "code",
      "source": [
        "print(X_train.shape)\n",
        "print(y_train.shape)\n",
        "print(X_test.shape)\n",
        "y_test.shape"
      ],
      "execution_count": 5,
      "outputs": [
        {
          "output_type": "stream",
          "text": [
            "(55000, 784)\n",
            "(55000, 10)\n",
            "(10000, 784)\n"
          ],
          "name": "stdout"
        },
        {
          "output_type": "execute_result",
          "data": {
            "text/plain": [
              "(10000, 10)"
            ]
          },
          "metadata": {
            "tags": []
          },
          "execution_count": 5
        }
      ]
    },
    {
      "metadata": {
        "id": "6FVWoPFSPDIj",
        "colab_type": "text"
      },
      "cell_type": "markdown",
      "source": [
        "*Hyper Parameters*"
      ]
    },
    {
      "metadata": {
        "id": "B0FOXseGt2JI",
        "colab_type": "code",
        "colab": {}
      },
      "cell_type": "code",
      "source": [
        "# Training Parameters\n",
        "learning_rate = 0.001\n",
        "num_steps = 20\n",
        "batch_size = 128\n",
        "# Network Parameters\n",
        "num_input = 784 # MNIST data input (img shape: 28*28)\n",
        "num_classes = 10 # MNIST total classes (0-9 digits)\n",
        "dropout = 0.25 # Dropout, probability to drop a unit"
      ],
      "execution_count": 0,
      "outputs": []
    },
    {
      "metadata": {
        "id": "F9hZPN7WgDH6",
        "colab_type": "text"
      },
      "cell_type": "markdown",
      "source": [
        "Shape changing"
      ]
    },
    {
      "metadata": {
        "id": "HZjmcRIpPDud",
        "colab_type": "code",
        "colab": {}
      },
      "cell_type": "code",
      "source": [
        "X_train = X_train.reshape(X_train.shape[0],28, 28, 1).astype('float32')\n",
        "X_test = X_test.reshape(X_test.shape[0], 28, 28, 1).astype('float32')"
      ],
      "execution_count": 0,
      "outputs": []
    },
    {
      "metadata": {
        "id": "ubBAfSrtguqU",
        "colab_type": "text"
      },
      "cell_type": "markdown",
      "source": [
        "Define Model"
      ]
    },
    {
      "metadata": {
        "id": "NltskSMRe-u4",
        "colab_type": "code",
        "colab": {}
      },
      "cell_type": "code",
      "source": [
        "def baseline_model():\n",
        "    # create model\n",
        "    model = Sequential()\n",
        "    model.add(Conv2D(32, (5, 5), input_shape=(28, 28,1), activation='relu'))  # 32 filter kernal size 5\n",
        "    model.add(MaxPooling2D(pool_size=(2, 2)))                                 # Max Pooling (down-sampling) with strides of 2 and kernel size of 2\n",
        "    model.add(Conv2D(64, (3, 3), activation='relu'))                          # Convolution Layer with 64 filters and a kernel size of 3 with RELU ACTIVATION\n",
        "    model.add(MaxPooling2D(pool_size=(2, 2)))                                 # Max Pooling (down-sampling) with strides of 2 and kernel size of 2\n",
        "    model.add(Flatten())                                                      # Flatten the data to a 1-D vector for the fully connected layer\n",
        "    model.add(Dense(1024))\n",
        "    model.add(Dropout(dropout))\n",
        "    model.add(Dense(num_classes, activation='softmax')) # Output layer, class prediction\n",
        "    # Compile model\n",
        "    model.compile(loss='categorical_crossentropy', optimizer=keras.optimizers.Adam(lr=learning_rate), metrics=['accuracy'])\n",
        "    return model\n"
      ],
      "execution_count": 0,
      "outputs": []
    },
    {
      "metadata": {
        "id": "fd-97PDLg1Fh",
        "colab_type": "text"
      },
      "cell_type": "markdown",
      "source": [
        "Evaluate the Model"
      ]
    },
    {
      "metadata": {
        "id": "b7GLA_N7b4Wo",
        "colab_type": "code",
        "colab": {}
      },
      "cell_type": "code",
      "source": [
        "start = time. time() #start time"
      ],
      "execution_count": 0,
      "outputs": []
    },
    {
      "metadata": {
        "id": "9_FkoEf_e-r-",
        "colab_type": "code",
        "outputId": "597678fd-59b4-437c-93cc-3b1284f27c5c",
        "colab": {
          "base_uri": "https://localhost:8080/",
          "height": 763
        }
      },
      "cell_type": "code",
      "source": [
        "model = baseline_model()\n",
        "# Fit the model\n",
        "model.fit(X_train, y_train, validation_data=(X_test, y_test), epochs=num_steps, batch_size=batch_size, verbose=2)\n",
        "# Final evaluation of the model\n",
        "scores = model.evaluate(X_test, y_test, verbose=0)\n",
        "print(\"Baseline Error: %.2f%%\" % (100-scores[1]*100))"
      ],
      "execution_count": 10,
      "outputs": [
        {
          "output_type": "stream",
          "text": [
            "Train on 55000 samples, validate on 10000 samples\n",
            "Epoch 1/20\n",
            " - 9s - loss: 0.1567 - acc: 0.9525 - val_loss: 0.0518 - val_acc: 0.9834\n",
            "Epoch 2/20\n",
            " - 5s - loss: 0.0464 - acc: 0.9859 - val_loss: 0.0350 - val_acc: 0.9888\n",
            "Epoch 3/20\n",
            " - 5s - loss: 0.0348 - acc: 0.9890 - val_loss: 0.0312 - val_acc: 0.9898\n",
            "Epoch 4/20\n",
            " - 5s - loss: 0.0282 - acc: 0.9909 - val_loss: 0.0281 - val_acc: 0.9907\n",
            "Epoch 5/20\n",
            " - 5s - loss: 0.0208 - acc: 0.9933 - val_loss: 0.0253 - val_acc: 0.9922\n",
            "Epoch 6/20\n",
            " - 5s - loss: 0.0184 - acc: 0.9941 - val_loss: 0.0291 - val_acc: 0.9918\n",
            "Epoch 7/20\n",
            " - 5s - loss: 0.0165 - acc: 0.9949 - val_loss: 0.0303 - val_acc: 0.9909\n",
            "Epoch 8/20\n",
            " - 5s - loss: 0.0133 - acc: 0.9959 - val_loss: 0.0295 - val_acc: 0.9922\n",
            "Epoch 9/20\n",
            " - 5s - loss: 0.0133 - acc: 0.9955 - val_loss: 0.0442 - val_acc: 0.9881\n",
            "Epoch 10/20\n",
            " - 5s - loss: 0.0129 - acc: 0.9957 - val_loss: 0.0324 - val_acc: 0.9920\n",
            "Epoch 11/20\n",
            " - 5s - loss: 0.0109 - acc: 0.9969 - val_loss: 0.0306 - val_acc: 0.9919\n",
            "Epoch 12/20\n",
            " - 5s - loss: 0.0110 - acc: 0.9967 - val_loss: 0.0359 - val_acc: 0.9922\n",
            "Epoch 13/20\n",
            " - 5s - loss: 0.0090 - acc: 0.9971 - val_loss: 0.0470 - val_acc: 0.9883\n",
            "Epoch 14/20\n",
            " - 5s - loss: 0.0106 - acc: 0.9965 - val_loss: 0.0510 - val_acc: 0.9895\n",
            "Epoch 15/20\n",
            " - 5s - loss: 0.0091 - acc: 0.9971 - val_loss: 0.0460 - val_acc: 0.9900\n",
            "Epoch 16/20\n",
            " - 5s - loss: 0.0077 - acc: 0.9975 - val_loss: 0.0503 - val_acc: 0.9900\n",
            "Epoch 17/20\n",
            " - 5s - loss: 0.0088 - acc: 0.9971 - val_loss: 0.0520 - val_acc: 0.9889\n",
            "Epoch 18/20\n",
            " - 5s - loss: 0.0060 - acc: 0.9981 - val_loss: 0.0493 - val_acc: 0.9926\n",
            "Epoch 19/20\n",
            " - 5s - loss: 0.0083 - acc: 0.9974 - val_loss: 0.0602 - val_acc: 0.9879\n",
            "Epoch 20/20\n",
            " - 5s - loss: 0.0061 - acc: 0.9979 - val_loss: 0.0399 - val_acc: 0.9920\n",
            "Baseline Error: 0.80%\n"
          ],
          "name": "stdout"
        }
      ]
    },
    {
      "metadata": {
        "id": "svoqBD_9e-ox",
        "colab_type": "code",
        "colab": {
          "base_uri": "https://localhost:8080/",
          "height": 34
        },
        "outputId": "3dfee2f5-c20f-45bf-e0b5-51600507b7da"
      },
      "cell_type": "code",
      "source": [
        "end = time. time()\n",
        "a =end - start\n",
        "print(\"The Time taken by model to run in seconds is %.2f seconds \"%a)"
      ],
      "execution_count": 11,
      "outputs": [
        {
          "output_type": "stream",
          "text": [
            "The Time taken by model to run in seconds is 106.17 seconds \n"
          ],
          "name": "stdout"
        }
      ]
    },
    {
      "metadata": {
        "id": "Lq60JoIVvEAF",
        "colab_type": "code",
        "outputId": "a5742774-25f6-497b-f1cb-55a93b854eb3",
        "colab": {
          "base_uri": "https://localhost:8080/",
          "height": 425
        }
      },
      "cell_type": "code",
      "source": [
        "model.summary()  #drop out layer Not visible"
      ],
      "execution_count": 12,
      "outputs": [
        {
          "output_type": "stream",
          "text": [
            "_________________________________________________________________\n",
            "Layer (type)                 Output Shape              Param #   \n",
            "=================================================================\n",
            "conv2d_1 (Conv2D)            (None, 24, 24, 32)        832       \n",
            "_________________________________________________________________\n",
            "max_pooling2d_1 (MaxPooling2 (None, 12, 12, 32)        0         \n",
            "_________________________________________________________________\n",
            "conv2d_2 (Conv2D)            (None, 10, 10, 64)        18496     \n",
            "_________________________________________________________________\n",
            "max_pooling2d_2 (MaxPooling2 (None, 5, 5, 64)          0         \n",
            "_________________________________________________________________\n",
            "flatten_1 (Flatten)          (None, 1600)              0         \n",
            "_________________________________________________________________\n",
            "dense_1 (Dense)              (None, 1024)              1639424   \n",
            "_________________________________________________________________\n",
            "dropout_1 (Dropout)          (None, 1024)              0         \n",
            "_________________________________________________________________\n",
            "dense_2 (Dense)              (None, 10)                10250     \n",
            "=================================================================\n",
            "Total params: 1,669,002\n",
            "Trainable params: 1,669,002\n",
            "Non-trainable params: 0\n",
            "_________________________________________________________________\n"
          ],
          "name": "stdout"
        }
      ]
    },
    {
      "metadata": {
        "id": "-ZOapC1qe-mL",
        "colab_type": "code",
        "colab": {}
      },
      "cell_type": "code",
      "source": [
        ""
      ],
      "execution_count": 0,
      "outputs": []
    },
    {
      "metadata": {
        "id": "zxdZ9IDhe-jS",
        "colab_type": "code",
        "colab": {}
      },
      "cell_type": "code",
      "source": [
        ""
      ],
      "execution_count": 0,
      "outputs": []
    },
    {
      "metadata": {
        "id": "5NgeuRoFe-gL",
        "colab_type": "code",
        "colab": {}
      },
      "cell_type": "code",
      "source": [
        ""
      ],
      "execution_count": 0,
      "outputs": []
    },
    {
      "metadata": {
        "id": "YJBvOyaXe-a8",
        "colab_type": "code",
        "colab": {}
      },
      "cell_type": "code",
      "source": [
        ""
      ],
      "execution_count": 0,
      "outputs": []
    },
    {
      "metadata": {
        "id": "y8Z3JOTge-W0",
        "colab_type": "code",
        "colab": {}
      },
      "cell_type": "code",
      "source": [
        ""
      ],
      "execution_count": 0,
      "outputs": []
    },
    {
      "metadata": {
        "id": "-XUCwlYidDb9",
        "colab_type": "code",
        "colab": {}
      },
      "cell_type": "code",
      "source": [
        ""
      ],
      "execution_count": 0,
      "outputs": []
    }
  ]
}