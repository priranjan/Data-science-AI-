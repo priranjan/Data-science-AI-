{
  "nbformat": 4,
  "nbformat_minor": 0,
  "metadata": {
    "colab": {
      "name": "MPM_TF_KERAS_MINST.ipynb",
      "version": "0.3.2",
      "provenance": []
    },
    "kernelspec": {
      "name": "python3",
      "display_name": "Python 3"
    },
    "accelerator": "GPU"
  },
  "cells": [
    {
      "metadata": {
        "id": "ge7ynIPY4rId",
        "colab_type": "text"
      },
      "cell_type": "markdown",
      "source": [
        "**TENSORFLOW WITH KERAS API **"
      ]
    },
    {
      "metadata": {
        "id": "tFMt1Oo56MTT",
        "colab_type": "text"
      },
      "cell_type": "markdown",
      "source": [
        "MNIST data download"
      ]
    },
    {
      "metadata": {
        "id": "b-EhX7SP4TsS",
        "colab_type": "code",
        "outputId": "f9e4ceac-b825-4109-b4f6-e084c5fcf6aa",
        "colab": {
          "base_uri": "https://localhost:8080/",
          "height": 87
        }
      },
      "cell_type": "code",
      "source": [
        "from tensorflow.examples.tutorials.mnist import input_data\n",
        "mnist = input_data.read_data_sets(\"model_data/\", one_hot=True)"
      ],
      "execution_count": 13,
      "outputs": [
        {
          "output_type": "stream",
          "text": [
            "Extracting model_data/train-images-idx3-ubyte.gz\n",
            "Extracting model_data/train-labels-idx1-ubyte.gz\n",
            "Extracting model_data/t10k-images-idx3-ubyte.gz\n",
            "Extracting model_data/t10k-labels-idx1-ubyte.gz\n"
          ],
          "name": "stdout"
        }
      ]
    },
    {
      "metadata": {
        "id": "h2LrpgGv5gTD",
        "colab_type": "code",
        "colab": {}
      },
      "cell_type": "code",
      "source": [
        "import tensorflow as tf"
      ],
      "execution_count": 0,
      "outputs": []
    },
    {
      "metadata": {
        "id": "vN4bXSlVIWiz",
        "colab_type": "text"
      },
      "cell_type": "markdown",
      "source": [
        "Import time Function to calculate Time"
      ]
    },
    {
      "metadata": {
        "id": "vm_c_BPMIV-8",
        "colab_type": "code",
        "colab": {}
      },
      "cell_type": "code",
      "source": [
        "import time"
      ],
      "execution_count": 0,
      "outputs": []
    },
    {
      "metadata": {
        "id": "iXocWQo06UCb",
        "colab_type": "text"
      },
      "cell_type": "markdown",
      "source": [
        "MNIST data download"
      ]
    },
    {
      "metadata": {
        "id": "a_Pu276t6Rez",
        "colab_type": "code",
        "colab": {}
      },
      "cell_type": "code",
      "source": [
        "X_train = mnist.train.images\n",
        "y_train =mnist.train.labels\n",
        "X_test =mnist.test.images\n",
        "y_test =mnist.test.labels"
      ],
      "execution_count": 0,
      "outputs": []
    },
    {
      "metadata": {
        "id": "2QPry4PD6Yaq",
        "colab_type": "code",
        "outputId": "89d31096-558d-45bc-fc22-ca5ddcf650bc",
        "colab": {
          "base_uri": "https://localhost:8080/",
          "height": 87
        }
      },
      "cell_type": "code",
      "source": [
        "print(X_train.shape)\n",
        "print(y_train.shape)\n",
        "print(X_test.shape)\n",
        "y_test.shape"
      ],
      "execution_count": 17,
      "outputs": [
        {
          "output_type": "stream",
          "text": [
            "(55000, 784)\n",
            "(55000, 10)\n",
            "(10000, 784)\n"
          ],
          "name": "stdout"
        },
        {
          "output_type": "execute_result",
          "data": {
            "text/plain": [
              "(10000, 10)"
            ]
          },
          "metadata": {
            "tags": []
          },
          "execution_count": 17
        }
      ]
    },
    {
      "metadata": {
        "id": "30FDPX8R6brL",
        "colab_type": "text"
      },
      "cell_type": "markdown",
      "source": [
        "Hyper Parameters"
      ]
    },
    {
      "metadata": {
        "id": "SQSch4Hw6cOK",
        "colab_type": "code",
        "colab": {}
      },
      "cell_type": "code",
      "source": [
        "# Training Parameters\n",
        "learning_rate = 0.001\n",
        "num_steps = 20\n",
        "batch_size = 128\n",
        "# Network Parameters\n",
        "num_input = 784 # MNIST data input (img shape: 28*28)\n",
        "num_classes = 10 # MNIST total classes (0-9 digits)\n",
        "dropout = 0.25 # Dropout, probability to drop a unit"
      ],
      "execution_count": 0,
      "outputs": []
    },
    {
      "metadata": {
        "id": "qOL1Q4MC6fz6",
        "colab_type": "text"
      },
      "cell_type": "markdown",
      "source": [
        "Shape changing"
      ]
    },
    {
      "metadata": {
        "id": "bHlMMp9A6gOq",
        "colab_type": "code",
        "colab": {}
      },
      "cell_type": "code",
      "source": [
        "X_train = X_train.reshape(X_train.shape[0],28, 28, 1).astype('float32')\n",
        "X_test = X_test.reshape(X_test.shape[0], 28, 28, 1).astype('float32')"
      ],
      "execution_count": 0,
      "outputs": []
    },
    {
      "metadata": {
        "id": "Rp_Ibbqo6jLL",
        "colab_type": "text"
      },
      "cell_type": "markdown",
      "source": [
        "Define Model"
      ]
    },
    {
      "metadata": {
        "id": "xiTeaMsjIpX6",
        "colab_type": "code",
        "colab": {}
      },
      "cell_type": "code",
      "source": [
        ""
      ],
      "execution_count": 0,
      "outputs": []
    },
    {
      "metadata": {
        "id": "HgYad5Ls66Cp",
        "colab_type": "code",
        "colab": {}
      },
      "cell_type": "code",
      "source": [
        "    # create model\n",
        "    model = tf.keras.Sequential()\n",
        "    model.add(tf.keras.layers.Conv2D(32, (5, 5), input_shape=(28, 28,1), activation='relu'))  # 32 filter kernal size 5\n",
        "    model.add(tf.keras.layers.MaxPooling2D(pool_size=(2, 2)))                                 # Max Pooling (down-sampling) with strides of 2 and kernel size of 2\n",
        "    model.add(tf.keras.layers.Conv2D(64, (3, 3), activation='relu'))                          # Convolution Layer with 64 filters and a kernel size of 3 with RELU ACTIVATION\n",
        "    model.add(tf.keras.layers.MaxPooling2D(pool_size=(2, 2)))                                 # Max Pooling (down-sampling) with strides of 2 and kernel size of 2\n",
        "    model.add(tf.keras.layers.Flatten())                                                      # Flatten the data to a 1-D vector for the fully connected layer\n",
        "    model.add(tf.keras.layers.Dense(1024))\n",
        "    model.add(tf.keras.layers.Dropout(dropout))\n",
        "    model.add(tf.keras.layers.Dense(num_classes, activation='softmax')) # Output layer, class prediction\n",
        "    # Compile model\n",
        "    model.compile(loss='categorical_crossentropy', optimizer=tf.keras.optimizers.Adam(lr=learning_rate), metrics=['accuracy'])\n",
        "  "
      ],
      "execution_count": 0,
      "outputs": []
    },
    {
      "metadata": {
        "id": "VlHtEQX1LtSG",
        "colab_type": "text"
      },
      "cell_type": "markdown",
      "source": [
        "Running model"
      ]
    },
    {
      "metadata": {
        "id": "Ar9aeA-7Iu1B",
        "colab_type": "code",
        "colab": {}
      },
      "cell_type": "code",
      "source": [
        "start = time. time() #start time"
      ],
      "execution_count": 0,
      "outputs": []
    },
    {
      "metadata": {
        "id": "CmZ5fP-C5va6",
        "colab_type": "code",
        "outputId": "82e17c5b-ceb7-4a05-f088-af9f46279317",
        "colab": {
          "base_uri": "https://localhost:8080/",
          "height": 763
        }
      },
      "cell_type": "code",
      "source": [
        "model.fit(X_train,y_train,batch_size=batch_size, epochs=num_steps,validation_data=(X_test, y_test))\n",
        "\n"
      ],
      "execution_count": 21,
      "outputs": [
        {
          "output_type": "stream",
          "text": [
            "Train on 55000 samples, validate on 10000 samples\n",
            "Epoch 1/20\n",
            "55000/55000 [==============================] - 6s 110us/step - loss: 0.1526 - acc: 0.9533 - val_loss: 0.0448 - val_acc: 0.9858\n",
            "Epoch 2/20\n",
            "55000/55000 [==============================] - 5s 99us/step - loss: 0.0481 - acc: 0.9851 - val_loss: 0.0289 - val_acc: 0.9908\n",
            "Epoch 3/20\n",
            "55000/55000 [==============================] - 5s 98us/step - loss: 0.0338 - acc: 0.9891 - val_loss: 0.0364 - val_acc: 0.9888\n",
            "Epoch 4/20\n",
            "55000/55000 [==============================] - 5s 98us/step - loss: 0.0279 - acc: 0.9907 - val_loss: 0.0297 - val_acc: 0.9901\n",
            "Epoch 5/20\n",
            "55000/55000 [==============================] - 5s 98us/step - loss: 0.0232 - acc: 0.9921 - val_loss: 0.0257 - val_acc: 0.9912\n",
            "Epoch 6/20\n",
            "55000/55000 [==============================] - 5s 97us/step - loss: 0.0188 - acc: 0.9938 - val_loss: 0.0304 - val_acc: 0.9900\n",
            "Epoch 7/20\n",
            "55000/55000 [==============================] - 5s 97us/step - loss: 0.0191 - acc: 0.9938 - val_loss: 0.0327 - val_acc: 0.9906\n",
            "Epoch 8/20\n",
            "55000/55000 [==============================] - 5s 97us/step - loss: 0.0134 - acc: 0.9958 - val_loss: 0.0359 - val_acc: 0.9903\n",
            "Epoch 9/20\n",
            "55000/55000 [==============================] - 5s 98us/step - loss: 0.0129 - acc: 0.9960 - val_loss: 0.0393 - val_acc: 0.9895\n",
            "Epoch 10/20\n",
            "55000/55000 [==============================] - 5s 97us/step - loss: 0.0133 - acc: 0.9955 - val_loss: 0.0331 - val_acc: 0.9904\n",
            "Epoch 11/20\n",
            "55000/55000 [==============================] - 5s 98us/step - loss: 0.0101 - acc: 0.9967 - val_loss: 0.0390 - val_acc: 0.9902\n",
            "Epoch 12/20\n",
            "55000/55000 [==============================] - 5s 97us/step - loss: 0.0138 - acc: 0.9954 - val_loss: 0.0328 - val_acc: 0.9914\n",
            "Epoch 13/20\n",
            "55000/55000 [==============================] - 5s 98us/step - loss: 0.0092 - acc: 0.9973 - val_loss: 0.0434 - val_acc: 0.9898\n",
            "Epoch 14/20\n",
            "55000/55000 [==============================] - 5s 98us/step - loss: 0.0086 - acc: 0.9972 - val_loss: 0.0389 - val_acc: 0.9919\n",
            "Epoch 15/20\n",
            "55000/55000 [==============================] - 5s 98us/step - loss: 0.0112 - acc: 0.9965 - val_loss: 0.0353 - val_acc: 0.9927\n",
            "Epoch 16/20\n",
            "55000/55000 [==============================] - 5s 98us/step - loss: 0.0082 - acc: 0.9976 - val_loss: 0.0370 - val_acc: 0.9918\n",
            "Epoch 17/20\n",
            "55000/55000 [==============================] - 5s 97us/step - loss: 0.0072 - acc: 0.9976 - val_loss: 0.0410 - val_acc: 0.9925\n",
            "Epoch 18/20\n",
            "55000/55000 [==============================] - 5s 98us/step - loss: 0.0091 - acc: 0.9971 - val_loss: 0.0438 - val_acc: 0.9911\n",
            "Epoch 19/20\n",
            "55000/55000 [==============================] - 5s 97us/step - loss: 0.0084 - acc: 0.9973 - val_loss: 0.0419 - val_acc: 0.9916\n",
            "Epoch 20/20\n",
            "55000/55000 [==============================] - 5s 98us/step - loss: 0.0082 - acc: 0.9974 - val_loss: 0.0580 - val_acc: 0.9886\n"
          ],
          "name": "stdout"
        },
        {
          "output_type": "execute_result",
          "data": {
            "text/plain": [
              "<tensorflow.python.keras.callbacks.History at 0x7efe341592b0>"
            ]
          },
          "metadata": {
            "tags": []
          },
          "execution_count": 21
        }
      ]
    },
    {
      "metadata": {
        "id": "6FHvhcqaIwDS",
        "colab_type": "code",
        "colab": {
          "base_uri": "https://localhost:8080/",
          "height": 34
        },
        "outputId": "6727f7b2-3b68-49fc-b4c3-9c66db1d1664"
      },
      "cell_type": "code",
      "source": [
        "end = time. time()\n",
        "a =end - start\n",
        "print(\"The Time taken by model to run in seconds is %.2f seconds \"%a)"
      ],
      "execution_count": 26,
      "outputs": [
        {
          "output_type": "stream",
          "text": [
            "The Time taken by model to run in seconds is 1.25 seconds \n"
          ],
          "name": "stdout"
        }
      ]
    },
    {
      "metadata": {
        "id": "9Z_5fiyn-tdo",
        "colab_type": "code",
        "outputId": "485ec5f0-ee4d-4910-ee48-9e174001b217",
        "colab": {
          "base_uri": "https://localhost:8080/",
          "height": 425
        }
      },
      "cell_type": "code",
      "source": [
        "model.summary()  #drop out layer visible"
      ],
      "execution_count": 24,
      "outputs": [
        {
          "output_type": "stream",
          "text": [
            "_________________________________________________________________\n",
            "Layer (type)                 Output Shape              Param #   \n",
            "=================================================================\n",
            "conv2d_2 (Conv2D)            (None, 24, 24, 32)        832       \n",
            "_________________________________________________________________\n",
            "max_pooling2d_2 (MaxPooling2 (None, 12, 12, 32)        0         \n",
            "_________________________________________________________________\n",
            "conv2d_3 (Conv2D)            (None, 10, 10, 64)        18496     \n",
            "_________________________________________________________________\n",
            "max_pooling2d_3 (MaxPooling2 (None, 5, 5, 64)          0         \n",
            "_________________________________________________________________\n",
            "flatten_1 (Flatten)          (None, 1600)              0         \n",
            "_________________________________________________________________\n",
            "dense_2 (Dense)              (None, 1024)              1639424   \n",
            "_________________________________________________________________\n",
            "dropout_1 (Dropout)          (None, 1024)              0         \n",
            "_________________________________________________________________\n",
            "dense_3 (Dense)              (None, 10)                10250     \n",
            "=================================================================\n",
            "Total params: 1,669,002\n",
            "Trainable params: 1,669,002\n",
            "Non-trainable params: 0\n",
            "_________________________________________________________________\n"
          ],
          "name": "stdout"
        }
      ]
    }
  ]
}