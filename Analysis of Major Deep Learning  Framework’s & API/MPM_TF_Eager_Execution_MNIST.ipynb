{
  "nbformat": 4,
  "nbformat_minor": 0,
  "metadata": {
    "colab": {
      "name": "MPM_TF_Eager_Execution_MNIST.ipynb",
      "version": "0.3.2",
      "provenance": [],
      "collapsed_sections": []
    },
    "kernelspec": {
      "name": "python3",
      "display_name": "Python 3"
    },
    "accelerator": "TPU"
  },
  "cells": [
    {
      "metadata": {
        "id": "2K64Pt93K-M3",
        "colab_type": "text"
      },
      "cell_type": "markdown",
      "source": [
        "**TENSORFLOW   + EAGER EXECUTION**"
      ]
    },
    {
      "metadata": {
        "id": "R-okTBXl6cUY",
        "colab_type": "code",
        "colab": {}
      },
      "cell_type": "code",
      "source": [
        "import os\n",
        "os.environ['DISABLE_COLAB_TF_IMPORT_HOOK'] = '1'"
      ],
      "execution_count": 0,
      "outputs": []
    },
    {
      "metadata": {
        "id": "H16TmoISLTAg",
        "colab_type": "text"
      },
      "cell_type": "markdown",
      "source": [
        "Importing Tensorflow & Running Eager Execution"
      ]
    },
    {
      "metadata": {
        "id": "6y0ht4sSHkPS",
        "colab_type": "code",
        "colab": {}
      },
      "cell_type": "code",
      "source": [
        "import tensorflow as tf\n",
        "tf.enable_eager_execution()"
      ],
      "execution_count": 0,
      "outputs": []
    },
    {
      "metadata": {
        "id": "INSMEMF0E3ul",
        "colab_type": "text"
      },
      "cell_type": "markdown",
      "source": [
        "Import time Function to calculate Time"
      ]
    },
    {
      "metadata": {
        "id": "TqvsoSbCE2Hc",
        "colab_type": "code",
        "colab": {}
      },
      "cell_type": "code",
      "source": [
        "import time"
      ],
      "execution_count": 0,
      "outputs": []
    },
    {
      "metadata": {
        "id": "tFMt1Oo56MTT",
        "colab_type": "text"
      },
      "cell_type": "markdown",
      "source": [
        "MNIST data download"
      ]
    },
    {
      "metadata": {
        "id": "9EZP2OaCHx6J",
        "colab_type": "code",
        "outputId": "f0282eda-107e-43a8-e76f-5ccd6e2d4523",
        "colab": {
          "base_uri": "https://localhost:8080/",
          "height": 498
        }
      },
      "cell_type": "code",
      "source": [
        "from tensorflow.examples.tutorials.mnist import input_data\n",
        "mnist = input_data.read_data_sets(\"model_data/\", one_hot=False)"
      ],
      "execution_count": 4,
      "outputs": [
        {
          "output_type": "stream",
          "text": [
            "WARNING:tensorflow:From <ipython-input-4-699e9785a117>:2: read_data_sets (from tensorflow.contrib.learn.python.learn.datasets.mnist) is deprecated and will be removed in a future version.\n",
            "Instructions for updating:\n",
            "Please use alternatives such as official/mnist/dataset.py from tensorflow/models.\n",
            "WARNING:tensorflow:From /usr/local/lib/python3.6/dist-packages/tensorflow/contrib/learn/python/learn/datasets/mnist.py:260: maybe_download (from tensorflow.contrib.learn.python.learn.datasets.base) is deprecated and will be removed in a future version.\n",
            "Instructions for updating:\n",
            "Please write your own downloading logic.\n",
            "WARNING:tensorflow:From /usr/local/lib/python3.6/dist-packages/tensorflow/contrib/learn/python/learn/datasets/base.py:252: _internal_retry.<locals>.wrap.<locals>.wrapped_fn (from tensorflow.contrib.learn.python.learn.datasets.base) is deprecated and will be removed in a future version.\n",
            "Instructions for updating:\n",
            "Please use urllib or similar directly.\n",
            "Successfully downloaded train-images-idx3-ubyte.gz 9912422 bytes.\n",
            "WARNING:tensorflow:From /usr/local/lib/python3.6/dist-packages/tensorflow/contrib/learn/python/learn/datasets/mnist.py:262: extract_images (from tensorflow.contrib.learn.python.learn.datasets.mnist) is deprecated and will be removed in a future version.\n",
            "Instructions for updating:\n",
            "Please use tf.data to implement this functionality.\n",
            "Extracting model_data/train-images-idx3-ubyte.gz\n",
            "Successfully downloaded train-labels-idx1-ubyte.gz 28881 bytes.\n",
            "WARNING:tensorflow:From /usr/local/lib/python3.6/dist-packages/tensorflow/contrib/learn/python/learn/datasets/mnist.py:267: extract_labels (from tensorflow.contrib.learn.python.learn.datasets.mnist) is deprecated and will be removed in a future version.\n",
            "Instructions for updating:\n",
            "Please use tf.data to implement this functionality.\n",
            "Extracting model_data/train-labels-idx1-ubyte.gz\n",
            "Successfully downloaded t10k-images-idx3-ubyte.gz 1648877 bytes.\n",
            "Extracting model_data/t10k-images-idx3-ubyte.gz\n",
            "Successfully downloaded t10k-labels-idx1-ubyte.gz 4542 bytes.\n",
            "Extracting model_data/t10k-labels-idx1-ubyte.gz\n",
            "WARNING:tensorflow:From /usr/local/lib/python3.6/dist-packages/tensorflow/contrib/learn/python/learn/datasets/mnist.py:290: DataSet.__init__ (from tensorflow.contrib.learn.python.learn.datasets.mnist) is deprecated and will be removed in a future version.\n",
            "Instructions for updating:\n",
            "Please use alternatives such as official/mnist/dataset.py from tensorflow/models.\n"
          ],
          "name": "stdout"
        }
      ]
    },
    {
      "metadata": {
        "id": "Mw2hkozIfu77",
        "colab_type": "text"
      },
      "cell_type": "markdown",
      "source": [
        "MNIST data download"
      ]
    },
    {
      "metadata": {
        "id": "wvnRBn4bILjf",
        "colab_type": "code",
        "colab": {}
      },
      "cell_type": "code",
      "source": [
        "x_train = mnist.train.images\n",
        "y_train =mnist.train.labels\n",
        "x_test =mnist.test.images\n",
        "y_test =mnist.test.labels"
      ],
      "execution_count": 0,
      "outputs": []
    },
    {
      "metadata": {
        "id": "7ueKJI_ILKII",
        "colab_type": "text"
      },
      "cell_type": "markdown",
      "source": [
        "Reshaping the data"
      ]
    },
    {
      "metadata": {
        "id": "Pv2RpLL6JB6q",
        "colab_type": "code",
        "colab": {}
      },
      "cell_type": "code",
      "source": [
        "x_train = x_train.reshape(x_train.shape[0],28, 28).astype('float32')\n",
        "x_test = x_test.reshape(x_test.shape[0], 28, 28).astype('float32')"
      ],
      "execution_count": 0,
      "outputs": []
    },
    {
      "metadata": {
        "id": "Rt9H3ajDLPvf",
        "colab_type": "text"
      },
      "cell_type": "markdown",
      "source": [
        "Printing shape of data"
      ]
    },
    {
      "metadata": {
        "id": "Ts-6Nv45Ii64",
        "colab_type": "code",
        "outputId": "9643a55a-6652-4ef3-b9e5-2ef9ae447c5c",
        "colab": {
          "base_uri": "https://localhost:8080/",
          "height": 87
        }
      },
      "cell_type": "code",
      "source": [
        "print(x_train.shape)\n",
        "print(y_train.shape)\n",
        "print(x_test.shape)\n",
        "y_test.shape"
      ],
      "execution_count": 7,
      "outputs": [
        {
          "output_type": "stream",
          "text": [
            "(55000, 28, 28)\n",
            "(55000,)\n",
            "(10000, 28, 28)\n"
          ],
          "name": "stdout"
        },
        {
          "output_type": "execute_result",
          "data": {
            "text/plain": [
              "(10000,)"
            ]
          },
          "metadata": {
            "tags": []
          },
          "execution_count": 7
        }
      ]
    },
    {
      "metadata": {
        "id": "cLG79kKHOEMH",
        "colab_type": "text"
      },
      "cell_type": "markdown",
      "source": [
        "Hyper parameters"
      ]
    },
    {
      "metadata": {
        "id": "S1MEnZa6OEx-",
        "colab_type": "code",
        "colab": {}
      },
      "cell_type": "code",
      "source": [
        "# Training Parameters\n",
        "learning_rate = 0.001\n",
        "num_steps = 20\n",
        "batch_size = 128\n",
        "# Network Parameters\n",
        "num_input = 784 # MNIST data input (img shape: 28*28)\n",
        "num_classes = 10 # MNIST total classes (0-9 digits)\n",
        "dropout = 0.25 # Dropout, probability to drop a unit"
      ],
      "execution_count": 0,
      "outputs": []
    },
    {
      "metadata": {
        "id": "a605twygLaZ2",
        "colab_type": "text"
      },
      "cell_type": "markdown",
      "source": [
        "One hot encoding"
      ]
    },
    {
      "metadata": {
        "id": "wXT5ycpSH5NL",
        "colab_type": "code",
        "colab": {}
      },
      "cell_type": "code",
      "source": [
        "def scale(x, min_val=0.0, max_val=255.0):\n",
        "    x = tf.to_float(x)\n",
        "    return tf.div(tf.subtract(x, min_val), tf.subtract(max_val, min_val))"
      ],
      "execution_count": 0,
      "outputs": []
    },
    {
      "metadata": {
        "id": "TSBkAeUuH5QS",
        "colab_type": "code",
        "colab": {}
      },
      "cell_type": "code",
      "source": [
        "train_ds = tf.data.Dataset.from_tensor_slices((x_train, y_train))\n",
        "train_ds = train_ds.map(lambda x, y: (scale(x), tf.one_hot(y, 10))).shuffle(10000).batch(30)\n",
        "test_ds = tf.data.Dataset.from_tensor_slices((x_test, y_test))\n",
        "test_ds = test_ds.map(lambda x, y: (scale(x), tf.one_hot(y, 10))).shuffle(10000).batch(30)"
      ],
      "execution_count": 0,
      "outputs": []
    },
    {
      "metadata": {
        "id": "Mn0SR54JLcbO",
        "colab_type": "text"
      },
      "cell_type": "markdown",
      "source": [
        "Model "
      ]
    },
    {
      "metadata": {
        "id": "8oMu3WclICl9",
        "colab_type": "code",
        "colab": {}
      },
      "cell_type": "code",
      "source": [
        "class MNISTModel(tf.keras.Model):\n",
        "    def __init__(self, device='cpu:0'):\n",
        "        super(MNISTModel, self).__init__()\n",
        "        self.device = device\n",
        "        self._input_shape = [-1, 28, 28, 1]\n",
        "        \n",
        "        self.conv1 = tf.layers.Conv2D(32, 5,padding='same',activation=tf.nn.relu) # 32 filter kernal size 5\n",
        "        \n",
        "        self.max_pool2d = tf.layers.MaxPooling2D((2, 2), (2, 2), padding='same') # Max Pooling (down-sampling) with strides of 2 and kernel size of 2\n",
        "        \n",
        "        self.conv2 = tf.layers.Conv2D(64, 3,padding='same', activation=tf.nn.relu)# Convolution Layer with 64 filters and a kernel size of 3 with RELU ACTIVATION\n",
        "        \n",
        "        self.max_pool2d1 = tf.layers.MaxPooling2D((2, 2), (2, 2), padding='same') # Max Pooling (down-sampling) with strides of 2 and kernel size of 2\n",
        "        \n",
        "        # flattening layer in \"call\" function at this stage\n",
        "        \n",
        "        \n",
        "        self.fc1 = tf.layers.Dense(1024)\n",
        "        \n",
        "        self.dropout = tf.layers.Dropout(dropout)\n",
        "        \n",
        "        self.fc2 = tf.layers.Dense(num_classes, activation=tf.nn.softmax)\n",
        "    \n",
        "    def call(self, x):\n",
        "        x = tf.reshape(x, self._input_shape)\n",
        "        x = self.max_pool2d(self.conv1(x))\n",
        "        x = self.max_pool2d1(self.conv2(x))\n",
        "        x = tf.layers.flatten(x)               #flatten here\n",
        "        x = self.dropout(self.fc1(x))\n",
        "        return self.fc2(x)"
      ],
      "execution_count": 0,
      "outputs": []
    },
    {
      "metadata": {
        "id": "jBID4yU7LhGX",
        "colab_type": "text"
      },
      "cell_type": "markdown",
      "source": [
        "Loss Function"
      ]
    },
    {
      "metadata": {
        "id": "lihBCkvwICoe",
        "colab_type": "code",
        "colab": {}
      },
      "cell_type": "code",
      "source": [
        "def loss_fn(model, x, y):\n",
        "    return tf.reduce_mean(\n",
        "      tf.nn.softmax_cross_entropy_with_logits_v2(\n",
        "          logits=model(x), labels=y))"
      ],
      "execution_count": 0,
      "outputs": []
    },
    {
      "metadata": {
        "id": "LqfU2NjJICq1",
        "colab_type": "code",
        "colab": {}
      },
      "cell_type": "code",
      "source": [
        "def get_accuracy(model, x, y_true):\n",
        "    logits = model(x)\n",
        "    prediction = tf.argmax(logits, 1)\n",
        "    equality = tf.equal(prediction, tf.argmax(y_true, 1))\n",
        "    accuracy = tf.reduce_mean(tf.cast(equality, tf.float32))\n",
        "    return accuracy"
      ],
      "execution_count": 0,
      "outputs": []
    },
    {
      "metadata": {
        "id": "Rjop45S1LloG",
        "colab_type": "text"
      },
      "cell_type": "markdown",
      "source": [
        "Need \"tfe\" for eager execution"
      ]
    },
    {
      "metadata": {
        "id": "QTMqOBqwIxOG",
        "colab_type": "code",
        "colab": {}
      },
      "cell_type": "code",
      "source": [
        "import tensorflow.contrib.eager as tfe"
      ],
      "execution_count": 0,
      "outputs": []
    },
    {
      "metadata": {
        "id": "VlHtEQX1LtSG",
        "colab_type": "text"
      },
      "cell_type": "markdown",
      "source": [
        "Running model"
      ]
    },
    {
      "metadata": {
        "id": "3rD4B0i5FIQj",
        "colab_type": "code",
        "colab": {}
      },
      "cell_type": "code",
      "source": [
        "start = time. time() #start time"
      ],
      "execution_count": 0,
      "outputs": []
    },
    {
      "metadata": {
        "id": "plC0pM0NICtT",
        "colab_type": "code",
        "outputId": "66561050-f2ef-4aee-c2c6-100b51408802",
        "colab": {
          "base_uri": "https://localhost:8080/",
          "height": 70
        }
      },
      "cell_type": "code",
      "source": [
        "model = MNISTModel()\n",
        "optimizer = tf.train.AdamOptimizer(learning_rate)\n",
        "epochs = num_steps\n",
        "for (batch, (images, labels)) in enumerate(train_ds):\n",
        "    with tfe.GradientTape() as tape:\n",
        "        loss = loss_fn(model, images, labels)\n",
        "    grads = tape.gradient(loss, model.variables)\n",
        "    optimizer.apply_gradients(zip(grads, model.variables), global_step=tf.train.get_or_create_global_step())\n",
        "    if batch % 10 == 0:\n",
        "        acc = get_accuracy(model, images, labels).numpy()\n",
        "        print(\"Iteration {}, loss: {:.3f}, train accuracy: {:.2f}%\".format(batch, loss_fn(model, images, labels).numpy(), acc*100))\n",
        "    if batch > epochs:\n",
        "        break"
      ],
      "execution_count": 16,
      "outputs": [
        {
          "output_type": "stream",
          "text": [
            "Iteration 0, loss: 2.301, train accuracy: 26.67%\n",
            "Iteration 10, loss: 2.300, train accuracy: 10.00%\n",
            "Iteration 20, loss: 2.308, train accuracy: 6.67%\n"
          ],
          "name": "stdout"
        }
      ]
    },
    {
      "metadata": {
        "id": "-zhiZ8Q7FN7j",
        "colab_type": "code",
        "colab": {}
      },
      "cell_type": "code",
      "source": [
        ""
      ],
      "execution_count": 0,
      "outputs": []
    },
    {
      "metadata": {
        "id": "nu4BqWfnKBPG",
        "colab_type": "code",
        "outputId": "c245be02-b230-441d-9b8e-d039d21f16de",
        "colab": {
          "base_uri": "https://localhost:8080/",
          "height": 87
        }
      },
      "cell_type": "code",
      "source": [
        "avg_acc = 0\n",
        "test_epochs = 20\n",
        "for (batch, (images, labels)) in enumerate(test_ds):\n",
        "    avg_acc += get_accuracy(model, images, labels).numpy()\n",
        "    if batch % 100 == 0 and batch != 0:\n",
        "        print(\"Iteration:{}, Average test accuracy: {:.2f}%\".format(batch, (avg_acc/batch)*100))\n",
        "print(\"Final test accuracy: {:.2f}%\".format(avg_acc/batch * 100))"
      ],
      "execution_count": 17,
      "outputs": [
        {
          "output_type": "stream",
          "text": [
            "Iteration:100, Average test accuracy: 10.93%\n",
            "Iteration:200, Average test accuracy: 10.57%\n",
            "Iteration:300, Average test accuracy: 10.34%\n",
            "Final test accuracy: 10.12%\n"
          ],
          "name": "stdout"
        }
      ]
    },
    {
      "metadata": {
        "id": "gjwys5U7G_ZU",
        "colab_type": "code",
        "colab": {
          "base_uri": "https://localhost:8080/",
          "height": 34
        },
        "outputId": "048b3db0-c6bf-481b-d2e9-481c31d4d9fc"
      },
      "cell_type": "code",
      "source": [
        "end = time. time()\n",
        "a =end - start\n",
        "print(\"The Time taken by model to run in seconds is %.2f seconds \"%a)"
      ],
      "execution_count": 18,
      "outputs": [
        {
          "output_type": "stream",
          "text": [
            "The Time taken by model to run in seconds is 14.13 seconds \n"
          ],
          "name": "stdout"
        }
      ]
    },
    {
      "metadata": {
        "id": "SS60G83a7G3m",
        "colab_type": "code",
        "colab": {
          "base_uri": "https://localhost:8080/",
          "height": 390
        },
        "outputId": "e2180d24-78af-44f4-8505-6146758fa1bc"
      },
      "cell_type": "code",
      "source": [
        "model.summary()"
      ],
      "execution_count": 19,
      "outputs": [
        {
          "output_type": "stream",
          "text": [
            "_________________________________________________________________\n",
            "Layer (type)                 Output Shape              Param #   \n",
            "=================================================================\n",
            "conv2d_1 (Conv2D)            multiple                  832       \n",
            "_________________________________________________________________\n",
            "max_pooling2d_1 (MaxPooling2 multiple                  0         \n",
            "_________________________________________________________________\n",
            "conv2d_2 (Conv2D)            multiple                  18496     \n",
            "_________________________________________________________________\n",
            "max_pooling2d_2 (MaxPooling2 multiple                  0         \n",
            "_________________________________________________________________\n",
            "dense_1 (Dense)              multiple                  3212288   \n",
            "_________________________________________________________________\n",
            "dropout_1 (Dropout)          multiple                  0         \n",
            "_________________________________________________________________\n",
            "dense_2 (Dense)              multiple                  10250     \n",
            "=================================================================\n",
            "Total params: 3,241,866\n",
            "Trainable params: 3,241,866\n",
            "Non-trainable params: 0\n",
            "_________________________________________________________________\n"
          ],
          "name": "stdout"
        }
      ]
    }
  ]
}