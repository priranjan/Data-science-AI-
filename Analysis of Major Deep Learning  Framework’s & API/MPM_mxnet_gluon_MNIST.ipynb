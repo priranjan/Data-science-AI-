{
  "nbformat": 4,
  "nbformat_minor": 0,
  "metadata": {
    "colab": {
      "name": "MPM_mxnet_gluon_MNIST.ipynb",
      "version": "0.3.2",
      "provenance": []
    },
    "kernelspec": {
      "name": "python3",
      "display_name": "Python 3"
    },
    "accelerator": "GPU"
  },
  "cells": [
    {
      "metadata": {
        "id": "YRF2JL1I23cs",
        "colab_type": "code",
        "outputId": "bc22bcd9-5aaf-4bf9-cf76-2bd9abb9bc83",
        "colab": {
          "base_uri": "https://localhost:8080/",
          "height": 160
        }
      },
      "cell_type": "code",
      "source": [
        "!pip install --pre mxnet-cu92"
      ],
      "execution_count": 27,
      "outputs": [
        {
          "output_type": "stream",
          "text": [
            "Requirement already satisfied: mxnet-cu92 in /usr/local/lib/python3.6/dist-packages (1.4.0b20181203)\n",
            "Requirement already satisfied: requests>=2.20.0 in /usr/local/lib/python3.6/dist-packages (from mxnet-cu92) (2.20.1)\n",
            "Requirement already satisfied: numpy<1.15.0,>=1.8.2 in /usr/local/lib/python3.6/dist-packages (from mxnet-cu92) (1.14.6)\n",
            "Requirement already satisfied: graphviz<0.9.0,>=0.8.1 in /usr/local/lib/python3.6/dist-packages (from mxnet-cu92) (0.8.4)\n",
            "Requirement already satisfied: urllib3<1.25,>=1.21.1 in /usr/local/lib/python3.6/dist-packages (from requests>=2.20.0->mxnet-cu92) (1.22)\n",
            "Requirement already satisfied: certifi>=2017.4.17 in /usr/local/lib/python3.6/dist-packages (from requests>=2.20.0->mxnet-cu92) (2018.10.15)\n",
            "Requirement already satisfied: chardet<3.1.0,>=3.0.2 in /usr/local/lib/python3.6/dist-packages (from requests>=2.20.0->mxnet-cu92) (3.0.4)\n",
            "Requirement already satisfied: idna<2.8,>=2.5 in /usr/local/lib/python3.6/dist-packages (from requests>=2.20.0->mxnet-cu92) (2.6)\n"
          ],
          "name": "stdout"
        }
      ]
    },
    {
      "metadata": {
        "id": "zQ8aimGplsYn",
        "colab_type": "text"
      },
      "cell_type": "markdown",
      "source": [
        "Import time Function to calculate Time"
      ]
    },
    {
      "metadata": {
        "id": "8WlqIXf4lr4z",
        "colab_type": "code",
        "colab": {}
      },
      "cell_type": "code",
      "source": [
        ""
      ],
      "execution_count": 0,
      "outputs": []
    },
    {
      "metadata": {
        "id": "Vot8oeF63Pqp",
        "colab_type": "code",
        "colab": {}
      },
      "cell_type": "code",
      "source": [
        "import mxnet as mx"
      ],
      "execution_count": 0,
      "outputs": []
    },
    {
      "metadata": {
        "id": "QgcHvmSW3Ptg",
        "colab_type": "code",
        "colab": {}
      },
      "cell_type": "code",
      "source": [
        "import random\n",
        "import sys\n",
        "from io import BytesIO\n",
        "import gzip\n",
        "import struct\n",
        "import mxnet as mx\n",
        "from mxnet import nd\n",
        "from mxnet.gluon import nn\n",
        "from mxnet import gluon\n",
        "import numpy as np\n",
        "import cv2"
      ],
      "execution_count": 0,
      "outputs": []
    },
    {
      "metadata": {
        "id": "cwawPf9z7td1",
        "colab_type": "code",
        "colab": {}
      },
      "cell_type": "code",
      "source": [
        "from mxnet import nd, gluon, init, autograd\n",
        "from mxnet.gluon import nn\n",
        "from mxnet.gluon.data.vision import datasets, transforms\n",
        "import matplotlib.pyplot as plt\n",
        "from time import time"
      ],
      "execution_count": 0,
      "outputs": []
    },
    {
      "metadata": {
        "id": "94mA6CdD9vS-",
        "colab_type": "text"
      },
      "cell_type": "markdown",
      "source": [
        "GET DATA"
      ]
    },
    {
      "metadata": {
        "id": "1rL1zHnO4riz",
        "colab_type": "code",
        "outputId": "702ece5e-c03b-493e-bc02-97056b07bcac",
        "colab": {
          "base_uri": "https://localhost:8080/",
          "height": 88
        }
      },
      "cell_type": "code",
      "source": [
        "from tensorflow.examples.tutorials.mnist import input_data\n",
        "mnist = input_data.read_data_sets(\"model_data/\", one_hot=True)"
      ],
      "execution_count": 31,
      "outputs": [
        {
          "output_type": "stream",
          "text": [
            "Extracting model_data/train-images-idx3-ubyte.gz\n",
            "Extracting model_data/train-labels-idx1-ubyte.gz\n",
            "Extracting model_data/t10k-images-idx3-ubyte.gz\n",
            "Extracting model_data/t10k-labels-idx1-ubyte.gz\n"
          ],
          "name": "stdout"
        }
      ]
    },
    {
      "metadata": {
        "id": "6CBQLCMU4vev",
        "colab_type": "code",
        "colab": {}
      },
      "cell_type": "code",
      "source": [
        "X_train = mnist.train.images\n",
        "y_train =mnist.train.labels\n",
        "X_test =mnist.test.images\n",
        "y_test =mnist.test.labels"
      ],
      "execution_count": 0,
      "outputs": []
    },
    {
      "metadata": {
        "id": "0qsnfPtk4vp5",
        "colab_type": "code",
        "colab": {}
      },
      "cell_type": "code",
      "source": [
        "# Training Parameters\n",
        "learning_rate = 0.001\n",
        "num_steps = 20\n",
        "batch_size = 128\n",
        "# Network Parameters\n",
        "num_input = 784 # MNIST data input (img shape: 28*28)\n",
        "num_classes = 10 # MNIST total classes (0-9 digits)\n",
        "dropout = 0.25 # Dropout, probability to drop a unit"
      ],
      "execution_count": 0,
      "outputs": []
    },
    {
      "metadata": {
        "id": "VbBkNgMO4_L9",
        "colab_type": "code",
        "colab": {}
      },
      "cell_type": "code",
      "source": [
        "X_train = X_train.reshape(X_train.shape[0],28, 28, 1).astype('float32')\n",
        "X_test = X_test.reshape(X_test.shape[0], 28, 28, 1).astype('float32')"
      ],
      "execution_count": 0,
      "outputs": []
    },
    {
      "metadata": {
        "id": "RHBbDr9X4_a6",
        "colab_type": "code",
        "outputId": "a87600a1-00a2-49a7-ef15-8c31b825dcad",
        "colab": {
          "base_uri": "https://localhost:8080/",
          "height": 34
        }
      },
      "cell_type": "code",
      "source": [
        "X_train.shape"
      ],
      "execution_count": 35,
      "outputs": [
        {
          "output_type": "execute_result",
          "data": {
            "text/plain": [
              "(55000, 28, 28, 1)"
            ]
          },
          "metadata": {
            "tags": []
          },
          "execution_count": 35
        }
      ]
    },
    {
      "metadata": {
        "id": "k_Y45cbU4vzx",
        "colab_type": "code",
        "colab": {}
      },
      "cell_type": "code",
      "source": [
        "mnist_train = datasets.MNIST(train=True)"
      ],
      "execution_count": 0,
      "outputs": []
    },
    {
      "metadata": {
        "id": "2mF7PFLg6B3e",
        "colab_type": "code",
        "outputId": "2b182950-1b1b-433e-b622-07cc320854ca",
        "colab": {
          "base_uri": "https://localhost:8080/",
          "height": 34
        }
      },
      "cell_type": "code",
      "source": [
        "mnist_train"
      ],
      "execution_count": 37,
      "outputs": [
        {
          "output_type": "execute_result",
          "data": {
            "text/plain": [
              "<mxnet.gluon.data.vision.datasets.MNIST at 0x7f259c38e278>"
            ]
          },
          "metadata": {
            "tags": []
          },
          "execution_count": 37
        }
      ]
    },
    {
      "metadata": {
        "id": "GjXjjZ6W7thS",
        "colab_type": "code",
        "outputId": "eddb26f5-a601-44a9-86c0-a55804986a05",
        "colab": {
          "base_uri": "https://localhost:8080/",
          "height": 34
        }
      },
      "cell_type": "code",
      "source": [
        "\n",
        "X, y = mnist_train[0]\n",
        "('X shape: ', X.shape, 'X dtype', X.dtype, 'y:', y)"
      ],
      "execution_count": 38,
      "outputs": [
        {
          "output_type": "execute_result",
          "data": {
            "text/plain": [
              "('X shape: ', (28, 28, 1), 'X dtype', numpy.uint8, 'y:', 5)"
            ]
          },
          "metadata": {
            "tags": []
          },
          "execution_count": 38
        }
      ]
    },
    {
      "metadata": {
        "id": "RcEbLiNI6xNi",
        "colab_type": "code",
        "colab": {}
      },
      "cell_type": "code",
      "source": [
        ""
      ],
      "execution_count": 0,
      "outputs": []
    },
    {
      "metadata": {
        "id": "WaGi5IqB7tmG",
        "colab_type": "code",
        "outputId": "494282cf-183b-425d-ed16-261a87ac7dcb",
        "colab": {
          "base_uri": "https://localhost:8080/",
          "height": 171
        }
      },
      "cell_type": "code",
      "source": [
        "text_labels = [\n",
        "    'N-1', 'N-2', 'N-3', 'N-4', 'N-5',\n",
        "    'N-6', 'N-7', 'N-8', 'N-9', 'N-10'\n",
        "]\n",
        "X, y = mnist_train[0:6]\n",
        "# plot images\n",
        "_, figs = plt.subplots(1, X.shape[0], figsize=(15, 15))\n",
        "for f,x,yi in zip(figs, X,y):\n",
        "    # 3D->2D by removing the last channel dim\n",
        "    f.imshow(x.reshape((28,28)).asnumpy())\n",
        "    ax = f.axes\n",
        "    ax.set_title(text_labels[int(yi)])\n",
        "    ax.title.set_fontsize(20)\n",
        "    ax.get_xaxis().set_visible(False)\n",
        "    ax.get_yaxis().set_visible(False)\n",
        "plt.show()"
      ],
      "execution_count": 39,
      "outputs": [
        {
          "output_type": "display_data",
          "data": {
            "image/png": "[encoded data removed]",
            "text/plain": [
              "<matplotlib.figure.Figure at 0x7f25cb5fc128>"
            ]
          },
          "metadata": {
            "tags": []
          }
        }
      ]
    },
    {
      "metadata": {
        "id": "R3v12SnS7to7",
        "colab_type": "code",
        "colab": {}
      },
      "cell_type": "code",
      "source": [
        "transformer = transforms.Compose([\n",
        "    transforms.ToTensor(),\n",
        "    transforms.Normalize(0.13, 0.31)])\n",
        "\n",
        "mnist_train = mnist_train.transform_first(transformer)"
      ],
      "execution_count": 0,
      "outputs": []
    },
    {
      "metadata": {
        "id": "zGvRTxDk7trr",
        "colab_type": "code",
        "colab": {}
      },
      "cell_type": "code",
      "source": [
        "batch_size = 256\n",
        "\n",
        "train_data = gluon.data.DataLoader(\n",
        "    mnist_train, batch_size=batch_size, shuffle=True, num_workers=4)"
      ],
      "execution_count": 0,
      "outputs": []
    },
    {
      "metadata": {
        "id": "iAv4_e5J7tu-",
        "colab_type": "code",
        "outputId": "243aa60c-7657-4f2a-c098-58c2882fca25",
        "colab": {
          "base_uri": "https://localhost:8080/",
          "height": 34
        }
      },
      "cell_type": "code",
      "source": [
        "for data, label in train_data:\n",
        "    print(data.shape, label.shape)\n",
        "    break"
      ],
      "execution_count": 42,
      "outputs": [
        {
          "output_type": "stream",
          "text": [
            "(256, 1, 28, 28) (256,)\n"
          ],
          "name": "stdout"
        }
      ]
    },
    {
      "metadata": {
        "id": "pU_CC8Y_7tzT",
        "colab_type": "code",
        "colab": {}
      },
      "cell_type": "code",
      "source": [
        "mnist_valid = gluon.data.vision.MNIST(train=False)\n",
        "valid_data = gluon.data.DataLoader(\n",
        "    mnist_valid.transform_first(transformer),\n",
        "    batch_size=batch_size, num_workers=4)"
      ],
      "execution_count": 0,
      "outputs": []
    },
    {
      "metadata": {
        "id": "Lh1t1JQp95k2",
        "colab_type": "text"
      },
      "cell_type": "markdown",
      "source": [
        "DEFINE THE MODEL "
      ]
    },
    {
      "metadata": {
        "id": "JRzLtSDh7t2Q",
        "colab_type": "code",
        "colab": {}
      },
      "cell_type": "code",
      "source": [
        "net = nn.Sequential()\n",
        "net.add(nn.Conv2D(channels=6, kernel_size=5, activation='relu'),\n",
        "        nn.MaxPool2D(pool_size=2),\n",
        "        nn.Conv2D(channels=16, kernel_size=3, activation='relu'),\n",
        "        nn.MaxPool2D(pool_size=2, strides=2),\n",
        "        nn.Flatten(),\n",
        "        nn.Dense(1024),\n",
        "        nn.Dropout(dropout),\n",
        "        nn.Dense(num_classes,activation=\"relu\"))\n",
        "net.initialize(init=init.Xavier())"
      ],
      "execution_count": 0,
      "outputs": []
    },
    {
      "metadata": {
        "id": "bZEIjiOA7t6M",
        "colab_type": "code",
        "colab": {}
      },
      "cell_type": "code",
      "source": [
        "softmax_cross_entropy = gluon.loss.SoftmaxCrossEntropyLoss()"
      ],
      "execution_count": 0,
      "outputs": []
    },
    {
      "metadata": {
        "id": "N_7XQEZI7txt",
        "colab_type": "code",
        "colab": {}
      },
      "cell_type": "code",
      "source": [
        "trainer = gluon.Trainer(net.collect_params(), 'sgd', {'learning_rate': 0.1})"
      ],
      "execution_count": 0,
      "outputs": []
    },
    {
      "metadata": {
        "id": "lTUitCqf-A2H",
        "colab_type": "text"
      },
      "cell_type": "markdown",
      "source": [
        "TRAIN"
      ]
    },
    {
      "metadata": {
        "id": "WLP5UuS27tkb",
        "colab_type": "code",
        "colab": {}
      },
      "cell_type": "code",
      "source": [
        "def acc(output, label):\n",
        "    # output: (batch, num_output) float32 ndarray\n",
        "    # label: (batch, ) int32 ndarray\n",
        "    return (output.argmax(axis=1) ==\n",
        "            label.astype('float32')).mean().asscalar()"
      ],
      "execution_count": 0,
      "outputs": []
    },
    {
      "metadata": {
        "id": "79OFZn7fl22z",
        "colab_type": "code",
        "colab": {}
      },
      "cell_type": "code",
      "source": [
        "#import time\n",
        "#start = time.time() #start time"
      ],
      "execution_count": 0,
      "outputs": []
    },
    {
      "metadata": {
        "id": "QgKxfF3hn7QF",
        "colab_type": "code",
        "colab": {}
      },
      "cell_type": "code",
      "source": [
        "def callstarttime():\n",
        "    import time\n",
        "    start = time.time() #start time\n",
        "    return start"
      ],
      "execution_count": 0,
      "outputs": []
    },
    {
      "metadata": {
        "id": "iia0L511oGMj",
        "colab_type": "code",
        "colab": {}
      },
      "cell_type": "code",
      "source": [
        "s = callstarttime()"
      ],
      "execution_count": 0,
      "outputs": []
    },
    {
      "metadata": {
        "id": "ChjPBBiL7tco",
        "colab_type": "code",
        "outputId": "a958bd3c-bbc6-4dbc-ecac-5a81dcaf6fca",
        "colab": {
          "base_uri": "https://localhost:8080/",
          "height": 376
        }
      },
      "cell_type": "code",
      "source": [
        "for epoch in range(num_steps):\n",
        "    train_loss, train_acc, valid_acc = 0., 0., 0.\n",
        "    tic = time()\n",
        "    for data, label in train_data:\n",
        "        # forward + backward\n",
        "        with autograd.record():\n",
        "            output = net(data)\n",
        "            loss = softmax_cross_entropy(output, label)\n",
        "        loss.backward()\n",
        "        # update parameters\n",
        "        trainer.step(batch_size)\n",
        "        # calculate training metrics\n",
        "        train_loss += loss.mean().asscalar()\n",
        "        train_acc += acc(output, label)\n",
        "\n",
        "    # calculate validation accuracy\n",
        "    for data, label in valid_data:\n",
        "        valid_acc += acc(net(data), label)\n",
        "\n",
        "    print(\"Epoch %d: Loss: %.3f, Train acc %.3f, Test acc %.3f, \\\n",
        "Time %.1f sec\" % (\n",
        "        epoch, train_loss/len(train_data),\n",
        "        train_acc/len(train_data),\n",
        "        valid_acc/len(valid_data), time()-tic))"
      ],
      "execution_count": 51,
      "outputs": [
        {
          "output_type": "stream",
          "text": [
            "Epoch 0: Loss: 1.781, Train acc 0.357, Test acc 0.464, Time 26.6 sec\n",
            "Epoch 1: Loss: 1.417, Train acc 0.498, Test acc 0.503, Time 26.5 sec\n",
            "Epoch 2: Loss: 1.403, Train acc 0.501, Test acc 0.526, Time 26.5 sec\n",
            "Epoch 3: Loss: 1.187, Train acc 0.593, Test acc 0.595, Time 26.3 sec\n",
            "Epoch 4: Loss: 1.033, Train acc 0.662, Test acc 0.782, Time 26.5 sec\n",
            "Epoch 5: Loss: 0.762, Train acc 0.779, Test acc 0.784, Time 26.7 sec\n",
            "Epoch 6: Loss: 0.619, Train acc 0.839, Test acc 0.889, Time 26.8 sec\n",
            "Epoch 7: Loss: 0.508, Train acc 0.884, Test acc 0.889, Time 26.5 sec\n",
            "Epoch 8: Loss: 0.212, Train acc 0.954, Test acc 0.984, Time 26.7 sec\n",
            "Epoch 9: Loss: 0.052, Train acc 0.984, Test acc 0.987, Time 26.5 sec\n",
            "Epoch 10: Loss: 0.045, Train acc 0.986, Test acc 0.988, Time 26.6 sec\n",
            "Epoch 11: Loss: 0.043, Train acc 0.987, Test acc 0.989, Time 26.6 sec\n",
            "Epoch 12: Loss: 0.039, Train acc 0.988, Test acc 0.987, Time 26.7 sec\n",
            "Epoch 13: Loss: 0.037, Train acc 0.989, Test acc 0.986, Time 26.8 sec\n",
            "Epoch 14: Loss: 0.035, Train acc 0.989, Test acc 0.989, Time 26.5 sec\n",
            "Epoch 15: Loss: 0.033, Train acc 0.990, Test acc 0.989, Time 26.2 sec\n",
            "Epoch 16: Loss: 0.031, Train acc 0.990, Test acc 0.988, Time 26.9 sec\n",
            "Epoch 17: Loss: 0.030, Train acc 0.991, Test acc 0.988, Time 26.8 sec\n",
            "Epoch 18: Loss: 0.027, Train acc 0.992, Test acc 0.989, Time 27.0 sec\n",
            "Epoch 19: Loss: 0.028, Train acc 0.991, Test acc 0.988, Time 26.9 sec\n"
          ],
          "name": "stdout"
        }
      ]
    },
    {
      "metadata": {
        "id": "IxQ2tVk6l6mm",
        "colab_type": "code",
        "outputId": "a5d51bad-558f-42a5-88d5-beb1617b5027",
        "colab": {
          "base_uri": "https://localhost:8080/",
          "height": 34
        }
      },
      "cell_type": "code",
      "source": [
        "import time\n",
        "\n",
        "end = time. time()\n",
        "a =end - s\n",
        "print(\"The Time taken by model to run in seconds is %.2f seconds \"%a)"
      ],
      "execution_count": 52,
      "outputs": [
        {
          "output_type": "stream",
          "text": [
            "The Time taken by model to run in seconds is 532.51 seconds \n"
          ],
          "name": "stdout"
        }
      ]
    },
    {
      "metadata": {
        "id": "UHXESOxLB03Q",
        "colab_type": "code",
        "colab": {}
      },
      "cell_type": "code",
      "source": [
        ""
      ],
      "execution_count": 0,
      "outputs": []
    }
  ]
}