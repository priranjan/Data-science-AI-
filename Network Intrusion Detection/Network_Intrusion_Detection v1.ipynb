{
 "cells": [
  {
   "cell_type": "markdown",
   "metadata": {},
   "source": [
    "**Brief about the Project :** \n",
    "Software to detect network intrusions protects a computer network from unauthorized users, including perhaps insiders. \n",
    "This project aims to build a network intrusion detector, a predictive model capable of distinguishing between bad connections,\n",
    "called intrusions or attacks, and good normal connections.\n",
    "\n",
    "**Task:**\n",
    "Model this problem as a BINARY classification problem. Use the following models to detect bad connections (intrusions). \n",
    "We will Compare the accuracy, recall, precision and F1-score of ALL the models.We will PRINT and PLOT the confusion matrix for each model.Show the ROC curve of each model. \n",
    " \n",
    "• Logistic Regression  • Nearest Neighbor  • Support Vector Machine  • Gaussian Naive Bayes  • Fully-Connected Neural Networks  • Convolutional Neural Networks (CNN)  \n",
    " \n",
    "In all the models, encode good connections as “0” and bad connections as “1”. "
   ]
  },
  {
   "cell_type": "markdown",
   "metadata": {},
   "source": [
    "**CSC 215-01\n",
    "   |Artificial Intelligence (Fall2018)\n",
    "   |Mini-Project3: Network_Intrusion_Detection **\n"
   ]
  },
  {
   "cell_type": "markdown",
   "metadata": {},
   "source": [
    "# **Importing the Dataset  & Data preprocessing **"
   ]
  },
  {
   "cell_type": "markdown",
   "metadata": {},
   "source": [
    "**Importing File **"
   ]
  },
  {
   "cell_type": "code",
   "execution_count": 2,
   "metadata": {},
   "outputs": [
    {
     "name": "stderr",
     "output_type": "stream",
     "text": [
      "Using TensorFlow backend.\n"
     ]
    }
   ],
   "source": [
    "import pandas as pd \n",
    "import seaborn as sns\n",
    "import matplotlib.pyplot as plt\n",
    "from sklearn.metrics import classification_report\n",
    "from sklearn import metrics\n",
    "from sklearn.metrics import accuracy_score\n",
    "from sklearn.metrics import confusion_matrix\n",
    "from sklearn.metrics import roc_curve\n",
    "from sklearn.metrics import roc_auc_score\n",
    "import sklearn as sk\n",
    "import pandas as pd\n",
    "import tensorflow as tf\n",
    "import numpy as np\n",
    "import keras\n",
    "from keras.optimizers import SGD\n",
    "from keras import regularizers\n",
    "from keras.layers import Dense, Dropout , Flatten\n",
    "import sklearn as sk\n",
    "from keras.models import Sequential\n",
    "from keras.layers.core import Dense, Activation\n",
    "from keras.callbacks import EarlyStopping\n",
    "from keras.callbacks import ModelCheckpoint\n",
    "from keras.layers import LeakyReLU\n",
    "from keras.layers import Conv2D, MaxPooling2D"
   ]
  },
  {
   "cell_type": "code",
   "execution_count": 3,
   "metadata": {},
   "outputs": [],
   "source": [
    "columns =[ 'duration','protocol_type','service','flag','src_bytes','dst_bytes','land','wrong_fragment','urgent','hot','num_failed_logins',\n",
    "          'logged_in','num_compromised','root_shell','su_attempted','num_root','num_file_creations','num_shells','num_access_files',\n",
    "          'num_outbound_cmds','is_host_login','is_guest_login','count','srv_count','serror_rate','srv_serror_rate','rerror_rate',\n",
    "          'srv_rerror_rate','same_srv_rate','diff_srv_rate','srv_diff_host_rate','dst_host_count','dst_host_srv_count','dst_host_same_srv_rate',\n",
    "          'dst_host_diff_srv_rate','dst_host_same_src_port_rate','dst_host_srv_diff_host_rate','dst_host_serror_rate','dst_host_srv_serror_rate',\n",
    "          'dst_host_rerror_rate','dst_host_srv_rerror_rate','outcome' ]"
   ]
  },
  {
   "cell_type": "code",
   "execution_count": 4,
   "metadata": {},
   "outputs": [],
   "source": [
    "df = pd.read_csv(\"network_intrusion_data.csv\",names = columns )"
   ]
  },
  {
   "cell_type": "markdown",
   "metadata": {},
   "source": [
    "**Data Preprocessing**"
   ]
  },
  {
   "cell_type": "code",
   "execution_count": 5,
   "metadata": {},
   "outputs": [
    {
     "data": {
      "text/plain": [
       "Index(['duration', 'protocol_type', 'service', 'flag', 'src_bytes',\n",
       "       'dst_bytes', 'land', 'wrong_fragment', 'urgent', 'hot',\n",
       "       'num_failed_logins', 'logged_in', 'num_compromised', 'root_shell',\n",
       "       'su_attempted', 'num_root', 'num_file_creations', 'num_shells',\n",
       "       'num_access_files', 'num_outbound_cmds', 'is_host_login',\n",
       "       'is_guest_login', 'count', 'srv_count', 'serror_rate',\n",
       "       'srv_serror_rate', 'rerror_rate', 'srv_rerror_rate', 'same_srv_rate',\n",
       "       'diff_srv_rate', 'srv_diff_host_rate', 'dst_host_count',\n",
       "       'dst_host_srv_count', 'dst_host_same_srv_rate',\n",
       "       'dst_host_diff_srv_rate', 'dst_host_same_src_port_rate',\n",
       "       'dst_host_srv_diff_host_rate', 'dst_host_serror_rate',\n",
       "       'dst_host_srv_serror_rate', 'dst_host_rerror_rate',\n",
       "       'dst_host_srv_rerror_rate', 'outcome'],\n",
       "      dtype='object')"
      ]
     },
     "execution_count": 5,
     "metadata": {},
     "output_type": "execute_result"
    }
   ],
   "source": [
    "df.columns"
   ]
  },
  {
   "cell_type": "code",
   "execution_count": 6,
   "metadata": {},
   "outputs": [
    {
     "data": {
      "text/plain": [
       "(494021, 42)"
      ]
     },
     "execution_count": 6,
     "metadata": {},
     "output_type": "execute_result"
    }
   ],
   "source": [
    "df.shape #shape of dataset"
   ]
  },
  {
   "cell_type": "code",
   "execution_count": 7,
   "metadata": {},
   "outputs": [
    {
     "data": {
      "text/plain": [
       "duration                       494021\n",
       "protocol_type                  494021\n",
       "service                        494021\n",
       "flag                           494021\n",
       "src_bytes                      494021\n",
       "dst_bytes                      494021\n",
       "land                           494021\n",
       "wrong_fragment                 494021\n",
       "urgent                         494021\n",
       "hot                            494021\n",
       "num_failed_logins              494021\n",
       "logged_in                      494021\n",
       "num_compromised                494021\n",
       "root_shell                     494021\n",
       "su_attempted                   494021\n",
       "num_root                       494021\n",
       "num_file_creations             494021\n",
       "num_shells                     494021\n",
       "num_access_files               494021\n",
       "num_outbound_cmds              494021\n",
       "is_host_login                  494021\n",
       "is_guest_login                 494021\n",
       "count                          494021\n",
       "srv_count                      494021\n",
       "serror_rate                    494021\n",
       "srv_serror_rate                494021\n",
       "rerror_rate                    494021\n",
       "srv_rerror_rate                494021\n",
       "same_srv_rate                  494021\n",
       "diff_srv_rate                  494021\n",
       "srv_diff_host_rate             494021\n",
       "dst_host_count                 494021\n",
       "dst_host_srv_count             494021\n",
       "dst_host_same_srv_rate         494021\n",
       "dst_host_diff_srv_rate         494021\n",
       "dst_host_same_src_port_rate    494021\n",
       "dst_host_srv_diff_host_rate    494021\n",
       "dst_host_serror_rate           494021\n",
       "dst_host_srv_serror_rate       494021\n",
       "dst_host_rerror_rate           494021\n",
       "dst_host_srv_rerror_rate       494021\n",
       "outcome                        494021\n",
       "dtype: int64"
      ]
     },
     "execution_count": 7,
     "metadata": {},
     "output_type": "execute_result"
    }
   ],
   "source": [
    "df.count() # count data per coulum"
   ]
  },
  {
   "cell_type": "code",
   "execution_count": 8,
   "metadata": {},
   "outputs": [
    {
     "data": {
      "text/plain": [
       "duration                         int64\n",
       "protocol_type                   object\n",
       "service                         object\n",
       "flag                            object\n",
       "src_bytes                        int64\n",
       "dst_bytes                        int64\n",
       "land                             int64\n",
       "wrong_fragment                   int64\n",
       "urgent                           int64\n",
       "hot                              int64\n",
       "num_failed_logins                int64\n",
       "logged_in                        int64\n",
       "num_compromised                  int64\n",
       "root_shell                       int64\n",
       "su_attempted                     int64\n",
       "num_root                         int64\n",
       "num_file_creations               int64\n",
       "num_shells                       int64\n",
       "num_access_files                 int64\n",
       "num_outbound_cmds                int64\n",
       "is_host_login                    int64\n",
       "is_guest_login                   int64\n",
       "count                            int64\n",
       "srv_count                        int64\n",
       "serror_rate                    float64\n",
       "srv_serror_rate                float64\n",
       "rerror_rate                    float64\n",
       "srv_rerror_rate                float64\n",
       "same_srv_rate                  float64\n",
       "diff_srv_rate                  float64\n",
       "srv_diff_host_rate             float64\n",
       "dst_host_count                   int64\n",
       "dst_host_srv_count               int64\n",
       "dst_host_same_srv_rate         float64\n",
       "dst_host_diff_srv_rate         float64\n",
       "dst_host_same_src_port_rate    float64\n",
       "dst_host_srv_diff_host_rate    float64\n",
       "dst_host_serror_rate           float64\n",
       "dst_host_srv_serror_rate       float64\n",
       "dst_host_rerror_rate           float64\n",
       "dst_host_srv_rerror_rate       float64\n",
       "outcome                         object\n",
       "dtype: object"
      ]
     },
     "execution_count": 8,
     "metadata": {},
     "output_type": "execute_result"
    }
   ],
   "source": [
    "df.dtypes # finding put the data types of the data"
   ]
  },
  {
   "cell_type": "code",
   "execution_count": 9,
   "metadata": {},
   "outputs": [
    {
     "name": "stdout",
     "output_type": "stream",
     "text": [
      "duration=2495\n",
      "protocol_type=3\n",
      "service=66\n",
      "flag=11\n",
      "src_bytes=3300\n",
      "dst_bytes=10725\n",
      "land=2\n",
      "wrong_fragment=3\n",
      "urgent=4\n",
      "hot=22\n",
      "num_failed_logins=6\n",
      "logged_in=2\n",
      "num_compromised=23\n",
      "root_shell=2\n",
      "su_attempted=3\n",
      "num_root=20\n",
      "num_file_creations=18\n",
      "num_shells=3\n",
      "num_access_files=7\n",
      "num_outbound_cmds=1\n",
      "is_host_login=1\n",
      "is_guest_login=2\n",
      "count=490\n",
      "srv_count=470\n",
      "serror_rate=92\n",
      "srv_serror_rate=51\n",
      "rerror_rate=77\n",
      "srv_rerror_rate=51\n",
      "same_srv_rate=99\n",
      "diff_srv_rate=78\n",
      "srv_diff_host_rate=64\n",
      "dst_host_count=256\n",
      "dst_host_srv_count=256\n",
      "dst_host_same_srv_rate=101\n",
      "dst_host_diff_srv_rate=101\n",
      "dst_host_same_src_port_rate=101\n",
      "dst_host_srv_diff_host_rate=65\n",
      "dst_host_serror_rate=100\n",
      "dst_host_srv_serror_rate=72\n",
      "dst_host_rerror_rate=101\n",
      "dst_host_srv_rerror_rate=101\n",
      "outcome=23\n"
     ]
    }
   ],
   "source": [
    "# find the unique values per columns \n",
    "for k, v in df.nunique().to_dict().items():\n",
    "    print('{}={}'.format(k,v))"
   ]
  },
  {
   "cell_type": "markdown",
   "metadata": {},
   "source": [
    "**Drop rows with missing values(NaN) and notice change in count of rows**"
   ]
  },
  {
   "cell_type": "code",
   "execution_count": 10,
   "metadata": {},
   "outputs": [
    {
     "data": {
      "text/plain": [
       "duration                       494021\n",
       "protocol_type                  494021\n",
       "service                        494021\n",
       "flag                           494021\n",
       "src_bytes                      494021\n",
       "dst_bytes                      494021\n",
       "land                           494021\n",
       "wrong_fragment                 494021\n",
       "urgent                         494021\n",
       "hot                            494021\n",
       "num_failed_logins              494021\n",
       "logged_in                      494021\n",
       "num_compromised                494021\n",
       "root_shell                     494021\n",
       "su_attempted                   494021\n",
       "num_root                       494021\n",
       "num_file_creations             494021\n",
       "num_shells                     494021\n",
       "num_access_files               494021\n",
       "num_outbound_cmds              494021\n",
       "is_host_login                  494021\n",
       "is_guest_login                 494021\n",
       "count                          494021\n",
       "srv_count                      494021\n",
       "serror_rate                    494021\n",
       "srv_serror_rate                494021\n",
       "rerror_rate                    494021\n",
       "srv_rerror_rate                494021\n",
       "same_srv_rate                  494021\n",
       "diff_srv_rate                  494021\n",
       "srv_diff_host_rate             494021\n",
       "dst_host_count                 494021\n",
       "dst_host_srv_count             494021\n",
       "dst_host_same_srv_rate         494021\n",
       "dst_host_diff_srv_rate         494021\n",
       "dst_host_same_src_port_rate    494021\n",
       "dst_host_srv_diff_host_rate    494021\n",
       "dst_host_serror_rate           494021\n",
       "dst_host_srv_serror_rate       494021\n",
       "dst_host_rerror_rate           494021\n",
       "dst_host_srv_rerror_rate       494021\n",
       "outcome                        494021\n",
       "dtype: int64"
      ]
     },
     "execution_count": 10,
     "metadata": {},
     "output_type": "execute_result"
    }
   ],
   "source": [
    "#Drop rows with missing values(NaN) and notice change in count of rows \n",
    "df.dropna(inplace = True )\n",
    "df.count()"
   ]
  },
  {
   "cell_type": "code",
   "execution_count": 11,
   "metadata": {},
   "outputs": [
    {
     "data": {
      "text/plain": [
       "array(['normal.', 'buffer_overflow.', 'loadmodule.', 'perl.', 'neptune.',\n",
       "       'smurf.', 'guess_passwd.', 'pod.', 'teardrop.', 'portsweep.',\n",
       "       'ipsweep.', 'land.', 'ftp_write.', 'back.', 'imap.', 'satan.',\n",
       "       'phf.', 'nmap.', 'multihop.', 'warezmaster.', 'warezclient.',\n",
       "       'spy.', 'rootkit.'], dtype=object)"
      ]
     },
     "execution_count": 11,
     "metadata": {},
     "output_type": "execute_result"
    }
   ],
   "source": [
    "df['outcome'].unique()"
   ]
  },
  {
   "cell_type": "code",
   "execution_count": 12,
   "metadata": {},
   "outputs": [
    {
     "data": {
      "text/plain": [
       "348435"
      ]
     },
     "execution_count": 12,
     "metadata": {},
     "output_type": "execute_result"
    }
   ],
   "source": [
    "# finding number of duplicate rows in dataset ( Values in the row are same as the values in the previous row )\n",
    "df.duplicated().sum()"
   ]
  },
  {
   "cell_type": "code",
   "execution_count": 13,
   "metadata": {},
   "outputs": [
    {
     "data": {
      "text/html": [
       "<div>\n",
       "<style scoped>\n",
       "    .dataframe tbody tr th:only-of-type {\n",
       "        vertical-align: middle;\n",
       "    }\n",
       "\n",
       "    .dataframe tbody tr th {\n",
       "        vertical-align: top;\n",
       "    }\n",
       "\n",
       "    .dataframe thead th {\n",
       "        text-align: right;\n",
       "    }\n",
       "</style>\n",
       "<table border=\"1\" class=\"dataframe\">\n",
       "  <thead>\n",
       "    <tr style=\"text-align: right;\">\n",
       "      <th></th>\n",
       "      <th>duration</th>\n",
       "      <th>protocol_type</th>\n",
       "      <th>service</th>\n",
       "      <th>flag</th>\n",
       "      <th>src_bytes</th>\n",
       "      <th>dst_bytes</th>\n",
       "      <th>land</th>\n",
       "      <th>wrong_fragment</th>\n",
       "      <th>urgent</th>\n",
       "      <th>hot</th>\n",
       "      <th>...</th>\n",
       "      <th>dst_host_srv_count</th>\n",
       "      <th>dst_host_same_srv_rate</th>\n",
       "      <th>dst_host_diff_srv_rate</th>\n",
       "      <th>dst_host_same_src_port_rate</th>\n",
       "      <th>dst_host_srv_diff_host_rate</th>\n",
       "      <th>dst_host_serror_rate</th>\n",
       "      <th>dst_host_srv_serror_rate</th>\n",
       "      <th>dst_host_rerror_rate</th>\n",
       "      <th>dst_host_srv_rerror_rate</th>\n",
       "      <th>outcome</th>\n",
       "    </tr>\n",
       "  </thead>\n",
       "  <tbody>\n",
       "    <tr>\n",
       "      <th>2500</th>\n",
       "      <td>0</td>\n",
       "      <td>tcp</td>\n",
       "      <td>http</td>\n",
       "      <td>SF</td>\n",
       "      <td>307</td>\n",
       "      <td>60990</td>\n",
       "      <td>0</td>\n",
       "      <td>0</td>\n",
       "      <td>0</td>\n",
       "      <td>0</td>\n",
       "      <td>...</td>\n",
       "      <td>255</td>\n",
       "      <td>1.0</td>\n",
       "      <td>0.0</td>\n",
       "      <td>0.0</td>\n",
       "      <td>0.0</td>\n",
       "      <td>0.0</td>\n",
       "      <td>0.0</td>\n",
       "      <td>0.0</td>\n",
       "      <td>0.0</td>\n",
       "      <td>normal.</td>\n",
       "    </tr>\n",
       "    <tr>\n",
       "      <th>2864</th>\n",
       "      <td>0</td>\n",
       "      <td>tcp</td>\n",
       "      <td>http</td>\n",
       "      <td>SF</td>\n",
       "      <td>351</td>\n",
       "      <td>11485</td>\n",
       "      <td>0</td>\n",
       "      <td>0</td>\n",
       "      <td>0</td>\n",
       "      <td>0</td>\n",
       "      <td>...</td>\n",
       "      <td>255</td>\n",
       "      <td>1.0</td>\n",
       "      <td>0.0</td>\n",
       "      <td>0.0</td>\n",
       "      <td>0.0</td>\n",
       "      <td>0.0</td>\n",
       "      <td>0.0</td>\n",
       "      <td>0.0</td>\n",
       "      <td>0.0</td>\n",
       "      <td>normal.</td>\n",
       "    </tr>\n",
       "    <tr>\n",
       "      <th>2977</th>\n",
       "      <td>0</td>\n",
       "      <td>tcp</td>\n",
       "      <td>http</td>\n",
       "      <td>SF</td>\n",
       "      <td>506</td>\n",
       "      <td>2419</td>\n",
       "      <td>0</td>\n",
       "      <td>0</td>\n",
       "      <td>0</td>\n",
       "      <td>0</td>\n",
       "      <td>...</td>\n",
       "      <td>255</td>\n",
       "      <td>1.0</td>\n",
       "      <td>0.0</td>\n",
       "      <td>0.0</td>\n",
       "      <td>0.0</td>\n",
       "      <td>0.0</td>\n",
       "      <td>0.0</td>\n",
       "      <td>0.0</td>\n",
       "      <td>0.0</td>\n",
       "      <td>normal.</td>\n",
       "    </tr>\n",
       "    <tr>\n",
       "      <th>3003</th>\n",
       "      <td>0</td>\n",
       "      <td>tcp</td>\n",
       "      <td>http</td>\n",
       "      <td>SF</td>\n",
       "      <td>319</td>\n",
       "      <td>1374</td>\n",
       "      <td>0</td>\n",
       "      <td>0</td>\n",
       "      <td>0</td>\n",
       "      <td>0</td>\n",
       "      <td>...</td>\n",
       "      <td>255</td>\n",
       "      <td>1.0</td>\n",
       "      <td>0.0</td>\n",
       "      <td>0.0</td>\n",
       "      <td>0.0</td>\n",
       "      <td>0.0</td>\n",
       "      <td>0.0</td>\n",
       "      <td>0.0</td>\n",
       "      <td>0.0</td>\n",
       "      <td>normal.</td>\n",
       "    </tr>\n",
       "    <tr>\n",
       "      <th>3130</th>\n",
       "      <td>0</td>\n",
       "      <td>tcp</td>\n",
       "      <td>http</td>\n",
       "      <td>SF</td>\n",
       "      <td>234</td>\n",
       "      <td>1212</td>\n",
       "      <td>0</td>\n",
       "      <td>0</td>\n",
       "      <td>0</td>\n",
       "      <td>0</td>\n",
       "      <td>...</td>\n",
       "      <td>255</td>\n",
       "      <td>1.0</td>\n",
       "      <td>0.0</td>\n",
       "      <td>0.0</td>\n",
       "      <td>0.0</td>\n",
       "      <td>0.0</td>\n",
       "      <td>0.0</td>\n",
       "      <td>0.0</td>\n",
       "      <td>0.0</td>\n",
       "      <td>normal.</td>\n",
       "    </tr>\n",
       "  </tbody>\n",
       "</table>\n",
       "<p>5 rows × 42 columns</p>\n",
       "</div>"
      ],
      "text/plain": [
       "      duration protocol_type service flag  src_bytes  dst_bytes  land  \\\n",
       "2500         0           tcp    http   SF        307      60990     0   \n",
       "2864         0           tcp    http   SF        351      11485     0   \n",
       "2977         0           tcp    http   SF        506       2419     0   \n",
       "3003         0           tcp    http   SF        319       1374     0   \n",
       "3130         0           tcp    http   SF        234       1212     0   \n",
       "\n",
       "      wrong_fragment  urgent  hot   ...     dst_host_srv_count  \\\n",
       "2500               0       0    0   ...                    255   \n",
       "2864               0       0    0   ...                    255   \n",
       "2977               0       0    0   ...                    255   \n",
       "3003               0       0    0   ...                    255   \n",
       "3130               0       0    0   ...                    255   \n",
       "\n",
       "      dst_host_same_srv_rate  dst_host_diff_srv_rate  \\\n",
       "2500                     1.0                     0.0   \n",
       "2864                     1.0                     0.0   \n",
       "2977                     1.0                     0.0   \n",
       "3003                     1.0                     0.0   \n",
       "3130                     1.0                     0.0   \n",
       "\n",
       "      dst_host_same_src_port_rate  dst_host_srv_diff_host_rate  \\\n",
       "2500                          0.0                          0.0   \n",
       "2864                          0.0                          0.0   \n",
       "2977                          0.0                          0.0   \n",
       "3003                          0.0                          0.0   \n",
       "3130                          0.0                          0.0   \n",
       "\n",
       "      dst_host_serror_rate  dst_host_srv_serror_rate  dst_host_rerror_rate  \\\n",
       "2500                   0.0                       0.0                   0.0   \n",
       "2864                   0.0                       0.0                   0.0   \n",
       "2977                   0.0                       0.0                   0.0   \n",
       "3003                   0.0                       0.0                   0.0   \n",
       "3130                   0.0                       0.0                   0.0   \n",
       "\n",
       "      dst_host_srv_rerror_rate  outcome  \n",
       "2500                       0.0  normal.  \n",
       "2864                       0.0  normal.  \n",
       "2977                       0.0  normal.  \n",
       "3003                       0.0  normal.  \n",
       "3130                       0.0  normal.  \n",
       "\n",
       "[5 rows x 42 columns]"
      ]
     },
     "execution_count": 13,
     "metadata": {},
     "output_type": "execute_result"
    }
   ],
   "source": [
    "#rows which have duplicate # top 5 records only \n",
    "df.loc[df.duplicated(keep = 'first'),:].head() # all except the first occurance are counted as duplicates"
   ]
  },
  {
   "cell_type": "markdown",
   "metadata": {},
   "source": [
    "**Drop duplicate rows**\n",
    "We need to drop duplicate rows as that ,may bias the model when training"
   ]
  },
  {
   "cell_type": "code",
   "execution_count": 14,
   "metadata": {},
   "outputs": [],
   "source": [
    "df.drop_duplicates(keep = 'first', inplace = True)"
   ]
  },
  {
   "cell_type": "code",
   "execution_count": 15,
   "metadata": {},
   "outputs": [
    {
     "data": {
      "text/plain": [
       "(145586, 42)"
      ]
     },
     "execution_count": 15,
     "metadata": {},
     "output_type": "execute_result"
    }
   ],
   "source": [
    "df.shape              ## The new shape of df after all duplicates rows have been removed ."
   ]
  },
  {
   "cell_type": "markdown",
   "metadata": {},
   "source": [
    "Taking only 30% for testing "
   ]
  },
  {
   "cell_type": "code",
   "execution_count": 16,
   "metadata": {},
   "outputs": [],
   "source": [
    "df = df.sample(frac=0.3, replace=False)"
   ]
  },
  {
   "cell_type": "code",
   "execution_count": 17,
   "metadata": {},
   "outputs": [
    {
     "data": {
      "text/plain": [
       "(43676, 42)"
      ]
     },
     "execution_count": 17,
     "metadata": {},
     "output_type": "execute_result"
    }
   ],
   "source": [
    "df.shape"
   ]
  },
  {
   "cell_type": "markdown",
   "metadata": {},
   "source": [
    "# Data Preprocessing & Feature Analysis and Seclection"
   ]
  },
  {
   "cell_type": "markdown",
   "metadata": {},
   "source": [
    "Diving the dataframe into dataframes containing  catagorial and contiunuous data for better management and analysis "
   ]
  },
  {
   "cell_type": "code",
   "execution_count": 18,
   "metadata": {},
   "outputs": [],
   "source": [
    "dfcat = df[['protocol_type','service','flag','outcome']] ## data frame containing catagorical values\n",
    "\n",
    "dfcon =df.drop(columns=['protocol_type','service','flag','outcome'])"
   ]
  },
  {
   "cell_type": "code",
   "execution_count": 19,
   "metadata": {},
   "outputs": [
    {
     "data": {
      "text/html": [
       "<div>\n",
       "<style scoped>\n",
       "    .dataframe tbody tr th:only-of-type {\n",
       "        vertical-align: middle;\n",
       "    }\n",
       "\n",
       "    .dataframe tbody tr th {\n",
       "        vertical-align: top;\n",
       "    }\n",
       "\n",
       "    .dataframe thead th {\n",
       "        text-align: right;\n",
       "    }\n",
       "</style>\n",
       "<table border=\"1\" class=\"dataframe\">\n",
       "  <thead>\n",
       "    <tr style=\"text-align: right;\">\n",
       "      <th></th>\n",
       "      <th>protocol_type</th>\n",
       "      <th>service</th>\n",
       "      <th>flag</th>\n",
       "      <th>outcome</th>\n",
       "    </tr>\n",
       "  </thead>\n",
       "  <tbody>\n",
       "    <tr>\n",
       "      <th>470526</th>\n",
       "      <td>tcp</td>\n",
       "      <td>private</td>\n",
       "      <td>REJ</td>\n",
       "      <td>neptune.</td>\n",
       "    </tr>\n",
       "    <tr>\n",
       "      <th>26190</th>\n",
       "      <td>tcp</td>\n",
       "      <td>http</td>\n",
       "      <td>SF</td>\n",
       "      <td>normal.</td>\n",
       "    </tr>\n",
       "  </tbody>\n",
       "</table>\n",
       "</div>"
      ],
      "text/plain": [
       "       protocol_type  service flag   outcome\n",
       "470526           tcp  private  REJ  neptune.\n",
       "26190            tcp     http   SF   normal."
      ]
     },
     "execution_count": 19,
     "metadata": {},
     "output_type": "execute_result"
    }
   ],
   "source": [
    "dfcat.head(2) # observing the new dataset"
   ]
  },
  {
   "cell_type": "code",
   "execution_count": 20,
   "metadata": {},
   "outputs": [
    {
     "data": {
      "text/html": [
       "<div>\n",
       "<style scoped>\n",
       "    .dataframe tbody tr th:only-of-type {\n",
       "        vertical-align: middle;\n",
       "    }\n",
       "\n",
       "    .dataframe tbody tr th {\n",
       "        vertical-align: top;\n",
       "    }\n",
       "\n",
       "    .dataframe thead th {\n",
       "        text-align: right;\n",
       "    }\n",
       "</style>\n",
       "<table border=\"1\" class=\"dataframe\">\n",
       "  <thead>\n",
       "    <tr style=\"text-align: right;\">\n",
       "      <th></th>\n",
       "      <th>duration</th>\n",
       "      <th>src_bytes</th>\n",
       "      <th>dst_bytes</th>\n",
       "      <th>land</th>\n",
       "      <th>wrong_fragment</th>\n",
       "      <th>urgent</th>\n",
       "      <th>hot</th>\n",
       "      <th>num_failed_logins</th>\n",
       "      <th>logged_in</th>\n",
       "      <th>num_compromised</th>\n",
       "      <th>...</th>\n",
       "      <th>dst_host_count</th>\n",
       "      <th>dst_host_srv_count</th>\n",
       "      <th>dst_host_same_srv_rate</th>\n",
       "      <th>dst_host_diff_srv_rate</th>\n",
       "      <th>dst_host_same_src_port_rate</th>\n",
       "      <th>dst_host_srv_diff_host_rate</th>\n",
       "      <th>dst_host_serror_rate</th>\n",
       "      <th>dst_host_srv_serror_rate</th>\n",
       "      <th>dst_host_rerror_rate</th>\n",
       "      <th>dst_host_srv_rerror_rate</th>\n",
       "    </tr>\n",
       "  </thead>\n",
       "  <tbody>\n",
       "    <tr>\n",
       "      <th>470526</th>\n",
       "      <td>0</td>\n",
       "      <td>0</td>\n",
       "      <td>0</td>\n",
       "      <td>0</td>\n",
       "      <td>0</td>\n",
       "      <td>0</td>\n",
       "      <td>0</td>\n",
       "      <td>0</td>\n",
       "      <td>0</td>\n",
       "      <td>0</td>\n",
       "      <td>...</td>\n",
       "      <td>255</td>\n",
       "      <td>1</td>\n",
       "      <td>0.0</td>\n",
       "      <td>0.09</td>\n",
       "      <td>0.0</td>\n",
       "      <td>0.00</td>\n",
       "      <td>0.0</td>\n",
       "      <td>0.0</td>\n",
       "      <td>1.0</td>\n",
       "      <td>1.0</td>\n",
       "    </tr>\n",
       "    <tr>\n",
       "      <th>26190</th>\n",
       "      <td>0</td>\n",
       "      <td>230</td>\n",
       "      <td>16592</td>\n",
       "      <td>0</td>\n",
       "      <td>0</td>\n",
       "      <td>0</td>\n",
       "      <td>0</td>\n",
       "      <td>0</td>\n",
       "      <td>1</td>\n",
       "      <td>0</td>\n",
       "      <td>...</td>\n",
       "      <td>235</td>\n",
       "      <td>255</td>\n",
       "      <td>1.0</td>\n",
       "      <td>0.00</td>\n",
       "      <td>0.0</td>\n",
       "      <td>0.01</td>\n",
       "      <td>0.0</td>\n",
       "      <td>0.0</td>\n",
       "      <td>0.0</td>\n",
       "      <td>0.0</td>\n",
       "    </tr>\n",
       "  </tbody>\n",
       "</table>\n",
       "<p>2 rows × 38 columns</p>\n",
       "</div>"
      ],
      "text/plain": [
       "        duration  src_bytes  dst_bytes  land  wrong_fragment  urgent  hot  \\\n",
       "470526         0          0          0     0               0       0    0   \n",
       "26190          0        230      16592     0               0       0    0   \n",
       "\n",
       "        num_failed_logins  logged_in  num_compromised  \\\n",
       "470526                  0          0                0   \n",
       "26190                   0          1                0   \n",
       "\n",
       "                  ...             dst_host_count  dst_host_srv_count  \\\n",
       "470526            ...                        255                   1   \n",
       "26190             ...                        235                 255   \n",
       "\n",
       "        dst_host_same_srv_rate  dst_host_diff_srv_rate  \\\n",
       "470526                     0.0                    0.09   \n",
       "26190                      1.0                    0.00   \n",
       "\n",
       "        dst_host_same_src_port_rate  dst_host_srv_diff_host_rate  \\\n",
       "470526                          0.0                         0.00   \n",
       "26190                           0.0                         0.01   \n",
       "\n",
       "        dst_host_serror_rate  dst_host_srv_serror_rate  dst_host_rerror_rate  \\\n",
       "470526                   0.0                       0.0                   1.0   \n",
       "26190                    0.0                       0.0                   0.0   \n",
       "\n",
       "        dst_host_srv_rerror_rate  \n",
       "470526                       1.0  \n",
       "26190                        0.0  \n",
       "\n",
       "[2 rows x 38 columns]"
      ]
     },
     "execution_count": 20,
     "metadata": {},
     "output_type": "execute_result"
    }
   ],
   "source": [
    "dfcon.head(2) # observing the new dataset"
   ]
  },
  {
   "cell_type": "markdown",
   "metadata": {},
   "source": [
    "** Detect Outliers**"
   ]
  },
  {
   "cell_type": "markdown",
   "metadata": {},
   "source": [
    "**Plotting and observng the Distribution**"
   ]
  },
  {
   "cell_type": "code",
   "execution_count": 21,
   "metadata": {},
   "outputs": [
    {
     "data": {
      "text/plain": [
       "<matplotlib.axes._subplots.AxesSubplot at 0x211b3dd4080>"
      ]
     },
     "execution_count": 21,
     "metadata": {},
     "output_type": "execute_result"
    },
    {
     "data": {
      "image/png": "[encoded data removed]",
      "text/plain": [
       "<Figure size 1332x756 with 8 Axes>"
      ]
     },
     "metadata": {},
     "output_type": "display_data"
    }
   ],
   "source": [
    "fig, axes = plt.subplots(2,4)\n",
    "fig.set_size_inches(18.5, 10.5)\n",
    "sns.distplot(df['src_bytes'], kde=True,ax=axes[0,0])\n",
    "sns.distplot(df['land'].dropna(),kde=True,ax=axes[0,1])\n",
    "sns.distplot(df['wrong_fragment'].dropna(),kde=True,ax=axes[0,2])\n",
    "sns.distplot(df['urgent'].dropna(),kde=True,ax=axes[0,3])\n",
    "sns.distplot(df['hot'].dropna(),kde=True,ax=axes[1,0])\n",
    "sns.distplot(df['num_failed_logins'].dropna(),kde=True,ax=axes[1,1])\n",
    "sns.distplot(df['logged_in'].dropna(),kde=True,ax=axes[1,2])\n",
    "sns.distplot(df['num_compromised'].dropna(),kde=True,ax=axes[1,3])"
   ]
  },
  {
   "cell_type": "code",
   "execution_count": 22,
   "metadata": {},
   "outputs": [
    {
     "name": "stderr",
     "output_type": "stream",
     "text": [
      "C:\\Users\\Gurudev\\Anaconda3\\envs\\Tensorflowexclusive\\lib\\site-packages\\statsmodels\\nonparametric\\kde.py:488: RuntimeWarning: invalid value encountered in true_divide\n",
      "  binned = fast_linbin(X, a, b, gridsize) / (delta * nobs)\n",
      "C:\\Users\\Gurudev\\Anaconda3\\envs\\Tensorflowexclusive\\lib\\site-packages\\statsmodels\\nonparametric\\kdetools.py:34: RuntimeWarning: invalid value encountered in double_scalars\n",
      "  FAC1 = 2*(np.pi*bw/RANGE)**2\n"
     ]
    },
    {
     "data": {
      "text/plain": [
       "<matplotlib.axes._subplots.AxesSubplot at 0x211b685e240>"
      ]
     },
     "execution_count": 22,
     "metadata": {},
     "output_type": "execute_result"
    },
    {
     "data": {
      "image/png": "[encoded data removed]",
      "text/plain": [
       "<Figure size 1332x756 with 8 Axes>"
      ]
     },
     "metadata": {},
     "output_type": "display_data"
    }
   ],
   "source": [
    "figs, axess = plt.subplots(2,4)\n",
    "figs.set_size_inches(18.5, 10.5)\n",
    "sns.distplot(df['num_root'].dropna(), kde=True,ax=axess[0,0])\n",
    "sns.distplot(df['num_file_creations'].dropna(),kde=True,ax=axess[0,1])\n",
    "sns.distplot(df['num_shells'].dropna(),kde=True,ax=axess[0,2])\n",
    "sns.distplot(df['num_access_files'].dropna(),kde=True,ax=axess[0,3])\n",
    "sns.distplot(df['num_outbound_cmds'].dropna(),kde=True,ax=axess[1,0])\n",
    "sns.distplot(df['num_failed_logins'].dropna(),kde=True,ax=axess[1,1])\n",
    "sns.distplot(df['is_host_login'].dropna(),kde=True,ax=axess[1,2])\n",
    "sns.distplot(df['is_guest_login'].dropna(),kde=True,ax=axess[1,3])"
   ]
  },
  {
   "cell_type": "code",
   "execution_count": 23,
   "metadata": {},
   "outputs": [
    {
     "data": {
      "text/plain": [
       "<matplotlib.axes._subplots.AxesSubplot at 0x211c0f35240>"
      ]
     },
     "execution_count": 23,
     "metadata": {},
     "output_type": "execute_result"
    },
    {
     "data": {
      "image/png": "[encoded data removed]",
      "text/plain": [
       "<Figure size 1332x756 with 8 Axes>"
      ]
     },
     "metadata": {},
     "output_type": "display_data"
    }
   ],
   "source": [
    "figs, axess = plt.subplots(2,4)\n",
    "figs.set_size_inches(18.5, 10.5)\n",
    "sns.distplot(df['count'].dropna(), kde=True,ax=axess[0,0])\n",
    "sns.distplot(df['srv_count'].dropna(),kde=True,ax=axess[0,1])\n",
    "sns.distplot(df['serror_rate'].dropna(),kde=True,ax=axess[0,2])\n",
    "sns.distplot(df['srv_serror_rate'].dropna(),kde=True,ax=axess[0,3])\n",
    "sns.distplot(df['rerror_rate'].dropna(),kde=True,ax=axess[1,0])\n",
    "sns.distplot(df['srv_rerror_rate'].dropna(),kde=True,ax=axess[1,1])\n",
    "sns.distplot(df['same_srv_rate'].dropna(),kde=True,ax=axess[1,2])\n",
    "sns.distplot(df['diff_srv_rate'].dropna(),kde=True,ax=axess[1,3])"
   ]
  },
  {
   "cell_type": "code",
   "execution_count": 24,
   "metadata": {},
   "outputs": [
    {
     "data": {
      "text/plain": [
       "<matplotlib.axes._subplots.AxesSubplot at 0x211c163ee48>"
      ]
     },
     "execution_count": 24,
     "metadata": {},
     "output_type": "execute_result"
    },
    {
     "data": {
      "image/png": "[encoded data removed]",
      "text/plain": [
       "<Figure size 1332x756 with 8 Axes>"
      ]
     },
     "metadata": {},
     "output_type": "display_data"
    }
   ],
   "source": [
    "figs, axess = plt.subplots(2,4)\n",
    "figs.set_size_inches(18.5, 10.5)\n",
    "sns.distplot(df['srv_diff_host_rate'].dropna(), kde=True,ax=axess[0,0])\n",
    "sns.distplot(df['dst_host_count'].dropna(),kde=True,ax=axess[0,1])\n",
    "sns.distplot(df['dst_host_srv_count'].dropna(),kde=True,ax=axess[0,2])\n",
    "sns.distplot(df['dst_host_same_srv_rate'].dropna(),kde=True,ax=axess[0,3])\n",
    "sns.distplot(df['dst_host_diff_srv_rate'].dropna(),kde=True,ax=axess[1,0])\n",
    "sns.distplot(df['dst_host_same_src_port_rate'].dropna(),kde=True,ax=axess[1,1])\n",
    "sns.distplot(df['dst_host_srv_diff_host_rate'].dropna(),kde=True,ax=axess[1,2])\n",
    "sns.distplot(df['dst_host_serror_rate'].dropna(),kde=True,ax=axess[1,3])"
   ]
  },
  {
   "cell_type": "code",
   "execution_count": 25,
   "metadata": {},
   "outputs": [
    {
     "data": {
      "text/plain": [
       "<matplotlib.axes._subplots.AxesSubplot at 0x211c2578898>"
      ]
     },
     "execution_count": 25,
     "metadata": {},
     "output_type": "execute_result"
    },
    {
     "data": {
      "image/png": "[encoded data removed]",
      "text/plain": [
       "<Figure size 1332x756 with 4 Axes>"
      ]
     },
     "metadata": {},
     "output_type": "display_data"
    }
   ],
   "source": [
    "figs, axess = plt.subplots(2,2)\n",
    "figs.set_size_inches(18.5, 10.5)\n",
    "sns.distplot(df['dst_host_srv_serror_rate'].dropna(), kde=True,ax=axess[0,0])\n",
    "sns.distplot(df['dst_host_rerror_rate'].dropna(),kde=True,ax=axess[0,1])\n",
    "sns.distplot(df['dst_host_srv_rerror_rate'].dropna(),kde=True,ax=axess[1,0])"
   ]
  },
  {
   "cell_type": "code",
   "execution_count": 26,
   "metadata": {},
   "outputs": [
    {
     "data": {
      "text/plain": [
       "Index(['duration', 'protocol_type', 'service', 'flag', 'src_bytes',\n",
       "       'dst_bytes', 'land', 'wrong_fragment', 'urgent', 'hot',\n",
       "       'num_failed_logins', 'logged_in', 'num_compromised', 'root_shell',\n",
       "       'su_attempted', 'num_root', 'num_file_creations', 'num_shells',\n",
       "       'num_access_files', 'num_outbound_cmds', 'is_host_login',\n",
       "       'is_guest_login', 'count', 'srv_count', 'serror_rate',\n",
       "       'srv_serror_rate', 'rerror_rate', 'srv_rerror_rate', 'same_srv_rate',\n",
       "       'diff_srv_rate', 'srv_diff_host_rate', 'dst_host_count',\n",
       "       'dst_host_srv_count', 'dst_host_same_srv_rate',\n",
       "       'dst_host_diff_srv_rate', 'dst_host_same_src_port_rate',\n",
       "       'dst_host_srv_diff_host_rate', 'dst_host_serror_rate',\n",
       "       'dst_host_srv_serror_rate', 'dst_host_rerror_rate',\n",
       "       'dst_host_srv_rerror_rate', 'outcome'],\n",
       "      dtype='object')"
      ]
     },
     "execution_count": 26,
     "metadata": {},
     "output_type": "execute_result"
    }
   ],
   "source": [
    "df.columns"
   ]
  },
  {
   "cell_type": "code",
   "execution_count": 27,
   "metadata": {},
   "outputs": [
    {
     "name": "stdout",
     "output_type": "stream",
     "text": [
      "AxesSubplot(0.125,0.125;0.775x0.755)\n"
     ]
    },
    {
     "data": {
      "image/png": "[encoded data removed]",
      "text/plain": [
       "<Figure size 432x288 with 1 Axes>"
      ]
     },
     "metadata": {},
     "output_type": "display_data"
    }
   ],
   "source": [
    "print(sns.boxplot(x=df['dst_host_srv_count']))"
   ]
  },
  {
   "cell_type": "markdown",
   "metadata": {},
   "source": [
    "**###########################################################################################################################**"
   ]
  },
  {
   "cell_type": "markdown",
   "metadata": {},
   "source": [
    "**Normalising all the continuous Data **"
   ]
  },
  {
   "cell_type": "markdown",
   "metadata": {},
   "source": [
    "I have to normalise it first before removing the outliers because if not \n",
    "when i merge it with the catagorical data there will be mismatch in rows"
   ]
  },
  {
   "cell_type": "code",
   "execution_count": 28,
   "metadata": {},
   "outputs": [
    {
     "data": {
      "text/plain": [
       "(43676, 42)"
      ]
     },
     "execution_count": 28,
     "metadata": {},
     "output_type": "execute_result"
    }
   ],
   "source": [
    "df.shape"
   ]
  },
  {
   "cell_type": "code",
   "execution_count": 29,
   "metadata": {},
   "outputs": [
    {
     "data": {
      "text/plain": [
       "(43676, 38)"
      ]
     },
     "execution_count": 29,
     "metadata": {},
     "output_type": "execute_result"
    }
   ],
   "source": [
    "dfcon.shape"
   ]
  },
  {
   "cell_type": "code",
   "execution_count": 30,
   "metadata": {},
   "outputs": [
    {
     "data": {
      "text/plain": [
       "(43676, 4)"
      ]
     },
     "execution_count": 30,
     "metadata": {},
     "output_type": "execute_result"
    }
   ],
   "source": [
    "dfcat.shape"
   ]
  },
  {
   "cell_type": "markdown",
   "metadata": {},
   "source": [
    "Data before Normalisation "
   ]
  },
  {
   "cell_type": "code",
   "execution_count": 31,
   "metadata": {},
   "outputs": [
    {
     "data": {
      "text/html": [
       "<div>\n",
       "<style scoped>\n",
       "    .dataframe tbody tr th:only-of-type {\n",
       "        vertical-align: middle;\n",
       "    }\n",
       "\n",
       "    .dataframe tbody tr th {\n",
       "        vertical-align: top;\n",
       "    }\n",
       "\n",
       "    .dataframe thead th {\n",
       "        text-align: right;\n",
       "    }\n",
       "</style>\n",
       "<table border=\"1\" class=\"dataframe\">\n",
       "  <thead>\n",
       "    <tr style=\"text-align: right;\">\n",
       "      <th></th>\n",
       "      <th>duration</th>\n",
       "      <th>src_bytes</th>\n",
       "      <th>dst_bytes</th>\n",
       "      <th>land</th>\n",
       "      <th>wrong_fragment</th>\n",
       "      <th>urgent</th>\n",
       "      <th>hot</th>\n",
       "      <th>num_failed_logins</th>\n",
       "      <th>logged_in</th>\n",
       "      <th>num_compromised</th>\n",
       "      <th>...</th>\n",
       "      <th>dst_host_count</th>\n",
       "      <th>dst_host_srv_count</th>\n",
       "      <th>dst_host_same_srv_rate</th>\n",
       "      <th>dst_host_diff_srv_rate</th>\n",
       "      <th>dst_host_same_src_port_rate</th>\n",
       "      <th>dst_host_srv_diff_host_rate</th>\n",
       "      <th>dst_host_serror_rate</th>\n",
       "      <th>dst_host_srv_serror_rate</th>\n",
       "      <th>dst_host_rerror_rate</th>\n",
       "      <th>dst_host_srv_rerror_rate</th>\n",
       "    </tr>\n",
       "  </thead>\n",
       "  <tbody>\n",
       "    <tr>\n",
       "      <th>470526</th>\n",
       "      <td>0</td>\n",
       "      <td>0</td>\n",
       "      <td>0</td>\n",
       "      <td>0</td>\n",
       "      <td>0</td>\n",
       "      <td>0</td>\n",
       "      <td>0</td>\n",
       "      <td>0</td>\n",
       "      <td>0</td>\n",
       "      <td>0</td>\n",
       "      <td>...</td>\n",
       "      <td>255</td>\n",
       "      <td>1</td>\n",
       "      <td>0.0</td>\n",
       "      <td>0.09</td>\n",
       "      <td>0.00</td>\n",
       "      <td>0.00</td>\n",
       "      <td>0.0</td>\n",
       "      <td>0.0</td>\n",
       "      <td>1.0</td>\n",
       "      <td>1.0</td>\n",
       "    </tr>\n",
       "    <tr>\n",
       "      <th>26190</th>\n",
       "      <td>0</td>\n",
       "      <td>230</td>\n",
       "      <td>16592</td>\n",
       "      <td>0</td>\n",
       "      <td>0</td>\n",
       "      <td>0</td>\n",
       "      <td>0</td>\n",
       "      <td>0</td>\n",
       "      <td>1</td>\n",
       "      <td>0</td>\n",
       "      <td>...</td>\n",
       "      <td>235</td>\n",
       "      <td>255</td>\n",
       "      <td>1.0</td>\n",
       "      <td>0.00</td>\n",
       "      <td>0.00</td>\n",
       "      <td>0.01</td>\n",
       "      <td>0.0</td>\n",
       "      <td>0.0</td>\n",
       "      <td>0.0</td>\n",
       "      <td>0.0</td>\n",
       "    </tr>\n",
       "    <tr>\n",
       "      <th>81683</th>\n",
       "      <td>0</td>\n",
       "      <td>195</td>\n",
       "      <td>124</td>\n",
       "      <td>0</td>\n",
       "      <td>0</td>\n",
       "      <td>0</td>\n",
       "      <td>0</td>\n",
       "      <td>0</td>\n",
       "      <td>1</td>\n",
       "      <td>0</td>\n",
       "      <td>...</td>\n",
       "      <td>52</td>\n",
       "      <td>255</td>\n",
       "      <td>1.0</td>\n",
       "      <td>0.00</td>\n",
       "      <td>0.02</td>\n",
       "      <td>0.03</td>\n",
       "      <td>0.0</td>\n",
       "      <td>0.0</td>\n",
       "      <td>0.0</td>\n",
       "      <td>0.0</td>\n",
       "    </tr>\n",
       "  </tbody>\n",
       "</table>\n",
       "<p>3 rows × 38 columns</p>\n",
       "</div>"
      ],
      "text/plain": [
       "        duration  src_bytes  dst_bytes  land  wrong_fragment  urgent  hot  \\\n",
       "470526         0          0          0     0               0       0    0   \n",
       "26190          0        230      16592     0               0       0    0   \n",
       "81683          0        195        124     0               0       0    0   \n",
       "\n",
       "        num_failed_logins  logged_in  num_compromised  \\\n",
       "470526                  0          0                0   \n",
       "26190                   0          1                0   \n",
       "81683                   0          1                0   \n",
       "\n",
       "                  ...             dst_host_count  dst_host_srv_count  \\\n",
       "470526            ...                        255                   1   \n",
       "26190             ...                        235                 255   \n",
       "81683             ...                         52                 255   \n",
       "\n",
       "        dst_host_same_srv_rate  dst_host_diff_srv_rate  \\\n",
       "470526                     0.0                    0.09   \n",
       "26190                      1.0                    0.00   \n",
       "81683                      1.0                    0.00   \n",
       "\n",
       "        dst_host_same_src_port_rate  dst_host_srv_diff_host_rate  \\\n",
       "470526                         0.00                         0.00   \n",
       "26190                          0.00                         0.01   \n",
       "81683                          0.02                         0.03   \n",
       "\n",
       "        dst_host_serror_rate  dst_host_srv_serror_rate  dst_host_rerror_rate  \\\n",
       "470526                   0.0                       0.0                   1.0   \n",
       "26190                    0.0                       0.0                   0.0   \n",
       "81683                    0.0                       0.0                   0.0   \n",
       "\n",
       "        dst_host_srv_rerror_rate  \n",
       "470526                       1.0  \n",
       "26190                        0.0  \n",
       "81683                        0.0  \n",
       "\n",
       "[3 rows x 38 columns]"
      ]
     },
     "execution_count": 31,
     "metadata": {},
     "output_type": "execute_result"
    }
   ],
   "source": [
    "dfcon.head(3)"
   ]
  },
  {
   "cell_type": "markdown",
   "metadata": {},
   "source": [
    "Normalising using Z score Scalar"
   ]
  },
  {
   "cell_type": "code",
   "execution_count": 32,
   "metadata": {},
   "outputs": [],
   "source": [
    "#from scipy.stats import zscore  #method 1 \n",
    "#dfcon.apply(zscore).head()"
   ]
  },
  {
   "cell_type": "code",
   "execution_count": 33,
   "metadata": {},
   "outputs": [],
   "source": [
    "from sklearn.preprocessing import StandardScaler   #method 2\n",
    "# Standardizing the features\n",
    "x = dfcon.values #returns a numpy array\n",
    "x_scaled= StandardScaler().fit_transform(x)\n",
    "dfcon = pd.DataFrame(x_scaled,columns=dfcon.columns)\n"
   ]
  },
  {
   "cell_type": "markdown",
   "metadata": {},
   "source": [
    "Data after Normalisation "
   ]
  },
  {
   "cell_type": "code",
   "execution_count": 34,
   "metadata": {},
   "outputs": [
    {
     "data": {
      "text/html": [
       "<div>\n",
       "<style scoped>\n",
       "    .dataframe tbody tr th:only-of-type {\n",
       "        vertical-align: middle;\n",
       "    }\n",
       "\n",
       "    .dataframe tbody tr th {\n",
       "        vertical-align: top;\n",
       "    }\n",
       "\n",
       "    .dataframe thead th {\n",
       "        text-align: right;\n",
       "    }\n",
       "</style>\n",
       "<table border=\"1\" class=\"dataframe\">\n",
       "  <thead>\n",
       "    <tr style=\"text-align: right;\">\n",
       "      <th></th>\n",
       "      <th>duration</th>\n",
       "      <th>src_bytes</th>\n",
       "      <th>dst_bytes</th>\n",
       "      <th>land</th>\n",
       "      <th>wrong_fragment</th>\n",
       "      <th>urgent</th>\n",
       "      <th>hot</th>\n",
       "      <th>num_failed_logins</th>\n",
       "      <th>logged_in</th>\n",
       "      <th>num_compromised</th>\n",
       "      <th>...</th>\n",
       "      <th>dst_host_count</th>\n",
       "      <th>dst_host_srv_count</th>\n",
       "      <th>dst_host_same_srv_rate</th>\n",
       "      <th>dst_host_diff_srv_rate</th>\n",
       "      <th>dst_host_same_src_port_rate</th>\n",
       "      <th>dst_host_srv_diff_host_rate</th>\n",
       "      <th>dst_host_serror_rate</th>\n",
       "      <th>dst_host_srv_serror_rate</th>\n",
       "      <th>dst_host_rerror_rate</th>\n",
       "      <th>dst_host_srv_rerror_rate</th>\n",
       "    </tr>\n",
       "  </thead>\n",
       "  <tbody>\n",
       "    <tr>\n",
       "      <th>0</th>\n",
       "      <td>-0.113508</td>\n",
       "      <td>-0.005814</td>\n",
       "      <td>-0.065793</td>\n",
       "      <td>-0.00957</td>\n",
       "      <td>-0.082996</td>\n",
       "      <td>-0.004785</td>\n",
       "      <td>-0.068443</td>\n",
       "      <td>-0.021185</td>\n",
       "      <td>-0.981398</td>\n",
       "      <td>-0.047174</td>\n",
       "      <td>...</td>\n",
       "      <td>0.738627</td>\n",
       "      <td>-1.119028</td>\n",
       "      <td>-1.207426</td>\n",
       "      <td>0.183696</td>\n",
       "      <td>-0.384769</td>\n",
       "      <td>-0.314713</td>\n",
       "      <td>-0.646251</td>\n",
       "      <td>-0.643325</td>\n",
       "      <td>2.933857</td>\n",
       "      <td>2.962267</td>\n",
       "    </tr>\n",
       "    <tr>\n",
       "      <th>1</th>\n",
       "      <td>-0.113508</td>\n",
       "      <td>-0.005745</td>\n",
       "      <td>0.368685</td>\n",
       "      <td>-0.00957</td>\n",
       "      <td>-0.082996</td>\n",
       "      <td>-0.004785</td>\n",
       "      <td>-0.068443</td>\n",
       "      <td>-0.021185</td>\n",
       "      <td>1.018954</td>\n",
       "      <td>-0.047174</td>\n",
       "      <td>...</td>\n",
       "      <td>0.536235</td>\n",
       "      <td>1.093359</td>\n",
       "      <td>0.982366</td>\n",
       "      <td>-0.418565</td>\n",
       "      <td>-0.384769</td>\n",
       "      <td>-0.147463</td>\n",
       "      <td>-0.646251</td>\n",
       "      <td>-0.643325</td>\n",
       "      <td>-0.357625</td>\n",
       "      <td>-0.350407</td>\n",
       "    </tr>\n",
       "    <tr>\n",
       "      <th>2</th>\n",
       "      <td>-0.113508</td>\n",
       "      <td>-0.005755</td>\n",
       "      <td>-0.062546</td>\n",
       "      <td>-0.00957</td>\n",
       "      <td>-0.082996</td>\n",
       "      <td>-0.004785</td>\n",
       "      <td>-0.068443</td>\n",
       "      <td>-0.021185</td>\n",
       "      <td>1.018954</td>\n",
       "      <td>-0.047174</td>\n",
       "      <td>...</td>\n",
       "      <td>-1.315651</td>\n",
       "      <td>1.093359</td>\n",
       "      <td>0.982366</td>\n",
       "      <td>-0.418565</td>\n",
       "      <td>-0.302702</td>\n",
       "      <td>0.187035</td>\n",
       "      <td>-0.646251</td>\n",
       "      <td>-0.643325</td>\n",
       "      <td>-0.357625</td>\n",
       "      <td>-0.350407</td>\n",
       "    </tr>\n",
       "    <tr>\n",
       "      <th>3</th>\n",
       "      <td>-0.113508</td>\n",
       "      <td>-0.005814</td>\n",
       "      <td>-0.065793</td>\n",
       "      <td>-0.00957</td>\n",
       "      <td>-0.082996</td>\n",
       "      <td>-0.004785</td>\n",
       "      <td>-0.068443</td>\n",
       "      <td>-0.021185</td>\n",
       "      <td>-0.981398</td>\n",
       "      <td>-0.047174</td>\n",
       "      <td>...</td>\n",
       "      <td>0.738627</td>\n",
       "      <td>-1.119028</td>\n",
       "      <td>-1.207426</td>\n",
       "      <td>0.116779</td>\n",
       "      <td>-0.384769</td>\n",
       "      <td>-0.314713</td>\n",
       "      <td>-0.646251</td>\n",
       "      <td>-0.643325</td>\n",
       "      <td>2.933857</td>\n",
       "      <td>2.962267</td>\n",
       "    </tr>\n",
       "    <tr>\n",
       "      <th>4</th>\n",
       "      <td>-0.113508</td>\n",
       "      <td>-0.005752</td>\n",
       "      <td>-0.057675</td>\n",
       "      <td>-0.00957</td>\n",
       "      <td>-0.082996</td>\n",
       "      <td>-0.004785</td>\n",
       "      <td>-0.068443</td>\n",
       "      <td>-0.021185</td>\n",
       "      <td>1.018954</td>\n",
       "      <td>-0.047174</td>\n",
       "      <td>...</td>\n",
       "      <td>0.738627</td>\n",
       "      <td>1.093359</td>\n",
       "      <td>0.982366</td>\n",
       "      <td>-0.418565</td>\n",
       "      <td>-0.384769</td>\n",
       "      <td>-0.314713</td>\n",
       "      <td>-0.646251</td>\n",
       "      <td>-0.643325</td>\n",
       "      <td>-0.357625</td>\n",
       "      <td>-0.350407</td>\n",
       "    </tr>\n",
       "  </tbody>\n",
       "</table>\n",
       "<p>5 rows × 38 columns</p>\n",
       "</div>"
      ],
      "text/plain": [
       "   duration  src_bytes  dst_bytes     land  wrong_fragment    urgent  \\\n",
       "0 -0.113508  -0.005814  -0.065793 -0.00957       -0.082996 -0.004785   \n",
       "1 -0.113508  -0.005745   0.368685 -0.00957       -0.082996 -0.004785   \n",
       "2 -0.113508  -0.005755  -0.062546 -0.00957       -0.082996 -0.004785   \n",
       "3 -0.113508  -0.005814  -0.065793 -0.00957       -0.082996 -0.004785   \n",
       "4 -0.113508  -0.005752  -0.057675 -0.00957       -0.082996 -0.004785   \n",
       "\n",
       "        hot  num_failed_logins  logged_in  num_compromised  \\\n",
       "0 -0.068443          -0.021185  -0.981398        -0.047174   \n",
       "1 -0.068443          -0.021185   1.018954        -0.047174   \n",
       "2 -0.068443          -0.021185   1.018954        -0.047174   \n",
       "3 -0.068443          -0.021185  -0.981398        -0.047174   \n",
       "4 -0.068443          -0.021185   1.018954        -0.047174   \n",
       "\n",
       "             ...             dst_host_count  dst_host_srv_count  \\\n",
       "0            ...                   0.738627           -1.119028   \n",
       "1            ...                   0.536235            1.093359   \n",
       "2            ...                  -1.315651            1.093359   \n",
       "3            ...                   0.738627           -1.119028   \n",
       "4            ...                   0.738627            1.093359   \n",
       "\n",
       "   dst_host_same_srv_rate  dst_host_diff_srv_rate  \\\n",
       "0               -1.207426                0.183696   \n",
       "1                0.982366               -0.418565   \n",
       "2                0.982366               -0.418565   \n",
       "3               -1.207426                0.116779   \n",
       "4                0.982366               -0.418565   \n",
       "\n",
       "   dst_host_same_src_port_rate  dst_host_srv_diff_host_rate  \\\n",
       "0                    -0.384769                    -0.314713   \n",
       "1                    -0.384769                    -0.147463   \n",
       "2                    -0.302702                     0.187035   \n",
       "3                    -0.384769                    -0.314713   \n",
       "4                    -0.384769                    -0.314713   \n",
       "\n",
       "   dst_host_serror_rate  dst_host_srv_serror_rate  dst_host_rerror_rate  \\\n",
       "0             -0.646251                 -0.643325              2.933857   \n",
       "1             -0.646251                 -0.643325             -0.357625   \n",
       "2             -0.646251                 -0.643325             -0.357625   \n",
       "3             -0.646251                 -0.643325              2.933857   \n",
       "4             -0.646251                 -0.643325             -0.357625   \n",
       "\n",
       "   dst_host_srv_rerror_rate  \n",
       "0                  2.962267  \n",
       "1                 -0.350407  \n",
       "2                 -0.350407  \n",
       "3                  2.962267  \n",
       "4                 -0.350407  \n",
       "\n",
       "[5 rows x 38 columns]"
      ]
     },
     "execution_count": 34,
     "metadata": {},
     "output_type": "execute_result"
    }
   ],
   "source": [
    "dfcon.head()"
   ]
  },
  {
   "cell_type": "markdown",
   "metadata": {},
   "source": [
    "**Doing PCA ( Principal Component Analysis)**"
   ]
  },
  {
   "cell_type": "code",
   "execution_count": 35,
   "metadata": {},
   "outputs": [
    {
     "name": "stdout",
     "output_type": "stream",
     "text": [
      "========================\n",
      "Principal Component Ratio :  [0.21847637 0.12597521 0.06023682 0.05367015 0.05171332 0.0395478\n",
      " 0.03638512 0.03302108 0.02824453 0.02790397 0.0278179  0.02778699\n",
      " 0.02761373 0.02723149 0.02693294 0.02633323 0.02488224 0.02300882\n",
      " 0.02121365 0.01913483 0.0143739  0.01236509]\n",
      "========================\n",
      "No of Principal Component Involved to get 95% of the variance :  22\n"
     ]
    }
   ],
   "source": [
    "from sklearn.decomposition import PCA\n",
    "# create the PCA instance\n",
    "pca = PCA(0.95)\n",
    "# fit on data\n",
    "pca.fit(dfcon)\n",
    "# access values and vectors\n",
    "#print(pca.components_)\n",
    "print(\"========================\")\n",
    "print(\"Principal Component Ratio : \",pca.explained_variance_ratio_)\n",
    "# transform data\n",
    "B = pca.transform(dfcon)\n",
    "print(\"========================\")\n",
    "#print(B)\n",
    "print( \"No of Principal Component Involved to get 95% of the variance : \",pca.n_components_)"
   ]
  },
  {
   "cell_type": "markdown",
   "metadata": {},
   "source": [
    "==================================================================================================================="
   ]
  },
  {
   "cell_type": "markdown",
   "metadata": {},
   "source": [
    "Concatinating dfcat and dfcon dataframes"
   ]
  },
  {
   "cell_type": "code",
   "execution_count": 36,
   "metadata": {},
   "outputs": [],
   "source": [
    "dt = dfcat\n",
    "dc = dfcon\n",
    "dt.reset_index(drop=True, inplace=True)\n",
    "dc.reset_index(drop=True, inplace=True)\n",
    "df = pd.concat([dc, dt], axis=1)"
   ]
  },
  {
   "cell_type": "code",
   "execution_count": 37,
   "metadata": {},
   "outputs": [
    {
     "data": {
      "text/plain": [
       "(43676, 38)"
      ]
     },
     "execution_count": 37,
     "metadata": {},
     "output_type": "execute_result"
    }
   ],
   "source": [
    "dfcon.shape"
   ]
  },
  {
   "cell_type": "code",
   "execution_count": 38,
   "metadata": {},
   "outputs": [
    {
     "data": {
      "text/plain": [
       "(43676, 4)"
      ]
     },
     "execution_count": 38,
     "metadata": {},
     "output_type": "execute_result"
    }
   ],
   "source": [
    "dfcat.shape"
   ]
  },
  {
   "cell_type": "code",
   "execution_count": 39,
   "metadata": {},
   "outputs": [
    {
     "data": {
      "text/html": [
       "<div>\n",
       "<style scoped>\n",
       "    .dataframe tbody tr th:only-of-type {\n",
       "        vertical-align: middle;\n",
       "    }\n",
       "\n",
       "    .dataframe tbody tr th {\n",
       "        vertical-align: top;\n",
       "    }\n",
       "\n",
       "    .dataframe thead th {\n",
       "        text-align: right;\n",
       "    }\n",
       "</style>\n",
       "<table border=\"1\" class=\"dataframe\">\n",
       "  <thead>\n",
       "    <tr style=\"text-align: right;\">\n",
       "      <th></th>\n",
       "      <th>duration</th>\n",
       "      <th>src_bytes</th>\n",
       "      <th>dst_bytes</th>\n",
       "      <th>land</th>\n",
       "      <th>wrong_fragment</th>\n",
       "      <th>urgent</th>\n",
       "      <th>hot</th>\n",
       "      <th>num_failed_logins</th>\n",
       "      <th>logged_in</th>\n",
       "      <th>num_compromised</th>\n",
       "      <th>...</th>\n",
       "      <th>dst_host_same_src_port_rate</th>\n",
       "      <th>dst_host_srv_diff_host_rate</th>\n",
       "      <th>dst_host_serror_rate</th>\n",
       "      <th>dst_host_srv_serror_rate</th>\n",
       "      <th>dst_host_rerror_rate</th>\n",
       "      <th>dst_host_srv_rerror_rate</th>\n",
       "      <th>protocol_type</th>\n",
       "      <th>service</th>\n",
       "      <th>flag</th>\n",
       "      <th>outcome</th>\n",
       "    </tr>\n",
       "  </thead>\n",
       "  <tbody>\n",
       "    <tr>\n",
       "      <th>0</th>\n",
       "      <td>-0.113508</td>\n",
       "      <td>-0.005814</td>\n",
       "      <td>-0.065793</td>\n",
       "      <td>-0.00957</td>\n",
       "      <td>-0.082996</td>\n",
       "      <td>-0.004785</td>\n",
       "      <td>-0.068443</td>\n",
       "      <td>-0.021185</td>\n",
       "      <td>-0.981398</td>\n",
       "      <td>-0.047174</td>\n",
       "      <td>...</td>\n",
       "      <td>-0.384769</td>\n",
       "      <td>-0.314713</td>\n",
       "      <td>-0.646251</td>\n",
       "      <td>-0.643325</td>\n",
       "      <td>2.933857</td>\n",
       "      <td>2.962267</td>\n",
       "      <td>tcp</td>\n",
       "      <td>private</td>\n",
       "      <td>REJ</td>\n",
       "      <td>neptune.</td>\n",
       "    </tr>\n",
       "    <tr>\n",
       "      <th>1</th>\n",
       "      <td>-0.113508</td>\n",
       "      <td>-0.005745</td>\n",
       "      <td>0.368685</td>\n",
       "      <td>-0.00957</td>\n",
       "      <td>-0.082996</td>\n",
       "      <td>-0.004785</td>\n",
       "      <td>-0.068443</td>\n",
       "      <td>-0.021185</td>\n",
       "      <td>1.018954</td>\n",
       "      <td>-0.047174</td>\n",
       "      <td>...</td>\n",
       "      <td>-0.384769</td>\n",
       "      <td>-0.147463</td>\n",
       "      <td>-0.646251</td>\n",
       "      <td>-0.643325</td>\n",
       "      <td>-0.357625</td>\n",
       "      <td>-0.350407</td>\n",
       "      <td>tcp</td>\n",
       "      <td>http</td>\n",
       "      <td>SF</td>\n",
       "      <td>normal.</td>\n",
       "    </tr>\n",
       "    <tr>\n",
       "      <th>2</th>\n",
       "      <td>-0.113508</td>\n",
       "      <td>-0.005755</td>\n",
       "      <td>-0.062546</td>\n",
       "      <td>-0.00957</td>\n",
       "      <td>-0.082996</td>\n",
       "      <td>-0.004785</td>\n",
       "      <td>-0.068443</td>\n",
       "      <td>-0.021185</td>\n",
       "      <td>1.018954</td>\n",
       "      <td>-0.047174</td>\n",
       "      <td>...</td>\n",
       "      <td>-0.302702</td>\n",
       "      <td>0.187035</td>\n",
       "      <td>-0.646251</td>\n",
       "      <td>-0.643325</td>\n",
       "      <td>-0.357625</td>\n",
       "      <td>-0.350407</td>\n",
       "      <td>tcp</td>\n",
       "      <td>http</td>\n",
       "      <td>SF</td>\n",
       "      <td>normal.</td>\n",
       "    </tr>\n",
       "    <tr>\n",
       "      <th>3</th>\n",
       "      <td>-0.113508</td>\n",
       "      <td>-0.005814</td>\n",
       "      <td>-0.065793</td>\n",
       "      <td>-0.00957</td>\n",
       "      <td>-0.082996</td>\n",
       "      <td>-0.004785</td>\n",
       "      <td>-0.068443</td>\n",
       "      <td>-0.021185</td>\n",
       "      <td>-0.981398</td>\n",
       "      <td>-0.047174</td>\n",
       "      <td>...</td>\n",
       "      <td>-0.384769</td>\n",
       "      <td>-0.314713</td>\n",
       "      <td>-0.646251</td>\n",
       "      <td>-0.643325</td>\n",
       "      <td>2.933857</td>\n",
       "      <td>2.962267</td>\n",
       "      <td>tcp</td>\n",
       "      <td>private</td>\n",
       "      <td>REJ</td>\n",
       "      <td>neptune.</td>\n",
       "    </tr>\n",
       "    <tr>\n",
       "      <th>4</th>\n",
       "      <td>-0.113508</td>\n",
       "      <td>-0.005752</td>\n",
       "      <td>-0.057675</td>\n",
       "      <td>-0.00957</td>\n",
       "      <td>-0.082996</td>\n",
       "      <td>-0.004785</td>\n",
       "      <td>-0.068443</td>\n",
       "      <td>-0.021185</td>\n",
       "      <td>1.018954</td>\n",
       "      <td>-0.047174</td>\n",
       "      <td>...</td>\n",
       "      <td>-0.384769</td>\n",
       "      <td>-0.314713</td>\n",
       "      <td>-0.646251</td>\n",
       "      <td>-0.643325</td>\n",
       "      <td>-0.357625</td>\n",
       "      <td>-0.350407</td>\n",
       "      <td>tcp</td>\n",
       "      <td>http</td>\n",
       "      <td>SF</td>\n",
       "      <td>normal.</td>\n",
       "    </tr>\n",
       "  </tbody>\n",
       "</table>\n",
       "<p>5 rows × 42 columns</p>\n",
       "</div>"
      ],
      "text/plain": [
       "   duration  src_bytes  dst_bytes     land  wrong_fragment    urgent  \\\n",
       "0 -0.113508  -0.005814  -0.065793 -0.00957       -0.082996 -0.004785   \n",
       "1 -0.113508  -0.005745   0.368685 -0.00957       -0.082996 -0.004785   \n",
       "2 -0.113508  -0.005755  -0.062546 -0.00957       -0.082996 -0.004785   \n",
       "3 -0.113508  -0.005814  -0.065793 -0.00957       -0.082996 -0.004785   \n",
       "4 -0.113508  -0.005752  -0.057675 -0.00957       -0.082996 -0.004785   \n",
       "\n",
       "        hot  num_failed_logins  logged_in  num_compromised    ...     \\\n",
       "0 -0.068443          -0.021185  -0.981398        -0.047174    ...      \n",
       "1 -0.068443          -0.021185   1.018954        -0.047174    ...      \n",
       "2 -0.068443          -0.021185   1.018954        -0.047174    ...      \n",
       "3 -0.068443          -0.021185  -0.981398        -0.047174    ...      \n",
       "4 -0.068443          -0.021185   1.018954        -0.047174    ...      \n",
       "\n",
       "   dst_host_same_src_port_rate  dst_host_srv_diff_host_rate  \\\n",
       "0                    -0.384769                    -0.314713   \n",
       "1                    -0.384769                    -0.147463   \n",
       "2                    -0.302702                     0.187035   \n",
       "3                    -0.384769                    -0.314713   \n",
       "4                    -0.384769                    -0.314713   \n",
       "\n",
       "   dst_host_serror_rate  dst_host_srv_serror_rate  dst_host_rerror_rate  \\\n",
       "0             -0.646251                 -0.643325              2.933857   \n",
       "1             -0.646251                 -0.643325             -0.357625   \n",
       "2             -0.646251                 -0.643325             -0.357625   \n",
       "3             -0.646251                 -0.643325              2.933857   \n",
       "4             -0.646251                 -0.643325             -0.357625   \n",
       "\n",
       "   dst_host_srv_rerror_rate  protocol_type  service  flag   outcome  \n",
       "0                  2.962267            tcp  private   REJ  neptune.  \n",
       "1                 -0.350407            tcp     http    SF   normal.  \n",
       "2                 -0.350407            tcp     http    SF   normal.  \n",
       "3                  2.962267            tcp  private   REJ  neptune.  \n",
       "4                 -0.350407            tcp     http    SF   normal.  \n",
       "\n",
       "[5 rows x 42 columns]"
      ]
     },
     "execution_count": 39,
     "metadata": {},
     "output_type": "execute_result"
    }
   ],
   "source": [
    "df.head()"
   ]
  },
  {
   "cell_type": "code",
   "execution_count": 40,
   "metadata": {},
   "outputs": [
    {
     "data": {
      "text/plain": [
       "array(['neptune.', 'normal.', 'back.', 'teardrop.', 'satan.',\n",
       "       'portsweep.', 'warezclient.', 'ipsweep.', 'smurf.', 'nmap.',\n",
       "       'pod.', 'imap.', 'guess_passwd.', 'buffer_overflow.',\n",
       "       'loadmodule.', 'land.', 'rootkit.', 'ftp_write.', 'warezmaster.',\n",
       "       'phf.', 'multihop.'], dtype=object)"
      ]
     },
     "execution_count": 40,
     "metadata": {},
     "output_type": "execute_result"
    }
   ],
   "source": [
    "df['outcome'].unique()"
   ]
  },
  {
   "cell_type": "code",
   "execution_count": 41,
   "metadata": {},
   "outputs": [],
   "source": [
    "df.dropna(inplace = True)"
   ]
  },
  {
   "cell_type": "markdown",
   "metadata": {},
   "source": [
    "**Removing Outliers from the dataset**"
   ]
  },
  {
   "cell_type": "code",
   "execution_count": 42,
   "metadata": {},
   "outputs": [],
   "source": [
    "# Remove all rows where the specified column is +/- sd standard deviations\n",
    "def remove_outliers(df, name, sd):\n",
    "    drop_rows = df.index[(np.abs(df[name] - df[name].mean()) >= (sd * df[name].std()))]\n",
    "    df.drop(drop_rows, axis=0, inplace=True)\n"
   ]
  },
  {
   "cell_type": "code",
   "execution_count": 43,
   "metadata": {},
   "outputs": [],
   "source": [
    "remove_outliers(df,'dst_host_srv_rerror_rate' ,.5)\n",
    "#remove_outliers(df,'serror_rate' ,.5)"
   ]
  },
  {
   "cell_type": "markdown",
   "metadata": {},
   "source": [
    "**Dividing the Dataframe to Features and Label Dataframe**"
   ]
  },
  {
   "cell_type": "code",
   "execution_count": 44,
   "metadata": {},
   "outputs": [],
   "source": [
    "dff = df.drop(columns ='outcome')\n",
    "dfl= df[['outcome']]"
   ]
  },
  {
   "cell_type": "markdown",
   "metadata": {},
   "source": [
    "**One Hot Encoding the Features**"
   ]
  },
  {
   "cell_type": "code",
   "execution_count": 45,
   "metadata": {},
   "outputs": [],
   "source": [
    "dff = pd.get_dummies(data = dff ,columns=['protocol_type','service','flag'])"
   ]
  },
  {
   "cell_type": "code",
   "execution_count": 46,
   "metadata": {},
   "outputs": [
    {
     "data": {
      "text/html": [
       "<div>\n",
       "<style scoped>\n",
       "    .dataframe tbody tr th:only-of-type {\n",
       "        vertical-align: middle;\n",
       "    }\n",
       "\n",
       "    .dataframe tbody tr th {\n",
       "        vertical-align: top;\n",
       "    }\n",
       "\n",
       "    .dataframe thead th {\n",
       "        text-align: right;\n",
       "    }\n",
       "</style>\n",
       "<table border=\"1\" class=\"dataframe\">\n",
       "  <thead>\n",
       "    <tr style=\"text-align: right;\">\n",
       "      <th></th>\n",
       "      <th>duration</th>\n",
       "      <th>src_bytes</th>\n",
       "      <th>dst_bytes</th>\n",
       "      <th>land</th>\n",
       "      <th>wrong_fragment</th>\n",
       "      <th>urgent</th>\n",
       "      <th>hot</th>\n",
       "      <th>num_failed_logins</th>\n",
       "      <th>logged_in</th>\n",
       "      <th>num_compromised</th>\n",
       "      <th>...</th>\n",
       "      <th>flag_OTH</th>\n",
       "      <th>flag_REJ</th>\n",
       "      <th>flag_RSTO</th>\n",
       "      <th>flag_RSTR</th>\n",
       "      <th>flag_S0</th>\n",
       "      <th>flag_S1</th>\n",
       "      <th>flag_S2</th>\n",
       "      <th>flag_S3</th>\n",
       "      <th>flag_SF</th>\n",
       "      <th>flag_SH</th>\n",
       "    </tr>\n",
       "  </thead>\n",
       "  <tbody>\n",
       "    <tr>\n",
       "      <th>1</th>\n",
       "      <td>-0.113508</td>\n",
       "      <td>-0.005745</td>\n",
       "      <td>0.368685</td>\n",
       "      <td>-0.00957</td>\n",
       "      <td>-0.082996</td>\n",
       "      <td>-0.004785</td>\n",
       "      <td>-0.068443</td>\n",
       "      <td>-0.021185</td>\n",
       "      <td>1.018954</td>\n",
       "      <td>-0.047174</td>\n",
       "      <td>...</td>\n",
       "      <td>0</td>\n",
       "      <td>0</td>\n",
       "      <td>0</td>\n",
       "      <td>0</td>\n",
       "      <td>0</td>\n",
       "      <td>0</td>\n",
       "      <td>0</td>\n",
       "      <td>0</td>\n",
       "      <td>1</td>\n",
       "      <td>0</td>\n",
       "    </tr>\n",
       "    <tr>\n",
       "      <th>2</th>\n",
       "      <td>-0.113508</td>\n",
       "      <td>-0.005755</td>\n",
       "      <td>-0.062546</td>\n",
       "      <td>-0.00957</td>\n",
       "      <td>-0.082996</td>\n",
       "      <td>-0.004785</td>\n",
       "      <td>-0.068443</td>\n",
       "      <td>-0.021185</td>\n",
       "      <td>1.018954</td>\n",
       "      <td>-0.047174</td>\n",
       "      <td>...</td>\n",
       "      <td>0</td>\n",
       "      <td>0</td>\n",
       "      <td>0</td>\n",
       "      <td>0</td>\n",
       "      <td>0</td>\n",
       "      <td>0</td>\n",
       "      <td>0</td>\n",
       "      <td>0</td>\n",
       "      <td>1</td>\n",
       "      <td>0</td>\n",
       "    </tr>\n",
       "    <tr>\n",
       "      <th>4</th>\n",
       "      <td>-0.113508</td>\n",
       "      <td>-0.005752</td>\n",
       "      <td>-0.057675</td>\n",
       "      <td>-0.00957</td>\n",
       "      <td>-0.082996</td>\n",
       "      <td>-0.004785</td>\n",
       "      <td>-0.068443</td>\n",
       "      <td>-0.021185</td>\n",
       "      <td>1.018954</td>\n",
       "      <td>-0.047174</td>\n",
       "      <td>...</td>\n",
       "      <td>0</td>\n",
       "      <td>0</td>\n",
       "      <td>0</td>\n",
       "      <td>0</td>\n",
       "      <td>0</td>\n",
       "      <td>0</td>\n",
       "      <td>0</td>\n",
       "      <td>0</td>\n",
       "      <td>1</td>\n",
       "      <td>0</td>\n",
       "    </tr>\n",
       "    <tr>\n",
       "      <th>5</th>\n",
       "      <td>-0.113508</td>\n",
       "      <td>-0.005725</td>\n",
       "      <td>0.019966</td>\n",
       "      <td>-0.00957</td>\n",
       "      <td>-0.082996</td>\n",
       "      <td>-0.004785</td>\n",
       "      <td>-0.068443</td>\n",
       "      <td>-0.021185</td>\n",
       "      <td>1.018954</td>\n",
       "      <td>-0.047174</td>\n",
       "      <td>...</td>\n",
       "      <td>0</td>\n",
       "      <td>0</td>\n",
       "      <td>0</td>\n",
       "      <td>0</td>\n",
       "      <td>0</td>\n",
       "      <td>0</td>\n",
       "      <td>0</td>\n",
       "      <td>0</td>\n",
       "      <td>1</td>\n",
       "      <td>0</td>\n",
       "    </tr>\n",
       "    <tr>\n",
       "      <th>6</th>\n",
       "      <td>-0.113508</td>\n",
       "      <td>-0.004996</td>\n",
       "      <td>-0.057125</td>\n",
       "      <td>-0.00957</td>\n",
       "      <td>-0.082996</td>\n",
       "      <td>-0.004785</td>\n",
       "      <td>-0.068443</td>\n",
       "      <td>-0.021185</td>\n",
       "      <td>1.018954</td>\n",
       "      <td>-0.047174</td>\n",
       "      <td>...</td>\n",
       "      <td>0</td>\n",
       "      <td>0</td>\n",
       "      <td>0</td>\n",
       "      <td>0</td>\n",
       "      <td>0</td>\n",
       "      <td>0</td>\n",
       "      <td>0</td>\n",
       "      <td>0</td>\n",
       "      <td>1</td>\n",
       "      <td>0</td>\n",
       "    </tr>\n",
       "  </tbody>\n",
       "</table>\n",
       "<p>5 rows × 114 columns</p>\n",
       "</div>"
      ],
      "text/plain": [
       "   duration  src_bytes  dst_bytes     land  wrong_fragment    urgent  \\\n",
       "1 -0.113508  -0.005745   0.368685 -0.00957       -0.082996 -0.004785   \n",
       "2 -0.113508  -0.005755  -0.062546 -0.00957       -0.082996 -0.004785   \n",
       "4 -0.113508  -0.005752  -0.057675 -0.00957       -0.082996 -0.004785   \n",
       "5 -0.113508  -0.005725   0.019966 -0.00957       -0.082996 -0.004785   \n",
       "6 -0.113508  -0.004996  -0.057125 -0.00957       -0.082996 -0.004785   \n",
       "\n",
       "        hot  num_failed_logins  logged_in  num_compromised   ...     flag_OTH  \\\n",
       "1 -0.068443          -0.021185   1.018954        -0.047174   ...            0   \n",
       "2 -0.068443          -0.021185   1.018954        -0.047174   ...            0   \n",
       "4 -0.068443          -0.021185   1.018954        -0.047174   ...            0   \n",
       "5 -0.068443          -0.021185   1.018954        -0.047174   ...            0   \n",
       "6 -0.068443          -0.021185   1.018954        -0.047174   ...            0   \n",
       "\n",
       "   flag_REJ  flag_RSTO  flag_RSTR  flag_S0  flag_S1  flag_S2  flag_S3  \\\n",
       "1         0          0          0        0        0        0        0   \n",
       "2         0          0          0        0        0        0        0   \n",
       "4         0          0          0        0        0        0        0   \n",
       "5         0          0          0        0        0        0        0   \n",
       "6         0          0          0        0        0        0        0   \n",
       "\n",
       "   flag_SF  flag_SH  \n",
       "1        1        0  \n",
       "2        1        0  \n",
       "4        1        0  \n",
       "5        1        0  \n",
       "6        1        0  \n",
       "\n",
       "[5 rows x 114 columns]"
      ]
     },
     "execution_count": 46,
     "metadata": {},
     "output_type": "execute_result"
    }
   ],
   "source": [
    "dff.head()"
   ]
  },
  {
   "cell_type": "code",
   "execution_count": 47,
   "metadata": {},
   "outputs": [],
   "source": [
    "dff.dropna(inplace = True)"
   ]
  },
  {
   "cell_type": "markdown",
   "metadata": {},
   "source": [
    "**PCA :with one hot encoded catagorical values added we see the components values are almost the same when compared to previous result**"
   ]
  },
  {
   "cell_type": "code",
   "execution_count": 48,
   "metadata": {},
   "outputs": [
    {
     "name": "stdout",
     "output_type": "stream",
     "text": [
      "========================\n",
      "Principal Component Ratio :  [0.27895651 0.07294058 0.0642708  0.06226343 0.04474499 0.04304718\n",
      " 0.03687284 0.03437958 0.03422916 0.03418929 0.03389543 0.032662\n",
      " 0.03155274 0.03118435 0.02591381 0.0235114  0.0223144  0.01441357\n",
      " 0.01421117 0.01333809 0.0092186 ]\n",
      "========================\n"
     ]
    }
   ],
   "source": [
    "from sklearn.decomposition import PCA\n",
    "# create the PCA instance\n",
    "pc = PCA(0.95)\n",
    "# fit on data\n",
    "pc.fit(dff)\n",
    "# access values and vectors\n",
    "#print(pca.components_)\n",
    "print(\"========================\")\n",
    "print(\"Principal Component Ratio : \",pc.explained_variance_ratio_)\n",
    "# transform data\n",
    "#B = pc.transform(dfcon)\n",
    "print(\"========================\")\n",
    "#print(B)\n",
    "#print( \"No of Principal Component Involved to get 95% of the variance : \",pc.n_components_)"
   ]
  },
  {
   "cell_type": "code",
   "execution_count": 49,
   "metadata": {},
   "outputs": [
    {
     "data": {
      "text/html": [
       "<div>\n",
       "<style scoped>\n",
       "    .dataframe tbody tr th:only-of-type {\n",
       "        vertical-align: middle;\n",
       "    }\n",
       "\n",
       "    .dataframe tbody tr th {\n",
       "        vertical-align: top;\n",
       "    }\n",
       "\n",
       "    .dataframe thead th {\n",
       "        text-align: right;\n",
       "    }\n",
       "</style>\n",
       "<table border=\"1\" class=\"dataframe\">\n",
       "  <thead>\n",
       "    <tr style=\"text-align: right;\">\n",
       "      <th></th>\n",
       "      <th>outcome</th>\n",
       "    </tr>\n",
       "  </thead>\n",
       "  <tbody>\n",
       "    <tr>\n",
       "      <th>1</th>\n",
       "      <td>normal.</td>\n",
       "    </tr>\n",
       "    <tr>\n",
       "      <th>2</th>\n",
       "      <td>normal.</td>\n",
       "    </tr>\n",
       "    <tr>\n",
       "      <th>4</th>\n",
       "      <td>normal.</td>\n",
       "    </tr>\n",
       "    <tr>\n",
       "      <th>5</th>\n",
       "      <td>normal.</td>\n",
       "    </tr>\n",
       "    <tr>\n",
       "      <th>6</th>\n",
       "      <td>normal.</td>\n",
       "    </tr>\n",
       "  </tbody>\n",
       "</table>\n",
       "</div>"
      ],
      "text/plain": [
       "   outcome\n",
       "1  normal.\n",
       "2  normal.\n",
       "4  normal.\n",
       "5  normal.\n",
       "6  normal."
      ]
     },
     "execution_count": 49,
     "metadata": {},
     "output_type": "execute_result"
    }
   ],
   "source": [
    "#label of the dataset \n",
    "dfl.head()"
   ]
  },
  {
   "cell_type": "code",
   "execution_count": 50,
   "metadata": {},
   "outputs": [
    {
     "data": {
      "text/plain": [
       "array(['normal.', 'neptune.', 'back.', 'teardrop.', 'satan.',\n",
       "       'warezclient.', 'ipsweep.', 'smurf.', 'nmap.', 'pod.',\n",
       "       'portsweep.', 'imap.', 'buffer_overflow.', 'loadmodule.', 'land.',\n",
       "       'rootkit.', 'ftp_write.', 'warezmaster.', 'phf.', 'multihop.'],\n",
       "      dtype=object)"
      ]
     },
     "execution_count": 50,
     "metadata": {},
     "output_type": "execute_result"
    }
   ],
   "source": [
    "dfl['outcome'].unique() #Noticing the unique values in the column"
   ]
  },
  {
   "cell_type": "code",
   "execution_count": 51,
   "metadata": {},
   "outputs": [],
   "source": [
    "dft = dfl.copy()"
   ]
  },
  {
   "cell_type": "markdown",
   "metadata": {},
   "source": [
    "**Changing All the Noonection to 0 except \"Normal\" Connection which is marked as 1,** \n",
    "**As Needed By Binary classification models **"
   ]
  },
  {
   "cell_type": "code",
   "execution_count": 52,
   "metadata": {},
   "outputs": [],
   "source": [
    "dft['outcomes'] = [0 if x == 'normal.' else 1 for x in dft['outcome']]"
   ]
  },
  {
   "cell_type": "code",
   "execution_count": 53,
   "metadata": {},
   "outputs": [
    {
     "data": {
      "text/plain": [
       "array(['normal.', 'neptune.', 'back.', 'teardrop.', 'satan.',\n",
       "       'warezclient.', 'ipsweep.', 'smurf.', 'nmap.', 'pod.',\n",
       "       'portsweep.', 'imap.', 'buffer_overflow.', 'loadmodule.', 'land.',\n",
       "       'rootkit.', 'ftp_write.', 'warezmaster.', 'phf.', 'multihop.'],\n",
       "      dtype=object)"
      ]
     },
     "execution_count": 53,
     "metadata": {},
     "output_type": "execute_result"
    }
   ],
   "source": [
    "dft['outcome'].unique()"
   ]
  },
  {
   "cell_type": "code",
   "execution_count": 54,
   "metadata": {},
   "outputs": [
    {
     "data": {
      "text/plain": [
       "array([0, 1], dtype=int64)"
      ]
     },
     "execution_count": 54,
     "metadata": {},
     "output_type": "execute_result"
    }
   ],
   "source": [
    "dft['outcomes'].unique()"
   ]
  },
  {
   "cell_type": "code",
   "execution_count": 55,
   "metadata": {},
   "outputs": [],
   "source": [
    "dft =dft.drop(columns=['outcome'])\n",
    "dft['outcome'] = dft[['outcomes']]\n",
    "dft =dft.drop(columns=['outcomes'])"
   ]
  },
  {
   "cell_type": "code",
   "execution_count": 56,
   "metadata": {},
   "outputs": [
    {
     "data": {
      "text/plain": [
       "array([0, 1], dtype=int64)"
      ]
     },
     "execution_count": 56,
     "metadata": {},
     "output_type": "execute_result"
    }
   ],
   "source": [
    "dft['outcome'].unique()"
   ]
  },
  {
   "cell_type": "markdown",
   "metadata": {},
   "source": [
    "**Feature Importance and Feature Selection -With XGBoost in Python**"
   ]
  },
  {
   "cell_type": "code",
   "execution_count": 57,
   "metadata": {},
   "outputs": [
    {
     "name": "stdout",
     "output_type": "stream",
     "text": [
      "[0.01320132 0.17821783 0.08910891 0.         0.02640264 0.\n",
      " 0.07095709 0.         0.00825083 0.00165017 0.         0.\n",
      " 0.         0.00660066 0.         0.         0.         0.\n",
      " 0.         0.05445544 0.00990099 0.00495049 0.00660066 0.\n",
      " 0.01485149 0.         0.         0.00660066 0.06105611 0.06105611\n",
      " 0.01815182 0.0280528  0.08250825 0.05280528 0.04125413 0.01155115\n",
      " 0.02475248 0.         0.01815182 0.00495049 0.         0.\n",
      " 0.         0.         0.         0.         0.         0.\n",
      " 0.         0.         0.         0.         0.         0.\n",
      " 0.         0.01980198 0.         0.         0.         0.\n",
      " 0.01815182 0.         0.         0.02310231 0.         0.\n",
      " 0.         0.         0.         0.         0.         0.\n",
      " 0.         0.         0.         0.         0.         0.\n",
      " 0.         0.         0.         0.00165017 0.         0.\n",
      " 0.         0.0280528  0.         0.         0.         0.01320132\n",
      " 0.         0.         0.         0.         0.         0.\n",
      " 0.         0.         0.         0.         0.         0.\n",
      " 0.         0.         0.         0.         0.         0.\n",
      " 0.         0.         0.         0.         0.         0.        ]\n"
     ]
    },
    {
     "data": {
      "image/png": "[encoded data removed]",
      "text/plain": [
       "<Figure size 864x864 with 1 Axes>"
      ]
     },
     "metadata": {},
     "output_type": "display_data"
    }
   ],
   "source": [
    "# plot feature importance using built-in function\n",
    "from numpy import loadtxt\n",
    "from xgboost import XGBClassifier\n",
    "from xgboost import plot_importance\n",
    "from matplotlib import pyplot\n",
    "\n",
    "# fit model no training data\n",
    "model = XGBClassifier()\n",
    "model.fit(dff, dft.values.ravel())\n",
    "\n",
    "# plot feature importance\n",
    "ax = plot_importance(model)\n",
    "\n",
    "# feature importance\n",
    "print(model.feature_importances_)\n",
    "fig = ax.figure\n",
    "fig.set_size_inches(12, 12)\n",
    "\n",
    "# plot\n",
    "pyplot.bar(range(len(model.feature_importances_)), model.feature_importances_)\n",
    "pyplot.show()"
   ]
  },
  {
   "cell_type": "markdown",
   "metadata": {},
   "source": [
    "# Modeling as a BINARY classification problem.\n",
    "# Using the models to detect good (0) / bad (1) connections (intrusions)."
   ]
  },
  {
   "cell_type": "markdown",
   "metadata": {},
   "source": [
    "**Splitting the dataset into Training and Testing set**"
   ]
  },
  {
   "cell_type": "code",
   "execution_count": 58,
   "metadata": {},
   "outputs": [],
   "source": [
    "from sklearn.model_selection import train_test_split\n",
    "X_train, X_test, y_train, y_test = train_test_split(dff, dft, test_size=0.33, random_state=42, shuffle = True,stratify =dft)"
   ]
  },
  {
   "cell_type": "code",
   "execution_count": 59,
   "metadata": {},
   "outputs": [
    {
     "data": {
      "text/plain": [
       "(26061, 114)"
      ]
     },
     "execution_count": 59,
     "metadata": {},
     "output_type": "execute_result"
    }
   ],
   "source": [
    "X_train.shape"
   ]
  },
  {
   "cell_type": "code",
   "execution_count": 60,
   "metadata": {},
   "outputs": [
    {
     "data": {
      "text/plain": [
       "(26061, 1)"
      ]
     },
     "execution_count": 60,
     "metadata": {},
     "output_type": "execute_result"
    }
   ],
   "source": [
    " y_train.shape"
   ]
  },
  {
   "cell_type": "code",
   "execution_count": 61,
   "metadata": {},
   "outputs": [
    {
     "data": {
      "text/plain": [
       "(12837, 114)"
      ]
     },
     "execution_count": 61,
     "metadata": {},
     "output_type": "execute_result"
    }
   ],
   "source": [
    "X_test.shape"
   ]
  },
  {
   "cell_type": "code",
   "execution_count": 62,
   "metadata": {},
   "outputs": [
    {
     "data": {
      "text/plain": [
       "(12837, 1)"
      ]
     },
     "execution_count": 62,
     "metadata": {},
     "output_type": "execute_result"
    }
   ],
   "source": [
    " y_test.shape"
   ]
  },
  {
   "cell_type": "code",
   "execution_count": 63,
   "metadata": {},
   "outputs": [],
   "source": [
    "# copied to be used in PCA\n",
    "Xtrain = X_train.copy()\n",
    "Xtest = X_test.copy()\n",
    "ytrain = y_train.copy()\n",
    "ytest = y_test.copy()"
   ]
  },
  {
   "cell_type": "markdown",
   "metadata": {},
   "source": [
    "**MODELS**"
   ]
  },
  {
   "cell_type": "markdown",
   "metadata": {},
   "source": [
    "**1. Logistic Regression**"
   ]
  },
  {
   "cell_type": "code",
   "execution_count": 64,
   "metadata": {},
   "outputs": [],
   "source": [
    "#Logistic Regression \n",
    "from sklearn import linear_model \n",
    "logmod = linear_model.LogisticRegression(C=1e5)\n",
    "logmod.fit(X_train, y_train.values.ravel())\n",
    "y_predval = logmod.predict(X_test)"
   ]
  },
  {
   "cell_type": "markdown",
   "metadata": {},
   "source": [
    "Performance Metrics of Logistric Regression"
   ]
  },
  {
   "cell_type": "code",
   "execution_count": 65,
   "metadata": {},
   "outputs": [
    {
     "name": "stdout",
     "output_type": "stream",
     "text": [
      "             precision    recall  f1-score   support\n",
      "\n",
      "          0       1.00      1.00      1.00      8194\n",
      "          1       0.99      0.99      0.99      4643\n",
      "\n",
      "avg / total       1.00      1.00      1.00     12837\n",
      "\n",
      "Accuracy :  0.9961829087793098\n",
      "------------------------------------------------------------------------------------------------------------------------\n",
      "\n",
      "confusion Matrix\n",
      "\n",
      "[[8169   25]\n",
      " [  24 4619]]\n"
     ]
    },
    {
     "data": {
      "image/png": "[encoded data removed]",
      "text/plain": [
       "<Figure size 288x288 with 2 Axes>"
      ]
     },
     "metadata": {},
     "output_type": "display_data"
    },
    {
     "name": "stdout",
     "output_type": "stream",
     "text": [
      "The diagonal elements in confusion matrix represent the number of points for which the predicted label is equal to the true label, while off-diagonal elements are those that are mislabeled by the classifier. The higher the diagonal values of the confusion matrix the better, indicating many correct predictions.\n",
      "------------------------------------------------------------------------------------------------------------------------\n",
      "\n",
      " AUC: 0.996\n",
      "\n",
      "         ROC CURVE   \n"
     ]
    },
    {
     "data": {
      "image/png": "[encoded data removed]",
      "text/plain": [
       "<Figure size 432x288 with 1 Axes>"
      ]
     },
     "metadata": {},
     "output_type": "display_data"
    }
   ],
   "source": [
    "print(metrics.classification_report(y_test,y_predval))\n",
    "print(\"Accuracy : \",accuracy_score(y_test, y_predval))\n",
    "#plt.subplot(1, 2, 1)\n",
    "print(\"------------------------------------------------------------------------------------------------------------------------\")\n",
    "# Compute confusion matrix\n",
    "cm = confusion_matrix(y_test, y_predval)\n",
    "print(\"\\nconfusion Matrix\\n\")\n",
    "print(cm)\n",
    "# Show confusion matrix in a separate window\n",
    "plt.matshow(cm)\n",
    "plt.title('Confusion matrix')\n",
    "plt.colorbar()\n",
    "plt.ylabel('True label')\n",
    "plt.xlabel('Predicted label')\n",
    "plt.show()\n",
    "plt.subplot(1, 2, 2)\n",
    "# calculate AUC\n",
    "auc = roc_auc_score(y_test, y_predval)\n",
    "print(\"The diagonal elements in confusion matrix represent the number of points for which the predicted label is equal to the true label, while off-diagonal elements are those that are mislabeled by the classifier. The higher the diagonal values of the confusion matrix the better, indicating many correct predictions.\")\n",
    "print(\"------------------------------------------------------------------------------------------------------------------------\")\n",
    "print('\\n AUC: %.3f' % auc)\n",
    "# calculate roc curve\n",
    "print(\"\\n         ROC CURVE   \")\n",
    "fpr, tpr, thresholds = roc_curve(y_test, y_predval)\n",
    "# plot no skill\n",
    "plt.plot([0, 1], [0, 1], linestyle='--')\n",
    "# plot the roc curve for the model\n",
    "plt.plot(fpr, tpr, marker='.')\n",
    "# show the plot\n",
    "plt.xlabel('False Positive Rate')\n",
    "plt.ylabel('True Positive Rate')\n",
    "plt.show()"
   ]
  },
  {
   "cell_type": "markdown",
   "metadata": {},
   "source": [
    "**2. Nearest Neighbor**"
   ]
  },
  {
   "cell_type": "code",
   "execution_count": 66,
   "metadata": {},
   "outputs": [],
   "source": [
    "#KNN to show true ratings of 5 businesses and the predicted ratings from model\n",
    "from sklearn.neighbors import KNeighborsClassifier\n",
    "neigh = KNeighborsClassifier(n_neighbors=5)\n",
    "neigh.fit(X_train, y_train.values.ravel())\n",
    "y_predval= neigh.predict(X_test)"
   ]
  },
  {
   "cell_type": "markdown",
   "metadata": {},
   "source": [
    "Performance Metrics of Nearest Neighbor"
   ]
  },
  {
   "cell_type": "code",
   "execution_count": 67,
   "metadata": {},
   "outputs": [
    {
     "name": "stdout",
     "output_type": "stream",
     "text": [
      "             precision    recall  f1-score   support\n",
      "\n",
      "          0       1.00      1.00      1.00      8194\n",
      "          1       1.00      1.00      1.00      4643\n",
      "\n",
      "avg / total       1.00      1.00      1.00     12837\n",
      "\n",
      "Accuracy :  0.997351406091766\n",
      "------------------------------------------------------------------------------------------------------------------------\n",
      "\n",
      "confusion Matrix\n",
      "\n",
      "[[8180   14]\n",
      " [  20 4623]]\n"
     ]
    },
    {
     "data": {
      "image/png": "[encoded data removed]",
      "text/plain": [
       "<Figure size 288x288 with 2 Axes>"
      ]
     },
     "metadata": {},
     "output_type": "display_data"
    },
    {
     "name": "stdout",
     "output_type": "stream",
     "text": [
      "The diagonal elements in confusion matrix represent the number of points for which the predicted label is equal to the true label, while off-diagonal elements are those that are mislabeled by the classifier. The higher the diagonal values of the confusion matrix the better, indicating many correct predictions.\n",
      "------------------------------------------------------------------------------------------------------------------------\n",
      "\n",
      " AUC: 0.997\n",
      "\n",
      "         ROC CURVE   \n"
     ]
    },
    {
     "data": {
      "image/png": "[encoded data removed]",
      "text/plain": [
       "<Figure size 432x288 with 1 Axes>"
      ]
     },
     "metadata": {},
     "output_type": "display_data"
    }
   ],
   "source": [
    "print(metrics.classification_report(y_test,y_predval))\n",
    "print(\"Accuracy : \",accuracy_score(y_test, y_predval))\n",
    "#plt.subplot(1, 2, 1)\n",
    "print(\"------------------------------------------------------------------------------------------------------------------------\")\n",
    "# Compute confusion matrix\n",
    "cm = confusion_matrix(y_test, y_predval)\n",
    "print(\"\\nconfusion Matrix\\n\")\n",
    "print(cm)\n",
    "# Show confusion matrix in a separate window\n",
    "plt.matshow(cm)\n",
    "plt.title('Confusion matrix')\n",
    "plt.colorbar()\n",
    "plt.ylabel('True label')\n",
    "plt.xlabel('Predicted label')\n",
    "plt.show()\n",
    "plt.subplot(1, 2, 2)\n",
    "# calculate AUC\n",
    "auc = roc_auc_score(y_test, y_predval)\n",
    "print(\"The diagonal elements in confusion matrix represent the number of points for which the predicted label is equal to the true label, while off-diagonal elements are those that are mislabeled by the classifier. The higher the diagonal values of the confusion matrix the better, indicating many correct predictions.\")\n",
    "print(\"------------------------------------------------------------------------------------------------------------------------\")\n",
    "print('\\n AUC: %.3f' % auc)\n",
    "# calculate roc curve\n",
    "print(\"\\n         ROC CURVE   \")\n",
    "fpr, tpr, thresholds = roc_curve(y_test, y_predval)\n",
    "# plot no skill\n",
    "plt.plot([0, 1], [0, 1], linestyle='--')\n",
    "# plot the roc curve for the model\n",
    "plt.plot(fpr, tpr, marker='.')\n",
    "# show the plot\n",
    "plt.xlabel('False Positive Rate')\n",
    "plt.ylabel('True Positive Rate')\n",
    "plt.show()"
   ]
  },
  {
   "cell_type": "markdown",
   "metadata": {},
   "source": [
    "**3. Support Vector Machine **"
   ]
  },
  {
   "cell_type": "code",
   "execution_count": 68,
   "metadata": {},
   "outputs": [],
   "source": [
    "#SVM to show true ratings of 5 businesses and the predicted ratings from model\n",
    "from sklearn import svm\n",
    "#logmodel=  svm.SVC(kernel='linear')\n",
    "logmodel=  svm.SVC(C=1, kernel = 'linear', gamma=1, verbose= False, probability=False, random_state=42)\n",
    "logmodel.fit(X_train, y_train.values.ravel())\n",
    "y_predval = logmodel.predict(X_test)"
   ]
  },
  {
   "cell_type": "markdown",
   "metadata": {},
   "source": [
    "Performance Metrics of SVM"
   ]
  },
  {
   "cell_type": "code",
   "execution_count": 69,
   "metadata": {},
   "outputs": [
    {
     "name": "stdout",
     "output_type": "stream",
     "text": [
      "             precision    recall  f1-score   support\n",
      "\n",
      "          0       1.00      1.00      1.00      8194\n",
      "          1       0.99      1.00      0.99      4643\n",
      "\n",
      "avg / total       1.00      1.00      1.00     12837\n",
      "\n",
      "Accuracy :  0.9961829087793098\n",
      "------------------------------------------------------------------------------------------------------------------------\n",
      "\n",
      "confusion Matrix\n",
      "\n",
      "[[8168   26]\n",
      " [  23 4620]]\n"
     ]
    },
    {
     "data": {
      "image/png": "[encoded data removed]",
      "text/plain": [
       "<Figure size 288x288 with 2 Axes>"
      ]
     },
     "metadata": {},
     "output_type": "display_data"
    },
    {
     "name": "stdout",
     "output_type": "stream",
     "text": [
      "The diagonal elements in confusion matrix represent the number of points for which the predicted label is equal to the true label, while off-diagonal elements are those that are mislabeled by the classifier. The higher the diagonal values of the confusion matrix the better, indicating many correct predictions.\n",
      "------------------------------------------------------------------------------------------------------------------------\n",
      "\n",
      " AUC: 0.996\n",
      "\n",
      "         ROC CURVE   \n"
     ]
    },
    {
     "data": {
      "image/png": "[encoded data removed]",
      "text/plain": [
       "<Figure size 432x288 with 1 Axes>"
      ]
     },
     "metadata": {},
     "output_type": "display_data"
    }
   ],
   "source": [
    "print(metrics.classification_report(y_test,y_predval))\n",
    "print(\"Accuracy : \",accuracy_score(y_test, y_predval))\n",
    "#plt.subplot(1, 2, 1)\n",
    "print(\"------------------------------------------------------------------------------------------------------------------------\")\n",
    "# Compute confusion matrix\n",
    "cm = confusion_matrix(y_test, y_predval)\n",
    "print(\"\\nconfusion Matrix\\n\")\n",
    "print(cm)\n",
    "# Show confusion matrix in a separate window\n",
    "plt.matshow(cm)\n",
    "plt.title('Confusion matrix')\n",
    "plt.colorbar()\n",
    "plt.ylabel('True label')\n",
    "plt.xlabel('Predicted label')\n",
    "plt.show()\n",
    "plt.subplot(1, 2, 2)\n",
    "# calculate AUC\n",
    "auc = roc_auc_score(y_test, y_predval)\n",
    "print(\"The diagonal elements in confusion matrix represent the number of points for which the predicted label is equal to the true label, while off-diagonal elements are those that are mislabeled by the classifier. The higher the diagonal values of the confusion matrix the better, indicating many correct predictions.\")\n",
    "print(\"------------------------------------------------------------------------------------------------------------------------\")\n",
    "print('\\n AUC: %.3f' % auc)\n",
    "# calculate roc curve\n",
    "print(\"\\n         ROC CURVE   \")\n",
    "fpr, tpr, thresholds = roc_curve(y_test, y_predval)\n",
    "# plot no skill\n",
    "plt.plot([0, 1], [0, 1], linestyle='--')\n",
    "# plot the roc curve for the model\n",
    "plt.plot(fpr, tpr, marker='.')\n",
    "# show the plot\n",
    "plt.xlabel('False Positive Rate')\n",
    "plt.ylabel('True Positive Rate')\n",
    "plt.show()"
   ]
  },
  {
   "cell_type": "markdown",
   "metadata": {},
   "source": [
    "**4 . Gaussian Naive Bayes**"
   ]
  },
  {
   "cell_type": "code",
   "execution_count": 70,
   "metadata": {},
   "outputs": [],
   "source": [
    "#Multinomial Naive Bayes to show true ratings of 5 businesses and the predicted ratings from model\n",
    "from sklearn.naive_bayes import GaussianNB\n",
    "nb = GaussianNB()\n",
    "nb.fit(X_train, y_train.values.ravel())\n",
    "y_predval = nb.predict(X_test)"
   ]
  },
  {
   "cell_type": "markdown",
   "metadata": {},
   "source": [
    "Performance Metrics of Gaussian Naive Bayes"
   ]
  },
  {
   "cell_type": "code",
   "execution_count": 71,
   "metadata": {},
   "outputs": [
    {
     "name": "stdout",
     "output_type": "stream",
     "text": [
      "             precision    recall  f1-score   support\n",
      "\n",
      "          0       0.97      1.00      0.98      8194\n",
      "          1       0.99      0.95      0.97      4643\n",
      "\n",
      "avg / total       0.98      0.98      0.98     12837\n",
      "\n",
      "Accuracy :  0.9801355456882449\n",
      "------------------------------------------------------------------------------------------------------------------------\n",
      "\n",
      "confusion Matrix\n",
      "\n",
      "[[8158   36]\n",
      " [ 219 4424]]\n"
     ]
    },
    {
     "data": {
      "image/png": "[encoded data removed]",
      "text/plain": [
       "<Figure size 288x288 with 2 Axes>"
      ]
     },
     "metadata": {},
     "output_type": "display_data"
    },
    {
     "name": "stdout",
     "output_type": "stream",
     "text": [
      "The diagonal elements in confusion matrix represent the number of points for which the predicted label is equal to the true label, while off-diagonal elements are those that are mislabeled by the classifier. The higher the diagonal values of the confusion matrix the better, indicating many correct predictions.\n",
      "------------------------------------------------------------------------------------------------------------------------\n",
      "\n",
      " AUC: 0.974\n",
      "\n",
      "         ROC CURVE   \n"
     ]
    },
    {
     "data": {
      "image/png": "[encoded data removed]",
      "text/plain": [
       "<Figure size 432x288 with 1 Axes>"
      ]
     },
     "metadata": {},
     "output_type": "display_data"
    }
   ],
   "source": [
    "print(metrics.classification_report(y_test,y_predval))\n",
    "print(\"Accuracy : \",accuracy_score(y_test, y_predval))\n",
    "#plt.subplot(1, 2, 1)\n",
    "print(\"------------------------------------------------------------------------------------------------------------------------\")\n",
    "# Compute confusion matrix\n",
    "cm = confusion_matrix(y_test, y_predval)\n",
    "print(\"\\nconfusion Matrix\\n\")\n",
    "print(cm)\n",
    "# Show confusion matrix in a separate window\n",
    "plt.matshow(cm)\n",
    "plt.title('Confusion matrix')\n",
    "plt.colorbar()\n",
    "plt.ylabel('True label')\n",
    "plt.xlabel('Predicted label')\n",
    "plt.show()\n",
    "plt.subplot(1, 2, 2)\n",
    "# calculate AUC\n",
    "auc = roc_auc_score(y_test, y_predval)\n",
    "print(\"The diagonal elements in confusion matrix represent the number of points for which the predicted label is equal to the true label, while off-diagonal elements are those that are mislabeled by the classifier. The higher the diagonal values of the confusion matrix the better, indicating many correct predictions.\")\n",
    "print(\"------------------------------------------------------------------------------------------------------------------------\")\n",
    "print('\\n AUC: %.3f' % auc)\n",
    "# calculate roc curve\n",
    "print(\"\\n         ROC CURVE   \")\n",
    "fpr, tpr, thresholds = roc_curve(y_test, y_predval)\n",
    "# plot no skill\n",
    "plt.plot([0, 1], [0, 1], linestyle='--')\n",
    "# plot the roc curve for the model\n",
    "plt.plot(fpr, tpr, marker='.')\n",
    "# show the plot\n",
    "plt.xlabel('False Positive Rate')\n",
    "plt.ylabel('True Positive Rate')\n",
    "plt.show()"
   ]
  },
  {
   "cell_type": "markdown",
   "metadata": {},
   "source": [
    "**5. Fully-Connected Neural Networks**"
   ]
  },
  {
   "cell_type": "markdown",
   "metadata": {},
   "source": [
    "Model Version 1"
   ]
  },
  {
   "cell_type": "code",
   "execution_count": 72,
   "metadata": {},
   "outputs": [],
   "source": [
    "from keras.utils import to_categorical\n",
    "y_binary_test = to_categorical(y_test)\n",
    "y_binary_train = to_categorical(y_train)"
   ]
  },
  {
   "cell_type": "code",
   "execution_count": 73,
   "metadata": {},
   "outputs": [
    {
     "data": {
      "text/plain": [
       "(114,)"
      ]
     },
     "execution_count": 73,
     "metadata": {},
     "output_type": "execute_result"
    }
   ],
   "source": [
    "X_train.shape[1],"
   ]
  },
  {
   "cell_type": "code",
   "execution_count": 74,
   "metadata": {},
   "outputs": [
    {
     "name": "stdout",
     "output_type": "stream",
     "text": [
      "Train on 26061 samples, validate on 12837 samples\n",
      "Epoch 1/200\n",
      " - 2s - loss: 0.3782 - mean_absolute_error: 0.2224 - categorical_accuracy: 0.9502 - val_loss: 0.0658 - val_mean_absolute_error: 0.1022 - val_categorical_accuracy: 0.9947\n",
      "Epoch 2/200\n",
      " - 2s - loss: 0.0524 - mean_absolute_error: 0.1649 - categorical_accuracy: 0.9954 - val_loss: 0.0375 - val_mean_absolute_error: 0.1598 - val_categorical_accuracy: 0.9959\n",
      "Epoch 3/200\n",
      " - 2s - loss: 0.0399 - mean_absolute_error: 0.1809 - categorical_accuracy: 0.9955 - val_loss: 0.0376 - val_mean_absolute_error: 0.1371 - val_categorical_accuracy: 0.9952\n",
      "Epoch 4/200\n",
      " - 2s - loss: 0.0368 - mean_absolute_error: 0.1765 - categorical_accuracy: 0.9955 - val_loss: 0.0293 - val_mean_absolute_error: 0.1565 - val_categorical_accuracy: 0.9967\n",
      "Epoch 5/200\n",
      " - 1s - loss: 0.0370 - mean_absolute_error: 0.1657 - categorical_accuracy: 0.9955 - val_loss: 0.0293 - val_mean_absolute_error: 0.1452 - val_categorical_accuracy: 0.9963\n",
      "Epoch 6/200\n",
      " - 2s - loss: 0.0320 - mean_absolute_error: 0.1577 - categorical_accuracy: 0.9957 - val_loss: 0.0306 - val_mean_absolute_error: 0.0977 - val_categorical_accuracy: 0.9966\n",
      "Epoch 7/200\n",
      " - 2s - loss: 0.0325 - mean_absolute_error: 0.1501 - categorical_accuracy: 0.9948 - val_loss: 0.0309 - val_mean_absolute_error: 0.0608 - val_categorical_accuracy: 0.9966\n",
      "Epoch 8/200\n",
      " - 1s - loss: 0.0317 - mean_absolute_error: 0.1475 - categorical_accuracy: 0.9952 - val_loss: 0.0254 - val_mean_absolute_error: 0.1297 - val_categorical_accuracy: 0.9960\n",
      "Epoch 9/200\n",
      " - 1s - loss: 0.0297 - mean_absolute_error: 0.1351 - categorical_accuracy: 0.9949 - val_loss: 0.0248 - val_mean_absolute_error: 0.1210 - val_categorical_accuracy: 0.9962\n",
      "Epoch 10/200\n",
      " - 1s - loss: 0.0273 - mean_absolute_error: 0.1211 - categorical_accuracy: 0.9962 - val_loss: 0.0203 - val_mean_absolute_error: 0.1121 - val_categorical_accuracy: 0.9977\n",
      "Epoch 11/200\n",
      " - 1s - loss: 0.0261 - mean_absolute_error: 0.1117 - categorical_accuracy: 0.9964 - val_loss: 0.0286 - val_mean_absolute_error: 0.0557 - val_categorical_accuracy: 0.9969\n",
      "Epoch 12/200\n",
      " - 1s - loss: 0.0288 - mean_absolute_error: 0.1065 - categorical_accuracy: 0.9962 - val_loss: 0.0232 - val_mean_absolute_error: 0.0687 - val_categorical_accuracy: 0.9973\n",
      "Epoch 13/200\n",
      " - 1s - loss: 0.0283 - mean_absolute_error: 0.1057 - categorical_accuracy: 0.9957 - val_loss: 0.0214 - val_mean_absolute_error: 0.0734 - val_categorical_accuracy: 0.9974\n",
      "Epoch 14/200\n",
      " - 2s - loss: 0.0360 - mean_absolute_error: 0.1198 - categorical_accuracy: 0.9939 - val_loss: 0.0214 - val_mean_absolute_error: 0.0556 - val_categorical_accuracy: 0.9977\n",
      "Epoch 15/200\n",
      " - 2s - loss: 0.0305 - mean_absolute_error: 0.1179 - categorical_accuracy: 0.9948 - val_loss: 0.0258 - val_mean_absolute_error: 0.0861 - val_categorical_accuracy: 0.9974\n",
      "Epoch 16/200\n",
      " - 1s - loss: 0.0327 - mean_absolute_error: 0.1476 - categorical_accuracy: 0.9948 - val_loss: 0.0286 - val_mean_absolute_error: 0.1362 - val_categorical_accuracy: 0.9973\n",
      "Epoch 17/200\n",
      " - 1s - loss: 0.0336 - mean_absolute_error: 0.1553 - categorical_accuracy: 0.9941 - val_loss: 0.0237 - val_mean_absolute_error: 0.1366 - val_categorical_accuracy: 0.9973\n",
      "Epoch 18/200\n",
      " - 1s - loss: 0.0326 - mean_absolute_error: 0.1535 - categorical_accuracy: 0.9944 - val_loss: 0.0301 - val_mean_absolute_error: 0.1344 - val_categorical_accuracy: 0.9974\n",
      "Epoch 19/200\n",
      " - 1s - loss: 0.0337 - mean_absolute_error: 0.1600 - categorical_accuracy: 0.9948 - val_loss: 0.0324 - val_mean_absolute_error: 0.1483 - val_categorical_accuracy: 0.9960\n",
      "Epoch 20/200\n",
      " - 1s - loss: 0.0390 - mean_absolute_error: 0.1678 - categorical_accuracy: 0.9933 - val_loss: 0.0305 - val_mean_absolute_error: 0.1413 - val_categorical_accuracy: 0.9972\n",
      "Epoch 21/200\n",
      " - 1s - loss: 0.0430 - mean_absolute_error: 0.1695 - categorical_accuracy: 0.9929 - val_loss: 0.0285 - val_mean_absolute_error: 0.1417 - val_categorical_accuracy: 0.9965\n",
      "Epoch 22/200\n",
      " - 1s - loss: 0.0371 - mean_absolute_error: 0.1618 - categorical_accuracy: 0.9942 - val_loss: 0.0290 - val_mean_absolute_error: 0.1465 - val_categorical_accuracy: 0.9959\n",
      "Epoch 23/200\n",
      " - 1s - loss: 0.0377 - mean_absolute_error: 0.1620 - categorical_accuracy: 0.9935 - val_loss: 0.0284 - val_mean_absolute_error: 0.1435 - val_categorical_accuracy: 0.9975\n",
      "Epoch 24/200\n",
      " - 1s - loss: 0.0391 - mean_absolute_error: 0.1582 - categorical_accuracy: 0.9932 - val_loss: 0.0371 - val_mean_absolute_error: 0.1418 - val_categorical_accuracy: 0.9945\n",
      "Epoch 25/200\n",
      " - 2s - loss: 0.0446 - mean_absolute_error: 0.1603 - categorical_accuracy: 0.9925 - val_loss: 0.0253 - val_mean_absolute_error: 0.1406 - val_categorical_accuracy: 0.9969\n",
      "Epoch 26/200\n",
      " - 1s - loss: 0.0420 - mean_absolute_error: 0.1554 - categorical_accuracy: 0.9926 - val_loss: 0.0250 - val_mean_absolute_error: 0.1406 - val_categorical_accuracy: 0.9976\n",
      "Epoch 27/200\n",
      " - 1s - loss: 0.0427 - mean_absolute_error: 0.1543 - categorical_accuracy: 0.9924 - val_loss: 0.0256 - val_mean_absolute_error: 0.1366 - val_categorical_accuracy: 0.9975\n",
      "Epoch 28/200\n",
      " - 1s - loss: 0.0404 - mean_absolute_error: 0.1512 - categorical_accuracy: 0.9931 - val_loss: 0.0248 - val_mean_absolute_error: 0.1303 - val_categorical_accuracy: 0.9972\n",
      "Epoch 29/200\n",
      " - 1s - loss: 0.0397 - mean_absolute_error: 0.1471 - categorical_accuracy: 0.9936 - val_loss: 0.0315 - val_mean_absolute_error: 0.1334 - val_categorical_accuracy: 0.9963\n",
      "Epoch 30/200\n",
      " - 1s - loss: 0.0407 - mean_absolute_error: 0.1486 - categorical_accuracy: 0.9932 - val_loss: 0.0280 - val_mean_absolute_error: 0.1362 - val_categorical_accuracy: 0.9969\n",
      "Epoch 00030: early stopping\n",
      "Train on 26061 samples, validate on 12837 samples\n",
      "Epoch 1/200\n",
      " - 2s - loss: 0.3818 - mean_absolute_error: 0.2175 - categorical_accuracy: 0.9817 - val_loss: 0.0680 - val_mean_absolute_error: 0.0703 - val_categorical_accuracy: 0.9954\n",
      "Epoch 2/200\n",
      " - 2s - loss: 0.0513 - mean_absolute_error: 0.1412 - categorical_accuracy: 0.9945 - val_loss: 0.0388 - val_mean_absolute_error: 0.1336 - val_categorical_accuracy: 0.9951\n",
      "Epoch 3/200\n",
      " - 2s - loss: 0.0393 - mean_absolute_error: 0.1804 - categorical_accuracy: 0.9943 - val_loss: 0.0327 - val_mean_absolute_error: 0.1385 - val_categorical_accuracy: 0.9957\n",
      "Epoch 4/200\n",
      " - 2s - loss: 0.0349 - mean_absolute_error: 0.1874 - categorical_accuracy: 0.9951 - val_loss: 0.0330 - val_mean_absolute_error: 0.1328 - val_categorical_accuracy: 0.9959\n",
      "Epoch 5/200\n",
      " - 2s - loss: 0.0323 - mean_absolute_error: 0.1924 - categorical_accuracy: 0.9946 - val_loss: 0.0262 - val_mean_absolute_error: 0.1763 - val_categorical_accuracy: 0.9957\n",
      "Epoch 6/200\n",
      " - 2s - loss: 0.0319 - mean_absolute_error: 0.1892 - categorical_accuracy: 0.9946 - val_loss: 0.0349 - val_mean_absolute_error: 0.1289 - val_categorical_accuracy: 0.9957\n",
      "Epoch 7/200\n",
      " - 2s - loss: 0.0308 - mean_absolute_error: 0.1836 - categorical_accuracy: 0.9948 - val_loss: 0.0267 - val_mean_absolute_error: 0.1512 - val_categorical_accuracy: 0.9965\n",
      "Epoch 8/200\n",
      " - 2s - loss: 0.0291 - mean_absolute_error: 0.1806 - categorical_accuracy: 0.9954 - val_loss: 0.0247 - val_mean_absolute_error: 0.1298 - val_categorical_accuracy: 0.9970\n",
      "Epoch 9/200\n",
      " - 2s - loss: 0.0291 - mean_absolute_error: 0.1751 - categorical_accuracy: 0.9957 - val_loss: 0.0291 - val_mean_absolute_error: 0.1283 - val_categorical_accuracy: 0.9963\n",
      "Epoch 10/200\n",
      " - 2s - loss: 0.0305 - mean_absolute_error: 0.1647 - categorical_accuracy: 0.9946 - val_loss: 0.0313 - val_mean_absolute_error: 0.2103 - val_categorical_accuracy: 0.9956\n",
      "Epoch 11/200\n",
      " - 1s - loss: 0.0280 - mean_absolute_error: 0.1657 - categorical_accuracy: 0.9955 - val_loss: 0.0247 - val_mean_absolute_error: 0.1408 - val_categorical_accuracy: 0.9965\n",
      "Epoch 12/200\n",
      " - 2s - loss: 0.0286 - mean_absolute_error: 0.1657 - categorical_accuracy: 0.9953 - val_loss: 0.0195 - val_mean_absolute_error: 0.1325 - val_categorical_accuracy: 0.9970\n",
      "Epoch 13/200\n",
      " - 1s - loss: 0.0264 - mean_absolute_error: 0.1603 - categorical_accuracy: 0.9960 - val_loss: 0.0237 - val_mean_absolute_error: 0.1039 - val_categorical_accuracy: 0.9973\n",
      "Epoch 14/200\n",
      " - 2s - loss: 0.0269 - mean_absolute_error: 0.1665 - categorical_accuracy: 0.9959 - val_loss: 0.0216 - val_mean_absolute_error: 0.1426 - val_categorical_accuracy: 0.9967\n",
      "Epoch 15/200\n",
      " - 2s - loss: 0.0283 - mean_absolute_error: 0.1759 - categorical_accuracy: 0.9949 - val_loss: 0.0207 - val_mean_absolute_error: 0.2137 - val_categorical_accuracy: 0.9972\n"
     ]
    },
    {
     "name": "stdout",
     "output_type": "stream",
     "text": [
      "Epoch 16/200\n",
      " - 1s - loss: 0.0306 - mean_absolute_error: 0.2211 - categorical_accuracy: 0.9945 - val_loss: 0.0373 - val_mean_absolute_error: 0.2380 - val_categorical_accuracy: 0.9933\n",
      "Epoch 17/200\n",
      " - 1s - loss: 0.0285 - mean_absolute_error: 0.2527 - categorical_accuracy: 0.9951 - val_loss: 0.0236 - val_mean_absolute_error: 0.2400 - val_categorical_accuracy: 0.9971\n",
      "Epoch 18/200\n",
      " - 2s - loss: 0.0278 - mean_absolute_error: 0.2603 - categorical_accuracy: 0.9951 - val_loss: 0.0237 - val_mean_absolute_error: 0.2532 - val_categorical_accuracy: 0.9970\n",
      "Epoch 19/200\n",
      " - 2s - loss: 0.0282 - mean_absolute_error: 0.2635 - categorical_accuracy: 0.9946 - val_loss: 0.0253 - val_mean_absolute_error: 0.2622 - val_categorical_accuracy: 0.9974\n",
      "Epoch 20/200\n",
      " - 2s - loss: 0.0258 - mean_absolute_error: 0.2640 - categorical_accuracy: 0.9957 - val_loss: 0.0255 - val_mean_absolute_error: 0.2543 - val_categorical_accuracy: 0.9975\n",
      "Epoch 21/200\n",
      " - 2s - loss: 0.0292 - mean_absolute_error: 0.2680 - categorical_accuracy: 0.9938 - val_loss: 0.0203 - val_mean_absolute_error: 0.2553 - val_categorical_accuracy: 0.9977\n",
      "Epoch 22/200\n",
      " - 2s - loss: 0.0293 - mean_absolute_error: 0.2749 - categorical_accuracy: 0.9949 - val_loss: 0.0200 - val_mean_absolute_error: 0.2694 - val_categorical_accuracy: 0.9970\n",
      "Epoch 23/200\n",
      " - 1s - loss: 0.0285 - mean_absolute_error: 0.2726 - categorical_accuracy: 0.9954 - val_loss: 0.0276 - val_mean_absolute_error: 0.2692 - val_categorical_accuracy: 0.9969\n",
      "Epoch 24/200\n",
      " - 2s - loss: 0.0287 - mean_absolute_error: 0.2709 - categorical_accuracy: 0.9954 - val_loss: 0.0258 - val_mean_absolute_error: 0.2745 - val_categorical_accuracy: 0.9962\n",
      "Epoch 25/200\n",
      " - 2s - loss: 0.0283 - mean_absolute_error: 0.2714 - categorical_accuracy: 0.9952 - val_loss: 0.0240 - val_mean_absolute_error: 0.2638 - val_categorical_accuracy: 0.9971\n",
      "Epoch 26/200\n",
      " - 2s - loss: 0.0303 - mean_absolute_error: 0.2735 - categorical_accuracy: 0.9939 - val_loss: 0.0198 - val_mean_absolute_error: 0.2645 - val_categorical_accuracy: 0.9977\n",
      "Epoch 27/200\n",
      " - 2s - loss: 0.0326 - mean_absolute_error: 0.2731 - categorical_accuracy: 0.9940 - val_loss: 0.0199 - val_mean_absolute_error: 0.2640 - val_categorical_accuracy: 0.9973\n",
      "Epoch 28/200\n",
      " - 1s - loss: 0.0261 - mean_absolute_error: 0.2689 - categorical_accuracy: 0.9949 - val_loss: 0.0237 - val_mean_absolute_error: 0.2734 - val_categorical_accuracy: 0.9971\n",
      "Epoch 29/200\n",
      " - 1s - loss: 0.0291 - mean_absolute_error: 0.2735 - categorical_accuracy: 0.9948 - val_loss: 0.0351 - val_mean_absolute_error: 0.2645 - val_categorical_accuracy: 0.9958\n",
      "Epoch 30/200\n",
      " - 1s - loss: 0.0344 - mean_absolute_error: 0.2727 - categorical_accuracy: 0.9929 - val_loss: 0.0252 - val_mean_absolute_error: 0.2772 - val_categorical_accuracy: 0.9961\n",
      "Epoch 31/200\n",
      " - 2s - loss: 0.0379 - mean_absolute_error: 0.2820 - categorical_accuracy: 0.9926 - val_loss: 0.0253 - val_mean_absolute_error: 0.2686 - val_categorical_accuracy: 0.9972\n",
      "Epoch 32/200\n",
      " - 2s - loss: 0.0373 - mean_absolute_error: 0.2786 - categorical_accuracy: 0.9929 - val_loss: 0.0235 - val_mean_absolute_error: 0.2780 - val_categorical_accuracy: 0.9969\n",
      "Epoch 00032: early stopping\n",
      "Train on 26061 samples, validate on 12837 samples\n",
      "Epoch 1/200\n",
      " - 3s - loss: 0.3227 - mean_absolute_error: 0.1671 - categorical_accuracy: 0.9836 - val_loss: 0.0693 - val_mean_absolute_error: 0.0801 - val_categorical_accuracy: 0.9893\n",
      "Epoch 2/200\n",
      " - 2s - loss: 0.0481 - mean_absolute_error: 0.1193 - categorical_accuracy: 0.9948 - val_loss: 0.0320 - val_mean_absolute_error: 0.1121 - val_categorical_accuracy: 0.9957\n",
      "Epoch 3/200\n",
      " - 2s - loss: 0.0374 - mean_absolute_error: 0.1392 - categorical_accuracy: 0.9954 - val_loss: 0.0310 - val_mean_absolute_error: 0.1258 - val_categorical_accuracy: 0.9958\n",
      "Epoch 4/200\n",
      " - 2s - loss: 0.0370 - mean_absolute_error: 0.1467 - categorical_accuracy: 0.9939 - val_loss: 0.0262 - val_mean_absolute_error: 0.1076 - val_categorical_accuracy: 0.9970\n",
      "Epoch 5/200\n",
      " - 2s - loss: 0.0320 - mean_absolute_error: 0.1474 - categorical_accuracy: 0.9955 - val_loss: 0.0294 - val_mean_absolute_error: 0.1561 - val_categorical_accuracy: 0.9964\n",
      "Epoch 6/200\n",
      " - 2s - loss: 0.0324 - mean_absolute_error: 0.1554 - categorical_accuracy: 0.9947 - val_loss: 0.0316 - val_mean_absolute_error: 0.0976 - val_categorical_accuracy: 0.9964\n",
      "Epoch 7/200\n",
      " - 2s - loss: 0.0307 - mean_absolute_error: 0.1514 - categorical_accuracy: 0.9947 - val_loss: 0.0252 - val_mean_absolute_error: 0.1485 - val_categorical_accuracy: 0.9967\n",
      "Epoch 8/200\n",
      " - 2s - loss: 0.0294 - mean_absolute_error: 0.1561 - categorical_accuracy: 0.9950 - val_loss: 0.0234 - val_mean_absolute_error: 0.2479 - val_categorical_accuracy: 0.9975\n",
      "Epoch 9/200\n",
      " - 2s - loss: 0.0300 - mean_absolute_error: 0.1499 - categorical_accuracy: 0.9946 - val_loss: 0.0314 - val_mean_absolute_error: 0.1114 - val_categorical_accuracy: 0.9959\n",
      "Epoch 10/200\n",
      " - 2s - loss: 0.0356 - mean_absolute_error: 0.1565 - categorical_accuracy: 0.9926 - val_loss: 0.0187 - val_mean_absolute_error: 0.1539 - val_categorical_accuracy: 0.9978\n",
      "Epoch 11/200\n",
      " - 2s - loss: 0.0277 - mean_absolute_error: 0.1581 - categorical_accuracy: 0.9953 - val_loss: 0.0211 - val_mean_absolute_error: 0.1630 - val_categorical_accuracy: 0.9970\n",
      "Epoch 12/200\n",
      " - 1s - loss: 0.0261 - mean_absolute_error: 0.1675 - categorical_accuracy: 0.9958 - val_loss: 0.0200 - val_mean_absolute_error: 0.1706 - val_categorical_accuracy: 0.9974\n",
      "Epoch 13/200\n",
      " - 2s - loss: 0.0237 - mean_absolute_error: 0.2016 - categorical_accuracy: 0.9966 - val_loss: 0.0347 - val_mean_absolute_error: 0.2343 - val_categorical_accuracy: 0.9946\n",
      "Epoch 14/200\n",
      " - 2s - loss: 0.0251 - mean_absolute_error: 0.2426 - categorical_accuracy: 0.9951 - val_loss: 0.0233 - val_mean_absolute_error: 0.2194 - val_categorical_accuracy: 0.9973\n",
      "Epoch 15/200\n",
      " - 2s - loss: 0.0236 - mean_absolute_error: 0.2406 - categorical_accuracy: 0.9964 - val_loss: 0.0199 - val_mean_absolute_error: 0.3393 - val_categorical_accuracy: 0.9970\n",
      "Epoch 16/200\n",
      " - 1s - loss: 0.0257 - mean_absolute_error: 0.2270 - categorical_accuracy: 0.9953 - val_loss: 0.0211 - val_mean_absolute_error: 0.2145 - val_categorical_accuracy: 0.9976\n",
      "Epoch 17/200\n",
      " - 2s - loss: 0.0273 - mean_absolute_error: 0.2513 - categorical_accuracy: 0.9952 - val_loss: 0.0419 - val_mean_absolute_error: 0.3033 - val_categorical_accuracy: 0.9943\n",
      "Epoch 18/200\n",
      " - 2s - loss: 0.0254 - mean_absolute_error: 0.2594 - categorical_accuracy: 0.9956 - val_loss: 0.0280 - val_mean_absolute_error: 0.2370 - val_categorical_accuracy: 0.9970\n",
      "Epoch 19/200\n",
      " - 2s - loss: 0.0289 - mean_absolute_error: 0.2707 - categorical_accuracy: 0.9949 - val_loss: 0.0221 - val_mean_absolute_error: 0.2545 - val_categorical_accuracy: 0.9977\n",
      "Epoch 20/200\n",
      " - 1s - loss: 0.0258 - mean_absolute_error: 0.2761 - categorical_accuracy: 0.9954 - val_loss: 0.0290 - val_mean_absolute_error: 0.2674 - val_categorical_accuracy: 0.9959\n",
      "Epoch 21/200\n",
      " - 1s - loss: 0.0264 - mean_absolute_error: 0.2819 - categorical_accuracy: 0.9951 - val_loss: 0.0234 - val_mean_absolute_error: 0.2632 - val_categorical_accuracy: 0.9970\n",
      "Epoch 22/200\n",
      " - 2s - loss: 0.0272 - mean_absolute_error: 0.2796 - categorical_accuracy: 0.9954 - val_loss: 0.0224 - val_mean_absolute_error: 0.2541 - val_categorical_accuracy: 0.9974\n",
      "Epoch 23/200\n",
      " - 2s - loss: 0.0280 - mean_absolute_error: 0.2787 - categorical_accuracy: 0.9946 - val_loss: 0.0197 - val_mean_absolute_error: 0.2809 - val_categorical_accuracy: 0.9969\n",
      "Epoch 24/200\n",
      " - 2s - loss: 0.0251 - mean_absolute_error: 0.2769 - categorical_accuracy: 0.9954 - val_loss: 0.0251 - val_mean_absolute_error: 0.2641 - val_categorical_accuracy: 0.9969\n",
      "Epoch 25/200\n",
      " - 2s - loss: 0.0282 - mean_absolute_error: 0.2857 - categorical_accuracy: 0.9959 - val_loss: 0.0228 - val_mean_absolute_error: 0.2660 - val_categorical_accuracy: 0.9968\n",
      "Epoch 26/200\n",
      " - 2s - loss: 0.0267 - mean_absolute_error: 0.2896 - categorical_accuracy: 0.9952 - val_loss: 0.0204 - val_mean_absolute_error: 0.2745 - val_categorical_accuracy: 0.9975\n",
      "Epoch 27/200\n",
      " - 2s - loss: 0.0271 - mean_absolute_error: 0.2883 - categorical_accuracy: 0.9954 - val_loss: 0.0272 - val_mean_absolute_error: 0.2696 - val_categorical_accuracy: 0.9953\n",
      "Epoch 28/200\n",
      " - 2s - loss: 0.0297 - mean_absolute_error: 0.2876 - categorical_accuracy: 0.9937 - val_loss: 0.0406 - val_mean_absolute_error: 0.2847 - val_categorical_accuracy: 0.9942\n"
     ]
    },
    {
     "name": "stdout",
     "output_type": "stream",
     "text": [
      "Epoch 29/200\n",
      " - 2s - loss: 0.0345 - mean_absolute_error: 0.2969 - categorical_accuracy: 0.9931 - val_loss: 0.0262 - val_mean_absolute_error: 0.2764 - val_categorical_accuracy: 0.9966\n",
      "Epoch 30/200\n",
      " - 2s - loss: 0.0279 - mean_absolute_error: 0.2918 - categorical_accuracy: 0.9953 - val_loss: 0.0253 - val_mean_absolute_error: 0.2627 - val_categorical_accuracy: 0.9972\n",
      "Epoch 00030: early stopping\n",
      "Training finished...Loading the best model\n",
      "\n",
      "Final accuracy: 0.9893277245462335\n"
     ]
    }
   ],
   "source": [
    "import keras as kp\n",
    "# Define ModelCheckpoint outside the loop\n",
    "checkpoint3 = ModelCheckpoint(filepath=\"best_weights5.hdf5\", verbose=0, save_best_only=True,mode='max') # save best model\n",
    "for i in range(3):\n",
    "########################################################################################################################\n",
    "    model3 = Sequential()\n",
    "    model3.add(Dense(20, input_dim = X_train.shape[1], activation='relu'))\n",
    "    model3.add(Dense(15,activation='relu' ))\n",
    "    model3.add(Dense(100))\n",
    "    model3.add(LeakyReLU(alpha=0.1))\n",
    "    model3.add(Dense(100))\n",
    "    model3.add(LeakyReLU(alpha=0.1)) ##Leaky Relu\n",
    "    model3.add(Dense(20,activation= 'relu' ))\n",
    "    # Regularisation Through Drop Out \n",
    "    model3.add(Dense(15,activation='tanh'))\n",
    "    model3.add(Dense(15, \n",
    "                kernel_regularizer=regularizers.l1(0.01),\n",
    "                activity_regularizer=regularizers.l2(0.01), activation='relu'))\n",
    "    model3.add(Dropout(0.25))\n",
    "    model3.add(Dense(15,activation= 'relu'))\n",
    "    model3.add(Dense(y_binary_test.shape[1],activation='sigmoid'))\n",
    "    rms = keras.optimizers.RMSprop(lr=0.001, rho=0.9, epsilon=None, decay=0.0)\n",
    "    model3.compile(loss='categorical_crossentropy', optimizer= rms ,metrics=[kp.metrics.mae, kp.metrics.categorical_accuracy])\n",
    "    monitor3 = EarlyStopping(monitor='val_loss', min_delta=1e-3, patience=20, verbose=2, mode='auto')  \n",
    "# The test set is checked during training to monitor progress for early stopping but is never used for gradient descent (model training)\n",
    "#checkpoint3 = ModelCheckpoint(filepath=\"best_weights5.hdf5\", verbose=0, save_best_only=True,mode='max') # save best model\n",
    "    callbacks_list = [monitor3,checkpoint3]\n",
    "    model3.fit(X_train, y_binary_train, validation_data=(X_test,y_binary_test), callbacks=callbacks_list, verbose=2,batch_size=32, epochs=200)\n",
    "##########################################################################################################################\n",
    "print('Training finished...Loading the best model')  \n",
    "print()\n",
    "model3.load_weights(\"best_weights5.hdf5\") # load weights from best model\n",
    "\n",
    "# Measure accuracy\n",
    "pred3 = model3.predict(X_test)\n",
    "pred3 = np.argmax(pred3,axis=1)\n",
    "#y_true = np.argmax(y_test,axis=1)\n",
    "score = sk.metrics.accuracy_score(y_test, pred3)\n",
    "print(\"Final accuracy: {}\".format(score))"
   ]
  },
  {
   "cell_type": "markdown",
   "metadata": {},
   "source": [
    "Performance Metrics of Fully-Connected Neural Networks   Model 1 "
   ]
  },
  {
   "cell_type": "code",
   "execution_count": 75,
   "metadata": {},
   "outputs": [
    {
     "name": "stdout",
     "output_type": "stream",
     "text": [
      "             precision    recall  f1-score   support\n",
      "\n",
      "          0       1.00      0.99      0.99      8194\n",
      "          1       0.98      0.99      0.99      4643\n",
      "\n",
      "avg / total       0.99      0.99      0.99     12837\n",
      "\n",
      "Accuracy :  0.9893277245462335\n",
      "------------------------------------------------------------------------------------------------------------------------\n",
      "\n",
      "confusion Matrix\n",
      "\n",
      "[[8085  109]\n",
      " [  28 4615]]\n"
     ]
    },
    {
     "data": {
      "image/png": "[encoded data removed]",
      "text/plain": [
       "<Figure size 288x288 with 2 Axes>"
      ]
     },
     "metadata": {},
     "output_type": "display_data"
    },
    {
     "name": "stdout",
     "output_type": "stream",
     "text": [
      "The diagonal elements in confusion matrix represent the number of points for which the predicted label is equal to the true label, while off-diagonal elements are those that are mislabeled by the classifier. The higher the diagonal values of the confusion matrix the better, indicating many correct predictions.\n",
      "------------------------------------------------------------------------------------------------------------------------\n",
      "\n",
      " AUC: 0.990\n",
      "\n",
      "         ROC CURVE   \n"
     ]
    },
    {
     "data": {
      "image/png": "[encoded data removed]",
      "text/plain": [
       "<Figure size 432x288 with 1 Axes>"
      ]
     },
     "metadata": {},
     "output_type": "display_data"
    }
   ],
   "source": [
    "print(metrics.classification_report(y_test,pred3))\n",
    "print(\"Accuracy : \",accuracy_score(y_test, pred3))\n",
    "#plt.subplot(1, 2, 1)\n",
    "print(\"------------------------------------------------------------------------------------------------------------------------\")\n",
    "# Compute confusion matrix\n",
    "cm = confusion_matrix(y_test, pred3)\n",
    "print(\"\\nconfusion Matrix\\n\")\n",
    "print(cm)\n",
    "# Show confusion matrix in a separate window\n",
    "plt.matshow(cm)\n",
    "plt.title('Confusion matrix')\n",
    "plt.colorbar()\n",
    "plt.ylabel('True label')\n",
    "plt.xlabel('Predicted label')\n",
    "plt.show()\n",
    "plt.subplot(1, 2, 2)\n",
    "# calculate AUC\n",
    "auc = roc_auc_score(y_test,pred3)\n",
    "print(\"The diagonal elements in confusion matrix represent the number of points for which the predicted label is equal to the true label, while off-diagonal elements are those that are mislabeled by the classifier. The higher the diagonal values of the confusion matrix the better, indicating many correct predictions.\")\n",
    "print(\"------------------------------------------------------------------------------------------------------------------------\")\n",
    "print('\\n AUC: %.3f' % auc)\n",
    "# calculate roc curve\n",
    "print(\"\\n         ROC CURVE   \")\n",
    "fpr, tpr, thresholds = roc_curve(y_test, pred3)\n",
    "# plot no skill\n",
    "plt.plot([0, 1], [0, 1], linestyle='--')\n",
    "# plot the roc curve for the model\n",
    "plt.plot(fpr, tpr, marker='.')\n",
    "# show the plot\n",
    "plt.xlabel('False Positive Rate')\n",
    "plt.ylabel('True Positive Rate')\n",
    "plt.show()"
   ]
  },
  {
   "cell_type": "code",
   "execution_count": 76,
   "metadata": {},
   "outputs": [
    {
     "name": "stdout",
     "output_type": "stream",
     "text": [
      "_________________________________________________________________\n",
      "Layer (type)                 Output Shape              Param #   \n",
      "=================================================================\n",
      "dense_19 (Dense)             (None, 20)                2300      \n",
      "_________________________________________________________________\n",
      "dense_20 (Dense)             (None, 15)                315       \n",
      "_________________________________________________________________\n",
      "dense_21 (Dense)             (None, 100)               1600      \n",
      "_________________________________________________________________\n",
      "leaky_re_lu_5 (LeakyReLU)    (None, 100)               0         \n",
      "_________________________________________________________________\n",
      "dense_22 (Dense)             (None, 100)               10100     \n",
      "_________________________________________________________________\n",
      "leaky_re_lu_6 (LeakyReLU)    (None, 100)               0         \n",
      "_________________________________________________________________\n",
      "dense_23 (Dense)             (None, 20)                2020      \n",
      "_________________________________________________________________\n",
      "dense_24 (Dense)             (None, 15)                315       \n",
      "_________________________________________________________________\n",
      "dense_25 (Dense)             (None, 15)                240       \n",
      "_________________________________________________________________\n",
      "dropout_3 (Dropout)          (None, 15)                0         \n",
      "_________________________________________________________________\n",
      "dense_26 (Dense)             (None, 15)                240       \n",
      "_________________________________________________________________\n",
      "dense_27 (Dense)             (None, 2)                 32        \n",
      "=================================================================\n",
      "Total params: 17,162\n",
      "Trainable params: 17,162\n",
      "Non-trainable params: 0\n",
      "_________________________________________________________________\n"
     ]
    }
   ],
   "source": [
    " model3.summary()"
   ]
  },
  {
   "cell_type": "markdown",
   "metadata": {},
   "source": [
    "Model Version 2"
   ]
  },
  {
   "cell_type": "code",
   "execution_count": 77,
   "metadata": {},
   "outputs": [
    {
     "name": "stdout",
     "output_type": "stream",
     "text": [
      "Train on 26061 samples, validate on 12837 samples\n",
      "Epoch 1/100\n",
      " - 2s - loss: 0.0664 - categorical_accuracy: 0.9874 - val_loss: 0.0206 - val_categorical_accuracy: 0.9947\n",
      "Epoch 2/100\n",
      " - 1s - loss: 0.0169 - categorical_accuracy: 0.9957 - val_loss: 0.0154 - val_categorical_accuracy: 0.9963\n",
      "Epoch 3/100\n",
      " - 1s - loss: 0.0134 - categorical_accuracy: 0.9964 - val_loss: 0.0136 - val_categorical_accuracy: 0.9963\n",
      "Epoch 4/100\n",
      " - 1s - loss: 0.0114 - categorical_accuracy: 0.9971 - val_loss: 0.0126 - val_categorical_accuracy: 0.9969\n",
      "Epoch 5/100\n",
      " - 1s - loss: 0.0104 - categorical_accuracy: 0.9972 - val_loss: 0.0119 - val_categorical_accuracy: 0.9968\n",
      "Epoch 6/100\n",
      " - 1s - loss: 0.0091 - categorical_accuracy: 0.9976 - val_loss: 0.0117 - val_categorical_accuracy: 0.9974\n",
      "Epoch 7/100\n",
      " - 1s - loss: 0.0086 - categorical_accuracy: 0.9975 - val_loss: 0.0110 - val_categorical_accuracy: 0.9970\n",
      "Epoch 8/100\n",
      " - 1s - loss: 0.0082 - categorical_accuracy: 0.9975 - val_loss: 0.0108 - val_categorical_accuracy: 0.9970\n",
      "Epoch 9/100\n",
      " - 1s - loss: 0.0072 - categorical_accuracy: 0.9980 - val_loss: 0.0100 - val_categorical_accuracy: 0.9973\n",
      "Epoch 10/100\n",
      " - 1s - loss: 0.0070 - categorical_accuracy: 0.9980 - val_loss: 0.0109 - val_categorical_accuracy: 0.9972\n",
      "Epoch 11/100\n",
      " - 1s - loss: 0.0067 - categorical_accuracy: 0.9980 - val_loss: 0.0099 - val_categorical_accuracy: 0.9972\n",
      "Epoch 12/100\n",
      " - 1s - loss: 0.0063 - categorical_accuracy: 0.9980 - val_loss: 0.0101 - val_categorical_accuracy: 0.9972\n",
      "Epoch 13/100\n",
      " - 1s - loss: 0.0063 - categorical_accuracy: 0.9982 - val_loss: 0.0099 - val_categorical_accuracy: 0.9974\n",
      "Epoch 14/100\n",
      " - 1s - loss: 0.0055 - categorical_accuracy: 0.9985 - val_loss: 0.0099 - val_categorical_accuracy: 0.9976\n",
      "Epoch 15/100\n",
      " - 1s - loss: 0.0052 - categorical_accuracy: 0.9985 - val_loss: 0.0101 - val_categorical_accuracy: 0.9977\n",
      "Epoch 16/100\n",
      " - 1s - loss: 0.0054 - categorical_accuracy: 0.9985 - val_loss: 0.0112 - val_categorical_accuracy: 0.9974\n",
      "Epoch 17/100\n",
      " - 1s - loss: 0.0050 - categorical_accuracy: 0.9987 - val_loss: 0.0122 - val_categorical_accuracy: 0.9967\n",
      "Epoch 18/100\n",
      " - 1s - loss: 0.0052 - categorical_accuracy: 0.9986 - val_loss: 0.0115 - val_categorical_accuracy: 0.9976\n",
      "Epoch 19/100\n",
      " - 1s - loss: 0.0046 - categorical_accuracy: 0.9985 - val_loss: 0.0127 - val_categorical_accuracy: 0.9968\n",
      "Epoch 20/100\n",
      " - 1s - loss: 0.0044 - categorical_accuracy: 0.9990 - val_loss: 0.0099 - val_categorical_accuracy: 0.9979\n",
      "Epoch 21/100\n",
      " - 1s - loss: 0.0045 - categorical_accuracy: 0.9986 - val_loss: 0.0109 - val_categorical_accuracy: 0.9974\n",
      "Epoch 22/100\n",
      " - 1s - loss: 0.0051 - categorical_accuracy: 0.9988 - val_loss: 0.0101 - val_categorical_accuracy: 0.9979\n",
      "Epoch 23/100\n",
      " - 1s - loss: 0.0044 - categorical_accuracy: 0.9987 - val_loss: 0.0100 - val_categorical_accuracy: 0.9981\n",
      "Epoch 24/100\n",
      " - 1s - loss: 0.0041 - categorical_accuracy: 0.9988 - val_loss: 0.0103 - val_categorical_accuracy: 0.9975\n",
      "Epoch 25/100\n",
      " - 1s - loss: 0.0041 - categorical_accuracy: 0.9988 - val_loss: 0.0119 - val_categorical_accuracy: 0.9970\n",
      "Epoch 26/100\n",
      " - 1s - loss: 0.0040 - categorical_accuracy: 0.9988 - val_loss: 0.0099 - val_categorical_accuracy: 0.9979\n",
      "Epoch 27/100\n",
      " - 1s - loss: 0.0040 - categorical_accuracy: 0.9988 - val_loss: 0.0121 - val_categorical_accuracy: 0.9973\n",
      "Epoch 28/100\n",
      " - 1s - loss: 0.0038 - categorical_accuracy: 0.9988 - val_loss: 0.0100 - val_categorical_accuracy: 0.9975\n",
      "Epoch 00028: early stopping\n",
      "Train on 26061 samples, validate on 12837 samples\n",
      "Epoch 1/100\n",
      " - 1s - loss: 0.0922 - categorical_accuracy: 0.9790 - val_loss: 0.0231 - val_categorical_accuracy: 0.9948\n",
      "Epoch 2/100\n",
      " - 1s - loss: 0.0255 - categorical_accuracy: 0.9953 - val_loss: 0.0178 - val_categorical_accuracy: 0.9959\n",
      "Epoch 3/100\n",
      " - 1s - loss: 0.0214 - categorical_accuracy: 0.9964 - val_loss: 0.0157 - val_categorical_accuracy: 0.9970\n",
      "Epoch 4/100\n",
      " - 1s - loss: 0.0189 - categorical_accuracy: 0.9968 - val_loss: 0.0148 - val_categorical_accuracy: 0.9968\n",
      "Epoch 5/100\n",
      " - 1s - loss: 0.0185 - categorical_accuracy: 0.9974 - val_loss: 0.0140 - val_categorical_accuracy: 0.9970\n",
      "Epoch 6/100\n",
      " - 1s - loss: 0.0172 - categorical_accuracy: 0.9971 - val_loss: 0.0155 - val_categorical_accuracy: 0.9955\n",
      "Epoch 7/100\n",
      " - 1s - loss: 0.0167 - categorical_accuracy: 0.9973 - val_loss: 0.0128 - val_categorical_accuracy: 0.9969\n",
      "Epoch 8/100\n",
      " - 1s - loss: 0.0168 - categorical_accuracy: 0.9977 - val_loss: 0.0135 - val_categorical_accuracy: 0.9975\n",
      "Epoch 9/100\n",
      " - 1s - loss: 0.0152 - categorical_accuracy: 0.9978 - val_loss: 0.0134 - val_categorical_accuracy: 0.9970\n",
      "Epoch 10/100\n",
      " - 1s - loss: 0.0149 - categorical_accuracy: 0.9979 - val_loss: 0.0126 - val_categorical_accuracy: 0.9976\n",
      "Epoch 11/100\n",
      " - 1s - loss: 0.0148 - categorical_accuracy: 0.9980 - val_loss: 0.0139 - val_categorical_accuracy: 0.9967\n",
      "Epoch 12/100\n",
      " - 1s - loss: 0.0151 - categorical_accuracy: 0.9978 - val_loss: 0.0128 - val_categorical_accuracy: 0.9971\n",
      "Epoch 13/100\n",
      " - 1s - loss: 0.0143 - categorical_accuracy: 0.9978 - val_loss: 0.0125 - val_categorical_accuracy: 0.9974\n",
      "Epoch 14/100\n",
      " - 1s - loss: 0.0137 - categorical_accuracy: 0.9981 - val_loss: 0.0158 - val_categorical_accuracy: 0.9961\n",
      "Epoch 15/100\n",
      " - 1s - loss: 0.0139 - categorical_accuracy: 0.9978 - val_loss: 0.0143 - val_categorical_accuracy: 0.9970\n",
      "Epoch 16/100\n",
      " - 1s - loss: 0.0137 - categorical_accuracy: 0.9980 - val_loss: 0.0122 - val_categorical_accuracy: 0.9975\n",
      "Epoch 17/100\n",
      " - 1s - loss: 0.0138 - categorical_accuracy: 0.9979 - val_loss: 0.0141 - val_categorical_accuracy: 0.9971\n",
      "Epoch 18/100\n",
      " - 1s - loss: 0.0133 - categorical_accuracy: 0.9980 - val_loss: 0.0147 - val_categorical_accuracy: 0.9967\n",
      "Epoch 19/100\n",
      " - 1s - loss: 0.0134 - categorical_accuracy: 0.9982 - val_loss: 0.0133 - val_categorical_accuracy: 0.9974\n",
      "Epoch 20/100\n",
      " - 1s - loss: 0.0130 - categorical_accuracy: 0.9982 - val_loss: 0.0119 - val_categorical_accuracy: 0.9977\n",
      "Epoch 21/100\n",
      " - 1s - loss: 0.0130 - categorical_accuracy: 0.9981 - val_loss: 0.0130 - val_categorical_accuracy: 0.9977\n",
      "Epoch 22/100\n",
      " - 1s - loss: 0.0131 - categorical_accuracy: 0.9980 - val_loss: 0.0130 - val_categorical_accuracy: 0.9976\n",
      "Epoch 23/100\n",
      " - 1s - loss: 0.0130 - categorical_accuracy: 0.9982 - val_loss: 0.0125 - val_categorical_accuracy: 0.9974\n",
      "Epoch 24/100\n",
      " - 1s - loss: 0.0129 - categorical_accuracy: 0.9983 - val_loss: 0.0130 - val_categorical_accuracy: 0.9975\n",
      "Epoch 25/100\n",
      " - 1s - loss: 0.0097 - categorical_accuracy: 0.9985 - val_loss: 0.0095 - val_categorical_accuracy: 0.9971\n",
      "Epoch 26/100\n",
      " - 1s - loss: 0.0042 - categorical_accuracy: 0.9986 - val_loss: 0.0087 - val_categorical_accuracy: 0.9974\n",
      "Epoch 27/100\n",
      " - 1s - loss: 0.0038 - categorical_accuracy: 0.9986 - val_loss: 0.0103 - val_categorical_accuracy: 0.9969\n",
      "Epoch 28/100\n",
      " - 1s - loss: 0.0043 - categorical_accuracy: 0.9988 - val_loss: 0.0092 - val_categorical_accuracy: 0.9977\n",
      "Epoch 29/100\n",
      " - 1s - loss: 0.0039 - categorical_accuracy: 0.9988 - val_loss: 0.0084 - val_categorical_accuracy: 0.9981\n",
      "Epoch 30/100\n",
      " - 1s - loss: 0.0041 - categorical_accuracy: 0.9986 - val_loss: 0.0113 - val_categorical_accuracy: 0.9967\n",
      "Epoch 31/100\n",
      " - 1s - loss: 0.0036 - categorical_accuracy: 0.9990 - val_loss: 0.0089 - val_categorical_accuracy: 0.9975\n",
      "Epoch 32/100\n",
      " - 1s - loss: 0.0045 - categorical_accuracy: 0.9987 - val_loss: 0.0095 - val_categorical_accuracy: 0.9978\n",
      "Epoch 33/100\n",
      " - 1s - loss: 0.0038 - categorical_accuracy: 0.9988 - val_loss: 0.0087 - val_categorical_accuracy: 0.9976\n",
      "Epoch 34/100\n",
      " - 1s - loss: 0.0034 - categorical_accuracy: 0.9989 - val_loss: 0.0089 - val_categorical_accuracy: 0.9977\n",
      "Epoch 35/100\n",
      " - 1s - loss: 0.0035 - categorical_accuracy: 0.9989 - val_loss: 0.0107 - val_categorical_accuracy: 0.9973\n",
      "Epoch 36/100\n",
      " - 1s - loss: 0.0035 - categorical_accuracy: 0.9990 - val_loss: 0.0100 - val_categorical_accuracy: 0.9973\n",
      "Epoch 37/100\n",
      " - 1s - loss: 0.0035 - categorical_accuracy: 0.9989 - val_loss: 0.0094 - val_categorical_accuracy: 0.9977\n",
      "Epoch 38/100\n",
      " - 1s - loss: 0.0036 - categorical_accuracy: 0.9990 - val_loss: 0.0093 - val_categorical_accuracy: 0.9978\n",
      "Epoch 39/100\n",
      " - 1s - loss: 0.0033 - categorical_accuracy: 0.9990 - val_loss: 0.0107 - val_categorical_accuracy: 0.9974\n",
      "Epoch 40/100\n",
      " - 1s - loss: 0.0034 - categorical_accuracy: 0.9990 - val_loss: 0.0088 - val_categorical_accuracy: 0.9979\n"
     ]
    },
    {
     "name": "stdout",
     "output_type": "stream",
     "text": [
      "Epoch 41/100\n",
      " - 1s - loss: 0.0034 - categorical_accuracy: 0.9990 - val_loss: 0.0104 - val_categorical_accuracy: 0.9975\n",
      "Epoch 42/100\n",
      " - 1s - loss: 0.0032 - categorical_accuracy: 0.9990 - val_loss: 0.0107 - val_categorical_accuracy: 0.9972\n",
      "Epoch 43/100\n",
      " - 1s - loss: 0.0034 - categorical_accuracy: 0.9990 - val_loss: 0.0097 - val_categorical_accuracy: 0.9977\n",
      "Epoch 44/100\n",
      " - 1s - loss: 0.0030 - categorical_accuracy: 0.9990 - val_loss: 0.0112 - val_categorical_accuracy: 0.9974\n",
      "Epoch 45/100\n",
      " - 1s - loss: 0.0035 - categorical_accuracy: 0.9991 - val_loss: 0.0096 - val_categorical_accuracy: 0.9975\n",
      "Epoch 46/100\n",
      " - 1s - loss: 0.0033 - categorical_accuracy: 0.9990 - val_loss: 0.0125 - val_categorical_accuracy: 0.9970\n",
      "Epoch 47/100\n",
      " - 1s - loss: 0.0034 - categorical_accuracy: 0.9990 - val_loss: 0.0108 - val_categorical_accuracy: 0.9974\n",
      "Epoch 48/100\n",
      " - 1s - loss: 0.0032 - categorical_accuracy: 0.9990 - val_loss: 0.0101 - val_categorical_accuracy: 0.9974\n",
      "Epoch 49/100\n",
      " - 1s - loss: 0.0034 - categorical_accuracy: 0.9990 - val_loss: 0.0102 - val_categorical_accuracy: 0.9976\n",
      "Epoch 00049: early stopping\n",
      "Train on 26061 samples, validate on 12837 samples\n",
      "Epoch 1/100\n",
      " - 1s - loss: 0.1133 - categorical_accuracy: 0.9636 - val_loss: 0.0231 - val_categorical_accuracy: 0.9945\n",
      "Epoch 2/100\n",
      " - 1s - loss: 0.0211 - categorical_accuracy: 0.9956 - val_loss: 0.0183 - val_categorical_accuracy: 0.9962\n",
      "Epoch 3/100\n",
      " - 1s - loss: 0.0160 - categorical_accuracy: 0.9968 - val_loss: 0.0150 - val_categorical_accuracy: 0.9962\n",
      "Epoch 4/100\n",
      " - 1s - loss: 0.0127 - categorical_accuracy: 0.9972 - val_loss: 0.0139 - val_categorical_accuracy: 0.9969\n",
      "Epoch 5/100\n",
      " - 1s - loss: 0.0109 - categorical_accuracy: 0.9975 - val_loss: 0.0128 - val_categorical_accuracy: 0.9966\n",
      "Epoch 6/100\n",
      " - 1s - loss: 0.0099 - categorical_accuracy: 0.9977 - val_loss: 0.0123 - val_categorical_accuracy: 0.9970\n",
      "Epoch 7/100\n",
      " - 1s - loss: 0.0088 - categorical_accuracy: 0.9977 - val_loss: 0.0114 - val_categorical_accuracy: 0.9977\n",
      "Epoch 8/100\n",
      " - 1s - loss: 0.0082 - categorical_accuracy: 0.9977 - val_loss: 0.0118 - val_categorical_accuracy: 0.9975\n",
      "Epoch 9/100\n",
      " - 1s - loss: 0.0078 - categorical_accuracy: 0.9983 - val_loss: 0.0122 - val_categorical_accuracy: 0.9974\n",
      "Epoch 10/100\n",
      " - 1s - loss: 0.0079 - categorical_accuracy: 0.9981 - val_loss: 0.0124 - val_categorical_accuracy: 0.9971\n",
      "Epoch 11/100\n",
      " - 1s - loss: 0.0070 - categorical_accuracy: 0.9982 - val_loss: 0.0114 - val_categorical_accuracy: 0.9975\n",
      "Epoch 12/100\n",
      " - 1s - loss: 0.0069 - categorical_accuracy: 0.9983 - val_loss: 0.0127 - val_categorical_accuracy: 0.9969\n",
      "Epoch 13/100\n",
      " - 1s - loss: 0.0070 - categorical_accuracy: 0.9984 - val_loss: 0.0128 - val_categorical_accuracy: 0.9970\n",
      "Epoch 14/100\n",
      " - 1s - loss: 0.0063 - categorical_accuracy: 0.9985 - val_loss: 0.0119 - val_categorical_accuracy: 0.9975\n",
      "Epoch 15/100\n",
      " - 1s - loss: 0.0067 - categorical_accuracy: 0.9984 - val_loss: 0.0120 - val_categorical_accuracy: 0.9973\n",
      "Epoch 16/100\n",
      " - 1s - loss: 0.0059 - categorical_accuracy: 0.9985 - val_loss: 0.0120 - val_categorical_accuracy: 0.9977\n",
      "Epoch 17/100\n",
      " - 1s - loss: 0.0061 - categorical_accuracy: 0.9985 - val_loss: 0.0121 - val_categorical_accuracy: 0.9972\n",
      "Epoch 18/100\n",
      " - 1s - loss: 0.0065 - categorical_accuracy: 0.9985 - val_loss: 0.0117 - val_categorical_accuracy: 0.9971\n",
      "Epoch 19/100\n",
      " - 1s - loss: 0.0061 - categorical_accuracy: 0.9984 - val_loss: 0.0114 - val_categorical_accuracy: 0.9972\n",
      "Epoch 20/100\n",
      " - 1s - loss: 0.0056 - categorical_accuracy: 0.9986 - val_loss: 0.0118 - val_categorical_accuracy: 0.9976\n",
      "Epoch 21/100\n",
      " - 1s - loss: 0.0063 - categorical_accuracy: 0.9984 - val_loss: 0.0123 - val_categorical_accuracy: 0.9973\n",
      "Epoch 22/100\n",
      " - 1s - loss: 0.0056 - categorical_accuracy: 0.9987 - val_loss: 0.0142 - val_categorical_accuracy: 0.9976\n",
      "Epoch 23/100\n",
      " - 1s - loss: 0.0055 - categorical_accuracy: 0.9987 - val_loss: 0.0139 - val_categorical_accuracy: 0.9970\n",
      "Epoch 24/100\n",
      " - 1s - loss: 0.0053 - categorical_accuracy: 0.9987 - val_loss: 0.0128 - val_categorical_accuracy: 0.9968\n",
      "Epoch 25/100\n",
      " - 1s - loss: 0.0056 - categorical_accuracy: 0.9987 - val_loss: 0.0124 - val_categorical_accuracy: 0.9970\n",
      "Epoch 26/100\n",
      " - 1s - loss: 0.0051 - categorical_accuracy: 0.9990 - val_loss: 0.0114 - val_categorical_accuracy: 0.9974\n",
      "Epoch 27/100\n",
      " - 1s - loss: 0.0039 - categorical_accuracy: 0.9989 - val_loss: 0.0098 - val_categorical_accuracy: 0.9977\n",
      "Epoch 28/100\n",
      " - 1s - loss: 0.0041 - categorical_accuracy: 0.9987 - val_loss: 0.0109 - val_categorical_accuracy: 0.9974\n",
      "Epoch 29/100\n",
      " - 1s - loss: 0.0041 - categorical_accuracy: 0.9990 - val_loss: 0.0104 - val_categorical_accuracy: 0.9975\n",
      "Epoch 30/100\n",
      " - 1s - loss: 0.0038 - categorical_accuracy: 0.9989 - val_loss: 0.0108 - val_categorical_accuracy: 0.9974\n",
      "Epoch 31/100\n",
      " - 1s - loss: 0.0036 - categorical_accuracy: 0.9992 - val_loss: 0.0116 - val_categorical_accuracy: 0.9972\n",
      "Epoch 32/100\n",
      " - 1s - loss: 0.0038 - categorical_accuracy: 0.9990 - val_loss: 0.0107 - val_categorical_accuracy: 0.9977\n",
      "Epoch 33/100\n",
      " - 1s - loss: 0.0035 - categorical_accuracy: 0.9990 - val_loss: 0.0106 - val_categorical_accuracy: 0.9977\n",
      "Epoch 34/100\n",
      " - 1s - loss: 0.0037 - categorical_accuracy: 0.9990 - val_loss: 0.0111 - val_categorical_accuracy: 0.9976\n",
      "Epoch 35/100\n",
      " - 1s - loss: 0.0036 - categorical_accuracy: 0.9988 - val_loss: 0.0116 - val_categorical_accuracy: 0.9974\n",
      "Epoch 36/100\n",
      " - 1s - loss: 0.0034 - categorical_accuracy: 0.9991 - val_loss: 0.0119 - val_categorical_accuracy: 0.9973\n",
      "Epoch 37/100\n",
      " - 1s - loss: 0.0031 - categorical_accuracy: 0.9992 - val_loss: 0.0110 - val_categorical_accuracy: 0.9975\n",
      "Epoch 38/100\n",
      " - 1s - loss: 0.0034 - categorical_accuracy: 0.9992 - val_loss: 0.0119 - val_categorical_accuracy: 0.9970\n",
      "Epoch 39/100\n",
      " - 1s - loss: 0.0032 - categorical_accuracy: 0.9992 - val_loss: 0.0115 - val_categorical_accuracy: 0.9976\n",
      "Epoch 40/100\n",
      " - 1s - loss: 0.0033 - categorical_accuracy: 0.9990 - val_loss: 0.0119 - val_categorical_accuracy: 0.9972\n",
      "Epoch 41/100\n",
      " - 1s - loss: 0.0031 - categorical_accuracy: 0.9992 - val_loss: 0.0116 - val_categorical_accuracy: 0.9976\n",
      "Epoch 42/100\n",
      " - 1s - loss: 0.0033 - categorical_accuracy: 0.9991 - val_loss: 0.0127 - val_categorical_accuracy: 0.9973\n",
      "Epoch 43/100\n",
      " - 1s - loss: 0.0038 - categorical_accuracy: 0.9991 - val_loss: 0.0124 - val_categorical_accuracy: 0.9976\n",
      "Epoch 44/100\n",
      " - 1s - loss: 0.0044 - categorical_accuracy: 0.9991 - val_loss: 0.0146 - val_categorical_accuracy: 0.9974\n",
      "Epoch 45/100\n",
      " - 1s - loss: 0.0037 - categorical_accuracy: 0.9989 - val_loss: 0.0130 - val_categorical_accuracy: 0.9970\n",
      "Epoch 46/100\n",
      " - 1s - loss: 0.0031 - categorical_accuracy: 0.9990 - val_loss: 0.0128 - val_categorical_accuracy: 0.9975\n",
      "Epoch 47/100\n",
      " - 1s - loss: 0.0029 - categorical_accuracy: 0.9993 - val_loss: 0.0130 - val_categorical_accuracy: 0.9976\n",
      "Epoch 00047: early stopping\n",
      "Train on 26061 samples, validate on 12837 samples\n",
      "Epoch 1/100\n",
      " - 1s - loss: 0.0781 - categorical_accuracy: 0.9700 - val_loss: 0.0194 - val_categorical_accuracy: 0.9952\n",
      "Epoch 2/100\n",
      " - 1s - loss: 0.0187 - categorical_accuracy: 0.9957 - val_loss: 0.0153 - val_categorical_accuracy: 0.9961\n",
      "Epoch 3/100\n",
      " - 1s - loss: 0.0157 - categorical_accuracy: 0.9965 - val_loss: 0.0137 - val_categorical_accuracy: 0.9956\n",
      "Epoch 4/100\n",
      " - 1s - loss: 0.0122 - categorical_accuracy: 0.9968 - val_loss: 0.0111 - val_categorical_accuracy: 0.9970\n",
      "Epoch 5/100\n",
      " - 1s - loss: 0.0102 - categorical_accuracy: 0.9974 - val_loss: 0.0105 - val_categorical_accuracy: 0.9971\n",
      "Epoch 6/100\n",
      " - 1s - loss: 0.0085 - categorical_accuracy: 0.9978 - val_loss: 0.0104 - val_categorical_accuracy: 0.9974\n",
      "Epoch 7/100\n",
      " - 1s - loss: 0.0101 - categorical_accuracy: 0.9978 - val_loss: 0.0107 - val_categorical_accuracy: 0.9975\n",
      "Epoch 8/100\n",
      " - 1s - loss: 0.0084 - categorical_accuracy: 0.9979 - val_loss: 0.0098 - val_categorical_accuracy: 0.9976\n",
      "Epoch 9/100\n",
      " - 1s - loss: 0.0084 - categorical_accuracy: 0.9980 - val_loss: 0.0096 - val_categorical_accuracy: 0.9979\n",
      "Epoch 10/100\n",
      " - 1s - loss: 0.0067 - categorical_accuracy: 0.9985 - val_loss: 0.0101 - val_categorical_accuracy: 0.9976\n",
      "Epoch 11/100\n",
      " - 1s - loss: 0.0070 - categorical_accuracy: 0.9982 - val_loss: 0.0105 - val_categorical_accuracy: 0.9974\n",
      "Epoch 12/100\n",
      " - 1s - loss: 0.0059 - categorical_accuracy: 0.9985 - val_loss: 0.0094 - val_categorical_accuracy: 0.9977\n"
     ]
    },
    {
     "name": "stdout",
     "output_type": "stream",
     "text": [
      "Epoch 13/100\n",
      " - 1s - loss: 0.0061 - categorical_accuracy: 0.9985 - val_loss: 0.0120 - val_categorical_accuracy: 0.9972\n",
      "Epoch 14/100\n",
      " - 1s - loss: 0.0057 - categorical_accuracy: 0.9984 - val_loss: 0.0122 - val_categorical_accuracy: 0.9974\n",
      "Epoch 15/100\n",
      " - 1s - loss: 0.0062 - categorical_accuracy: 0.9985 - val_loss: 0.0109 - val_categorical_accuracy: 0.9975\n",
      "Epoch 16/100\n",
      " - 1s - loss: 0.0046 - categorical_accuracy: 0.9986 - val_loss: 0.0108 - val_categorical_accuracy: 0.9976\n",
      "Epoch 17/100\n",
      " - 1s - loss: 0.0045 - categorical_accuracy: 0.9986 - val_loss: 0.0110 - val_categorical_accuracy: 0.9974\n",
      "Epoch 18/100\n",
      " - 1s - loss: 0.0049 - categorical_accuracy: 0.9985 - val_loss: 0.0098 - val_categorical_accuracy: 0.9978\n",
      "Epoch 19/100\n",
      " - 1s - loss: 0.0056 - categorical_accuracy: 0.9986 - val_loss: 0.0104 - val_categorical_accuracy: 0.9977\n",
      "Epoch 20/100\n",
      " - 1s - loss: 0.0042 - categorical_accuracy: 0.9988 - val_loss: 0.0104 - val_categorical_accuracy: 0.9977\n",
      "Epoch 21/100\n",
      " - 1s - loss: 0.0047 - categorical_accuracy: 0.9986 - val_loss: 0.0181 - val_categorical_accuracy: 0.9961\n",
      "Epoch 22/100\n",
      " - 1s - loss: 0.0041 - categorical_accuracy: 0.9988 - val_loss: 0.0114 - val_categorical_accuracy: 0.9977\n",
      "Epoch 23/100\n",
      " - 1s - loss: 0.0042 - categorical_accuracy: 0.9987 - val_loss: 0.0104 - val_categorical_accuracy: 0.9977\n",
      "Epoch 24/100\n",
      " - 1s - loss: 0.0052 - categorical_accuracy: 0.9988 - val_loss: 0.0103 - val_categorical_accuracy: 0.9979\n",
      "Epoch 25/100\n",
      " - 1s - loss: 0.0041 - categorical_accuracy: 0.9988 - val_loss: 0.0107 - val_categorical_accuracy: 0.9978\n",
      "Epoch 26/100\n",
      " - 1s - loss: 0.0039 - categorical_accuracy: 0.9988 - val_loss: 0.0108 - val_categorical_accuracy: 0.9974\n",
      "Epoch 27/100\n",
      " - 1s - loss: 0.0037 - categorical_accuracy: 0.9990 - val_loss: 0.0103 - val_categorical_accuracy: 0.9981\n",
      "Epoch 28/100\n",
      " - 1s - loss: 0.0036 - categorical_accuracy: 0.9990 - val_loss: 0.0124 - val_categorical_accuracy: 0.9978\n",
      "Epoch 00028: early stopping\n",
      "Train on 26061 samples, validate on 12837 samples\n",
      "Epoch 1/100\n",
      " - 2s - loss: 0.0779 - categorical_accuracy: 0.9825 - val_loss: 0.0225 - val_categorical_accuracy: 0.9924\n",
      "Epoch 2/100\n",
      " - 1s - loss: 0.0194 - categorical_accuracy: 0.9946 - val_loss: 0.0171 - val_categorical_accuracy: 0.9952\n",
      "Epoch 3/100\n",
      " - 1s - loss: 0.0147 - categorical_accuracy: 0.9961 - val_loss: 0.0152 - val_categorical_accuracy: 0.9947\n",
      "Epoch 4/100\n",
      " - 1s - loss: 0.0127 - categorical_accuracy: 0.9968 - val_loss: 0.0128 - val_categorical_accuracy: 0.9969\n",
      "Epoch 5/100\n",
      " - 2s - loss: 0.0103 - categorical_accuracy: 0.9972 - val_loss: 0.0116 - val_categorical_accuracy: 0.9974\n",
      "Epoch 6/100\n",
      " - 1s - loss: 0.0095 - categorical_accuracy: 0.9977 - val_loss: 0.0131 - val_categorical_accuracy: 0.9970\n",
      "Epoch 7/100\n",
      " - 1s - loss: 0.0090 - categorical_accuracy: 0.9977 - val_loss: 0.0117 - val_categorical_accuracy: 0.9973\n",
      "Epoch 8/100\n",
      " - 1s - loss: 0.0077 - categorical_accuracy: 0.9981 - val_loss: 0.0124 - val_categorical_accuracy: 0.9973\n",
      "Epoch 9/100\n",
      " - 1s - loss: 0.0077 - categorical_accuracy: 0.9980 - val_loss: 0.0117 - val_categorical_accuracy: 0.9973\n",
      "Epoch 10/100\n",
      " - 1s - loss: 0.0072 - categorical_accuracy: 0.9981 - val_loss: 0.0114 - val_categorical_accuracy: 0.9976\n",
      "Epoch 11/100\n",
      " - 1s - loss: 0.0073 - categorical_accuracy: 0.9980 - val_loss: 0.0127 - val_categorical_accuracy: 0.9970\n",
      "Epoch 12/100\n",
      " - 1s - loss: 0.0076 - categorical_accuracy: 0.9980 - val_loss: 0.0114 - val_categorical_accuracy: 0.9975\n",
      "Epoch 13/100\n",
      " - 1s - loss: 0.0068 - categorical_accuracy: 0.9982 - val_loss: 0.0114 - val_categorical_accuracy: 0.9975\n",
      "Epoch 14/100\n",
      " - 1s - loss: 0.0062 - categorical_accuracy: 0.9983 - val_loss: 0.0117 - val_categorical_accuracy: 0.9973\n",
      "Epoch 15/100\n",
      " - 1s - loss: 0.0057 - categorical_accuracy: 0.9983 - val_loss: 0.0124 - val_categorical_accuracy: 0.9975\n",
      "Epoch 16/100\n",
      " - 1s - loss: 0.0054 - categorical_accuracy: 0.9985 - val_loss: 0.0116 - val_categorical_accuracy: 0.9974\n",
      "Epoch 17/100\n",
      " - 2s - loss: 0.0054 - categorical_accuracy: 0.9983 - val_loss: 0.0113 - val_categorical_accuracy: 0.9974\n",
      "Epoch 18/100\n",
      " - 1s - loss: 0.0053 - categorical_accuracy: 0.9984 - val_loss: 0.0120 - val_categorical_accuracy: 0.9976\n",
      "Epoch 19/100\n",
      " - 1s - loss: 0.0055 - categorical_accuracy: 0.9983 - val_loss: 0.0113 - val_categorical_accuracy: 0.9975\n",
      "Epoch 20/100\n",
      " - 1s - loss: 0.0054 - categorical_accuracy: 0.9984 - val_loss: 0.0117 - val_categorical_accuracy: 0.9977\n",
      "Epoch 21/100\n",
      " - 1s - loss: 0.0050 - categorical_accuracy: 0.9985 - val_loss: 0.0121 - val_categorical_accuracy: 0.9977\n",
      "Epoch 22/100\n",
      " - 1s - loss: 0.0048 - categorical_accuracy: 0.9984 - val_loss: 0.0132 - val_categorical_accuracy: 0.9972\n",
      "Epoch 23/100\n",
      " - 1s - loss: 0.0049 - categorical_accuracy: 0.9986 - val_loss: 0.0148 - val_categorical_accuracy: 0.9968\n",
      "Epoch 24/100\n",
      " - 1s - loss: 0.0048 - categorical_accuracy: 0.9987 - val_loss: 0.0132 - val_categorical_accuracy: 0.9972\n",
      "Epoch 25/100\n",
      " - 1s - loss: 0.0047 - categorical_accuracy: 0.9983 - val_loss: 0.0123 - val_categorical_accuracy: 0.9976\n",
      "Epoch 00025: early stopping\n",
      "Training finished...Loading the best model\n",
      "\n",
      "Final accuracy: 0.9947807120043624\n"
     ]
    }
   ],
   "source": [
    "checkpoint = ModelCheckpoint(filepath=\"best_weights3.hdf5\", verbose=0, save_best_only=True,mode='max') # save best model\n",
    "for i in range(5):\n",
    "########################################################################################################################\n",
    "    model = Sequential()\n",
    "    model.add(Dense(20, input_dim=X_train.shape[1], activation='relu'))\n",
    "    model.add(Dense(5,activation='relu'))\n",
    "    model.add(Dense(y_binary_test.shape[1],activation='softmax'))\n",
    "    model.compile(loss='categorical_crossentropy', optimizer= keras.optimizers.Adam(lr=0.001, beta_1=0.9, beta_2=0.999, epsilon=None, decay=0.0, amsgrad=False),metrics=[ kp.metrics.categorical_accuracy])\n",
    "    monitor2 = EarlyStopping(monitor='val_loss', min_delta=1e-3, patience=20, verbose=2, mode='auto')  \n",
    "    # patience: number of epochs with no improvement after which training will be stopped\n",
    "    # The test set is checked during training to monitor progress for early stopping but is never used for gradient descent (model training)\n",
    "    callbacks_list = [monitor2,checkpoint]\n",
    "    model.fit(X_train, y_binary_train, validation_data=(X_test,y_binary_test), callbacks=callbacks_list, verbose=2,batch_size=32, epochs=100)\n",
    "##########################################################################################################################\n",
    "\n",
    "print('Training finished...Loading the best model')  \n",
    "print()\n",
    "model.load_weights(\"best_weights3.hdf5\") # load weights from best model\n",
    "\n",
    "# Measure accuracy\n",
    "pred2 = model.predict(X_test)\n",
    "pred2 = np.argmax(pred2,axis=1)\n",
    "y_true = np.argmax(y_test,axis=1)\n",
    "score = sk.metrics.accuracy_score(y_test, pred2)\n",
    "print(\"Final accuracy: {}\".format(score))"
   ]
  },
  {
   "cell_type": "markdown",
   "metadata": {},
   "source": [
    "Performance Metrics of Fully-Connected Neural Networks Model 2"
   ]
  },
  {
   "cell_type": "code",
   "execution_count": 78,
   "metadata": {},
   "outputs": [
    {
     "name": "stdout",
     "output_type": "stream",
     "text": [
      "             precision    recall  f1-score   support\n",
      "\n",
      "          0       1.00      1.00      1.00      8194\n",
      "          1       0.99      0.99      0.99      4643\n",
      "\n",
      "avg / total       0.99      0.99      0.99     12837\n",
      "\n",
      "Accuracy :  0.9947807120043624\n",
      "------------------------------------------------------------------------------------------------------------------------\n",
      "\n",
      "confusion Matrix\n",
      "\n",
      "[[8166   28]\n",
      " [  39 4604]]\n"
     ]
    },
    {
     "data": {
      "image/png": "[encoded data removed]",
      "text/plain": [
       "<Figure size 288x288 with 2 Axes>"
      ]
     },
     "metadata": {},
     "output_type": "display_data"
    },
    {
     "name": "stdout",
     "output_type": "stream",
     "text": [
      "The diagonal elements in confusion matrix represent the number of points for which the predicted label is equal to the true label, while off-diagonal elements are those that are mislabeled by the classifier. The higher the diagonal values of the confusion matrix the better, indicating many correct predictions.\n",
      "------------------------------------------------------------------------------------------------------------------------\n",
      "\n",
      " AUC: 0.994\n",
      "\n",
      "         ROC CURVE   \n"
     ]
    },
    {
     "data": {
      "image/png": "[encoded data removed]",
      "text/plain": [
       "<Figure size 432x288 with 1 Axes>"
      ]
     },
     "metadata": {},
     "output_type": "display_data"
    }
   ],
   "source": [
    "print(metrics.classification_report(y_test,pred2))\n",
    "print(\"Accuracy : \",accuracy_score(y_test, pred2))\n",
    "#plt.subplot(1, 2, 1)\n",
    "print(\"------------------------------------------------------------------------------------------------------------------------\")\n",
    "# Compute confusion matrix\n",
    "cm = confusion_matrix(y_test,pred2)\n",
    "print(\"\\nconfusion Matrix\\n\")\n",
    "print(cm)\n",
    "# Show confusion matrix in a separate window\n",
    "plt.matshow(cm)\n",
    "plt.title('Confusion matrix')\n",
    "plt.colorbar()\n",
    "plt.ylabel('True label')\n",
    "plt.xlabel('Predicted label')\n",
    "plt.show()\n",
    "plt.subplot(1, 2, 2)\n",
    "# calculate AUC\n",
    "auc = roc_auc_score(y_test,pred2)\n",
    "print(\"The diagonal elements in confusion matrix represent the number of points for which the predicted label is equal to the true label, while off-diagonal elements are those that are mislabeled by the classifier. The higher the diagonal values of the confusion matrix the better, indicating many correct predictions.\")\n",
    "print(\"------------------------------------------------------------------------------------------------------------------------\")\n",
    "print('\\n AUC: %.3f' % auc)\n",
    "# calculate roc curve\n",
    "print(\"\\n         ROC CURVE   \")\n",
    "fpr, tpr, thresholds = roc_curve(y_test, pred2)\n",
    "# plot no skill\n",
    "plt.plot([0, 1], [0, 1], linestyle='--')\n",
    "# plot the roc curve for the model\n",
    "plt.plot(fpr, tpr, marker='.')\n",
    "# show the plot\n",
    "plt.xlabel('False Positive Rate')\n",
    "plt.ylabel('True Positive Rate')\n",
    "plt.show()"
   ]
  },
  {
   "cell_type": "code",
   "execution_count": 79,
   "metadata": {},
   "outputs": [
    {
     "name": "stdout",
     "output_type": "stream",
     "text": [
      "_________________________________________________________________\n",
      "Layer (type)                 Output Shape              Param #   \n",
      "=================================================================\n",
      "dense_40 (Dense)             (None, 20)                2300      \n",
      "_________________________________________________________________\n",
      "dense_41 (Dense)             (None, 5)                 105       \n",
      "_________________________________________________________________\n",
      "dense_42 (Dense)             (None, 2)                 12        \n",
      "=================================================================\n",
      "Total params: 2,417\n",
      "Trainable params: 2,417\n",
      "Non-trainable params: 0\n",
      "_________________________________________________________________\n"
     ]
    }
   ],
   "source": [
    " model.summary()"
   ]
  },
  {
   "cell_type": "markdown",
   "metadata": {},
   "source": [
    "**6. Convolutional Neural Networks (CNN)**"
   ]
  },
  {
   "cell_type": "code",
   "execution_count": 80,
   "metadata": {},
   "outputs": [
    {
     "name": "stdout",
     "output_type": "stream",
     "text": [
      "X_train.shape: (26061, 114)\n",
      "xtest.shape: (12837, 114)\n",
      "y_train.shape: (26061, 1)\n",
      "ytest.shape: (12837, 1)\n"
     ]
    }
   ],
   "source": [
    "print(\"X_train.shape:\",X_train.shape)\n",
    "print(\"xtest.shape:\",X_test.shape)\n",
    "print(\"y_train.shape:\",y_train.shape)\n",
    "print(\"ytest.shape:\",y_test.shape)"
   ]
  },
  {
   "cell_type": "markdown",
   "metadata": {},
   "source": [
    "Reshaping the values for sending to CNN"
   ]
  },
  {
   "cell_type": "code",
   "execution_count": 81,
   "metadata": {},
   "outputs": [],
   "source": [
    "#chaning values to numpy array\n",
    "xtr =  X_train.values\n",
    "xts  =  X_test.values"
   ]
  },
  {
   "cell_type": "code",
   "execution_count": 82,
   "metadata": {},
   "outputs": [],
   "source": [
    "xr = xtr.reshape((X_train.shape[0], 1, X_train.shape[1], 1))\n",
    "xt = xts.reshape((X_test.shape[0],1,X_test.shape[1],1))"
   ]
  },
  {
   "cell_type": "code",
   "execution_count": 83,
   "metadata": {},
   "outputs": [
    {
     "data": {
      "text/plain": [
       "(26061, 1, 114, 1)"
      ]
     },
     "execution_count": 83,
     "metadata": {},
     "output_type": "execute_result"
    }
   ],
   "source": [
    "xr.shape"
   ]
  },
  {
   "cell_type": "code",
   "execution_count": 84,
   "metadata": {},
   "outputs": [
    {
     "data": {
      "text/plain": [
       "(12837, 1, 114, 1)"
      ]
     },
     "execution_count": 84,
     "metadata": {},
     "output_type": "execute_result"
    }
   ],
   "source": [
    "xt.shape"
   ]
  },
  {
   "cell_type": "code",
   "execution_count": 85,
   "metadata": {},
   "outputs": [],
   "source": [
    "ytrn = keras.utils.to_categorical(y_train)\n",
    "ytst= keras.utils.to_categorical(y_test)"
   ]
  },
  {
   "cell_type": "code",
   "execution_count": 86,
   "metadata": {},
   "outputs": [
    {
     "data": {
      "text/plain": [
       "(26061, 2)"
      ]
     },
     "execution_count": 86,
     "metadata": {},
     "output_type": "execute_result"
    }
   ],
   "source": [
    "ytrn.shape"
   ]
  },
  {
   "cell_type": "code",
   "execution_count": 87,
   "metadata": {},
   "outputs": [
    {
     "data": {
      "text/plain": [
       "(12837, 2)"
      ]
     },
     "execution_count": 87,
     "metadata": {},
     "output_type": "execute_result"
    }
   ],
   "source": [
    "ytst.shape"
   ]
  },
  {
   "cell_type": "code",
   "execution_count": 88,
   "metadata": {},
   "outputs": [
    {
     "name": "stdout",
     "output_type": "stream",
     "text": [
      "Train on 26061 samples, validate on 12837 samples\n",
      "Epoch 1/20\n",
      " - 79s - loss: 0.0519 - acc: 0.9887 - val_loss: 0.0285 - val_acc: 0.9936\n",
      "Epoch 2/20\n",
      " - 78s - loss: 0.0312 - acc: 0.9937 - val_loss: 0.0223 - val_acc: 0.9948\n",
      "Epoch 3/20\n",
      " - 78s - loss: 0.0258 - acc: 0.9950 - val_loss: 0.0186 - val_acc: 0.9965\n",
      "Epoch 4/20\n",
      " - 79s - loss: 0.0230 - acc: 0.9950 - val_loss: 0.0194 - val_acc: 0.9961\n",
      "Epoch 5/20\n",
      " - 78s - loss: 0.0220 - acc: 0.9959 - val_loss: 0.0181 - val_acc: 0.9963\n",
      "Epoch 6/20\n",
      " - 78s - loss: 0.0192 - acc: 0.9964 - val_loss: 0.0143 - val_acc: 0.9976\n",
      "Epoch 7/20\n",
      " - 80s - loss: 0.0183 - acc: 0.9959 - val_loss: 0.0128 - val_acc: 0.9963\n",
      "Epoch 8/20\n",
      " - 76s - loss: 0.0156 - acc: 0.9964 - val_loss: 0.0114 - val_acc: 0.9968\n",
      "Epoch 9/20\n",
      " - 76s - loss: 0.0125 - acc: 0.9967 - val_loss: 0.0121 - val_acc: 0.9965\n",
      "Epoch 10/20\n",
      " - 71s - loss: 0.0141 - acc: 0.9970 - val_loss: 0.0093 - val_acc: 0.9975\n",
      "Epoch 11/20\n",
      " - 74s - loss: 0.0128 - acc: 0.9967 - val_loss: 0.0098 - val_acc: 0.9971\n",
      "Epoch 12/20\n",
      " - 82s - loss: 0.0120 - acc: 0.9970 - val_loss: 0.0107 - val_acc: 0.9967\n",
      "Epoch 13/20\n",
      " - 78s - loss: 0.0111 - acc: 0.9973 - val_loss: 0.0097 - val_acc: 0.9972\n",
      "Epoch 14/20\n",
      " - 75s - loss: 0.0102 - acc: 0.9975 - val_loss: 0.0097 - val_acc: 0.9970\n",
      "Epoch 15/20\n",
      " - 73s - loss: 0.0096 - acc: 0.9973 - val_loss: 0.0093 - val_acc: 0.9977\n",
      "Epoch 16/20\n",
      " - 74s - loss: 0.0103 - acc: 0.9973 - val_loss: 0.0089 - val_acc: 0.9977\n",
      "Epoch 17/20\n",
      " - 74s - loss: 0.0102 - acc: 0.9975 - val_loss: 0.0082 - val_acc: 0.9976\n",
      "Epoch 18/20\n",
      " - 75s - loss: 0.0100 - acc: 0.9975 - val_loss: 0.0086 - val_acc: 0.9981\n",
      "Epoch 19/20\n",
      " - 74s - loss: 0.0096 - acc: 0.9975 - val_loss: 0.0101 - val_acc: 0.9969\n",
      "Epoch 20/20\n",
      " - 72s - loss: 0.0102 - acc: 0.9971 - val_loss: 0.0092 - val_acc: 0.9977\n"
     ]
    }
   ],
   "source": [
    "from keras.optimizers import Adam\n",
    "num_classes = 2\n",
    "# Define ModelCheckpoint outside the loop\n",
    "checkpoint3 = ModelCheckpoint(filepath=\"best_weights5.hdf5\", verbose=0, save_best_only=True,mode='max') # save best model\n",
    "for i in range(1):\n",
    "########################################################################################################################\n",
    "    model = Sequential()\n",
    "    model.add(Conv2D(32, kernel_size=(1, 1), padding='same',input_shape=(1, X_train.shape[1], 1),kernel_regularizer=regularizers.l2(0.01)))\n",
    "\n",
    "    model.add(Activation('relu'))\n",
    "    model.add(MaxPooling2D(pool_size=(1, 1)))\n",
    "    model.add(Dropout(0.25))\n",
    "\n",
    "    model.add(Conv2D(64, (1, 1), padding='same'))\n",
    "    model.add(Activation('relu'))\n",
    "    model.add(MaxPooling2D(pool_size=(1, 1)))\n",
    "    model.add(Dropout(0.25))\n",
    "\n",
    "    model.add(Flatten())\n",
    "    model.add(Dense(512))\n",
    "    model.add(Activation('relu'))\n",
    "    model.add(Dropout(0.5))\n",
    "\n",
    "    model.add(Dense(num_classes, activation=\"softmax\"))\n",
    "\n",
    "    monitor3 = EarlyStopping(monitor='val_loss', min_delta=1e-3, patience=20, verbose=2, mode='auto')  \n",
    "    \n",
    "\n",
    "# show not only log loss but also accuracy for each epoch using metrics=['accuracy']\n",
    "\n",
    "    model.compile(loss=keras.losses.categorical_crossentropy, optimizer=Adam(lr=0.001, decay=1e-6), metrics=['accuracy'])\n",
    "# The test set is checked during training to monitor progress for early stopping but is never used for gradient descent (model training)\n",
    "#checkpoint3 = ModelCheckpoint(filepath=\"best_weights5.hdf5\", verbose=0, save_best_only=True,mode='max') # save best model\n",
    "    callbacks_list = [monitor3,checkpoint3]\n",
    "\n",
    "    model.fit(xr, ytrn, validation_data=(xt,ytst), callbacks=callbacks_list, verbose=2,batch_size=32, epochs=20)"
   ]
  },
  {
   "cell_type": "code",
   "execution_count": 89,
   "metadata": {},
   "outputs": [],
   "source": [
    "yt = y_test.values   # we need to reshape true value to the same shape of predicted value for scoring calculation to be done"
   ]
  },
  {
   "cell_type": "code",
   "execution_count": 90,
   "metadata": {},
   "outputs": [],
   "source": [
    "import sklearn.metrics as metrics\n",
    "y_pred_ohe = model.predict(xt)  # shape=(n_samples, 12)\n",
    "y_pred_labels = np.argmax(y_pred_ohe, axis=1)  # only necessary if output has one-hot-encoding, shape=(n_samples)\n",
    "\n",
    "confusion_matrix = metrics.confusion_matrix(y_true=yt, y_pred=y_pred_labels)  # shape=(12, 12)"
   ]
  },
  {
   "cell_type": "code",
   "execution_count": 91,
   "metadata": {},
   "outputs": [
    {
     "name": "stdout",
     "output_type": "stream",
     "text": [
      "             precision    recall  f1-score   support\n",
      "\n",
      "          0       1.00      1.00      1.00      8194\n",
      "          1       1.00      1.00      1.00      4643\n",
      "\n",
      "avg / total       1.00      1.00      1.00     12837\n",
      "\n",
      "Accuracy :  0.9976630053750877\n",
      "------------------------------------------------------------------------------------------------------------------------\n",
      "\n",
      "confusion Matrix\n",
      "\n",
      "[[8186    8]\n",
      " [  22 4621]]\n"
     ]
    },
    {
     "data": {
      "image/png": "[encoded data removed]",
      "text/plain": [
       "<Figure size 288x288 with 2 Axes>"
      ]
     },
     "metadata": {},
     "output_type": "display_data"
    },
    {
     "name": "stdout",
     "output_type": "stream",
     "text": [
      "The diagonal elements in confusion matrix represent the number of points for which the predicted label is equal to the true label, while off-diagonal elements are those that are mislabeled by the classifier. The higher the diagonal values of the confusion matrix the better, indicating many correct predictions.\n",
      "------------------------------------------------------------------------------------------------------------------------\n",
      "\n",
      " AUC: 0.994\n",
      "\n",
      "         ROC CURVE   \n"
     ]
    },
    {
     "data": {
      "image/png": "[encoded data removed]",
      "text/plain": [
       "<Figure size 432x288 with 1 Axes>"
      ]
     },
     "metadata": {},
     "output_type": "display_data"
    }
   ],
   "source": [
    "print(metrics.classification_report(yt,y_pred_labels))\n",
    "print(\"Accuracy : \",accuracy_score(yt, y_pred_labels))\n",
    "#plt.subplot(1, 2, 1)\n",
    "print(\"------------------------------------------------------------------------------------------------------------------------\")\n",
    "# Compute confusion matrix\n",
    "cm = confusion_matrix\n",
    "print(\"\\nconfusion Matrix\\n\")\n",
    "print(cm)\n",
    "# Show confusion matrix in a separate window\n",
    "plt.matshow(cm)\n",
    "plt.title('Confusion matrix')\n",
    "plt.colorbar()\n",
    "plt.ylabel('True label')\n",
    "plt.xlabel('Predicted label')\n",
    "plt.show()\n",
    "plt.subplot(1, 2, 2)\n",
    "# calculate AUC\n",
    "print(\"The diagonal elements in confusion matrix represent the number of points for which the predicted label is equal to the true label, while off-diagonal elements are those that are mislabeled by the classifier. The higher the diagonal values of the confusion matrix the better, indicating many correct predictions.\")\n",
    "print(\"------------------------------------------------------------------------------------------------------------------------\")\n",
    "print('\\n AUC: %.3f' % auc)\n",
    "# calculate roc curve\n",
    "print(\"\\n         ROC CURVE   \")\n",
    "fpr, tpr, thresholds = roc_curve(yt,y_pred_labels)\n",
    "# plot no skill\n",
    "plt.plot([0, 1], [0, 1], linestyle='--')\n",
    "# plot the roc curve for the model\n",
    "plt.plot(fpr, tpr, marker='.')\n",
    "# show the plot\n",
    "plt.xlabel('False Positive Rate')\n",
    "plt.ylabel('True Positive Rate')\n",
    "plt.show()"
   ]
  },
  {
   "cell_type": "markdown",
   "metadata": {},
   "source": [
    "# Modeling as a Multi Class -classification problem.\n",
    "# Model classifying each type ."
   ]
  },
  {
   "cell_type": "markdown",
   "metadata": {},
   "source": [
    "Can model detect intrusion detection and treat problem as a multi-class classification problem so that we can detect the type of each intrusion?   How good the predictive model can be in this case? "
   ]
  },
  {
   "cell_type": "markdown",
   "metadata": {},
   "source": [
    "**Label Encoding the Target Variable**"
   ]
  },
  {
   "cell_type": "code",
   "execution_count": 92,
   "metadata": {},
   "outputs": [
    {
     "data": {
      "text/html": [
       "<div>\n",
       "<style scoped>\n",
       "    .dataframe tbody tr th:only-of-type {\n",
       "        vertical-align: middle;\n",
       "    }\n",
       "\n",
       "    .dataframe tbody tr th {\n",
       "        vertical-align: top;\n",
       "    }\n",
       "\n",
       "    .dataframe thead th {\n",
       "        text-align: right;\n",
       "    }\n",
       "</style>\n",
       "<table border=\"1\" class=\"dataframe\">\n",
       "  <thead>\n",
       "    <tr style=\"text-align: right;\">\n",
       "      <th></th>\n",
       "      <th>outcome</th>\n",
       "    </tr>\n",
       "  </thead>\n",
       "  <tbody>\n",
       "    <tr>\n",
       "      <th>1</th>\n",
       "      <td>normal.</td>\n",
       "    </tr>\n",
       "    <tr>\n",
       "      <th>2</th>\n",
       "      <td>normal.</td>\n",
       "    </tr>\n",
       "    <tr>\n",
       "      <th>4</th>\n",
       "      <td>normal.</td>\n",
       "    </tr>\n",
       "    <tr>\n",
       "      <th>5</th>\n",
       "      <td>normal.</td>\n",
       "    </tr>\n",
       "    <tr>\n",
       "      <th>6</th>\n",
       "      <td>normal.</td>\n",
       "    </tr>\n",
       "  </tbody>\n",
       "</table>\n",
       "</div>"
      ],
      "text/plain": [
       "   outcome\n",
       "1  normal.\n",
       "2  normal.\n",
       "4  normal.\n",
       "5  normal.\n",
       "6  normal."
      ]
     },
     "execution_count": 92,
     "metadata": {},
     "output_type": "execute_result"
    }
   ],
   "source": [
    "#label of the dataset \n",
    "dfl.head()"
   ]
  },
  {
   "cell_type": "code",
   "execution_count": 93,
   "metadata": {},
   "outputs": [
    {
     "data": {
      "text/plain": [
       "array(['normal.', 'neptune.', 'back.', 'teardrop.', 'satan.',\n",
       "       'warezclient.', 'ipsweep.', 'smurf.', 'nmap.', 'pod.',\n",
       "       'portsweep.', 'imap.', 'buffer_overflow.', 'loadmodule.', 'land.',\n",
       "       'rootkit.', 'ftp_write.', 'warezmaster.', 'phf.', 'multihop.'],\n",
       "      dtype=object)"
      ]
     },
     "execution_count": 93,
     "metadata": {},
     "output_type": "execute_result"
    }
   ],
   "source": [
    "dfl['outcome'].unique()"
   ]
  },
  {
   "cell_type": "code",
   "execution_count": 94,
   "metadata": {},
   "outputs": [],
   "source": [
    "dftl = dfl.copy()"
   ]
  },
  {
   "cell_type": "code",
   "execution_count": 95,
   "metadata": {},
   "outputs": [
    {
     "data": {
      "text/html": [
       "<div>\n",
       "<style scoped>\n",
       "    .dataframe tbody tr th:only-of-type {\n",
       "        vertical-align: middle;\n",
       "    }\n",
       "\n",
       "    .dataframe tbody tr th {\n",
       "        vertical-align: top;\n",
       "    }\n",
       "\n",
       "    .dataframe thead th {\n",
       "        text-align: right;\n",
       "    }\n",
       "</style>\n",
       "<table border=\"1\" class=\"dataframe\">\n",
       "  <thead>\n",
       "    <tr style=\"text-align: right;\">\n",
       "      <th></th>\n",
       "      <th>outcome</th>\n",
       "    </tr>\n",
       "  </thead>\n",
       "  <tbody>\n",
       "    <tr>\n",
       "      <th>1</th>\n",
       "      <td>normal.</td>\n",
       "    </tr>\n",
       "    <tr>\n",
       "      <th>2</th>\n",
       "      <td>normal.</td>\n",
       "    </tr>\n",
       "    <tr>\n",
       "      <th>4</th>\n",
       "      <td>normal.</td>\n",
       "    </tr>\n",
       "    <tr>\n",
       "      <th>5</th>\n",
       "      <td>normal.</td>\n",
       "    </tr>\n",
       "    <tr>\n",
       "      <th>6</th>\n",
       "      <td>normal.</td>\n",
       "    </tr>\n",
       "  </tbody>\n",
       "</table>\n",
       "</div>"
      ],
      "text/plain": [
       "   outcome\n",
       "1  normal.\n",
       "2  normal.\n",
       "4  normal.\n",
       "5  normal.\n",
       "6  normal."
      ]
     },
     "execution_count": 95,
     "metadata": {},
     "output_type": "execute_result"
    }
   ],
   "source": [
    "dftl.head()"
   ]
  },
  {
   "cell_type": "code",
   "execution_count": 96,
   "metadata": {},
   "outputs": [],
   "source": [
    "# Label Encoding\n",
    "from sklearn import preprocessing\n",
    "le = preprocessing.LabelEncoder()\n",
    "dftl['outcome'] = le.fit_transform(dftl['outcome'])"
   ]
  },
  {
   "cell_type": "code",
   "execution_count": 97,
   "metadata": {},
   "outputs": [
    {
     "data": {
      "text/plain": [
       "array([10,  8,  0, 17, 15, 18,  4, 16,  9, 12, 13,  3,  1,  6,  5, 14,  2,\n",
       "       19, 11,  7], dtype=int64)"
      ]
     },
     "execution_count": 97,
     "metadata": {},
     "output_type": "execute_result"
    }
   ],
   "source": [
    "dftl['outcome'].unique()"
   ]
  },
  {
   "cell_type": "code",
   "execution_count": 98,
   "metadata": {},
   "outputs": [
    {
     "data": {
      "text/plain": [
       "1    10\n",
       "2    10\n",
       "4    10\n",
       "5    10\n",
       "6    10\n",
       "Name: outcome, dtype: int64"
      ]
     },
     "execution_count": 98,
     "metadata": {},
     "output_type": "execute_result"
    }
   ],
   "source": [
    "dftl['outcome'].head()"
   ]
  },
  {
   "cell_type": "markdown",
   "metadata": {},
   "source": [
    "**Splitting the dataset into Training and Testing set**"
   ]
  },
  {
   "cell_type": "code",
   "execution_count": 99,
   "metadata": {},
   "outputs": [],
   "source": [
    "X_train, X_test, y_train, y_test = train_test_split(dff, dftl, test_size=0.33, random_state=42, shuffle = True )"
   ]
  },
  {
   "cell_type": "markdown",
   "metadata": {},
   "source": [
    "*MODELS**"
   ]
  },
  {
   "cell_type": "markdown",
   "metadata": {},
   "source": [
    "**1. Logistic Regression**"
   ]
  },
  {
   "cell_type": "code",
   "execution_count": 100,
   "metadata": {},
   "outputs": [],
   "source": [
    "#Logistic Regression \n",
    "from sklearn import linear_model \n",
    "logmod = linear_model.LogisticRegression(C=1e5)\n",
    "logmod.fit(X_train, y_train.values.ravel())\n",
    "y_predval = logmod.predict(X_test)"
   ]
  },
  {
   "cell_type": "code",
   "execution_count": 101,
   "metadata": {},
   "outputs": [
    {
     "name": "stdout",
     "output_type": "stream",
     "text": [
      "Performance Metrics of Logistric Regression\n",
      "             precision    recall  f1-score   support\n",
      "\n",
      "          0       0.99      0.96      0.97        80\n",
      "          1       0.50      0.33      0.40         3\n",
      "          2       0.50      1.00      0.67         1\n",
      "          3       1.00      0.50      0.67         2\n",
      "          4       1.00      0.94      0.97        50\n",
      "          5       1.00      1.00      1.00         1\n",
      "          6       0.00      0.00      0.00         1\n",
      "          7       0.00      0.00      0.00         0\n",
      "          8       1.00      1.00      1.00      4190\n",
      "          9       0.94      0.80      0.86        20\n",
      "         10       1.00      1.00      1.00      8189\n",
      "         11       0.00      0.00      0.00         1\n",
      "         12       1.00      1.00      1.00        24\n",
      "         13       0.50      0.67      0.57         3\n",
      "         15       0.97      0.89      0.93        36\n",
      "         16       0.95      1.00      0.98        60\n",
      "         17       1.00      1.00      1.00        82\n",
      "         18       0.96      0.94      0.95        93\n",
      "         19       0.00      0.00      0.00         1\n",
      "\n",
      "avg / total       1.00      1.00      1.00     12837\n",
      "\n",
      "Accuracy :  0.9971956064501052\n",
      "------------------------------------------------------------------------------------------------------------------------\n"
     ]
    },
    {
     "name": "stderr",
     "output_type": "stream",
     "text": [
      "C:\\Users\\Gurudev\\Anaconda3\\envs\\Tensorflowexclusive\\lib\\site-packages\\sklearn\\metrics\\classification.py:1135: UndefinedMetricWarning: Precision and F-score are ill-defined and being set to 0.0 in labels with no predicted samples.\n",
      "  'precision', 'predicted', average, warn_for)\n",
      "C:\\Users\\Gurudev\\Anaconda3\\envs\\Tensorflowexclusive\\lib\\site-packages\\sklearn\\metrics\\classification.py:1137: UndefinedMetricWarning: Recall and F-score are ill-defined and being set to 0.0 in labels with no true samples.\n",
      "  'recall', 'true', average, warn_for)\n"
     ]
    }
   ],
   "source": [
    "print(\"Performance Metrics of Logistric Regression\")\n",
    "print(metrics.classification_report(y_test,y_predval))\n",
    "print(\"Accuracy : \",accuracy_score(y_test, y_predval))\n",
    "print(\"------------------------------------------------------------------------------------------------------------------------\")\n"
   ]
  },
  {
   "cell_type": "code",
   "execution_count": 102,
   "metadata": {},
   "outputs": [],
   "source": [
    "#y_predval = pd.DataFrame(y_predval.reshape(-1, len(y_predval)),columns=columns)\n",
    "#y_predval = pd.DataFrame(np.atleast_2d(y_predval))\n",
    "#y_predval = y_predval.T\n",
    "#y_predval.columns = ['outcome']"
   ]
  },
  {
   "cell_type": "markdown",
   "metadata": {},
   "source": [
    "**2. Nearest Neighbor**"
   ]
  },
  {
   "cell_type": "code",
   "execution_count": 103,
   "metadata": {},
   "outputs": [
    {
     "name": "stdout",
     "output_type": "stream",
     "text": [
      "Performance Metrics of Logistric Regression\n",
      "             precision    recall  f1-score   support\n",
      "\n",
      "          0       0.99      0.95      0.97        80\n",
      "          1       0.50      0.33      0.40         3\n",
      "          2       0.00      0.00      0.00         1\n",
      "          3       0.00      0.00      0.00         2\n",
      "          4       0.94      0.94      0.94        50\n",
      "          5       1.00      1.00      1.00         1\n",
      "          6       0.00      0.00      0.00         1\n",
      "          8       1.00      1.00      1.00      4190\n",
      "          9       0.95      0.90      0.92        20\n",
      "         10       1.00      1.00      1.00      8189\n",
      "         11       0.00      0.00      0.00         1\n",
      "         12       0.92      1.00      0.96        24\n",
      "         13       0.00      0.00      0.00         3\n",
      "         15       1.00      0.81      0.89        36\n",
      "         16       0.95      1.00      0.98        60\n",
      "         17       1.00      0.98      0.99        82\n",
      "         18       0.95      0.94      0.94        93\n",
      "         19       0.00      0.00      0.00         1\n",
      "\n",
      "avg / total       1.00      1.00      1.00     12837\n",
      "\n",
      "Accuracy :  0.9964945080626314\n",
      "------------------------------------------------------------------------------------------------------------------------\n"
     ]
    },
    {
     "name": "stderr",
     "output_type": "stream",
     "text": [
      "C:\\Users\\Gurudev\\Anaconda3\\envs\\Tensorflowexclusive\\lib\\site-packages\\sklearn\\metrics\\classification.py:1135: UndefinedMetricWarning: Precision and F-score are ill-defined and being set to 0.0 in labels with no predicted samples.\n",
      "  'precision', 'predicted', average, warn_for)\n"
     ]
    }
   ],
   "source": [
    "#KNN to show true ratings of 5 businesses and the predicted ratings from model\n",
    "from sklearn.neighbors import KNeighborsClassifier\n",
    "neigh = KNeighborsClassifier(n_neighbors=5)\n",
    "neigh.fit(X_train, y_train.values.ravel())\n",
    "y_predval= neigh.predict(X_test)\n",
    "print(\"Performance Metrics of Logistric Regression\")\n",
    "print(metrics.classification_report(y_test,y_predval))\n",
    "print(\"Accuracy : \",accuracy_score(y_test, y_predval))\n",
    "#plt.subplot(1, 2, 1)\n",
    "print(\"------------------------------------------------------------------------------------------------------------------------\")\n"
   ]
  },
  {
   "cell_type": "markdown",
   "metadata": {},
   "source": [
    "**3. Support Vector Machine**"
   ]
  },
  {
   "cell_type": "code",
   "execution_count": 104,
   "metadata": {},
   "outputs": [
    {
     "name": "stdout",
     "output_type": "stream",
     "text": [
      "Performance Metrics of Logistric Regression\n",
      "             precision    recall  f1-score   support\n",
      "\n",
      "          0       0.96      0.99      0.98        80\n",
      "          1       0.00      0.00      0.00         3\n",
      "          2       0.50      1.00      0.67         1\n",
      "          3       1.00      0.50      0.67         2\n",
      "          4       1.00      0.94      0.97        50\n",
      "          5       1.00      1.00      1.00         1\n",
      "          6       0.00      0.00      0.00         1\n",
      "          7       0.00      0.00      0.00         0\n",
      "          8       1.00      1.00      1.00      4190\n",
      "          9       0.95      1.00      0.98        20\n",
      "         10       1.00      1.00      1.00      8189\n",
      "         11       0.00      0.00      0.00         1\n",
      "         12       1.00      1.00      1.00        24\n",
      "         13       1.00      0.33      0.50         3\n",
      "         15       0.97      0.86      0.91        36\n",
      "         16       0.97      1.00      0.98        60\n",
      "         17       1.00      1.00      1.00        82\n",
      "         18       0.94      0.95      0.94        93\n",
      "         19       1.00      1.00      1.00         1\n",
      "\n",
      "avg / total       1.00      1.00      1.00     12837\n",
      "\n",
      "Accuracy :  0.9975072057334268\n",
      "------------------------------------------------------------------------------------------------------------------------\n"
     ]
    },
    {
     "name": "stderr",
     "output_type": "stream",
     "text": [
      "C:\\Users\\Gurudev\\Anaconda3\\envs\\Tensorflowexclusive\\lib\\site-packages\\sklearn\\metrics\\classification.py:1135: UndefinedMetricWarning: Precision and F-score are ill-defined and being set to 0.0 in labels with no predicted samples.\n",
      "  'precision', 'predicted', average, warn_for)\n",
      "C:\\Users\\Gurudev\\Anaconda3\\envs\\Tensorflowexclusive\\lib\\site-packages\\sklearn\\metrics\\classification.py:1137: UndefinedMetricWarning: Recall and F-score are ill-defined and being set to 0.0 in labels with no true samples.\n",
      "  'recall', 'true', average, warn_for)\n"
     ]
    }
   ],
   "source": [
    "#SVM to show true ratings of 5 businesses and the predicted ratings from model\n",
    "from sklearn import svm\n",
    "#logmodel=  svm.SVC(kernel='linear')\n",
    "logmodel=  svm.SVC(C=1, kernel = 'linear', gamma=1, verbose= False, probability=False, random_state=42)\n",
    "logmodel.fit(X_train, y_train.values.ravel())\n",
    "y_predval = logmodel.predict(X_test)\n",
    "#SVM to show true ratings of 5 businesses and the predicted ratings from model\n",
    "from sklearn import svm\n",
    "#logmodel=  svm.SVC(kernel='linear')\n",
    "logmodel=  svm.SVC(C=1, kernel = 'linear', gamma=1, verbose= False, probability=False, random_state=42)\n",
    "logmodel.fit(X_train, y_train.values.ravel())\n",
    "y_predval = logmodel.predict(X_test)\n",
    "print(\"Performance Metrics of Logistric Regression\")\n",
    "print(metrics.classification_report(y_test,y_predval))\n",
    "print(\"Accuracy : \",accuracy_score(y_test, y_predval))\n",
    "#plt.subplot(1, 2, 1)\n",
    "print(\"------------------------------------------------------------------------------------------------------------------------\")\n"
   ]
  },
  {
   "cell_type": "markdown",
   "metadata": {},
   "source": [
    "**4 . Gaussian Naive Bayes**"
   ]
  },
  {
   "cell_type": "code",
   "execution_count": 105,
   "metadata": {},
   "outputs": [
    {
     "name": "stdout",
     "output_type": "stream",
     "text": [
      "Performance Metrics of Logistric Regression\n",
      "             precision    recall  f1-score   support\n",
      "\n",
      "          0       0.05      0.97      0.10        80\n",
      "          1       0.15      0.67      0.25         3\n",
      "          2       0.08      1.00      0.15         1\n",
      "          3       1.00      0.50      0.67         2\n",
      "          4       0.74      0.96      0.83        50\n",
      "          5       1.00      1.00      1.00         1\n",
      "          6       0.00      0.00      0.00         1\n",
      "          8       1.00      0.10      0.18      4190\n",
      "          9       0.30      0.30      0.30        20\n",
      "         10       1.00      0.75      0.86      8189\n",
      "         11       0.00      0.00      0.00         1\n",
      "         12       0.96      1.00      0.98        24\n",
      "         13       0.00      0.67      0.00         3\n",
      "         14       0.00      0.00      0.00         0\n",
      "         15       0.01      0.86      0.02        36\n",
      "         16       0.78      1.00      0.88        60\n",
      "         17       0.98      1.00      0.99        82\n",
      "         18       0.25      0.61      0.35        93\n",
      "         19       0.05      1.00      0.10         1\n",
      "\n",
      "avg / total       0.98      0.54      0.63     12837\n",
      "\n",
      "Accuracy :  0.5433512502921243\n",
      "------------------------------------------------------------------------------------------------------------------------\n"
     ]
    },
    {
     "name": "stderr",
     "output_type": "stream",
     "text": [
      "C:\\Users\\Gurudev\\Anaconda3\\envs\\Tensorflowexclusive\\lib\\site-packages\\sklearn\\metrics\\classification.py:1135: UndefinedMetricWarning: Precision and F-score are ill-defined and being set to 0.0 in labels with no predicted samples.\n",
      "  'precision', 'predicted', average, warn_for)\n",
      "C:\\Users\\Gurudev\\Anaconda3\\envs\\Tensorflowexclusive\\lib\\site-packages\\sklearn\\metrics\\classification.py:1137: UndefinedMetricWarning: Recall and F-score are ill-defined and being set to 0.0 in labels with no true samples.\n",
      "  'recall', 'true', average, warn_for)\n"
     ]
    }
   ],
   "source": [
    "#Multinomial Naive Bayes to show true ratings of 5 businesses and the predicted ratings from model\n",
    "from sklearn.naive_bayes import GaussianNB\n",
    "nb = GaussianNB()\n",
    "nb.fit(X_train, y_train.values.ravel())\n",
    "y_predval = nb.predict(X_test)\n",
    "print(\"Performance Metrics of Logistric Regression\")\n",
    "print(metrics.classification_report(y_test,y_predval))\n",
    "print(\"Accuracy : \",accuracy_score(y_test, y_predval))\n",
    "#plt.subplot(1, 2, 1)\n",
    "print(\"------------------------------------------------------------------------------------------------------------------------\")\n"
   ]
  },
  {
   "cell_type": "markdown",
   "metadata": {},
   "source": [
    "**5. Fully-Connected Neural Networks**"
   ]
  },
  {
   "cell_type": "markdown",
   "metadata": {},
   "source": [
    "encoding the target variable "
   ]
  },
  {
   "cell_type": "code",
   "execution_count": 106,
   "metadata": {},
   "outputs": [],
   "source": [
    "y_binary = to_categorical(dftl)"
   ]
  },
  {
   "cell_type": "code",
   "execution_count": 107,
   "metadata": {},
   "outputs": [],
   "source": [
    "X_train, X_test, y_train, y_test = train_test_split(dff, y_binary , test_size=0.33, random_state=42, shuffle = True )"
   ]
  },
  {
   "cell_type": "markdown",
   "metadata": {},
   "source": [
    "Model Version 1"
   ]
  },
  {
   "cell_type": "code",
   "execution_count": 108,
   "metadata": {},
   "outputs": [
    {
     "name": "stdout",
     "output_type": "stream",
     "text": [
      "Train on 26061 samples, validate on 12837 samples\n",
      "Epoch 1/200\n",
      " - 2s - loss: 1.2517 - mean_absolute_error: 0.1083 - categorical_accuracy: 0.6469 - val_loss: 0.4385 - val_mean_absolute_error: 0.0237 - val_categorical_accuracy: 0.9642\n",
      "Epoch 2/200\n",
      " - 2s - loss: 0.2193 - mean_absolute_error: 0.0300 - categorical_accuracy: 0.9629 - val_loss: 0.1292 - val_mean_absolute_error: 0.0308 - val_categorical_accuracy: 0.9699\n",
      "Epoch 3/200\n",
      " - 2s - loss: 0.1374 - mean_absolute_error: 0.0318 - categorical_accuracy: 0.9660 - val_loss: 0.1150 - val_mean_absolute_error: 0.0303 - val_categorical_accuracy: 0.9702\n",
      "Epoch 4/200\n",
      " - 2s - loss: 0.1253 - mean_absolute_error: 0.0302 - categorical_accuracy: 0.9674 - val_loss: 0.1164 - val_mean_absolute_error: 0.0259 - val_categorical_accuracy: 0.9696\n",
      "Epoch 5/200\n",
      " - 2s - loss: 0.1206 - mean_absolute_error: 0.0291 - categorical_accuracy: 0.9678 - val_loss: 0.1073 - val_mean_absolute_error: 0.0277 - val_categorical_accuracy: 0.9710\n",
      "Epoch 6/200\n",
      " - 2s - loss: 0.1188 - mean_absolute_error: 0.0283 - categorical_accuracy: 0.9684 - val_loss: 0.1079 - val_mean_absolute_error: 0.0229 - val_categorical_accuracy: 0.9737\n",
      "Epoch 7/200\n",
      " - 2s - loss: 0.1166 - mean_absolute_error: 0.0274 - categorical_accuracy: 0.9683 - val_loss: 0.1006 - val_mean_absolute_error: 0.0266 - val_categorical_accuracy: 0.9737\n",
      "Epoch 8/200\n",
      " - 2s - loss: 0.1107 - mean_absolute_error: 0.0281 - categorical_accuracy: 0.9703 - val_loss: 0.1010 - val_mean_absolute_error: 0.0262 - val_categorical_accuracy: 0.9700\n",
      "Epoch 9/200\n",
      " - 2s - loss: 0.1130 - mean_absolute_error: 0.0288 - categorical_accuracy: 0.9698 - val_loss: 0.1006 - val_mean_absolute_error: 0.0269 - val_categorical_accuracy: 0.9703\n",
      "Epoch 10/200\n",
      " - 2s - loss: 0.1096 - mean_absolute_error: 0.0290 - categorical_accuracy: 0.9705 - val_loss: 0.0987 - val_mean_absolute_error: 0.0274 - val_categorical_accuracy: 0.9730\n",
      "Epoch 11/200\n",
      " - 2s - loss: 0.1091 - mean_absolute_error: 0.0290 - categorical_accuracy: 0.9703 - val_loss: 0.0980 - val_mean_absolute_error: 0.0278 - val_categorical_accuracy: 0.9762\n",
      "Epoch 12/200\n",
      " - 2s - loss: 0.1092 - mean_absolute_error: 0.0295 - categorical_accuracy: 0.9697 - val_loss: 0.1000 - val_mean_absolute_error: 0.0270 - val_categorical_accuracy: 0.9704\n",
      "Epoch 13/200\n",
      " - 2s - loss: 0.1067 - mean_absolute_error: 0.0293 - categorical_accuracy: 0.9702 - val_loss: 0.1068 - val_mean_absolute_error: 0.0279 - val_categorical_accuracy: 0.9748\n",
      "Epoch 14/200\n",
      " - 2s - loss: 0.1038 - mean_absolute_error: 0.0301 - categorical_accuracy: 0.9710 - val_loss: 0.0971 - val_mean_absolute_error: 0.0244 - val_categorical_accuracy: 0.9762\n",
      "Epoch 15/200\n",
      " - 2s - loss: 0.1065 - mean_absolute_error: 0.0299 - categorical_accuracy: 0.9702 - val_loss: 0.1279 - val_mean_absolute_error: 0.0283 - val_categorical_accuracy: 0.9727\n",
      "Epoch 16/200\n",
      " - 2s - loss: 0.1057 - mean_absolute_error: 0.0307 - categorical_accuracy: 0.9703 - val_loss: 0.0933 - val_mean_absolute_error: 0.0287 - val_categorical_accuracy: 0.9698\n",
      "Epoch 17/200\n",
      " - 2s - loss: 0.1055 - mean_absolute_error: 0.0303 - categorical_accuracy: 0.9703 - val_loss: 0.0934 - val_mean_absolute_error: 0.0282 - val_categorical_accuracy: 0.9768\n",
      "Epoch 18/200\n",
      " - 2s - loss: 0.1028 - mean_absolute_error: 0.0310 - categorical_accuracy: 0.9714 - val_loss: 0.0923 - val_mean_absolute_error: 0.0292 - val_categorical_accuracy: 0.9713\n",
      "Epoch 19/200\n",
      " - 2s - loss: 0.1036 - mean_absolute_error: 0.0313 - categorical_accuracy: 0.9703 - val_loss: 0.0899 - val_mean_absolute_error: 0.0296 - val_categorical_accuracy: 0.9768\n",
      "Epoch 20/200\n",
      " - 2s - loss: 0.1026 - mean_absolute_error: 0.0320 - categorical_accuracy: 0.9708 - val_loss: 0.0928 - val_mean_absolute_error: 0.0296 - val_categorical_accuracy: 0.9699\n",
      "Epoch 21/200\n",
      " - 2s - loss: 0.1052 - mean_absolute_error: 0.0320 - categorical_accuracy: 0.9708 - val_loss: 0.0906 - val_mean_absolute_error: 0.0316 - val_categorical_accuracy: 0.9706\n",
      "Epoch 22/200\n",
      " - 2s - loss: 0.1035 - mean_absolute_error: 0.0328 - categorical_accuracy: 0.9711 - val_loss: 0.0916 - val_mean_absolute_error: 0.0305 - val_categorical_accuracy: 0.9771\n",
      "Epoch 23/200\n",
      " - 2s - loss: 0.1026 - mean_absolute_error: 0.0325 - categorical_accuracy: 0.9727 - val_loss: 0.0891 - val_mean_absolute_error: 0.0304 - val_categorical_accuracy: 0.9728\n",
      "Epoch 24/200\n",
      " - 2s - loss: 0.1005 - mean_absolute_error: 0.0334 - categorical_accuracy: 0.9723 - val_loss: 0.0850 - val_mean_absolute_error: 0.0364 - val_categorical_accuracy: 0.9741\n",
      "Epoch 25/200\n",
      " - 2s - loss: 0.1007 - mean_absolute_error: 0.0337 - categorical_accuracy: 0.9744 - val_loss: 0.0855 - val_mean_absolute_error: 0.0298 - val_categorical_accuracy: 0.9790\n",
      "Epoch 26/200\n",
      " - 2s - loss: 0.0986 - mean_absolute_error: 0.0342 - categorical_accuracy: 0.9736 - val_loss: 0.0903 - val_mean_absolute_error: 0.0325 - val_categorical_accuracy: 0.9797\n",
      "Epoch 27/200\n",
      " - 2s - loss: 0.0985 - mean_absolute_error: 0.0347 - categorical_accuracy: 0.9742 - val_loss: 0.1167 - val_mean_absolute_error: 0.0335 - val_categorical_accuracy: 0.9752\n",
      "Epoch 28/200\n",
      " - 2s - loss: 0.0978 - mean_absolute_error: 0.0349 - categorical_accuracy: 0.9742 - val_loss: 0.0832 - val_mean_absolute_error: 0.0339 - val_categorical_accuracy: 0.9740\n",
      "Epoch 29/200\n",
      " - 2s - loss: 0.0980 - mean_absolute_error: 0.0349 - categorical_accuracy: 0.9739 - val_loss: 0.0798 - val_mean_absolute_error: 0.0334 - val_categorical_accuracy: 0.9802\n",
      "Epoch 30/200\n",
      " - 2s - loss: 0.0986 - mean_absolute_error: 0.0354 - categorical_accuracy: 0.9727 - val_loss: 0.0845 - val_mean_absolute_error: 0.0340 - val_categorical_accuracy: 0.9730\n",
      "Epoch 31/200\n",
      " - 2s - loss: 0.1020 - mean_absolute_error: 0.0358 - categorical_accuracy: 0.9737 - val_loss: 0.0963 - val_mean_absolute_error: 0.0332 - val_categorical_accuracy: 0.9738\n",
      "Epoch 32/200\n",
      " - 2s - loss: 0.1044 - mean_absolute_error: 0.0353 - categorical_accuracy: 0.9733 - val_loss: 0.0835 - val_mean_absolute_error: 0.0327 - val_categorical_accuracy: 0.9741\n",
      "Epoch 33/200\n",
      " - 2s - loss: 0.1171 - mean_absolute_error: 0.0351 - categorical_accuracy: 0.9723 - val_loss: 0.0900 - val_mean_absolute_error: 0.0332 - val_categorical_accuracy: 0.9738\n",
      "Epoch 34/200\n",
      " - 2s - loss: 0.1213 - mean_absolute_error: 0.0348 - categorical_accuracy: 0.9709 - val_loss: 0.0938 - val_mean_absolute_error: 0.0331 - val_categorical_accuracy: 0.9729\n",
      "Epoch 35/200\n",
      " - 2s - loss: 0.1151 - mean_absolute_error: 0.0348 - categorical_accuracy: 0.9723 - val_loss: 0.0913 - val_mean_absolute_error: 0.0335 - val_categorical_accuracy: 0.9722\n",
      "Epoch 36/200\n",
      " - 2s - loss: 0.1118 - mean_absolute_error: 0.0345 - categorical_accuracy: 0.9736 - val_loss: 0.0816 - val_mean_absolute_error: 0.0331 - val_categorical_accuracy: 0.9793\n",
      "Epoch 37/200\n",
      " - 2s - loss: 0.1075 - mean_absolute_error: 0.0346 - categorical_accuracy: 0.9744 - val_loss: 0.0841 - val_mean_absolute_error: 0.0329 - val_categorical_accuracy: 0.9768\n",
      "Epoch 38/200\n",
      " - 2s - loss: 0.1097 - mean_absolute_error: 0.0350 - categorical_accuracy: 0.9743 - val_loss: 0.0875 - val_mean_absolute_error: 0.0331 - val_categorical_accuracy: 0.9792\n",
      "Epoch 39/200\n",
      " - 2s - loss: 0.1126 - mean_absolute_error: 0.0350 - categorical_accuracy: 0.9741 - val_loss: 0.0888 - val_mean_absolute_error: 0.0354 - val_categorical_accuracy: 0.9758\n",
      "Epoch 40/200\n",
      " - 2s - loss: 0.1119 - mean_absolute_error: 0.0352 - categorical_accuracy: 0.9761 - val_loss: 0.0895 - val_mean_absolute_error: 0.0332 - val_categorical_accuracy: 0.9774\n",
      "Epoch 41/200\n",
      " - 2s - loss: 0.1086 - mean_absolute_error: 0.0354 - categorical_accuracy: 0.9766 - val_loss: 0.0781 - val_mean_absolute_error: 0.0332 - val_categorical_accuracy: 0.9859\n",
      "Epoch 42/200\n",
      " - 2s - loss: 0.1068 - mean_absolute_error: 0.0354 - categorical_accuracy: 0.9784 - val_loss: 0.0847 - val_mean_absolute_error: 0.0333 - val_categorical_accuracy: 0.9836\n",
      "Epoch 43/200\n",
      " - 2s - loss: 0.1012 - mean_absolute_error: 0.0353 - categorical_accuracy: 0.9789 - val_loss: 0.0709 - val_mean_absolute_error: 0.0345 - val_categorical_accuracy: 0.9863\n",
      "Epoch 44/200\n",
      " - 2s - loss: 0.1030 - mean_absolute_error: 0.0353 - categorical_accuracy: 0.9807 - val_loss: 0.0719 - val_mean_absolute_error: 0.0336 - val_categorical_accuracy: 0.9859\n",
      "Epoch 45/200\n",
      " - 2s - loss: 0.1097 - mean_absolute_error: 0.0355 - categorical_accuracy: 0.9793 - val_loss: 0.0900 - val_mean_absolute_error: 0.0333 - val_categorical_accuracy: 0.9828\n"
     ]
    },
    {
     "name": "stdout",
     "output_type": "stream",
     "text": [
      "Epoch 46/200\n",
      " - 3s - loss: 0.1007 - mean_absolute_error: 0.0354 - categorical_accuracy: 0.9803 - val_loss: 0.0702 - val_mean_absolute_error: 0.0338 - val_categorical_accuracy: 0.9856\n",
      "Epoch 47/200\n",
      " - 2s - loss: 0.1030 - mean_absolute_error: 0.0356 - categorical_accuracy: 0.9797 - val_loss: 0.0824 - val_mean_absolute_error: 0.0335 - val_categorical_accuracy: 0.9838\n",
      "Epoch 48/200\n",
      " - 2s - loss: 0.1116 - mean_absolute_error: 0.0360 - categorical_accuracy: 0.9788 - val_loss: 0.0828 - val_mean_absolute_error: 0.0334 - val_categorical_accuracy: 0.9836\n",
      "Epoch 49/200\n",
      " - 2s - loss: 0.1066 - mean_absolute_error: 0.0356 - categorical_accuracy: 0.9783 - val_loss: 0.0687 - val_mean_absolute_error: 0.0335 - val_categorical_accuracy: 0.9859\n",
      "Epoch 50/200\n",
      " - 2s - loss: 0.1023 - mean_absolute_error: 0.0360 - categorical_accuracy: 0.9791 - val_loss: 0.0752 - val_mean_absolute_error: 0.0334 - val_categorical_accuracy: 0.9857\n",
      "Epoch 51/200\n",
      " - 2s - loss: 0.1031 - mean_absolute_error: 0.0361 - categorical_accuracy: 0.9807 - val_loss: 0.0739 - val_mean_absolute_error: 0.0333 - val_categorical_accuracy: 0.9850\n",
      "Epoch 52/200\n",
      " - 2s - loss: 0.1002 - mean_absolute_error: 0.0359 - categorical_accuracy: 0.9805 - val_loss: 0.0783 - val_mean_absolute_error: 0.0336 - val_categorical_accuracy: 0.9795\n",
      "Epoch 53/200\n",
      " - 2s - loss: 0.0982 - mean_absolute_error: 0.0362 - categorical_accuracy: 0.9807 - val_loss: 0.0782 - val_mean_absolute_error: 0.0340 - val_categorical_accuracy: 0.9863\n",
      "Epoch 54/200\n",
      " - 2s - loss: 0.1004 - mean_absolute_error: 0.0366 - categorical_accuracy: 0.9824 - val_loss: 0.0702 - val_mean_absolute_error: 0.0361 - val_categorical_accuracy: 0.9861\n",
      "Epoch 55/200\n",
      " - 2s - loss: 0.1044 - mean_absolute_error: 0.0364 - categorical_accuracy: 0.9802 - val_loss: 0.0678 - val_mean_absolute_error: 0.0336 - val_categorical_accuracy: 0.9863\n",
      "Epoch 56/200\n",
      " - 2s - loss: 0.1081 - mean_absolute_error: 0.0362 - categorical_accuracy: 0.9790 - val_loss: 0.0873 - val_mean_absolute_error: 0.0336 - val_categorical_accuracy: 0.9795\n",
      "Epoch 57/200\n",
      " - 2s - loss: 0.1070 - mean_absolute_error: 0.0367 - categorical_accuracy: 0.9778 - val_loss: 0.0694 - val_mean_absolute_error: 0.0354 - val_categorical_accuracy: 0.9850\n",
      "Epoch 58/200\n",
      " - 2s - loss: 0.1019 - mean_absolute_error: 0.0366 - categorical_accuracy: 0.9806 - val_loss: 0.0859 - val_mean_absolute_error: 0.0336 - val_categorical_accuracy: 0.9786\n",
      "Epoch 59/200\n",
      " - 2s - loss: 0.1049 - mean_absolute_error: 0.0370 - categorical_accuracy: 0.9802 - val_loss: 0.0652 - val_mean_absolute_error: 0.0341 - val_categorical_accuracy: 0.9863\n",
      "Epoch 60/200\n",
      " - 2s - loss: 0.1104 - mean_absolute_error: 0.0374 - categorical_accuracy: 0.9801 - val_loss: 0.0738 - val_mean_absolute_error: 0.0339 - val_categorical_accuracy: 0.9839\n",
      "Epoch 61/200\n",
      " - 2s - loss: 0.1047 - mean_absolute_error: 0.0379 - categorical_accuracy: 0.9808 - val_loss: 0.0704 - val_mean_absolute_error: 0.0359 - val_categorical_accuracy: 0.9857\n",
      "Epoch 62/200\n",
      " - 2s - loss: 0.1082 - mean_absolute_error: 0.0379 - categorical_accuracy: 0.9813 - val_loss: 0.0750 - val_mean_absolute_error: 0.0380 - val_categorical_accuracy: 0.9789\n",
      "Epoch 63/200\n",
      " - 2s - loss: 0.1107 - mean_absolute_error: 0.0385 - categorical_accuracy: 0.9787 - val_loss: 0.0820 - val_mean_absolute_error: 0.0352 - val_categorical_accuracy: 0.9797\n",
      "Epoch 64/200\n",
      " - 2s - loss: 0.1097 - mean_absolute_error: 0.0390 - categorical_accuracy: 0.9776 - val_loss: 0.0742 - val_mean_absolute_error: 0.0360 - val_categorical_accuracy: 0.9857\n",
      "Epoch 65/200\n",
      " - 2s - loss: 0.1319 - mean_absolute_error: 0.0407 - categorical_accuracy: 0.9727 - val_loss: 0.0807 - val_mean_absolute_error: 0.0396 - val_categorical_accuracy: 0.9798\n",
      "Epoch 66/200\n",
      " - 2s - loss: 0.1229 - mean_absolute_error: 0.0404 - categorical_accuracy: 0.9743 - val_loss: 0.0813 - val_mean_absolute_error: 0.0368 - val_categorical_accuracy: 0.9796\n",
      "Epoch 67/200\n",
      " - 2s - loss: 0.1307 - mean_absolute_error: 0.0405 - categorical_accuracy: 0.9728 - val_loss: 0.0782 - val_mean_absolute_error: 0.0388 - val_categorical_accuracy: 0.9793\n",
      "Epoch 68/200\n",
      " - 2s - loss: 0.1283 - mean_absolute_error: 0.0423 - categorical_accuracy: 0.9722 - val_loss: 0.0801 - val_mean_absolute_error: 0.0389 - val_categorical_accuracy: 0.9799\n",
      "Epoch 69/200\n",
      " - 2s - loss: 0.1212 - mean_absolute_error: 0.0417 - categorical_accuracy: 0.9736 - val_loss: 0.0822 - val_mean_absolute_error: 0.0418 - val_categorical_accuracy: 0.9794\n",
      "Epoch 70/200\n",
      " - 2s - loss: 0.1199 - mean_absolute_error: 0.0430 - categorical_accuracy: 0.9748 - val_loss: 0.0719 - val_mean_absolute_error: 0.0471 - val_categorical_accuracy: 0.9797\n",
      "Epoch 71/200\n",
      " - 2s - loss: 0.1276 - mean_absolute_error: 0.0432 - categorical_accuracy: 0.9734 - val_loss: 0.0779 - val_mean_absolute_error: 0.0408 - val_categorical_accuracy: 0.9796\n",
      "Epoch 72/200\n",
      " - 2s - loss: 0.1173 - mean_absolute_error: 0.0428 - categorical_accuracy: 0.9748 - val_loss: 0.0947 - val_mean_absolute_error: 0.0479 - val_categorical_accuracy: 0.9801\n",
      "Epoch 73/200\n",
      " - 2s - loss: 0.1176 - mean_absolute_error: 0.0450 - categorical_accuracy: 0.9743 - val_loss: 0.0759 - val_mean_absolute_error: 0.0493 - val_categorical_accuracy: 0.9801\n",
      "Epoch 74/200\n",
      " - 2s - loss: 0.1245 - mean_absolute_error: 0.0457 - categorical_accuracy: 0.9743 - val_loss: 0.0759 - val_mean_absolute_error: 0.0376 - val_categorical_accuracy: 0.9794\n",
      "Epoch 75/200\n",
      " - 2s - loss: 0.1229 - mean_absolute_error: 0.0462 - categorical_accuracy: 0.9742 - val_loss: 0.0815 - val_mean_absolute_error: 0.0494 - val_categorical_accuracy: 0.9797\n",
      "Epoch 76/200\n",
      " - 2s - loss: 0.1263 - mean_absolute_error: 0.0464 - categorical_accuracy: 0.9746 - val_loss: 0.0761 - val_mean_absolute_error: 0.0414 - val_categorical_accuracy: 0.9802\n",
      "Epoch 77/200\n",
      " - 2s - loss: 0.1252 - mean_absolute_error: 0.0476 - categorical_accuracy: 0.9744 - val_loss: 0.0775 - val_mean_absolute_error: 0.0496 - val_categorical_accuracy: 0.9799\n",
      "Epoch 78/200\n",
      " - 2s - loss: 0.1225 - mean_absolute_error: 0.0470 - categorical_accuracy: 0.9744 - val_loss: 0.0777 - val_mean_absolute_error: 0.0491 - val_categorical_accuracy: 0.9787\n",
      "Epoch 79/200\n",
      " - 2s - loss: 0.1344 - mean_absolute_error: 0.0476 - categorical_accuracy: 0.9734 - val_loss: 0.0937 - val_mean_absolute_error: 0.0497 - val_categorical_accuracy: 0.9769\n",
      "Epoch 00079: early stopping\n",
      "Train on 26061 samples, validate on 12837 samples\n",
      "Epoch 1/200\n",
      " - 3s - loss: 1.2528 - mean_absolute_error: 0.1142 - categorical_accuracy: 0.7923 - val_loss: 0.2406 - val_mean_absolute_error: 0.0199 - val_categorical_accuracy: 0.9642\n",
      "Epoch 2/200\n",
      " - 2s - loss: 0.1763 - mean_absolute_error: 0.0268 - categorical_accuracy: 0.9634 - val_loss: 0.1355 - val_mean_absolute_error: 0.0247 - val_categorical_accuracy: 0.9642\n",
      "Epoch 3/200\n",
      " - 2s - loss: 0.1313 - mean_absolute_error: 0.0292 - categorical_accuracy: 0.9669 - val_loss: 0.1150 - val_mean_absolute_error: 0.0283 - val_categorical_accuracy: 0.9699\n",
      "Epoch 4/200\n",
      " - 2s - loss: 0.1233 - mean_absolute_error: 0.0291 - categorical_accuracy: 0.9668 - val_loss: 0.1275 - val_mean_absolute_error: 0.0249 - val_categorical_accuracy: 0.9704\n",
      "Epoch 5/200\n",
      " - 2s - loss: 0.1158 - mean_absolute_error: 0.0279 - categorical_accuracy: 0.9678 - val_loss: 0.1094 - val_mean_absolute_error: 0.0220 - val_categorical_accuracy: 0.9686\n",
      "Epoch 6/200\n",
      " - 2s - loss: 0.1137 - mean_absolute_error: 0.0262 - categorical_accuracy: 0.9698 - val_loss: 0.1074 - val_mean_absolute_error: 0.0262 - val_categorical_accuracy: 0.9699\n",
      "Epoch 7/200\n",
      " - 2s - loss: 0.1105 - mean_absolute_error: 0.0251 - categorical_accuracy: 0.9718 - val_loss: 0.1035 - val_mean_absolute_error: 0.0246 - val_categorical_accuracy: 0.9737\n",
      "Epoch 8/200\n",
      " - 2s - loss: 0.1079 - mean_absolute_error: 0.0243 - categorical_accuracy: 0.9725 - val_loss: 0.0985 - val_mean_absolute_error: 0.0236 - val_categorical_accuracy: 0.9755\n",
      "Epoch 9/200\n",
      " - 2s - loss: 0.1060 - mean_absolute_error: 0.0243 - categorical_accuracy: 0.9726 - val_loss: 0.0985 - val_mean_absolute_error: 0.0242 - val_categorical_accuracy: 0.9754\n",
      "Epoch 10/200\n",
      " - 2s - loss: 0.1050 - mean_absolute_error: 0.0252 - categorical_accuracy: 0.9726 - val_loss: 0.0962 - val_mean_absolute_error: 0.0272 - val_categorical_accuracy: 0.9758\n",
      "Epoch 11/200\n",
      " - 2s - loss: 0.1014 - mean_absolute_error: 0.0268 - categorical_accuracy: 0.9734 - val_loss: 0.0949 - val_mean_absolute_error: 0.0274 - val_categorical_accuracy: 0.9758\n"
     ]
    },
    {
     "name": "stdout",
     "output_type": "stream",
     "text": [
      "Epoch 12/200\n",
      " - 2s - loss: 0.1035 - mean_absolute_error: 0.0275 - categorical_accuracy: 0.9728 - val_loss: 0.1002 - val_mean_absolute_error: 0.0282 - val_categorical_accuracy: 0.9751\n",
      "Epoch 13/200\n",
      " - 2s - loss: 0.1048 - mean_absolute_error: 0.0295 - categorical_accuracy: 0.9738 - val_loss: 0.0956 - val_mean_absolute_error: 0.0267 - val_categorical_accuracy: 0.9797\n",
      "Epoch 14/200\n",
      " - 2s - loss: 0.1060 - mean_absolute_error: 0.0305 - categorical_accuracy: 0.9756 - val_loss: 0.0955 - val_mean_absolute_error: 0.0297 - val_categorical_accuracy: 0.9818\n",
      "Epoch 15/200\n",
      " - 2s - loss: 0.1040 - mean_absolute_error: 0.0311 - categorical_accuracy: 0.9750 - val_loss: 0.0985 - val_mean_absolute_error: 0.0331 - val_categorical_accuracy: 0.9817\n",
      "Epoch 16/200\n",
      " - 2s - loss: 0.1034 - mean_absolute_error: 0.0341 - categorical_accuracy: 0.9751 - val_loss: 0.0909 - val_mean_absolute_error: 0.0365 - val_categorical_accuracy: 0.9821\n",
      "Epoch 17/200\n",
      " - 2s - loss: 0.1015 - mean_absolute_error: 0.0363 - categorical_accuracy: 0.9748 - val_loss: 0.0917 - val_mean_absolute_error: 0.0413 - val_categorical_accuracy: 0.9826\n",
      "Epoch 18/200\n",
      " - 2s - loss: 0.0985 - mean_absolute_error: 0.0387 - categorical_accuracy: 0.9765 - val_loss: 0.0973 - val_mean_absolute_error: 0.0401 - val_categorical_accuracy: 0.9753\n",
      "Epoch 19/200\n",
      " - 2s - loss: 0.0988 - mean_absolute_error: 0.0404 - categorical_accuracy: 0.9771 - val_loss: 0.0921 - val_mean_absolute_error: 0.0387 - val_categorical_accuracy: 0.9795\n",
      "Epoch 20/200\n",
      " - 2s - loss: 0.1010 - mean_absolute_error: 0.0427 - categorical_accuracy: 0.9770 - val_loss: 0.0914 - val_mean_absolute_error: 0.0422 - val_categorical_accuracy: 0.9822\n",
      "Epoch 21/200\n",
      " - 2s - loss: 0.0956 - mean_absolute_error: 0.0447 - categorical_accuracy: 0.9781 - val_loss: 0.0983 - val_mean_absolute_error: 0.0473 - val_categorical_accuracy: 0.9820\n",
      "Epoch 22/200\n",
      " - 2s - loss: 0.0950 - mean_absolute_error: 0.0455 - categorical_accuracy: 0.9775 - val_loss: 0.0909 - val_mean_absolute_error: 0.0465 - val_categorical_accuracy: 0.9813\n",
      "Epoch 23/200\n",
      " - 2s - loss: 0.0926 - mean_absolute_error: 0.0472 - categorical_accuracy: 0.9786 - val_loss: 0.0929 - val_mean_absolute_error: 0.0478 - val_categorical_accuracy: 0.9821\n",
      "Epoch 24/200\n",
      " - 2s - loss: 0.0943 - mean_absolute_error: 0.0476 - categorical_accuracy: 0.9780 - val_loss: 0.0970 - val_mean_absolute_error: 0.0481 - val_categorical_accuracy: 0.9780\n",
      "Epoch 25/200\n",
      " - 2s - loss: 0.0931 - mean_absolute_error: 0.0483 - categorical_accuracy: 0.9787 - val_loss: 0.0857 - val_mean_absolute_error: 0.0491 - val_categorical_accuracy: 0.9806\n",
      "Epoch 26/200\n",
      " - 2s - loss: 0.0918 - mean_absolute_error: 0.0487 - categorical_accuracy: 0.9787 - val_loss: 0.0870 - val_mean_absolute_error: 0.0494 - val_categorical_accuracy: 0.9823\n",
      "Epoch 27/200\n",
      " - 2s - loss: 0.0939 - mean_absolute_error: 0.0489 - categorical_accuracy: 0.9782 - val_loss: 0.0873 - val_mean_absolute_error: 0.0490 - val_categorical_accuracy: 0.9815\n",
      "Epoch 28/200\n",
      " - 2s - loss: 0.0898 - mean_absolute_error: 0.0492 - categorical_accuracy: 0.9789 - val_loss: 0.0919 - val_mean_absolute_error: 0.0496 - val_categorical_accuracy: 0.9814\n",
      "Epoch 29/200\n",
      " - 2s - loss: 0.0884 - mean_absolute_error: 0.0495 - categorical_accuracy: 0.9787 - val_loss: 0.0839 - val_mean_absolute_error: 0.0498 - val_categorical_accuracy: 0.9808\n",
      "Epoch 30/200\n",
      " - 2s - loss: 0.0898 - mean_absolute_error: 0.0496 - categorical_accuracy: 0.9788 - val_loss: 0.0891 - val_mean_absolute_error: 0.0498 - val_categorical_accuracy: 0.9808\n",
      "Epoch 31/200\n",
      " - 2s - loss: 0.0916 - mean_absolute_error: 0.0496 - categorical_accuracy: 0.9805 - val_loss: 0.0837 - val_mean_absolute_error: 0.0497 - val_categorical_accuracy: 0.9857\n",
      "Epoch 32/200\n",
      " - 2s - loss: 0.0912 - mean_absolute_error: 0.0497 - categorical_accuracy: 0.9811 - val_loss: 0.0807 - val_mean_absolute_error: 0.0498 - val_categorical_accuracy: 0.9854\n",
      "Epoch 33/200\n",
      " - 2s - loss: 0.0925 - mean_absolute_error: 0.0497 - categorical_accuracy: 0.9812 - val_loss: 0.0797 - val_mean_absolute_error: 0.0499 - val_categorical_accuracy: 0.9859\n",
      "Epoch 34/200\n",
      " - 2s - loss: 0.0935 - mean_absolute_error: 0.0498 - categorical_accuracy: 0.9798 - val_loss: 0.0819 - val_mean_absolute_error: 0.0499 - val_categorical_accuracy: 0.9857\n",
      "Epoch 35/200\n",
      " - 2s - loss: 0.0918 - mean_absolute_error: 0.0498 - categorical_accuracy: 0.9802 - val_loss: 0.0780 - val_mean_absolute_error: 0.0499 - val_categorical_accuracy: 0.9854\n",
      "Epoch 36/200\n",
      " - 2s - loss: 0.0884 - mean_absolute_error: 0.0498 - categorical_accuracy: 0.9809 - val_loss: 0.0796 - val_mean_absolute_error: 0.0499 - val_categorical_accuracy: 0.9854\n",
      "Epoch 37/200\n",
      " - 2s - loss: 0.0882 - mean_absolute_error: 0.0498 - categorical_accuracy: 0.9823 - val_loss: 0.0801 - val_mean_absolute_error: 0.0498 - val_categorical_accuracy: 0.9830\n",
      "Epoch 38/200\n",
      " - 2s - loss: 0.0922 - mean_absolute_error: 0.0499 - categorical_accuracy: 0.9817 - val_loss: 0.0777 - val_mean_absolute_error: 0.0500 - val_categorical_accuracy: 0.9854\n",
      "Epoch 39/200\n",
      " - 2s - loss: 0.0908 - mean_absolute_error: 0.0498 - categorical_accuracy: 0.9817 - val_loss: 0.0798 - val_mean_absolute_error: 0.0500 - val_categorical_accuracy: 0.9879\n",
      "Epoch 40/200\n",
      " - 2s - loss: 0.0892 - mean_absolute_error: 0.0499 - categorical_accuracy: 0.9817 - val_loss: 0.0867 - val_mean_absolute_error: 0.0499 - val_categorical_accuracy: 0.9896\n",
      "Epoch 41/200\n",
      " - 2s - loss: 0.0885 - mean_absolute_error: 0.0499 - categorical_accuracy: 0.9819 - val_loss: 0.0788 - val_mean_absolute_error: 0.0500 - val_categorical_accuracy: 0.9900\n",
      "Epoch 42/200\n",
      " - 2s - loss: 0.0936 - mean_absolute_error: 0.0499 - categorical_accuracy: 0.9827 - val_loss: 0.0837 - val_mean_absolute_error: 0.0499 - val_categorical_accuracy: 0.9901\n",
      "Epoch 43/200\n",
      " - 2s - loss: 0.0918 - mean_absolute_error: 0.0500 - categorical_accuracy: 0.9816 - val_loss: 0.0870 - val_mean_absolute_error: 0.0499 - val_categorical_accuracy: 0.9903\n",
      "Epoch 44/200\n",
      " - 2s - loss: 0.0866 - mean_absolute_error: 0.0500 - categorical_accuracy: 0.9836 - val_loss: 0.1089 - val_mean_absolute_error: 0.0500 - val_categorical_accuracy: 0.9880\n",
      "Epoch 45/200\n",
      " - 2s - loss: 0.0925 - mean_absolute_error: 0.0500 - categorical_accuracy: 0.9822 - val_loss: 0.0793 - val_mean_absolute_error: 0.0500 - val_categorical_accuracy: 0.9903\n",
      "Epoch 46/200\n",
      " - 2s - loss: 0.0902 - mean_absolute_error: 0.0500 - categorical_accuracy: 0.9825 - val_loss: 0.0825 - val_mean_absolute_error: 0.0500 - val_categorical_accuracy: 0.9861\n",
      "Epoch 47/200\n",
      " - 2s - loss: 0.0918 - mean_absolute_error: 0.0500 - categorical_accuracy: 0.9833 - val_loss: 0.0766 - val_mean_absolute_error: 0.0500 - val_categorical_accuracy: 0.9899\n",
      "Epoch 48/200\n",
      " - 2s - loss: 0.0876 - mean_absolute_error: 0.0500 - categorical_accuracy: 0.9825 - val_loss: 0.0782 - val_mean_absolute_error: 0.0500 - val_categorical_accuracy: 0.9902\n",
      "Epoch 49/200\n",
      " - 2s - loss: 0.0913 - mean_absolute_error: 0.0500 - categorical_accuracy: 0.9823 - val_loss: 0.0916 - val_mean_absolute_error: 0.0500 - val_categorical_accuracy: 0.9902\n",
      "Epoch 50/200\n",
      " - 2s - loss: 0.1011 - mean_absolute_error: 0.0500 - categorical_accuracy: 0.9806 - val_loss: 0.0851 - val_mean_absolute_error: 0.0500 - val_categorical_accuracy: 0.9896\n",
      "Epoch 51/200\n",
      " - 2s - loss: 0.1021 - mean_absolute_error: 0.0500 - categorical_accuracy: 0.9802 - val_loss: 0.0809 - val_mean_absolute_error: 0.0500 - val_categorical_accuracy: 0.9903\n",
      "Epoch 52/200\n",
      " - 2s - loss: 0.1023 - mean_absolute_error: 0.0500 - categorical_accuracy: 0.9784 - val_loss: 0.1007 - val_mean_absolute_error: 0.0500 - val_categorical_accuracy: 0.9889\n",
      "Epoch 53/200\n",
      " - 2s - loss: 0.0996 - mean_absolute_error: 0.0500 - categorical_accuracy: 0.9812 - val_loss: 0.0868 - val_mean_absolute_error: 0.0500 - val_categorical_accuracy: 0.9844\n",
      "Epoch 54/200\n",
      " - 2s - loss: 0.1021 - mean_absolute_error: 0.0500 - categorical_accuracy: 0.9797 - val_loss: 0.0799 - val_mean_absolute_error: 0.0500 - val_categorical_accuracy: 0.9895\n",
      "Epoch 55/200\n",
      " - 2s - loss: 0.1007 - mean_absolute_error: 0.0500 - categorical_accuracy: 0.9798 - val_loss: 0.0797 - val_mean_absolute_error: 0.0500 - val_categorical_accuracy: 0.9890\n",
      "Epoch 56/200\n",
      " - 2s - loss: 0.1018 - mean_absolute_error: 0.0500 - categorical_accuracy: 0.9799 - val_loss: 0.0797 - val_mean_absolute_error: 0.0500 - val_categorical_accuracy: 0.9896\n"
     ]
    },
    {
     "name": "stdout",
     "output_type": "stream",
     "text": [
      "Epoch 57/200\n",
      " - 2s - loss: 0.0985 - mean_absolute_error: 0.0500 - categorical_accuracy: 0.9799 - val_loss: 0.0888 - val_mean_absolute_error: 0.0500 - val_categorical_accuracy: 0.9871\n",
      "Epoch 58/200\n",
      " - 2s - loss: 0.0957 - mean_absolute_error: 0.0500 - categorical_accuracy: 0.9807 - val_loss: 0.0751 - val_mean_absolute_error: 0.0500 - val_categorical_accuracy: 0.9902\n",
      "Epoch 59/200\n",
      " - 2s - loss: 0.1016 - mean_absolute_error: 0.0500 - categorical_accuracy: 0.9809 - val_loss: 0.0764 - val_mean_absolute_error: 0.0500 - val_categorical_accuracy: 0.9900\n",
      "Epoch 60/200\n",
      " - 2s - loss: 0.0997 - mean_absolute_error: 0.0500 - categorical_accuracy: 0.9803 - val_loss: 0.0786 - val_mean_absolute_error: 0.0500 - val_categorical_accuracy: 0.9899\n",
      "Epoch 61/200\n",
      " - 2s - loss: 0.0999 - mean_absolute_error: 0.0500 - categorical_accuracy: 0.9778 - val_loss: 0.0966 - val_mean_absolute_error: 0.0500 - val_categorical_accuracy: 0.9838\n",
      "Epoch 62/200\n",
      " - 2s - loss: 0.1131 - mean_absolute_error: 0.0500 - categorical_accuracy: 0.9767 - val_loss: 0.0814 - val_mean_absolute_error: 0.0500 - val_categorical_accuracy: 0.9864\n",
      "Epoch 63/200\n",
      " - 2s - loss: 0.1086 - mean_absolute_error: 0.0500 - categorical_accuracy: 0.9775 - val_loss: 0.1478 - val_mean_absolute_error: 0.0500 - val_categorical_accuracy: 0.9854\n",
      "Epoch 64/200\n",
      " - 2s - loss: 0.1151 - mean_absolute_error: 0.0500 - categorical_accuracy: 0.9769 - val_loss: 0.0786 - val_mean_absolute_error: 0.0500 - val_categorical_accuracy: 0.9871\n",
      "Epoch 65/200\n",
      " - 2s - loss: 0.1207 - mean_absolute_error: 0.0500 - categorical_accuracy: 0.9773 - val_loss: 0.0885 - val_mean_absolute_error: 0.0500 - val_categorical_accuracy: 0.9851\n",
      "Epoch 66/200\n",
      " - 2s - loss: 0.1057 - mean_absolute_error: 0.0500 - categorical_accuracy: 0.9783 - val_loss: 0.0876 - val_mean_absolute_error: 0.0500 - val_categorical_accuracy: 0.9868\n",
      "Epoch 67/200\n",
      " - 2s - loss: 0.1186 - mean_absolute_error: 0.0500 - categorical_accuracy: 0.9771 - val_loss: 0.0802 - val_mean_absolute_error: 0.0500 - val_categorical_accuracy: 0.9807\n",
      "Epoch 68/200\n",
      " - 2s - loss: 0.1224 - mean_absolute_error: 0.0500 - categorical_accuracy: 0.9762 - val_loss: 0.0903 - val_mean_absolute_error: 0.0500 - val_categorical_accuracy: 0.9874\n",
      "Epoch 69/200\n",
      " - 2s - loss: 0.1389 - mean_absolute_error: 0.0500 - categorical_accuracy: 0.9742 - val_loss: 0.0878 - val_mean_absolute_error: 0.0500 - val_categorical_accuracy: 0.9793\n",
      "Epoch 70/200\n",
      " - 2s - loss: 0.1323 - mean_absolute_error: 0.0500 - categorical_accuracy: 0.9746 - val_loss: 0.0830 - val_mean_absolute_error: 0.0500 - val_categorical_accuracy: 0.9873\n",
      "Epoch 71/200\n",
      " - 2s - loss: 0.1247 - mean_absolute_error: 0.0500 - categorical_accuracy: 0.9756 - val_loss: 0.0840 - val_mean_absolute_error: 0.0500 - val_categorical_accuracy: 0.9867\n",
      "Epoch 72/200\n",
      " - 2s - loss: 0.1368 - mean_absolute_error: 0.0500 - categorical_accuracy: 0.9756 - val_loss: 0.0859 - val_mean_absolute_error: 0.0500 - val_categorical_accuracy: 0.9865\n",
      "Epoch 73/200\n",
      " - 2s - loss: 0.1294 - mean_absolute_error: 0.0500 - categorical_accuracy: 0.9771 - val_loss: 0.0795 - val_mean_absolute_error: 0.0500 - val_categorical_accuracy: 0.9854\n",
      "Epoch 74/200\n",
      " - 2s - loss: 0.1358 - mean_absolute_error: 0.0500 - categorical_accuracy: 0.9751 - val_loss: 0.0757 - val_mean_absolute_error: 0.0500 - val_categorical_accuracy: 0.9870\n",
      "Epoch 75/200\n",
      " - 2s - loss: 0.1289 - mean_absolute_error: 0.0500 - categorical_accuracy: 0.9764 - val_loss: 0.0842 - val_mean_absolute_error: 0.0500 - val_categorical_accuracy: 0.9867\n",
      "Epoch 76/200\n",
      " - 2s - loss: 0.1263 - mean_absolute_error: 0.0500 - categorical_accuracy: 0.9756 - val_loss: 0.0715 - val_mean_absolute_error: 0.0500 - val_categorical_accuracy: 0.9871\n",
      "Epoch 77/200\n",
      " - 2s - loss: 0.1217 - mean_absolute_error: 0.0500 - categorical_accuracy: 0.9772 - val_loss: 0.1069 - val_mean_absolute_error: 0.0500 - val_categorical_accuracy: 0.9864\n",
      "Epoch 78/200\n",
      " - 2s - loss: 0.1283 - mean_absolute_error: 0.0500 - categorical_accuracy: 0.9766 - val_loss: 0.0789 - val_mean_absolute_error: 0.0500 - val_categorical_accuracy: 0.9815\n",
      "Epoch 79/200\n",
      " - 2s - loss: 0.1187 - mean_absolute_error: 0.0500 - categorical_accuracy: 0.9782 - val_loss: 0.0758 - val_mean_absolute_error: 0.0500 - val_categorical_accuracy: 0.9869\n",
      "Epoch 80/200\n",
      " - 2s - loss: 0.1172 - mean_absolute_error: 0.0500 - categorical_accuracy: 0.9790 - val_loss: 0.0964 - val_mean_absolute_error: 0.0500 - val_categorical_accuracy: 0.9871\n",
      "Epoch 81/200\n",
      " - 2s - loss: 0.1189 - mean_absolute_error: 0.0500 - categorical_accuracy: 0.9792 - val_loss: 0.0740 - val_mean_absolute_error: 0.0500 - val_categorical_accuracy: 0.9865\n",
      "Epoch 82/200\n",
      " - 2s - loss: 0.1214 - mean_absolute_error: 0.0500 - categorical_accuracy: 0.9784 - val_loss: 0.0735 - val_mean_absolute_error: 0.0500 - val_categorical_accuracy: 0.9843\n",
      "Epoch 83/200\n",
      " - 2s - loss: 0.1202 - mean_absolute_error: 0.0500 - categorical_accuracy: 0.9790 - val_loss: 0.0688 - val_mean_absolute_error: 0.0500 - val_categorical_accuracy: 0.9903\n",
      "Epoch 84/200\n",
      " - 2s - loss: 0.1154 - mean_absolute_error: 0.0500 - categorical_accuracy: 0.9795 - val_loss: 0.0711 - val_mean_absolute_error: 0.0500 - val_categorical_accuracy: 0.9856\n",
      "Epoch 85/200\n",
      " - 2s - loss: 0.1244 - mean_absolute_error: 0.0500 - categorical_accuracy: 0.9786 - val_loss: 0.0742 - val_mean_absolute_error: 0.0500 - val_categorical_accuracy: 0.9874\n",
      "Epoch 86/200\n",
      " - 2s - loss: 0.1228 - mean_absolute_error: 0.0500 - categorical_accuracy: 0.9776 - val_loss: 0.0925 - val_mean_absolute_error: 0.0500 - val_categorical_accuracy: 0.9810\n",
      "Epoch 87/200\n",
      " - 2s - loss: 0.1167 - mean_absolute_error: 0.0500 - categorical_accuracy: 0.9803 - val_loss: 0.0700 - val_mean_absolute_error: 0.0500 - val_categorical_accuracy: 0.9906\n",
      "Epoch 88/200\n",
      " - 2s - loss: 0.1158 - mean_absolute_error: 0.0500 - categorical_accuracy: 0.9804 - val_loss: 0.0660 - val_mean_absolute_error: 0.0500 - val_categorical_accuracy: 0.9871\n",
      "Epoch 89/200\n",
      " - 2s - loss: 0.1132 - mean_absolute_error: 0.0500 - categorical_accuracy: 0.9800 - val_loss: 0.0675 - val_mean_absolute_error: 0.0500 - val_categorical_accuracy: 0.9865\n",
      "Epoch 90/200\n",
      " - 2s - loss: 0.1123 - mean_absolute_error: 0.0500 - categorical_accuracy: 0.9805 - val_loss: 0.0615 - val_mean_absolute_error: 0.0500 - val_categorical_accuracy: 0.9906\n",
      "Epoch 91/200\n",
      " - 2s - loss: 0.1129 - mean_absolute_error: 0.0500 - categorical_accuracy: 0.9807 - val_loss: 0.0619 - val_mean_absolute_error: 0.0500 - val_categorical_accuracy: 0.9909\n",
      "Epoch 92/200\n",
      " - 2s - loss: 0.1080 - mean_absolute_error: 0.0500 - categorical_accuracy: 0.9804 - val_loss: 0.0652 - val_mean_absolute_error: 0.0500 - val_categorical_accuracy: 0.9899\n",
      "Epoch 93/200\n",
      " - 2s - loss: 0.1102 - mean_absolute_error: 0.0500 - categorical_accuracy: 0.9804 - val_loss: 0.0636 - val_mean_absolute_error: 0.0500 - val_categorical_accuracy: 0.9905\n",
      "Epoch 94/200\n",
      " - 2s - loss: 0.1136 - mean_absolute_error: 0.0500 - categorical_accuracy: 0.9807 - val_loss: 0.0673 - val_mean_absolute_error: 0.0500 - val_categorical_accuracy: 0.9841\n",
      "Epoch 95/200\n",
      " - 2s - loss: 0.1149 - mean_absolute_error: 0.0500 - categorical_accuracy: 0.9798 - val_loss: 0.0627 - val_mean_absolute_error: 0.0500 - val_categorical_accuracy: 0.9907\n",
      "Epoch 96/200\n",
      " - 2s - loss: 0.1111 - mean_absolute_error: 0.0500 - categorical_accuracy: 0.9809 - val_loss: 0.0724 - val_mean_absolute_error: 0.0500 - val_categorical_accuracy: 0.9866\n",
      "Epoch 97/200\n",
      " - 2s - loss: 0.1163 - mean_absolute_error: 0.0500 - categorical_accuracy: 0.9802 - val_loss: 0.0630 - val_mean_absolute_error: 0.0500 - val_categorical_accuracy: 0.9901\n",
      "Epoch 98/200\n",
      " - 2s - loss: 0.1104 - mean_absolute_error: 0.0500 - categorical_accuracy: 0.9807 - val_loss: 0.0708 - val_mean_absolute_error: 0.0500 - val_categorical_accuracy: 0.9875\n",
      "Epoch 99/200\n",
      " - 2s - loss: 0.1073 - mean_absolute_error: 0.0500 - categorical_accuracy: 0.9811 - val_loss: 0.0846 - val_mean_absolute_error: 0.0500 - val_categorical_accuracy: 0.9887\n",
      "Epoch 100/200\n",
      " - 2s - loss: 0.1135 - mean_absolute_error: 0.0500 - categorical_accuracy: 0.9798 - val_loss: 0.0717 - val_mean_absolute_error: 0.0500 - val_categorical_accuracy: 0.9891\n",
      "Epoch 101/200\n",
      " - 2s - loss: 0.1075 - mean_absolute_error: 0.0500 - categorical_accuracy: 0.9819 - val_loss: 0.0681 - val_mean_absolute_error: 0.0500 - val_categorical_accuracy: 0.9907\n"
     ]
    },
    {
     "name": "stdout",
     "output_type": "stream",
     "text": [
      "Epoch 102/200\n",
      " - 2s - loss: 0.1174 - mean_absolute_error: 0.0500 - categorical_accuracy: 0.9784 - val_loss: 0.0601 - val_mean_absolute_error: 0.0500 - val_categorical_accuracy: 0.9910\n",
      "Epoch 103/200\n",
      " - 2s - loss: 0.1138 - mean_absolute_error: 0.0500 - categorical_accuracy: 0.9789 - val_loss: 0.0614 - val_mean_absolute_error: 0.0500 - val_categorical_accuracy: 0.9911\n",
      "Epoch 104/200\n",
      " - 2s - loss: 0.1172 - mean_absolute_error: 0.0500 - categorical_accuracy: 0.9784 - val_loss: 0.0664 - val_mean_absolute_error: 0.0500 - val_categorical_accuracy: 0.9908\n",
      "Epoch 105/200\n",
      " - 2s - loss: 0.1137 - mean_absolute_error: 0.0500 - categorical_accuracy: 0.9792 - val_loss: 0.0685 - val_mean_absolute_error: 0.0500 - val_categorical_accuracy: 0.9897\n",
      "Epoch 106/200\n",
      " - 2s - loss: 0.1179 - mean_absolute_error: 0.0500 - categorical_accuracy: 0.9781 - val_loss: 0.0614 - val_mean_absolute_error: 0.0500 - val_categorical_accuracy: 0.9907\n",
      "Epoch 107/200\n",
      " - 2s - loss: 0.1139 - mean_absolute_error: 0.0500 - categorical_accuracy: 0.9793 - val_loss: 0.0686 - val_mean_absolute_error: 0.0500 - val_categorical_accuracy: 0.9910\n",
      "Epoch 108/200\n",
      " - 2s - loss: 0.1231 - mean_absolute_error: 0.0500 - categorical_accuracy: 0.9794 - val_loss: 0.1210 - val_mean_absolute_error: 0.0500 - val_categorical_accuracy: 0.9841\n",
      "Epoch 109/200\n",
      " - 2s - loss: 0.1213 - mean_absolute_error: 0.0500 - categorical_accuracy: 0.9775 - val_loss: 0.0766 - val_mean_absolute_error: 0.0500 - val_categorical_accuracy: 0.9895\n",
      "Epoch 110/200\n",
      " - 2s - loss: 0.1247 - mean_absolute_error: 0.0500 - categorical_accuracy: 0.9785 - val_loss: 0.0772 - val_mean_absolute_error: 0.0500 - val_categorical_accuracy: 0.9900\n",
      "Epoch 111/200\n",
      " - 2s - loss: 0.1324 - mean_absolute_error: 0.0500 - categorical_accuracy: 0.9771 - val_loss: 0.0763 - val_mean_absolute_error: 0.0500 - val_categorical_accuracy: 0.9904\n",
      "Epoch 112/200\n",
      " - 2s - loss: 0.1381 - mean_absolute_error: 0.0500 - categorical_accuracy: 0.9765 - val_loss: 0.0934 - val_mean_absolute_error: 0.0500 - val_categorical_accuracy: 0.9870\n",
      "Epoch 113/200\n",
      " - 2s - loss: 0.1309 - mean_absolute_error: 0.0500 - categorical_accuracy: 0.9754 - val_loss: 0.0864 - val_mean_absolute_error: 0.0500 - val_categorical_accuracy: 0.9877\n",
      "Epoch 114/200\n",
      " - 2s - loss: 0.1542 - mean_absolute_error: 0.0500 - categorical_accuracy: 0.9739 - val_loss: 0.0801 - val_mean_absolute_error: 0.0500 - val_categorical_accuracy: 0.9827\n",
      "Epoch 115/200\n",
      " - 2s - loss: 0.1482 - mean_absolute_error: 0.0500 - categorical_accuracy: 0.9746 - val_loss: 0.0825 - val_mean_absolute_error: 0.0500 - val_categorical_accuracy: 0.9814\n",
      "Epoch 116/200\n",
      " - 2s - loss: 0.1490 - mean_absolute_error: 0.0500 - categorical_accuracy: 0.9749 - val_loss: 0.0830 - val_mean_absolute_error: 0.0500 - val_categorical_accuracy: 0.9872\n",
      "Epoch 117/200\n",
      " - 2s - loss: 0.1503 - mean_absolute_error: 0.0500 - categorical_accuracy: 0.9754 - val_loss: 0.0803 - val_mean_absolute_error: 0.0500 - val_categorical_accuracy: 0.9869\n",
      "Epoch 118/200\n",
      " - 2s - loss: 0.1527 - mean_absolute_error: 0.0500 - categorical_accuracy: 0.9748 - val_loss: 0.0852 - val_mean_absolute_error: 0.0500 - val_categorical_accuracy: 0.9850\n",
      "Epoch 119/200\n",
      " - 2s - loss: 0.1456 - mean_absolute_error: 0.0500 - categorical_accuracy: 0.9751 - val_loss: 0.0873 - val_mean_absolute_error: 0.0500 - val_categorical_accuracy: 0.9864\n",
      "Epoch 120/200\n",
      " - 2s - loss: 0.1408 - mean_absolute_error: 0.0500 - categorical_accuracy: 0.9764 - val_loss: 0.0809 - val_mean_absolute_error: 0.0500 - val_categorical_accuracy: 0.9871\n",
      "Epoch 121/200\n",
      " - 2s - loss: 0.1456 - mean_absolute_error: 0.0500 - categorical_accuracy: 0.9755 - val_loss: 0.0828 - val_mean_absolute_error: 0.0500 - val_categorical_accuracy: 0.9871\n",
      "Epoch 122/200\n",
      " - 2s - loss: 0.1545 - mean_absolute_error: 0.0500 - categorical_accuracy: 0.9748 - val_loss: 0.0731 - val_mean_absolute_error: 0.0500 - val_categorical_accuracy: 0.9866\n",
      "Epoch 00122: early stopping\n",
      "Train on 26061 samples, validate on 12837 samples\n",
      "Epoch 1/200\n",
      " - 3s - loss: 1.1994 - mean_absolute_error: 0.1140 - categorical_accuracy: 0.9228 - val_loss: 0.2142 - val_mean_absolute_error: 0.0232 - val_categorical_accuracy: 0.9642\n",
      "Epoch 2/200\n",
      " - 2s - loss: 0.1735 - mean_absolute_error: 0.0271 - categorical_accuracy: 0.9625 - val_loss: 0.1334 - val_mean_absolute_error: 0.0258 - val_categorical_accuracy: 0.9642\n",
      "Epoch 3/200\n",
      " - 2s - loss: 0.1348 - mean_absolute_error: 0.0296 - categorical_accuracy: 0.9652 - val_loss: 0.1178 - val_mean_absolute_error: 0.0268 - val_categorical_accuracy: 0.9700\n",
      "Epoch 4/200\n",
      " - 2s - loss: 0.1234 - mean_absolute_error: 0.0306 - categorical_accuracy: 0.9672 - val_loss: 0.1130 - val_mean_absolute_error: 0.0281 - val_categorical_accuracy: 0.9703\n",
      "Epoch 5/200\n",
      " - 2s - loss: 0.1173 - mean_absolute_error: 0.0295 - categorical_accuracy: 0.9678 - val_loss: 0.1171 - val_mean_absolute_error: 0.0233 - val_categorical_accuracy: 0.9656\n",
      "Epoch 6/200\n",
      " - 2s - loss: 0.1179 - mean_absolute_error: 0.0288 - categorical_accuracy: 0.9677 - val_loss: 0.1502 - val_mean_absolute_error: 0.0281 - val_categorical_accuracy: 0.9640\n",
      "Epoch 7/200\n",
      " - 2s - loss: 0.1147 - mean_absolute_error: 0.0302 - categorical_accuracy: 0.9699 - val_loss: 0.1052 - val_mean_absolute_error: 0.0326 - val_categorical_accuracy: 0.9697\n",
      "Epoch 8/200\n",
      " - 2s - loss: 0.1106 - mean_absolute_error: 0.0318 - categorical_accuracy: 0.9716 - val_loss: 0.0993 - val_mean_absolute_error: 0.0365 - val_categorical_accuracy: 0.9703\n",
      "Epoch 9/200\n",
      " - 2s - loss: 0.1084 - mean_absolute_error: 0.0339 - categorical_accuracy: 0.9717 - val_loss: 0.1014 - val_mean_absolute_error: 0.0355 - val_categorical_accuracy: 0.9798\n",
      "Epoch 10/200\n",
      " - 2s - loss: 0.1063 - mean_absolute_error: 0.0364 - categorical_accuracy: 0.9748 - val_loss: 0.0966 - val_mean_absolute_error: 0.0388 - val_categorical_accuracy: 0.9780\n",
      "Epoch 11/200\n",
      " - 2s - loss: 0.1050 - mean_absolute_error: 0.0382 - categorical_accuracy: 0.9748 - val_loss: 0.0987 - val_mean_absolute_error: 0.0397 - val_categorical_accuracy: 0.9703\n",
      "Epoch 12/200\n",
      " - 2s - loss: 0.1037 - mean_absolute_error: 0.0388 - categorical_accuracy: 0.9756 - val_loss: 0.0934 - val_mean_absolute_error: 0.0414 - val_categorical_accuracy: 0.9803\n",
      "Epoch 13/200\n",
      " - 2s - loss: 0.1017 - mean_absolute_error: 0.0398 - categorical_accuracy: 0.9769 - val_loss: 0.0971 - val_mean_absolute_error: 0.0414 - val_categorical_accuracy: 0.9755\n",
      "Epoch 14/200\n",
      " - 2s - loss: 0.0999 - mean_absolute_error: 0.0413 - categorical_accuracy: 0.9780 - val_loss: 0.0892 - val_mean_absolute_error: 0.0422 - val_categorical_accuracy: 0.9823\n",
      "Epoch 15/200\n",
      " - 2s - loss: 0.0954 - mean_absolute_error: 0.0419 - categorical_accuracy: 0.9783 - val_loss: 0.0890 - val_mean_absolute_error: 0.0412 - val_categorical_accuracy: 0.9820\n",
      "Epoch 16/200\n",
      " - 2s - loss: 0.0944 - mean_absolute_error: 0.0420 - categorical_accuracy: 0.9778 - val_loss: 0.0873 - val_mean_absolute_error: 0.0438 - val_categorical_accuracy: 0.9820\n",
      "Epoch 17/200\n",
      " - 2s - loss: 0.0947 - mean_absolute_error: 0.0426 - categorical_accuracy: 0.9787 - val_loss: 0.0926 - val_mean_absolute_error: 0.0422 - val_categorical_accuracy: 0.9825\n",
      "Epoch 18/200\n",
      " - 2s - loss: 0.0963 - mean_absolute_error: 0.0434 - categorical_accuracy: 0.9780 - val_loss: 0.0843 - val_mean_absolute_error: 0.0455 - val_categorical_accuracy: 0.9813\n",
      "Epoch 19/200\n",
      " - 2s - loss: 0.0934 - mean_absolute_error: 0.0440 - categorical_accuracy: 0.9778 - val_loss: 0.0810 - val_mean_absolute_error: 0.0445 - val_categorical_accuracy: 0.9822\n",
      "Epoch 20/200\n",
      " - 2s - loss: 0.0950 - mean_absolute_error: 0.0443 - categorical_accuracy: 0.9781 - val_loss: 0.0921 - val_mean_absolute_error: 0.0470 - val_categorical_accuracy: 0.9818\n",
      "Epoch 21/200\n",
      " - 2s - loss: 0.0901 - mean_absolute_error: 0.0449 - categorical_accuracy: 0.9793 - val_loss: 0.0789 - val_mean_absolute_error: 0.0456 - val_categorical_accuracy: 0.9826\n",
      "Epoch 22/200\n",
      " - 2s - loss: 0.0930 - mean_absolute_error: 0.0455 - categorical_accuracy: 0.9789 - val_loss: 0.0873 - val_mean_absolute_error: 0.0462 - val_categorical_accuracy: 0.9763\n",
      "Epoch 23/200\n",
      " - 2s - loss: 0.0889 - mean_absolute_error: 0.0457 - categorical_accuracy: 0.9785 - val_loss: 0.0804 - val_mean_absolute_error: 0.0472 - val_categorical_accuracy: 0.9826\n",
      "Epoch 24/200\n",
      " - 2s - loss: 0.0927 - mean_absolute_error: 0.0464 - categorical_accuracy: 0.9787 - val_loss: 0.0822 - val_mean_absolute_error: 0.0468 - val_categorical_accuracy: 0.9818\n"
     ]
    },
    {
     "name": "stdout",
     "output_type": "stream",
     "text": [
      "Epoch 25/200\n",
      " - 2s - loss: 0.0917 - mean_absolute_error: 0.0467 - categorical_accuracy: 0.9777 - val_loss: 0.0789 - val_mean_absolute_error: 0.0472 - val_categorical_accuracy: 0.9823\n",
      "Epoch 26/200\n",
      " - 2s - loss: 0.0967 - mean_absolute_error: 0.0468 - categorical_accuracy: 0.9772 - val_loss: 0.0820 - val_mean_absolute_error: 0.0479 - val_categorical_accuracy: 0.9825\n",
      "Epoch 27/200\n",
      " - 2s - loss: 0.0928 - mean_absolute_error: 0.0468 - categorical_accuracy: 0.9762 - val_loss: 0.0825 - val_mean_absolute_error: 0.0468 - val_categorical_accuracy: 0.9828\n",
      "Epoch 28/200\n",
      " - 2s - loss: 0.0969 - mean_absolute_error: 0.0468 - categorical_accuracy: 0.9761 - val_loss: 0.0880 - val_mean_absolute_error: 0.0466 - val_categorical_accuracy: 0.9783\n",
      "Epoch 29/200\n",
      " - 2s - loss: 0.0964 - mean_absolute_error: 0.0469 - categorical_accuracy: 0.9755 - val_loss: 0.0865 - val_mean_absolute_error: 0.0467 - val_categorical_accuracy: 0.9818\n",
      "Epoch 30/200\n",
      " - 2s - loss: 0.0940 - mean_absolute_error: 0.0472 - categorical_accuracy: 0.9771 - val_loss: 0.0827 - val_mean_absolute_error: 0.0482 - val_categorical_accuracy: 0.9794\n",
      "Epoch 31/200\n",
      " - 2s - loss: 0.0945 - mean_absolute_error: 0.0475 - categorical_accuracy: 0.9759 - val_loss: 0.0804 - val_mean_absolute_error: 0.0480 - val_categorical_accuracy: 0.9816\n",
      "Epoch 32/200\n",
      " - 2s - loss: 0.0990 - mean_absolute_error: 0.0478 - categorical_accuracy: 0.9753 - val_loss: 0.0955 - val_mean_absolute_error: 0.0487 - val_categorical_accuracy: 0.9812\n",
      "Epoch 33/200\n",
      " - 2s - loss: 0.1005 - mean_absolute_error: 0.0477 - categorical_accuracy: 0.9729 - val_loss: 0.0915 - val_mean_absolute_error: 0.0480 - val_categorical_accuracy: 0.9748\n",
      "Epoch 34/200\n",
      " - 2s - loss: 0.1030 - mean_absolute_error: 0.0482 - categorical_accuracy: 0.9734 - val_loss: 0.0857 - val_mean_absolute_error: 0.0479 - val_categorical_accuracy: 0.9759\n",
      "Epoch 35/200\n",
      " - 2s - loss: 0.1042 - mean_absolute_error: 0.0481 - categorical_accuracy: 0.9737 - val_loss: 0.0927 - val_mean_absolute_error: 0.0485 - val_categorical_accuracy: 0.9763\n",
      "Epoch 36/200\n",
      " - 2s - loss: 0.1019 - mean_absolute_error: 0.0481 - categorical_accuracy: 0.9733 - val_loss: 0.0844 - val_mean_absolute_error: 0.0478 - val_categorical_accuracy: 0.9757\n",
      "Epoch 37/200\n",
      " - 2s - loss: 0.1085 - mean_absolute_error: 0.0484 - categorical_accuracy: 0.9734 - val_loss: 0.0888 - val_mean_absolute_error: 0.0492 - val_categorical_accuracy: 0.9761\n",
      "Epoch 38/200\n",
      " - 2s - loss: 0.1125 - mean_absolute_error: 0.0489 - categorical_accuracy: 0.9736 - val_loss: 0.1011 - val_mean_absolute_error: 0.0495 - val_categorical_accuracy: 0.9705\n",
      "Epoch 39/200\n",
      " - 2s - loss: 0.1296 - mean_absolute_error: 0.0498 - categorical_accuracy: 0.9736 - val_loss: 0.1118 - val_mean_absolute_error: 0.0498 - val_categorical_accuracy: 0.9699\n",
      "Epoch 40/200\n",
      " - 2s - loss: 0.1189 - mean_absolute_error: 0.0497 - categorical_accuracy: 0.9736 - val_loss: 0.0911 - val_mean_absolute_error: 0.0497 - val_categorical_accuracy: 0.9759\n",
      "Epoch 41/200\n",
      " - 2s - loss: 0.1179 - mean_absolute_error: 0.0497 - categorical_accuracy: 0.9741 - val_loss: 0.0874 - val_mean_absolute_error: 0.0496 - val_categorical_accuracy: 0.9801\n",
      "Epoch 00041: early stopping\n"
     ]
    }
   ],
   "source": [
    "import keras as kp\n",
    "# Define ModelCheckpoint outside the loop\n",
    "checkpoint3 = ModelCheckpoint(filepath=\"best_weights5.hdf5\", verbose=0, save_best_only=True,mode='max') # save best model\n",
    "for i in range(3):\n",
    "########################################################################################################################\n",
    "    model3 = Sequential()\n",
    "    model3.add(Dense(20, input_dim = X_train.shape[1], activation='relu'))\n",
    "    model3.add(Dense(15,activation='relu' ))\n",
    "    model3.add(Dense(100))\n",
    "    model3.add(LeakyReLU(alpha=0.1))\n",
    "    model3.add(Dense(100))\n",
    "    model3.add(LeakyReLU(alpha=0.1)) ##Leaky Relu\n",
    "    model3.add(Dense(20,activation= 'relu' ))\n",
    "    # Regularisation Through Drop Out \n",
    "    model3.add(Dense(15,activation='tanh'))\n",
    "    model3.add(Dense(15, \n",
    "                kernel_regularizer=regularizers.l1(0.01),\n",
    "                activity_regularizer=regularizers.l2(0.01), activation='relu'))\n",
    "    model3.add(Dropout(0.25))\n",
    "    model3.add(Dense(15,activation= 'relu'))\n",
    "    model3.add(Dense(y_test.shape[1],activation='sigmoid'))\n",
    "    rms = keras.optimizers.RMSprop(lr=0.001, rho=0.9, epsilon=None, decay=0.0)\n",
    "    model3.compile(loss='categorical_crossentropy', optimizer= rms ,metrics=[kp.metrics.mae, kp.metrics.categorical_accuracy])\n",
    "    monitor3 = EarlyStopping(monitor='val_loss', min_delta=1e-3, patience=20, verbose=2, mode='auto')  \n",
    "# The test set is checked during training to monitor progress for early stopping but is never used for gradient descent (model training)\n",
    "#checkpoint3 = ModelCheckpoint(filepath=\"best_weights5.hdf5\", verbose=0, save_best_only=True,mode='max') # save best model\n",
    "    callbacks_list = [monitor3,checkpoint3]\n",
    "    model3.fit(X_train, y_train, validation_data=(X_test,y_test), callbacks=callbacks_list, verbose=2,batch_size=32, epochs=200)\n",
    "##########################################################################################################################\n",
    "\n",
    "#y_true = np.argmax(y_test,axis=1)\n",
    "#score = sk.metrics.accuracy_score(y_test, pred3)\n",
    "#print(\"Final accuracy: {}\".format(score))"
   ]
  },
  {
   "cell_type": "markdown",
   "metadata": {},
   "source": [
    "Model Version 2"
   ]
  },
  {
   "cell_type": "code",
   "execution_count": 109,
   "metadata": {},
   "outputs": [
    {
     "name": "stdout",
     "output_type": "stream",
     "text": [
      "Train on 26061 samples, validate on 12837 samples\n",
      "Epoch 1/100\n",
      " - 2s - loss: 0.4326 - categorical_accuracy: 0.9314 - val_loss: 0.0737 - val_categorical_accuracy: 0.9830\n",
      "Epoch 2/100\n",
      " - 2s - loss: 0.0557 - categorical_accuracy: 0.9855 - val_loss: 0.0519 - val_categorical_accuracy: 0.9898\n",
      "Epoch 3/100\n",
      " - 1s - loss: 0.0401 - categorical_accuracy: 0.9904 - val_loss: 0.0396 - val_categorical_accuracy: 0.9913\n",
      "Epoch 4/100\n",
      " - 1s - loss: 0.0314 - categorical_accuracy: 0.9922 - val_loss: 0.0315 - val_categorical_accuracy: 0.9937\n",
      "Epoch 5/100\n",
      " - 1s - loss: 0.0264 - categorical_accuracy: 0.9938 - val_loss: 0.0267 - val_categorical_accuracy: 0.9946\n",
      "Epoch 6/100\n",
      " - 1s - loss: 0.0225 - categorical_accuracy: 0.9944 - val_loss: 0.0256 - val_categorical_accuracy: 0.9943\n",
      "Epoch 7/100\n",
      " - 1s - loss: 0.0207 - categorical_accuracy: 0.9950 - val_loss: 0.0228 - val_categorical_accuracy: 0.9949\n",
      "Epoch 8/100\n",
      " - 1s - loss: 0.0189 - categorical_accuracy: 0.9955 - val_loss: 0.0214 - val_categorical_accuracy: 0.9960\n",
      "Epoch 9/100\n",
      " - 1s - loss: 0.0176 - categorical_accuracy: 0.9961 - val_loss: 0.0210 - val_categorical_accuracy: 0.9956\n",
      "Epoch 10/100\n",
      " - 1s - loss: 0.0167 - categorical_accuracy: 0.9962 - val_loss: 0.0200 - val_categorical_accuracy: 0.9963\n",
      "Epoch 11/100\n",
      " - 1s - loss: 0.0160 - categorical_accuracy: 0.9964 - val_loss: 0.0192 - val_categorical_accuracy: 0.9965\n",
      "Epoch 12/100\n",
      " - 1s - loss: 0.0151 - categorical_accuracy: 0.9967 - val_loss: 0.0189 - val_categorical_accuracy: 0.9968\n",
      "Epoch 13/100\n",
      " - 1s - loss: 0.0148 - categorical_accuracy: 0.9969 - val_loss: 0.0191 - val_categorical_accuracy: 0.9955\n",
      "Epoch 14/100\n",
      " - 2s - loss: 0.0143 - categorical_accuracy: 0.9972 - val_loss: 0.0214 - val_categorical_accuracy: 0.9946\n",
      "Epoch 15/100\n",
      " - 1s - loss: 0.0135 - categorical_accuracy: 0.9971 - val_loss: 0.0185 - val_categorical_accuracy: 0.9962\n",
      "Epoch 16/100\n",
      " - 1s - loss: 0.0129 - categorical_accuracy: 0.9974 - val_loss: 0.0182 - val_categorical_accuracy: 0.9963\n",
      "Epoch 17/100\n",
      " - 1s - loss: 0.0129 - categorical_accuracy: 0.9971 - val_loss: 0.0177 - val_categorical_accuracy: 0.9966\n",
      "Epoch 18/100\n",
      " - 1s - loss: 0.0125 - categorical_accuracy: 0.9973 - val_loss: 0.0173 - val_categorical_accuracy: 0.9966\n",
      "Epoch 19/100\n",
      " - 1s - loss: 0.0123 - categorical_accuracy: 0.9976 - val_loss: 0.0184 - val_categorical_accuracy: 0.9965\n",
      "Epoch 20/100\n",
      " - 1s - loss: 0.0119 - categorical_accuracy: 0.9974 - val_loss: 0.0176 - val_categorical_accuracy: 0.9966\n",
      "Epoch 21/100\n",
      " - 1s - loss: 0.0115 - categorical_accuracy: 0.9975 - val_loss: 0.0165 - val_categorical_accuracy: 0.9970\n",
      "Epoch 22/100\n",
      " - 1s - loss: 0.0112 - categorical_accuracy: 0.9977 - val_loss: 0.0180 - val_categorical_accuracy: 0.9960\n",
      "Epoch 23/100\n",
      " - 1s - loss: 0.0111 - categorical_accuracy: 0.9975 - val_loss: 0.0188 - val_categorical_accuracy: 0.9969\n",
      "Epoch 24/100\n",
      " - 1s - loss: 0.0114 - categorical_accuracy: 0.9975 - val_loss: 0.0171 - val_categorical_accuracy: 0.9970\n",
      "Epoch 25/100\n",
      " - 1s - loss: 0.0105 - categorical_accuracy: 0.9979 - val_loss: 0.0174 - val_categorical_accuracy: 0.9964\n",
      "Epoch 26/100\n",
      " - 2s - loss: 0.0105 - categorical_accuracy: 0.9977 - val_loss: 0.0182 - val_categorical_accuracy: 0.9967\n",
      "Epoch 27/100\n",
      " - 1s - loss: 0.0103 - categorical_accuracy: 0.9977 - val_loss: 0.0176 - val_categorical_accuracy: 0.9967\n",
      "Epoch 28/100\n",
      " - 1s - loss: 0.0098 - categorical_accuracy: 0.9980 - val_loss: 0.0180 - val_categorical_accuracy: 0.9970\n",
      "Epoch 29/100\n",
      " - 1s - loss: 0.0099 - categorical_accuracy: 0.9979 - val_loss: 0.0174 - val_categorical_accuracy: 0.9968\n",
      "Epoch 30/100\n",
      " - 1s - loss: 0.0096 - categorical_accuracy: 0.9979 - val_loss: 0.0179 - val_categorical_accuracy: 0.9970\n",
      "Epoch 31/100\n",
      " - 1s - loss: 0.0094 - categorical_accuracy: 0.9981 - val_loss: 0.0174 - val_categorical_accuracy: 0.9970\n",
      "Epoch 32/100\n",
      " - 1s - loss: 0.0092 - categorical_accuracy: 0.9981 - val_loss: 0.0178 - val_categorical_accuracy: 0.9970\n",
      "Epoch 33/100\n",
      " - 1s - loss: 0.0094 - categorical_accuracy: 0.9981 - val_loss: 0.0189 - val_categorical_accuracy: 0.9969\n",
      "Epoch 34/100\n",
      " - 1s - loss: 0.0090 - categorical_accuracy: 0.9981 - val_loss: 0.0188 - val_categorical_accuracy: 0.9967\n",
      "Epoch 35/100\n",
      " - 2s - loss: 0.0091 - categorical_accuracy: 0.9980 - val_loss: 0.0181 - val_categorical_accuracy: 0.9970\n",
      "Epoch 36/100\n",
      " - 2s - loss: 0.0086 - categorical_accuracy: 0.9983 - val_loss: 0.0194 - val_categorical_accuracy: 0.9963\n",
      "Epoch 37/100\n",
      " - 1s - loss: 0.0090 - categorical_accuracy: 0.9980 - val_loss: 0.0179 - val_categorical_accuracy: 0.9970\n",
      "Epoch 38/100\n",
      " - 2s - loss: 0.0082 - categorical_accuracy: 0.9984 - val_loss: 0.0220 - val_categorical_accuracy: 0.9962\n",
      "Epoch 39/100\n",
      " - 1s - loss: 0.0080 - categorical_accuracy: 0.9985 - val_loss: 0.0194 - val_categorical_accuracy: 0.9967\n",
      "Epoch 40/100\n",
      " - 1s - loss: 0.0086 - categorical_accuracy: 0.9981 - val_loss: 0.0173 - val_categorical_accuracy: 0.9970\n",
      "Epoch 41/100\n",
      " - 1s - loss: 0.0083 - categorical_accuracy: 0.9982 - val_loss: 0.0180 - val_categorical_accuracy: 0.9967\n",
      "Epoch 00041: early stopping\n",
      "Train on 26061 samples, validate on 12837 samples\n",
      "Epoch 1/100\n",
      " - 2s - loss: 0.6749 - categorical_accuracy: 0.8908 - val_loss: 0.0900 - val_categorical_accuracy: 0.9769\n",
      "Epoch 2/100\n",
      " - 1s - loss: 0.0653 - categorical_accuracy: 0.9822 - val_loss: 0.0502 - val_categorical_accuracy: 0.9835\n",
      "Epoch 3/100\n",
      " - 1s - loss: 0.0397 - categorical_accuracy: 0.9886 - val_loss: 0.0350 - val_categorical_accuracy: 0.9910\n",
      "Epoch 4/100\n",
      " - 1s - loss: 0.0298 - categorical_accuracy: 0.9922 - val_loss: 0.0290 - val_categorical_accuracy: 0.9930\n",
      "Epoch 5/100\n",
      " - 1s - loss: 0.0249 - categorical_accuracy: 0.9940 - val_loss: 0.0256 - val_categorical_accuracy: 0.9942\n",
      "Epoch 6/100\n",
      " - 1s - loss: 0.0216 - categorical_accuracy: 0.9954 - val_loss: 0.0240 - val_categorical_accuracy: 0.9947\n",
      "Epoch 7/100\n",
      " - 1s - loss: 0.0193 - categorical_accuracy: 0.9959 - val_loss: 0.0221 - val_categorical_accuracy: 0.9963\n",
      "Epoch 8/100\n",
      " - 1s - loss: 0.0179 - categorical_accuracy: 0.9961 - val_loss: 0.0220 - val_categorical_accuracy: 0.9958\n",
      "Epoch 9/100\n",
      " - 1s - loss: 0.0163 - categorical_accuracy: 0.9965 - val_loss: 0.0209 - val_categorical_accuracy: 0.9968\n",
      "Epoch 10/100\n",
      " - 2s - loss: 0.0156 - categorical_accuracy: 0.9966 - val_loss: 0.0207 - val_categorical_accuracy: 0.9966\n",
      "Epoch 11/100\n",
      " - 2s - loss: 0.0147 - categorical_accuracy: 0.9966 - val_loss: 0.0202 - val_categorical_accuracy: 0.9963\n",
      "Epoch 12/100\n",
      " - 1s - loss: 0.0141 - categorical_accuracy: 0.9968 - val_loss: 0.0195 - val_categorical_accuracy: 0.9959\n",
      "Epoch 13/100\n",
      " - 2s - loss: 0.0133 - categorical_accuracy: 0.9971 - val_loss: 0.0204 - val_categorical_accuracy: 0.9958\n",
      "Epoch 14/100\n",
      " - 1s - loss: 0.0129 - categorical_accuracy: 0.9974 - val_loss: 0.0199 - val_categorical_accuracy: 0.9966\n",
      "Epoch 15/100\n",
      " - 1s - loss: 0.0125 - categorical_accuracy: 0.9972 - val_loss: 0.0186 - val_categorical_accuracy: 0.9965\n",
      "Epoch 16/100\n",
      " - 1s - loss: 0.0122 - categorical_accuracy: 0.9972 - val_loss: 0.0181 - val_categorical_accuracy: 0.9967\n",
      "Epoch 17/100\n",
      " - 1s - loss: 0.0119 - categorical_accuracy: 0.9970 - val_loss: 0.0180 - val_categorical_accuracy: 0.9965\n",
      "Epoch 18/100\n",
      " - 2s - loss: 0.0114 - categorical_accuracy: 0.9973 - val_loss: 0.0181 - val_categorical_accuracy: 0.9965\n",
      "Epoch 19/100\n",
      " - 1s - loss: 0.0112 - categorical_accuracy: 0.9974 - val_loss: 0.0169 - val_categorical_accuracy: 0.9970\n",
      "Epoch 20/100\n",
      " - 1s - loss: 0.0110 - categorical_accuracy: 0.9974 - val_loss: 0.0167 - val_categorical_accuracy: 0.9971\n",
      "Epoch 21/100\n",
      " - 1s - loss: 0.0106 - categorical_accuracy: 0.9975 - val_loss: 0.0166 - val_categorical_accuracy: 0.9974\n",
      "Epoch 22/100\n",
      " - 2s - loss: 0.0104 - categorical_accuracy: 0.9975 - val_loss: 0.0167 - val_categorical_accuracy: 0.9970\n",
      "Epoch 23/100\n",
      " - 1s - loss: 0.0102 - categorical_accuracy: 0.9976 - val_loss: 0.0161 - val_categorical_accuracy: 0.9971\n",
      "Epoch 24/100\n",
      " - 2s - loss: 0.0098 - categorical_accuracy: 0.9976 - val_loss: 0.0176 - val_categorical_accuracy: 0.9970\n",
      "Epoch 25/100\n",
      " - 2s - loss: 0.0099 - categorical_accuracy: 0.9974 - val_loss: 0.0181 - val_categorical_accuracy: 0.9969\n",
      "Epoch 26/100\n",
      " - 2s - loss: 0.0096 - categorical_accuracy: 0.9977 - val_loss: 0.0173 - val_categorical_accuracy: 0.9970\n",
      "Epoch 27/100\n",
      " - 1s - loss: 0.0093 - categorical_accuracy: 0.9975 - val_loss: 0.0187 - val_categorical_accuracy: 0.9959\n"
     ]
    },
    {
     "name": "stdout",
     "output_type": "stream",
     "text": [
      "Epoch 28/100\n",
      " - 1s - loss: 0.0092 - categorical_accuracy: 0.9977 - val_loss: 0.0166 - val_categorical_accuracy: 0.9973\n",
      "Epoch 29/100\n",
      " - 2s - loss: 0.0092 - categorical_accuracy: 0.9979 - val_loss: 0.0159 - val_categorical_accuracy: 0.9977\n",
      "Epoch 30/100\n",
      " - 1s - loss: 0.0090 - categorical_accuracy: 0.9977 - val_loss: 0.0167 - val_categorical_accuracy: 0.9973\n",
      "Epoch 31/100\n",
      " - 1s - loss: 0.0090 - categorical_accuracy: 0.9977 - val_loss: 0.0180 - val_categorical_accuracy: 0.9970\n",
      "Epoch 32/100\n",
      " - 1s - loss: 0.0089 - categorical_accuracy: 0.9979 - val_loss: 0.0160 - val_categorical_accuracy: 0.9973\n",
      "Epoch 33/100\n",
      " - 1s - loss: 0.0087 - categorical_accuracy: 0.9977 - val_loss: 0.0162 - val_categorical_accuracy: 0.9975\n",
      "Epoch 34/100\n",
      " - 1s - loss: 0.0084 - categorical_accuracy: 0.9978 - val_loss: 0.0173 - val_categorical_accuracy: 0.9971\n",
      "Epoch 35/100\n",
      " - 1s - loss: 0.0087 - categorical_accuracy: 0.9978 - val_loss: 0.0160 - val_categorical_accuracy: 0.9976\n",
      "Epoch 36/100\n",
      " - 1s - loss: 0.0083 - categorical_accuracy: 0.9979 - val_loss: 0.0171 - val_categorical_accuracy: 0.9969\n",
      "Epoch 37/100\n",
      " - 1s - loss: 0.0083 - categorical_accuracy: 0.9979 - val_loss: 0.0161 - val_categorical_accuracy: 0.9972\n",
      "Epoch 38/100\n",
      " - 1s - loss: 0.0082 - categorical_accuracy: 0.9979 - val_loss: 0.0159 - val_categorical_accuracy: 0.9972\n",
      "Epoch 39/100\n",
      " - 1s - loss: 0.0079 - categorical_accuracy: 0.9980 - val_loss: 0.0168 - val_categorical_accuracy: 0.9970\n",
      "Epoch 00039: early stopping\n",
      "Train on 26061 samples, validate on 12837 samples\n",
      "Epoch 1/100\n",
      " - 3s - loss: 0.5724 - categorical_accuracy: 0.8685 - val_loss: 0.0885 - val_categorical_accuracy: 0.9733\n",
      "Epoch 2/100\n",
      " - 1s - loss: 0.0708 - categorical_accuracy: 0.9776 - val_loss: 0.0545 - val_categorical_accuracy: 0.9838\n",
      "Epoch 3/100\n",
      " - 1s - loss: 0.0407 - categorical_accuracy: 0.9893 - val_loss: 0.0324 - val_categorical_accuracy: 0.9939\n",
      "Epoch 4/100\n",
      " - 1s - loss: 0.0276 - categorical_accuracy: 0.9938 - val_loss: 0.0263 - val_categorical_accuracy: 0.9947\n",
      "Epoch 5/100\n",
      " - 1s - loss: 0.0230 - categorical_accuracy: 0.9951 - val_loss: 0.0233 - val_categorical_accuracy: 0.9952\n",
      "Epoch 6/100\n",
      " - 1s - loss: 0.0203 - categorical_accuracy: 0.9957 - val_loss: 0.0220 - val_categorical_accuracy: 0.9947\n",
      "Epoch 7/100\n",
      " - 1s - loss: 0.0183 - categorical_accuracy: 0.9959 - val_loss: 0.0184 - val_categorical_accuracy: 0.9952\n",
      "Epoch 8/100\n",
      " - 1s - loss: 0.0168 - categorical_accuracy: 0.9962 - val_loss: 0.0198 - val_categorical_accuracy: 0.9956\n",
      "Epoch 9/100\n",
      " - 1s - loss: 0.0160 - categorical_accuracy: 0.9961 - val_loss: 0.0174 - val_categorical_accuracy: 0.9957\n",
      "Epoch 10/100\n",
      " - 1s - loss: 0.0152 - categorical_accuracy: 0.9962 - val_loss: 0.0169 - val_categorical_accuracy: 0.9959\n",
      "Epoch 11/100\n",
      " - 1s - loss: 0.0143 - categorical_accuracy: 0.9964 - val_loss: 0.0171 - val_categorical_accuracy: 0.9964\n",
      "Epoch 12/100\n",
      " - 1s - loss: 0.0137 - categorical_accuracy: 0.9967 - val_loss: 0.0161 - val_categorical_accuracy: 0.9966\n",
      "Epoch 13/100\n",
      " - 2s - loss: 0.0132 - categorical_accuracy: 0.9966 - val_loss: 0.0161 - val_categorical_accuracy: 0.9967\n",
      "Epoch 14/100\n",
      " - 1s - loss: 0.0126 - categorical_accuracy: 0.9968 - val_loss: 0.0160 - val_categorical_accuracy: 0.9957\n",
      "Epoch 15/100\n",
      " - 1s - loss: 0.0119 - categorical_accuracy: 0.9972 - val_loss: 0.0224 - val_categorical_accuracy: 0.9948\n",
      "Epoch 16/100\n",
      " - 1s - loss: 0.0123 - categorical_accuracy: 0.9969 - val_loss: 0.0153 - val_categorical_accuracy: 0.9968\n",
      "Epoch 17/100\n",
      " - 1s - loss: 0.0116 - categorical_accuracy: 0.9970 - val_loss: 0.0140 - val_categorical_accuracy: 0.9966\n",
      "Epoch 18/100\n",
      " - 1s - loss: 0.0109 - categorical_accuracy: 0.9971 - val_loss: 0.0150 - val_categorical_accuracy: 0.9971\n",
      "Epoch 19/100\n",
      " - 1s - loss: 0.0107 - categorical_accuracy: 0.9972 - val_loss: 0.0149 - val_categorical_accuracy: 0.9972\n",
      "Epoch 20/100\n",
      " - 1s - loss: 0.0108 - categorical_accuracy: 0.9972 - val_loss: 0.0142 - val_categorical_accuracy: 0.9970\n",
      "Epoch 21/100\n",
      " - 1s - loss: 0.0103 - categorical_accuracy: 0.9975 - val_loss: 0.0137 - val_categorical_accuracy: 0.9973\n",
      "Epoch 22/100\n",
      " - 1s - loss: 0.0101 - categorical_accuracy: 0.9973 - val_loss: 0.0148 - val_categorical_accuracy: 0.9967\n",
      "Epoch 23/100\n",
      " - 1s - loss: 0.0095 - categorical_accuracy: 0.9977 - val_loss: 0.0145 - val_categorical_accuracy: 0.9970\n",
      "Epoch 24/100\n",
      " - 1s - loss: 0.0096 - categorical_accuracy: 0.9975 - val_loss: 0.0145 - val_categorical_accuracy: 0.9972\n",
      "Epoch 25/100\n",
      " - 2s - loss: 0.0090 - categorical_accuracy: 0.9979 - val_loss: 0.0155 - val_categorical_accuracy: 0.9973\n",
      "Epoch 26/100\n",
      " - 1s - loss: 0.0089 - categorical_accuracy: 0.9977 - val_loss: 0.0147 - val_categorical_accuracy: 0.9967\n",
      "Epoch 27/100\n",
      " - 1s - loss: 0.0084 - categorical_accuracy: 0.9975 - val_loss: 0.0142 - val_categorical_accuracy: 0.9974\n",
      "Epoch 28/100\n",
      " - 1s - loss: 0.0082 - categorical_accuracy: 0.9980 - val_loss: 0.0158 - val_categorical_accuracy: 0.9968\n",
      "Epoch 29/100\n",
      " - 1s - loss: 0.0081 - categorical_accuracy: 0.9977 - val_loss: 0.0153 - val_categorical_accuracy: 0.9972\n",
      "Epoch 30/100\n",
      " - 1s - loss: 0.0079 - categorical_accuracy: 0.9977 - val_loss: 0.0136 - val_categorical_accuracy: 0.9974\n",
      "Epoch 31/100\n",
      " - 1s - loss: 0.0076 - categorical_accuracy: 0.9981 - val_loss: 0.0144 - val_categorical_accuracy: 0.9974\n",
      "Epoch 32/100\n",
      " - 1s - loss: 0.0077 - categorical_accuracy: 0.9979 - val_loss: 0.0146 - val_categorical_accuracy: 0.9972\n",
      "Epoch 33/100\n",
      " - 1s - loss: 0.0074 - categorical_accuracy: 0.9979 - val_loss: 0.0137 - val_categorical_accuracy: 0.9972\n",
      "Epoch 34/100\n",
      " - 1s - loss: 0.0073 - categorical_accuracy: 0.9981 - val_loss: 0.0141 - val_categorical_accuracy: 0.9973\n",
      "Epoch 35/100\n",
      " - 1s - loss: 0.0072 - categorical_accuracy: 0.9981 - val_loss: 0.0147 - val_categorical_accuracy: 0.9973\n",
      "Epoch 36/100\n",
      " - 1s - loss: 0.0071 - categorical_accuracy: 0.9982 - val_loss: 0.0146 - val_categorical_accuracy: 0.9970\n",
      "Epoch 37/100\n",
      " - 2s - loss: 0.0068 - categorical_accuracy: 0.9982 - val_loss: 0.0135 - val_categorical_accuracy: 0.9971\n",
      "Epoch 00037: early stopping\n",
      "Train on 26061 samples, validate on 12837 samples\n",
      "Epoch 1/100\n",
      " - 2s - loss: 0.4148 - categorical_accuracy: 0.9177 - val_loss: 0.0894 - val_categorical_accuracy: 0.9728\n",
      "Epoch 2/100\n",
      " - 1s - loss: 0.0686 - categorical_accuracy: 0.9795 - val_loss: 0.0518 - val_categorical_accuracy: 0.9895\n",
      "Epoch 3/100\n",
      " - 1s - loss: 0.0421 - categorical_accuracy: 0.9911 - val_loss: 0.0396 - val_categorical_accuracy: 0.9910\n",
      "Epoch 4/100\n",
      " - 2s - loss: 0.0327 - categorical_accuracy: 0.9924 - val_loss: 0.0324 - val_categorical_accuracy: 0.9924\n",
      "Epoch 5/100\n",
      " - 2s - loss: 0.0273 - categorical_accuracy: 0.9933 - val_loss: 0.0287 - val_categorical_accuracy: 0.9940\n",
      "Epoch 6/100\n",
      " - 1s - loss: 0.0242 - categorical_accuracy: 0.9947 - val_loss: 0.0253 - val_categorical_accuracy: 0.9951\n",
      "Epoch 7/100\n",
      " - 1s - loss: 0.0205 - categorical_accuracy: 0.9954 - val_loss: 0.0235 - val_categorical_accuracy: 0.9950\n",
      "Epoch 8/100\n",
      " - 1s - loss: 0.0189 - categorical_accuracy: 0.9955 - val_loss: 0.0250 - val_categorical_accuracy: 0.9935\n",
      "Epoch 9/100\n",
      " - 1s - loss: 0.0171 - categorical_accuracy: 0.9958 - val_loss: 0.0208 - val_categorical_accuracy: 0.9949\n",
      "Epoch 10/100\n",
      " - 2s - loss: 0.0157 - categorical_accuracy: 0.9964 - val_loss: 0.0204 - val_categorical_accuracy: 0.9956\n",
      "Epoch 11/100\n",
      " - 1s - loss: 0.0147 - categorical_accuracy: 0.9964 - val_loss: 0.0187 - val_categorical_accuracy: 0.9966\n",
      "Epoch 12/100\n",
      " - 1s - loss: 0.0137 - categorical_accuracy: 0.9969 - val_loss: 0.0212 - val_categorical_accuracy: 0.9952\n",
      "Epoch 13/100\n",
      " - 1s - loss: 0.0131 - categorical_accuracy: 0.9970 - val_loss: 0.0178 - val_categorical_accuracy: 0.9969\n",
      "Epoch 14/100\n",
      " - 1s - loss: 0.0122 - categorical_accuracy: 0.9974 - val_loss: 0.0176 - val_categorical_accuracy: 0.9968\n",
      "Epoch 15/100\n",
      " - 1s - loss: 0.0118 - categorical_accuracy: 0.9972 - val_loss: 0.0173 - val_categorical_accuracy: 0.9967\n",
      "Epoch 16/100\n",
      " - 1s - loss: 0.0112 - categorical_accuracy: 0.9976 - val_loss: 0.0175 - val_categorical_accuracy: 0.9968\n",
      "Epoch 17/100\n",
      " - 1s - loss: 0.0107 - categorical_accuracy: 0.9976 - val_loss: 0.0181 - val_categorical_accuracy: 0.9965\n",
      "Epoch 18/100\n",
      " - 1s - loss: 0.0106 - categorical_accuracy: 0.9977 - val_loss: 0.0169 - val_categorical_accuracy: 0.9968\n",
      "Epoch 19/100\n",
      " - 1s - loss: 0.0102 - categorical_accuracy: 0.9977 - val_loss: 0.0178 - val_categorical_accuracy: 0.9966\n"
     ]
    },
    {
     "name": "stdout",
     "output_type": "stream",
     "text": [
      "Epoch 20/100\n",
      " - 1s - loss: 0.0101 - categorical_accuracy: 0.9976 - val_loss: 0.0178 - val_categorical_accuracy: 0.9970\n",
      "Epoch 21/100\n",
      " - 1s - loss: 0.0098 - categorical_accuracy: 0.9973 - val_loss: 0.0166 - val_categorical_accuracy: 0.9970\n",
      "Epoch 22/100\n",
      " - 2s - loss: 0.0094 - categorical_accuracy: 0.9979 - val_loss: 0.0167 - val_categorical_accuracy: 0.9971\n",
      "Epoch 23/100\n",
      " - 1s - loss: 0.0091 - categorical_accuracy: 0.9978 - val_loss: 0.0185 - val_categorical_accuracy: 0.9967\n",
      "Epoch 24/100\n",
      " - 1s - loss: 0.0094 - categorical_accuracy: 0.9978 - val_loss: 0.0182 - val_categorical_accuracy: 0.9970\n",
      "Epoch 25/100\n",
      " - 1s - loss: 0.0091 - categorical_accuracy: 0.9980 - val_loss: 0.0171 - val_categorical_accuracy: 0.9970\n",
      "Epoch 26/100\n",
      " - 1s - loss: 0.0086 - categorical_accuracy: 0.9982 - val_loss: 0.0174 - val_categorical_accuracy: 0.9967\n",
      "Epoch 27/100\n",
      " - 1s - loss: 0.0084 - categorical_accuracy: 0.9983 - val_loss: 0.0168 - val_categorical_accuracy: 0.9972\n",
      "Epoch 28/100\n",
      " - 1s - loss: 0.0083 - categorical_accuracy: 0.9982 - val_loss: 0.0177 - val_categorical_accuracy: 0.9974\n",
      "Epoch 29/100\n",
      " - 1s - loss: 0.0084 - categorical_accuracy: 0.9980 - val_loss: 0.0171 - val_categorical_accuracy: 0.9972\n",
      "Epoch 30/100\n",
      " - 1s - loss: 0.0081 - categorical_accuracy: 0.9982 - val_loss: 0.0168 - val_categorical_accuracy: 0.9974\n",
      "Epoch 31/100\n",
      " - 1s - loss: 0.0080 - categorical_accuracy: 0.9980 - val_loss: 0.0181 - val_categorical_accuracy: 0.9968\n",
      "Epoch 32/100\n",
      " - 1s - loss: 0.0080 - categorical_accuracy: 0.9982 - val_loss: 0.0170 - val_categorical_accuracy: 0.9972\n",
      "Epoch 33/100\n",
      " - 1s - loss: 0.0076 - categorical_accuracy: 0.9985 - val_loss: 0.0174 - val_categorical_accuracy: 0.9971\n",
      "Epoch 34/100\n",
      " - 2s - loss: 0.0082 - categorical_accuracy: 0.9980 - val_loss: 0.0172 - val_categorical_accuracy: 0.9971\n",
      "Epoch 00034: early stopping\n"
     ]
    }
   ],
   "source": [
    "checkpoint = ModelCheckpoint(filepath=\"best_weights3.hdf5\", verbose=0, save_best_only=True,mode='max') # save best model\n",
    "for i in range(4):\n",
    "########################################################################################################################\n",
    "    model1 = Sequential()\n",
    "    model1.add(Dense(20, input_dim=X_train.shape[1], activation='relu'))\n",
    "    model1.add(Dense(5,activation='relu'))\n",
    "    model1.add(Dense(y_test.shape[1],activation='softmax'))\n",
    "    model1.compile(loss='categorical_crossentropy', optimizer= keras.optimizers.Adam(lr=0.001, beta_1=0.9, beta_2=0.999, epsilon=None, decay=0.0, amsgrad=False),metrics=[ kp.metrics.categorical_accuracy])\n",
    "    monitor2 = EarlyStopping(monitor='val_loss', min_delta=1e-3, patience=20, verbose=2, mode='auto')  \n",
    "    # patience: number of epochs with no improvement after which training will be stopped\n",
    "    # The test set is checked during training to monitor progress for early stopping but is never used for gradient descent (model training)\n",
    "    callbacks_list = [monitor2,checkpoint]\n",
    "    model1.fit(X_train, y_train, validation_data=(X_test,y_test), callbacks=callbacks_list, verbose=2,batch_size=32, epochs=100)\n",
    "##########################################################################################################################\n",
    "\n",
    "\n",
    "\n"
   ]
  },
  {
   "cell_type": "code",
   "execution_count": 110,
   "metadata": {},
   "outputs": [
    {
     "name": "stdout",
     "output_type": "stream",
     "text": [
      "_________________________________________________________________\n",
      "Layer (type)                 Output Shape              Param #   \n",
      "=================================================================\n",
      "conv2d_1 (Conv2D)            (None, 1, 114, 32)        64        \n",
      "_________________________________________________________________\n",
      "activation_1 (Activation)    (None, 1, 114, 32)        0         \n",
      "_________________________________________________________________\n",
      "max_pooling2d_1 (MaxPooling2 (None, 1, 114, 32)        0         \n",
      "_________________________________________________________________\n",
      "dropout_4 (Dropout)          (None, 1, 114, 32)        0         \n",
      "_________________________________________________________________\n",
      "conv2d_2 (Conv2D)            (None, 1, 114, 64)        2112      \n",
      "_________________________________________________________________\n",
      "activation_2 (Activation)    (None, 1, 114, 64)        0         \n",
      "_________________________________________________________________\n",
      "max_pooling2d_2 (MaxPooling2 (None, 1, 114, 64)        0         \n",
      "_________________________________________________________________\n",
      "dropout_5 (Dropout)          (None, 1, 114, 64)        0         \n",
      "_________________________________________________________________\n",
      "flatten_1 (Flatten)          (None, 7296)              0         \n",
      "_________________________________________________________________\n",
      "dense_43 (Dense)             (None, 512)               3736064   \n",
      "_________________________________________________________________\n",
      "activation_3 (Activation)    (None, 512)               0         \n",
      "_________________________________________________________________\n",
      "dropout_6 (Dropout)          (None, 512)               0         \n",
      "_________________________________________________________________\n",
      "dense_44 (Dense)             (None, 2)                 1026      \n",
      "=================================================================\n",
      "Total params: 3,739,266\n",
      "Trainable params: 3,739,266\n",
      "Non-trainable params: 0\n",
      "_________________________________________________________________\n"
     ]
    }
   ],
   "source": [
    "model.summary()"
   ]
  },
  {
   "cell_type": "markdown",
   "metadata": {},
   "source": [
    "**6. Convolutional Neural Networks (CNN)**"
   ]
  },
  {
   "cell_type": "code",
   "execution_count": 111,
   "metadata": {},
   "outputs": [],
   "source": [
    "xr = xtr.reshape((X_train.shape[0], 1, X_train.shape[1], 1))\n",
    "xt = xts.reshape((X_test.shape[0],1,X_test.shape[1],1))"
   ]
  },
  {
   "cell_type": "code",
   "execution_count": 112,
   "metadata": {},
   "outputs": [
    {
     "name": "stdout",
     "output_type": "stream",
     "text": [
      "Train on 26061 samples, validate on 12837 samples\n",
      "Epoch 1/100\n",
      " - 71s - loss: 0.8844 - acc: 0.6299 - val_loss: 0.8795 - val_acc: 0.6379\n",
      "Epoch 2/100\n",
      " - 70s - loss: 0.8634 - acc: 0.6382 - val_loss: 0.8793 - val_acc: 0.6377\n",
      "Epoch 3/100\n",
      " - 70s - loss: 0.8617 - acc: 0.6379 - val_loss: 0.8823 - val_acc: 0.6379\n",
      "Epoch 4/100\n",
      " - 70s - loss: 0.8591 - acc: 0.6384 - val_loss: 0.8590 - val_acc: 0.6379\n",
      "Epoch 5/100\n",
      " - 71s - loss: 0.8565 - acc: 0.6387 - val_loss: 0.8506 - val_acc: 0.6379\n",
      "Epoch 6/100\n",
      " - 72s - loss: 0.8558 - acc: 0.6384 - val_loss: 0.8519 - val_acc: 0.6379\n",
      "Epoch 7/100\n",
      " - 70s - loss: 0.8547 - acc: 0.6385 - val_loss: 0.8489 - val_acc: 0.6379\n",
      "Epoch 8/100\n",
      " - 70s - loss: 0.8539 - acc: 0.6384 - val_loss: 0.8480 - val_acc: 0.6379\n",
      "Epoch 9/100\n",
      " - 70s - loss: 0.8529 - acc: 0.6386 - val_loss: 0.8488 - val_acc: 0.6379\n",
      "Epoch 10/100\n",
      " - 70s - loss: 0.8531 - acc: 0.6385 - val_loss: 0.8481 - val_acc: 0.6379\n",
      "Epoch 11/100\n",
      " - 70s - loss: 0.8529 - acc: 0.6385 - val_loss: 0.8502 - val_acc: 0.6378\n",
      "Epoch 12/100\n",
      " - 70s - loss: 0.8536 - acc: 0.6387 - val_loss: 0.8469 - val_acc: 0.6379\n",
      "Epoch 13/100\n",
      " - 70s - loss: 0.8533 - acc: 0.6385 - val_loss: 0.8476 - val_acc: 0.6379\n",
      "Epoch 14/100\n",
      " - 70s - loss: 0.8527 - acc: 0.6387 - val_loss: 0.8488 - val_acc: 0.6379\n",
      "Epoch 15/100\n",
      " - 70s - loss: 0.8526 - acc: 0.6384 - val_loss: 0.8491 - val_acc: 0.6379\n",
      "Epoch 16/100\n",
      " - 70s - loss: 0.8522 - acc: 0.6387 - val_loss: 0.8485 - val_acc: 0.6379\n",
      "Epoch 17/100\n",
      " - 14889s - loss: 0.8509 - acc: 0.6384 - val_loss: 0.8480 - val_acc: 0.6377\n",
      "Epoch 18/100\n",
      " - 87s - loss: 0.8520 - acc: 0.6384 - val_loss: 0.8474 - val_acc: 0.6379\n",
      "Epoch 19/100\n",
      " - 77s - loss: 0.8512 - acc: 0.6383 - val_loss: 0.8497 - val_acc: 0.6379\n",
      "Epoch 20/100\n",
      " - 75s - loss: 0.8515 - acc: 0.6390 - val_loss: 0.8500 - val_acc: 0.6375\n",
      "Epoch 21/100\n",
      " - 79s - loss: 0.8507 - acc: 0.6385 - val_loss: 0.8497 - val_acc: 0.6379\n",
      "Epoch 22/100\n",
      " - 82s - loss: 0.8510 - acc: 0.6385 - val_loss: 0.8489 - val_acc: 0.6379\n",
      "Epoch 23/100\n",
      " - 80s - loss: 0.8508 - acc: 0.6388 - val_loss: 0.8502 - val_acc: 0.6378\n",
      "Epoch 24/100\n",
      " - 75s - loss: 0.8508 - acc: 0.6385 - val_loss: 0.8488 - val_acc: 0.6379\n",
      "Epoch 25/100\n",
      " - 73s - loss: 0.8504 - acc: 0.6386 - val_loss: 0.8491 - val_acc: 0.6379\n",
      "Epoch 26/100\n",
      " - 70s - loss: 0.8507 - acc: 0.6385 - val_loss: 0.8492 - val_acc: 0.6379\n",
      "Epoch 27/100\n",
      " - 71s - loss: 0.8517 - acc: 0.6383 - val_loss: 0.8493 - val_acc: 0.6379\n",
      "Epoch 28/100\n",
      " - 71s - loss: 0.8501 - acc: 0.6388 - val_loss: 0.8498 - val_acc: 0.6379\n",
      "Epoch 29/100\n",
      " - 71s - loss: 0.8500 - acc: 0.6385 - val_loss: 0.8490 - val_acc: 0.6379\n",
      "Epoch 30/100\n",
      " - 71s - loss: 0.8509 - acc: 0.6385 - val_loss: 0.8487 - val_acc: 0.6379\n",
      "Epoch 31/100\n",
      " - 73s - loss: 0.8509 - acc: 0.6388 - val_loss: 0.8489 - val_acc: 0.6379\n",
      "Epoch 32/100\n",
      " - 72s - loss: 0.8512 - acc: 0.6386 - val_loss: 0.8499 - val_acc: 0.6378\n",
      "Epoch 00032: early stopping\n"
     ]
    }
   ],
   "source": [
    "from keras.optimizers import Adam\n",
    "num_classes = 2\n",
    "# Define ModelCheckpoint outside the loop\n",
    "checkpoint3 = ModelCheckpoint(filepath=\"best_weights5.hdf5\", verbose=0, save_best_only=True,mode='max') # save best model\n",
    "for i in range(1):\n",
    "########################################################################################################################\n",
    "    model = Sequential()\n",
    "    model.add(Conv2D(32, kernel_size=(1, 1), padding='same',input_shape=(1, X_train.shape[1], 1)))\n",
    "\n",
    "    model.add(Activation('relu'))\n",
    "    model.add(MaxPooling2D(pool_size=(1, 1)))\n",
    "    model.add(Dropout(0.25))\n",
    "\n",
    "    model.add(Conv2D(64, (1, 1), padding='same'))\n",
    "    model.add(Activation('relu'))\n",
    "    model.add(MaxPooling2D(pool_size=(1, 1)))\n",
    "    model.add(Dropout(0.25))\n",
    "\n",
    "    model.add(Flatten())\n",
    "    model.add(Dense(512))\n",
    "    model.add(Activation('relu'))\n",
    "    model.add(Dropout(0.5))\n",
    "\n",
    "    model.add(Dense(y_test.shape[1], activation=\"softmax\"))\n",
    "\n",
    "    monitor3 = EarlyStopping(monitor='val_loss', min_delta=1e-3, patience=20, verbose=2, mode='auto')  \n",
    "    \n",
    "\n",
    "# show not only log loss but also accuracy for each epoch using metrics=['accuracy']\n",
    "\n",
    "    model.compile(loss=keras.losses.categorical_crossentropy, optimizer=Adam(lr=0.001, decay=1e-6), metrics=['accuracy'])\n",
    "# The test set is checked during training to monitor progress for early stopping but is never used for gradient descent (model training)\n",
    "#checkpoint3 = ModelCheckpoint(filepath=\"best_weights5.hdf5\", verbose=0, save_best_only=True,mode='max') # save best model\n",
    "    callbacks_list = [monitor3,checkpoint3]\n",
    "\n",
    "    model.fit(xr, y_train, validation_data=(xt,y_test), callbacks=callbacks_list, verbose=2,batch_size=32, epochs=100)"
   ]
  },
  {
   "cell_type": "markdown",
   "metadata": {},
   "source": [
    "**========================================================================================================================**"
   ]
  }
 ],
 "metadata": {
  "kernelspec": {
   "display_name": "Python 3",
   "language": "python",
   "name": "python3"
  },
  "language_info": {
   "codemirror_mode": {
    "name": "ipython",
    "version": 3
   },
   "file_extension": ".py",
   "mimetype": "text/x-python",
   "name": "python",
   "nbconvert_exporter": "python",
   "pygments_lexer": "ipython3",
   "version": "3.6.5"
  }
 },
 "nbformat": 4,
 "nbformat_minor": 2
}
